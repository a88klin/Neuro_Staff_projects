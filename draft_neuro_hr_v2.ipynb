{
 "cells": [
  {
   "cell_type": "code",
   "execution_count": 7,
   "outputs": [],
   "source": [
    "import pymongo\n",
    "import json\n",
    "import os\n",
    "import tqdm\n",
    "import re\n",
    "import pickle\n",
    "import openai\n",
    "import tiktoken\n",
    "from langchain.docstore.document import Document\n",
    "from langchain_openai import OpenAIEmbeddings\n",
    "from langchain_community.vectorstores import FAISS\n",
    "from dotenv import load_dotenv\n",
    "from deep_translator import GoogleTranslator # До 5000 символов за раз\n",
    "\n",
    "load_dotenv()\n",
    "os.environ[\"OPENAI_API_KEY\"] = os.getenv('OPENAI_API_KEY')\n",
    "transtator = GoogleTranslator(source='ru', target='en')"
   ],
   "metadata": {
    "collapsed": false,
    "pycharm": {
     "name": "#%%\n"
    }
   }
  },
  {
   "cell_type": "code",
   "execution_count": 2,
   "outputs": [],
   "source": [
    "#@title Использую БД MongoDB (локально)\n",
    "# Полезные короткие инструкции для работы с MongoDB:\n",
    "# Создание локальной базы MongoDB: https://www.youtube.com/watch?v=pmjHPOPwX2A\n",
    "# Pymongo: https://www.youtube.com/playlist?list=PLEYdORdflM3ltl8E2D1XLT3Fe2_e9eEdd\n",
    "\n",
    "client_mongo = pymongo.MongoClient('mongodb://localhost:27017/') # Соединение с базой\n",
    "db_hr = client_mongo.hr # подключаюсь к БД \"hr\", если такой БД нет, будет создана\n",
    "vacancies_collection = db_hr.vacancies # подключаю Коллекцию \"vacancies\" в базе \"hr\", если коллекции нет, будет создана\n",
    "resumes_collection = db_hr.resumes # подключаю Коллекцию \"resumes\" в базе \"hr\", если коллекции нет, будет создана"
   ],
   "metadata": {
    "collapsed": false,
    "pycharm": {
     "name": "#%%\n"
    }
   }
  },
  {
   "cell_type": "code",
   "execution_count": 2,
   "metadata": {
    "scrolled": false,
    "pycharm": {
     "name": "#%%\n"
    }
   },
   "outputs": [
    {
     "name": "stdout",
     "output_type": "stream",
     "text": [
      "К-во вакансий в базе данных: 100. \n",
      "К-во резюме в базе данных: 100.\n"
     ]
    }
   ],
   "source": [
    "# Записываю в коллекцию vacancies базы hr все вакансии из файлов json\n",
    "for filename in os.listdir('../Vacancies'): # Локальная папка с вакансиями\n",
    "    if filename.endswith('.json'):\n",
    "        with open(os.path.join('../Vacancies', filename), 'r', encoding='utf-8') as v:\n",
    "            vacancy_dict = json.load(v)\n",
    "            vacancy_dict['_id'] = filename # Добавляю поле \"_id\" с именем файла для каждой вакансии\n",
    "            try:\n",
    "                vacancies_collection.insert_one(vacancy_dict)\n",
    "            except Exception as ex:\n",
    "                pass\n",
    "\n",
    "# Записываю в коллекцию resumes базы hr все резюме из файлов json\n",
    "for filename in os.listdir('../Resumes'): # Локальная папка с резюме\n",
    "    if filename.endswith('.json'):\n",
    "        with open(os.path.join('../Resumes', filename), 'r', encoding='utf-8') as r:\n",
    "            resume_dict = json.load(r)\n",
    "            resume_dict['_id'] = filename # Добавляю поле \"_id\" с именем файла для каждого резюме\n",
    "            try:\n",
    "                resumes_collection.insert_one(resume_dict)\n",
    "            except Exception as ex:\n",
    "                pass\n",
    "\n",
    "print(f'К-во вакансий в базе данных: {vacancies_collection.count_documents({})}. '\n",
    "      f'\\nК-во резюме в базе данных: {resumes_collection.count_documents({})}.')"
   ]
  },
  {
   "cell_type": "markdown",
   "source": [
    "# Вакансии\n",
    "### Ключевые поля:\n",
    "- Позиция \"position\"\n",
    "- Уровень \"experienceLevels\"\n",
    "- Формат работы \"workFormat\"\n",
    "- Локация \"requiredLocation\"\n",
    "- Зарплата \"partnerRates\" в час (168 часов в месяце)\n",
    "#### Три поля по скилам:\n",
    "- Скилы \"skills\"\n",
    "- Требования \"mandatoryRequirements\"\n",
    "- Доп. требования \"additionalRequirements\""
   ],
   "metadata": {
    "collapsed": false,
    "pycharm": {
     "name": "#%% md\n"
    }
   }
  },
  {
   "cell_type": "code",
   "execution_count": 4,
   "metadata": {
    "scrolled": true,
    "pycharm": {
     "name": "#%%\n"
    }
   },
   "outputs": [
    {
     "name": "stderr",
     "output_type": "stream",
     "text": [
      "100it [01:31,  1.09it/s]\n"
     ]
    },
    {
     "data": {
      "text/plain": "' Position: 1С разработчик. Experience Levels: Middle, Middle+, Senior. Work Format: Удаленный. Required Location: Любая. Salary: 403200 рублей в месяц. Skills: 1C: Production, 1C: Salary and staff, 1C: Management of the holding, 1C, 1C: ERP, Remote work, 1C ERP, 1C: Accounting and warehouse, C., MS Excel, Excel, The column, IT Recruitment, Full Stack, Management of requirements, Test case, The Auto Grid, Analysis of the requirements, The test, Creating the 1C configuration, 1C programming, 1C: Salaries and personnel, Leadership of the team of developers, Testing, The energy stack. Requirements: Требуется 1С разработчики, консультанты и функциональные архитекторы; Вся информация по стекам, грейдам и дополнительным требованиям указана в Excel файле, в разделе \"Тестовое задание\"; При отклике на вакансию нужно указывать ID должности, в файле данный столбец выделен желтым. '"
     },
     "execution_count": 4,
     "metadata": {},
     "output_type": "execute_result"
    }
   ],
   "source": [
    "# Формирую строки из ключевых полей\n",
    "for value in tqdm.tqdm(vacancies_collection.find()): # по всем вакансиям из базы, коллекции vacancies\n",
    "    try: # Если указана зарплата (за час)\n",
    "        salary = int(re.findall(r'\\d+', f\"{value['data']['partnerRates']}\")[0]) * 168 # Зарплата за 168 часов в месяц\n",
    "        salary = f\"Salary: {salary} рублей в месяц.\"\n",
    "    except:\n",
    "        salary = ''\n",
    "\n",
    "    try: # Если указаны Add.Requirements\n",
    "        add_requirements = f\"Add.Requirements: {(' ').join(value['data']['additionalRequirements'])}\"\n",
    "    except:\n",
    "        add_requirements = ''\n",
    "\n",
    "    vacancy_line = re.sub(r'\\s+', ' ', f\"\"\"\n",
    "                   Position: {value['data']['position']}.\n",
    "                   Experience Levels: {(', ').join(value['data']['experienceLevels'])}.\n",
    "                   Work Format: {value['data']['workFormat']}.\n",
    "                   Required Location: {value['data']['requiredLocation']}.\n",
    "                   {salary}\n",
    "                   Skills: {(', ').join(value['skills'])}.\n",
    "                   Requirements: {(' ').join(value['data']['mandatoryRequirements'])}\n",
    "                   {add_requirements}\"\"\")\n",
    "\n",
    "    vacancy_line_en = transtator.translate(vacancy_line) # Английский\n",
    "    try: # сохраняю сформированные строки из полей вакансий в коллекцию vacancies\n",
    "        vacancies_collection.find_one_and_update({'_id': value['_id']}, # нахожу вакансию по _id\n",
    "                                                 {'$set': {'line_first': vacancy_line,\n",
    "                                                           'line_first_en': vacancy_line_en}})\n",
    "    except Exception as ex:\n",
    "        print(ex)\n",
    "\n",
    "# Пример строки с выбранными ключевыми полями\n",
    "ex_vacancy = vacancies_collection.find_one({'_id': '1С_разработчик-00e46f89-176b-4447-beaf-80a7a63fb072.json'})\n",
    "ex_vacancy['line_first']"
   ]
  },
  {
   "cell_type": "code",
   "execution_count": 6,
   "outputs": [
    {
     "data": {
      "text/plain": "Document(page_content='Position: 1C developer. Experience Levels: Middle, Middle+, Senior. Work Format: Remote. Required Location: Any. Salary: 403,200 rubles per month. Skills: 1C: Production, 1C: Salary and staff, 1C: Management of the holding, 1C, 1C: ERP, Remote work, 1C ERP, 1C: Accounting and warehouse, C., MS Excel, Excel, The column, IT Recruitment , Full Stack, Management of requirements, Test case, The Auto Grid, Analysis of the requirements, The test, Creating the 1C configuration, 1C programming, 1C: Salaries and personnel, Leadership of the team of developers, Testing, The energy stack. Requirements: 1C developers, consultants and functional architects required; All information on stacks, grades and additional requirements is indicated in the Excel file, in the “Test task” section; When responding to a vacancy, you must indicate the position ID; in the file, this column is highlighted in yellow.', metadata={'file': '1С_разработчик-00e46f89-176b-4447-beaf-80a7a63fb072.json'})"
     },
     "execution_count": 6,
     "metadata": {},
     "output_type": "execute_result"
    }
   ],
   "source": [
    "#@title Формирую чанки (Langchain Document)\n",
    "vacancies_fields_first_chunks_en = [] # Список для чанков\n",
    "for value in vacancies_collection.find(): # по всем вакансиям из базы, коллекции vacancies\n",
    "    vacancies_fields_first_chunks_en.append(Document(page_content=value['line_first_en'],\n",
    "                                                     metadata={'file': value['_id']}))\n",
    "# Пример чанка\n",
    "vacancies_fields_first_chunks_en[0]"
   ],
   "metadata": {
    "collapsed": false,
    "pycharm": {
     "name": "#%%\n"
    }
   }
  },
  {
   "cell_type": "code",
   "execution_count": 14,
   "outputs": [
    {
     "name": "stdout",
     "output_type": "stream",
     "text": [
      "К-во токенов в документе: 45494. Цена создания индексной базы: $ 0.0045494\n",
      "К-во записей в индексной базе: 100\n"
     ]
    }
   ],
   "source": [
    "#@title Индексная (векторная) база по выбранным полям Вкансий\n",
    "TOTAL_AMOUNT = 0\n",
    "# Подсчет токенов\n",
    "def num_tokens_from_string(string, encoding_name):\n",
    "    encoding = tiktoken.get_encoding(encoding_name)\n",
    "    return len(encoding.encode(string))\n",
    "\n",
    "# количество токенов индексной базы и стоимость. model Ada v2\n",
    "def tokens_count_db_index(source_chunks):\n",
    "    global TOTAL_AMOUNT\n",
    "    count_tokens = 0\n",
    "    count_token = num_tokens_from_string(' '.join([x.page_content for x in source_chunks]), \"cl100k_base\")\n",
    "    count_tokens += count_token\n",
    "    # Embedding model Ada v2 - $0.10 / 1M tokens - 13/03/2024 - https://openai.com/pricing\n",
    "    price = 0.1 * count_tokens / 1e6\n",
    "    TOTAL_AMOUNT += price\n",
    "    print(f'К-во токенов в документе: {count_token}. '\n",
    "          f'Цена создания индексной базы: $ {price}')\n",
    "\n",
    "\n",
    "# Создаю индексную (Векторную) базу и сохраняю\n",
    "# Если не в колабе, ВКЛЮЧИТЬ VPN\n",
    "db_first_vacancies = FAISS.from_documents(vacancies_fields_first_chunks_en, OpenAIEmbeddings())\n",
    "db_first_vacancies.save_local(folder_path='../data', index_name='vacancies_fields_first_db_index')\n",
    "\n",
    "tokens_count_db_index(vacancies_fields_first_chunks_en)\n",
    "print(f'К-во записей в индексной базе: {len(db_first_vacancies.docstore._dict)}')"
   ],
   "metadata": {
    "collapsed": false,
    "pycharm": {
     "name": "#%%\n"
    }
   }
  },
  {
   "cell_type": "code",
   "execution_count": 18,
   "outputs": [
    {
     "data": {
      "text/plain": "Document(page_content='Position: 1C developer. Experience Levels: Middle, Middle+, Senior. Work Format: Remote. Required Location: Any. Salary: 403,200 rubles per month. Skills: 1C: Production, 1C: Salary and staff, 1C: Management of the holding, 1C, 1C: ERP, Remote work, 1C ERP, 1C: Accounting and warehouse, C., MS Excel, Excel, The column, IT Recruitment , Full Stack, Management of requirements, Test case, The Auto Grid, Analysis of the requirements, The test, Creating the 1C configuration, 1C programming, 1C: Salaries and personnel, Leadership of the team of developers, Testing, The energy stack. Requirements: 1C developers, consultants and functional architects required; All information on stacks, grades and additional requirements is indicated in the Excel file, in the “Test task” section; When responding to a vacancy, you must indicate the position ID; in the file, this column is highlighted in yellow.', metadata={'file': '1С_разработчик-00e46f89-176b-4447-beaf-80a7a63fb072.json'})"
     },
     "execution_count": 18,
     "metadata": {},
     "output_type": "execute_result"
    }
   ],
   "source": [
    "# Пример чанка из индексной базы\n",
    "db_first_vacancies.docstore._dict['afbbe803-6b33-43af-bce8-71d6df6db7dc']"
   ],
   "metadata": {
    "collapsed": false,
    "pycharm": {
     "name": "#%%\n"
    }
   }
  },
  {
   "cell_type": "markdown",
   "source": [
    "# Резюме\n",
    "### Ключевые поля резюме для поиска вакансий\n",
    "- Позиция \"title\" + \"professional_roles.name\"\n",
    "- Скилы \"skill_set\"\n",
    "- Доп. информация от кандидата \"skills\"\n",
    "- Зарплата \"salary\"\n",
    "- График работы \"schedule\"\n",
    "- Локация \"area.name\"\n",
    "- Отношение к релокации \"relocation\"\n",
    "- Опыт работы \"experience.position\" и \"experience.description\"\n",
    "- Трудовой стаж (месяцев) \"total_experience\"\n",
    "- Языки \"language\""
   ],
   "metadata": {
    "collapsed": false,
    "pycharm": {
     "name": "#%% md\n"
    }
   }
  },
  {
   "cell_type": "code",
   "execution_count": 3,
   "outputs": [],
   "source": [
    "# Формирую строки из ключевых полей резюме\n",
    "for value in resumes_collection.find(): # по все резюме из коллекции\n",
    "    schedules = '' # График работы\n",
    "    for schedule in value[\"schedules\"]:\n",
    "        schedules += f\"{schedule['name']}, \"\n",
    "\n",
    "    experience = '' # Опыт\n",
    "    for n, place in enumerate(value['experience']):\n",
    "        experience += f\"Job experience {n+1}: Position - {place['position']}. \\\n",
    "                             Job description {n+1}: {place['description']} \"\n",
    "\n",
    "    languages = '' # Языки\n",
    "    for lang in value['language']:\n",
    "        languages += f\"{lang['name']} - level: {lang['level']['name']}. \"\n",
    "\n",
    "    try: # Если указана зарплата\n",
    "        currency = value['salary']['currency']\n",
    "        salary = f\"Desired salary: {value['salary']['amount']} {currency if currency!='RUR' else 'рублей в месяц'}. \"\n",
    "    except Exception as ex:\n",
    "        salary = ''\n",
    "\n",
    "    if value['skills'] != None: # Add.skills\n",
    "        add_skills = f\"Add.skills: {value['skills']}.\"\n",
    "    else:\n",
    "        add_skills = ''\n",
    "\n",
    "\n",
    "    # 1-й блок резюме\n",
    "    resume_line_1 = re.sub(r'\\s+', ' ', f\"\"\"\n",
    "                         Position: {value['title']}. {value['professional_roles'][0]['name']}.\n",
    "                         Skills: {(', ').join(value['skill_set'])}.\n",
    "                         {add_skills}\"\"\")\n",
    "    # 2- блок резюме\n",
    "    resume_line_2 = re.sub(r'\\s+', ' ', f\"\"\"\n",
    "                         {salary}\n",
    "                         Languages: {languages}.\n",
    "                         Job schedule: {schedules}.\n",
    "                         Location: {value['area']['name']}.\n",
    "                         Attitude to relocation: {value['relocation']['type']['name']}.\n",
    "                         Total experience: {value['total_experience']['months']} months. \"\"\")\n",
    "    # 3-й блок резюме\n",
    "    resume_line_3 = re.sub(r'\\s+', ' ', f'{experience}')\n",
    "    try: # сохраняю сформированные строки из полей резюме в коллекцию resumes\n",
    "        resumes_collection.find_one_and_update({'_id': value['_id']}, # нахожу резюме по _id\n",
    "                                               {'$set': {'line_first_1': resume_line_1,    # Position, Skills, Add.skills\n",
    "                                                         'line_first_2': resume_line_2,    # Salary, Lang, Schedule, Location...\n",
    "                                                         'line_first_3': resume_line_3}})  # Experience (position, description)\n",
    "    except Exception as ex:\n",
    "        print(ex)"
   ],
   "metadata": {
    "collapsed": false,
    "pycharm": {
     "name": "#%%\n"
    }
   }
  },
  {
   "cell_type": "code",
   "execution_count": 4,
   "outputs": [
    {
     "name": "stdout",
     "output_type": "stream",
     "text": [
      " Position: Java программист. Программист, разработчик. Skills: ORACLE, Docker, База данных: Oracle, MySQL, REST, XML, СУБД, Atlassian Jira, Gradle, JDBC, Spring, MongoDB, Unix, GitHub, Hibernate, JSON, REST API, HTTP, Unit Testing, Backend, Maven, JPA, JMS, SOAP, Microservices, Java Script, Java EE, Java SE, MS SQL, Linux.  \n",
      "\n",
      " Desired salary: 200000 рублей в месяц. Languages: Русский - level: Родной. Английский - level: B1 — Средний. . Job schedule: Полный день, Сменный график, Гибкий график, Удаленная работа, . Location: Оренбург. Attitude to relocation: не готов к переезду. Total experience: 364 months.  \n",
      "\n",
      "Job experience 1: Position - Java developer (удаленно). Job description 1: Разработка приложений с применением Java 8/11/17, Spring (Data, Boot, Security, Web, Cloud Config, AOP), Git / Gitflow / Bitbucket, Jenkins, микросервисы, docker / docker-compose, Maven / Gradle, Oracle / MySQL / PostgreSQL / MS SQL, Hibernate, JBoss / Glassfish / WildFly / Tomcat / Azure, Unix (FreeBSD, RedHat, CentOS), JUnit / TestNG, NoSQL (Redis / MongoDB), JMS/Kafka, JavaFX, REST, Javascript, Liquibase. Разработка приложений для сбора и обработки информации в call центре, программы для формирования различных отчетов на базе этих данных, инсталляция UNIX серверов (RedHat), установка и обслуживание Oracle / MySQL (настройка, кластеры, резервное копирование). Взаимодействие с другими организациями в целях взаимного обмена информацией с применением стороннего API. Разработка системы сопровождения агентов call центра от регистрации в системе до выставления счетов на оплату их работы с применением данных активности в сети. Разработка форм-опросников для оценки качества работы агентов. Формирование автоматизированных отчетов. Разработка проекта по сбору информации по Rest api из различных источников. Парсинг данных в различных форматах (text, csv, excel, pdf). Web hook endpoint api (Spring Boot / Swagger 3). Job experience 2: Position - Java/J2EE Developer / solution designer. Job description 2: Разработка и сопровождение биллинговой системы интернет провайдера: Modified Tacacs (C language under FreeBSD) and developed Java/PHP/Apache/MySQL based online Billing System. Developed a complex online Report Generation System using J2EE/Struts/MySQL. Installed FreeBSD server and Apache/MySQL/Tomcat services. Job experience 3: Position - Инженер-программист. Job description 3: Работал в интернет отделе. Основное направление работы - поддержка системы и клиентов, разработка системы учета и тарификации. Работа в среде Windows / FreeBSD, C, PHP, PostgreSQL, HTML / CSS Job experience 4: Position - Программист-разработчик. Job description 4: Разработка и сопровождение программ для сбора статистической информации с применением Clipper, Dbase, FoxPro. Поддержка централизованного программного обеспечения, работа с пользователями, настройка компьютеров, локальной сети. \n"
     ]
    }
   ],
   "source": [
    "# Пример строки с выбранными ключевыми полями\n",
    "ex_resume = resumes_collection.find_one({'_id': 'b1dcc297-a293-405b-8e46-f47328bea37a.json'})\n",
    "print(ex_resume['line_first_1'], '\\n')\n",
    "print(ex_resume['line_first_2'], '\\n')\n",
    "print(ex_resume['line_first_3'])"
   ],
   "metadata": {
    "collapsed": false,
    "pycharm": {
     "name": "#%%\n"
    }
   }
  },
  {
   "cell_type": "markdown",
   "source": [
    "# Подбор вакансий (similarity_search_with_score) под резюме"
   ],
   "metadata": {
    "collapsed": false,
    "pycharm": {
     "name": "#%% md\n"
    }
   }
  },
  {
   "cell_type": "code",
   "execution_count": 3,
   "outputs": [],
   "source": [
    "#@title similarity_search_with_score\n",
    "def ids_and_scores(query, db):\n",
    "    docs_and_scores = db.similarity_search_with_score(query, k=5)\n",
    "    print('\\nScores:', [doc[1] for doc in docs_and_scores])\n",
    "    print(', '.join([f\"\\n_id {i + 1}: {doc[0].metadata['file']}\"\n",
    "                     for i, doc in enumerate(docs_and_scores)]))\n",
    "    print('-'*80)\n",
    "    return [f\"{doc[0].metadata['file']}\" for doc in docs_and_scores]\n",
    "\n",
    "# Загружаю ранее сохраненную индексную базу с вакансиями\n",
    "db_first_vacancies = FAISS.load_local(folder_path='../data',\n",
    "                           embeddings=OpenAIEmbeddings(),\n",
    "                           index_name='vacancies_fields_first_db_index')"
   ],
   "metadata": {
    "collapsed": false,
    "pycharm": {
     "name": "#%%\n"
    }
   }
  },
  {
   "cell_type": "code",
   "execution_count": 7,
   "outputs": [
    {
     "name": "stdout",
     "output_type": "stream",
     "text": [
      "\n",
      "Scores: [0.23593657, 0.25759953, 0.2642653, 0.26903987, 0.28311896]\n",
      "\n",
      "_id 1: Java_разработчик-2ce1bca2-5a23-4f68-8566-8ff0f7f87e3c.json, \n",
      "_id 2: Java_разработчик-6e8ea5e3-47fb-4a15-84fa-6ab618dcbbe0.json, \n",
      "_id 3: Java_разработчик-f6b48d5d-882e-4afd-8826-3d46b78342c6.json, \n",
      "_id 4: Java_разработчик-654b79d7-6b07-4705-969d-41a9eef10503.json, \n",
      "_id 5: Backend_разработчик-bb3c56dc-e54f-4dba-bfa1-6f45e42ff1ab.json\n",
      "--------------------------------------------------------------------------------\n",
      "\n",
      "Scores: [0.13272537, 0.14302576, 0.1458421, 0.15256974, 0.18882027]\n",
      "\n",
      "_id 1: Java_разработчик-2ce1bca2-5a23-4f68-8566-8ff0f7f87e3c.json, \n",
      "_id 2: Java_разработчик-f6b48d5d-882e-4afd-8826-3d46b78342c6.json, \n",
      "_id 3: Java_разработчик-654b79d7-6b07-4705-969d-41a9eef10503.json, \n",
      "_id 4: Java_разработчик-6e8ea5e3-47fb-4a15-84fa-6ab618dcbbe0.json, \n",
      "_id 5: Backend_разработчик-8a68226f-ea25-4b81-8eee-a0e8ea99fb2d.json\n",
      "--------------------------------------------------------------------------------\n",
      "\n",
      "Scores: [0.12061983, 0.13353527, 0.13522577, 0.1369074, 0.17080076]\n",
      "\n",
      "_id 1: Java_разработчик-2ce1bca2-5a23-4f68-8566-8ff0f7f87e3c.json, \n",
      "_id 2: Java_разработчик-6e8ea5e3-47fb-4a15-84fa-6ab618dcbbe0.json, \n",
      "_id 3: Java_разработчик-f6b48d5d-882e-4afd-8826-3d46b78342c6.json, \n",
      "_id 4: Java_разработчик-654b79d7-6b07-4705-969d-41a9eef10503.json, \n",
      "_id 5: Backend_разработчик-8a68226f-ea25-4b81-8eee-a0e8ea99fb2d.json\n",
      "--------------------------------------------------------------------------------\n"
     ]
    }
   ],
   "source": [
    "# Любое резюме\n",
    "ex_resume = resumes_collection.find_one({'_id': 'b1dcc297-a293-405b-8e46-f47328bea37a.json'})\n",
    "query_1 = transtator.translate(ex_resume['line_first_1'])\n",
    "query_2 = transtator.translate(ex_resume['line_first_2'])\n",
    "query_3 = transtator.translate(ex_resume['line_first_3'][:4999]) # переводчик до 5000 символов\n",
    "\n",
    "ids_1 = ids_and_scores(query_1, db_first_vacancies)\n",
    "ids_2 = ids_and_scores(query_1 + query_2, db_first_vacancies)\n",
    "ids_3 = ids_and_scores(query_1 + query_2 + query_3, db_first_vacancies)"
   ],
   "metadata": {
    "collapsed": false,
    "pycharm": {
     "name": "#%%\n"
    }
   }
  },
  {
   "cell_type": "code",
   "execution_count": 4,
   "outputs": [
    {
     "data": {
      "text/plain": "[{'file': 'Java_разработчик-2ce1bca2-5a23-4f68-8566-8ff0f7f87e3c.json'},\n {'file': 'Java_разработчик-6e8ea5e3-47fb-4a15-84fa-6ab618dcbbe0.json'},\n {'file': 'Java_разработчик-f6b48d5d-882e-4afd-8826-3d46b78342c6.json'},\n {'file': 'Java_разработчик-654b79d7-6b07-4705-969d-41a9eef10503.json'},\n {'file': 'Backend_разработчик-8a68226f-ea25-4b81-8eee-a0e8ea99fb2d.json'}]"
     },
     "execution_count": 4,
     "metadata": {},
     "output_type": "execute_result"
    }
   ],
   "source": [
    "# similarity_search_by_vector\n",
    "ex_resume = resumes_collection.find_one({'_id': 'b1dcc297-a293-405b-8e46-f47328bea37a.json'})\n",
    "query_1 = transtator.translate(ex_resume['line_first_1'])\n",
    "query_2 = transtator.translate(ex_resume['line_first_2'])\n",
    "query_3 = transtator.translate(ex_resume['line_first_3'][:4999]) # переводчик до 5000 символов\n",
    "\n",
    "embedding_vector = OpenAIEmbeddings().embed_query(query_1 + query_2 + query_3)\n",
    "docs = db_first_vacancies.similarity_search_by_vector(embedding_vector, k=5)\n",
    "[doc.metadata for doc in docs]"
   ],
   "metadata": {
    "collapsed": false,
    "pycharm": {
     "name": "#%%\n"
    }
   }
  },
  {
   "cell_type": "markdown",
   "source": [
    "# OpenAI"
   ],
   "metadata": {
    "collapsed": false,
    "pycharm": {
     "name": "#%% md\n"
    }
   }
  },
  {
   "cell_type": "code",
   "execution_count": 8,
   "outputs": [],
   "source": [
    "# функция добавления переходов на новую строку для удобства чтения\n",
    "def format_newlines(text, max_len=100):\n",
    "    lines = text.splitlines()\n",
    "    new_lines = []\n",
    "    for line in lines:\n",
    "        words = line.split()\n",
    "        current_line = \"\"\n",
    "        for word in words:\n",
    "            if len(current_line + \" \" + word) > max_len:\n",
    "                new_lines.append(current_line)\n",
    "                current_line = \"\"\n",
    "            current_line += f' {word}'\n",
    "        new_lines.append(current_line)\n",
    "    return \"\\n\".join(new_lines)\n",
    "\n",
    "# Стоимость запроса + ответ для \"gpt-3.5-turbo-0125\"\n",
    "def print_tokens_count(completion):\n",
    "    # \"gpt-3.5-turbo-0125\" - Input: $0.50 / 1M tokens - Output: $1.50 / 1M tokens - 07/03/2024 - https://openai.com/pricing\n",
    "    price = 0.5 * completion.usage.prompt_tokens / 1e6 + 1.5 * completion.usage.completion_tokens / 1e6\n",
    "    print(f'Использовано токенов: {completion.usage.prompt_tokens} + '\n",
    "                                f'{completion.usage.completion_tokens} = '\n",
    "                                f'{completion.usage.total_tokens}. '\n",
    "                                f'Цена запроса + ответ: $ {price}\\n')\n",
    "    # global TOTAL_AMOUNT\n",
    "    # TOTAL_AMOUNT += price\n",
    "\n",
    "def answer_gpt(messages, temp=0.5):\n",
    "    completion = openai.chat.completions.create(model=\"gpt-3.5-turbo-0125\",\n",
    "                                                messages=messages,\n",
    "                                                temperature=temp)\n",
    "    print_tokens_count(completion)\n",
    "    return completion.choices[0].message.content"
   ],
   "metadata": {
    "collapsed": false,
    "pycharm": {
     "name": "#%%\n"
    }
   }
  },
  {
   "cell_type": "code",
   "execution_count": 9,
   "outputs": [
    {
     "name": "stdout",
     "output_type": "stream",
     "text": [
      "Использовано токенов: 1217 + 356 = 1573. Цена запроса + ответ: $ 0.0011424999999999999\n",
      "\n",
      " 1. Процент совпадения навыков кандидата из резюме с необходимыми навыками в вакансии составляет\n",
      " около 70%.\n",
      "\n",
      " 2. Кандидату из резюме не хватает следующих навыков и компетенций по сравнению с необходимыми\n",
      " навыками и компетенциями в вакансии: Kotlin, Spring Cloud, *nix command line, log aggregation\n",
      " systems (ELK), Kubernetes, ability to analyze performance problems, experience in designing and\n",
      " implementing CI/CD processes on Gitlab/analogues, experience working in a team using agile\n",
      " development methods (Scrum, Kanban) и опыт внедрения проектов в области FinTech.\n",
      "\n",
      " 3. По другим требованиям из вакансии (кроме навыков) кандидат соответствует следующим компетенциям:\n",
      " гибкое мышление, работа в команде, гибкость, гибкость мышления, гибкость методологии, работа в\n",
      " проекте, работа в команде, командное управление, формирование команды, управление командой, работа\n",
      " в команде, гибкость, работа в команде, проектная работа, работа в команде, управление командой,\n",
      " формирование команды.\n"
     ]
    }
   ],
   "source": [
    "# Резюме: 'b1dcc297-a293-405b-8e46-f47328bea37a.json'\n",
    "test_resume = query_1 + query_2 + query_3\n",
    "# Выбранная вакасия: 'Java_разработчик-2ce1bca2-5a23-4f68-8566-8ff0f7f87e3c.json'\n",
    "test_vacancy = vacancies_collection.find_one(\n",
    "               {'_id': 'Java_разработчик-2ce1bca2-5a23-4f68-8566-8ff0f7f87e3c.json'})['line_first_en']\n",
    "\n",
    "system = re.sub(r'\\s+', ' ', \"\"\"You are a professional HR.\n",
    "    You help candidates (applicants) to get a job for the chosen vacancy\"\"\")\n",
    "\n",
    "message_content = re.sub(r'\\s+', ' ', f\"\"\"Based on the candidate's resume, you have found a suitable vacancy.\n",
    "    Candidate's desired position, candidate's skills, additional information about the candidate\n",
    "    from the resume: {test_resume}. Requirements for the candidate, according\n",
    "    to the vacancy you have chosen: {test_vacancy}. Analyze the information from the candidate's\n",
    "    resume and the requirements from the vacancy.\"\"\")\n",
    "\n",
    "question = re.sub(r'\\s+', ' ', \"\"\"Answer the questions:\n",
    "    1. What is the percentage from 0 to 100 of matching skills in the candidate's resume compared\n",
    "       to the necessary skills in the vacancy?\n",
    "    2. What skills and competencies does the candidate lack in the resume compared to the necessary\n",
    "       skills and competencies in the vacancy?\n",
    "    3. What can be said about other requirements from the vacancy (except skills) to the candidate\n",
    "       compared with the candidate's competencies (except skills)?\n",
    "\n",
    "    Answer all questions in Russian, with the exception of the words denoting the candidate's skills,\n",
    "    if you write about them. So, answer in Russian, but if you use words denoting the candidate's skills,\n",
    "    write skills in English.\"\"\")\n",
    "\n",
    "message = [{\"role\": \"system\", \"content\": system},\n",
    "           {\"role\": \"user\", \"content\": f\"{message_content}\\n{question}\"}]\n",
    "\n",
    "response = answer_gpt(message, temp=0.3)\n",
    "print(format_newlines(response))"
   ],
   "metadata": {
    "collapsed": false,
    "pycharm": {
     "name": "#%%\n"
    }
   }
  }
 ],
 "metadata": {
  "kernelspec": {
   "display_name": "Python 3",
   "language": "python",
   "name": "python3"
  },
  "language_info": {
   "codemirror_mode": {
    "name": "ipython",
    "version": 3
   },
   "file_extension": ".py",
   "mimetype": "text/x-python",
   "name": "python",
   "nbconvert_exporter": "python",
   "pygments_lexer": "ipython3",
   "version": "3.8.5"
  }
 },
 "nbformat": 4,
 "nbformat_minor": 2
}