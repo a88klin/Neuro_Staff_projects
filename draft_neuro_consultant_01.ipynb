{
 "cells": [
  {
   "cell_type": "markdown",
   "metadata": {
    "id": "Y5X9yI0LOnCo",
    "pycharm": {
     "name": "#%% md\n"
    }
   },
   "source": [
    "Нейроконсультант по Правилам безопасности опасных производственных объектов, на которых используются подъемные сооружения"
   ]
  },
  {
   "cell_type": "code",
   "execution_count": null,
   "metadata": {
    "id": "iD5zW91MCfJQ",
    "pycharm": {
     "name": "#%%\n"
    }
   },
   "outputs": [],
   "source": [
    "!pip install -q langchain_openai==0.0.2 faiss-cpu==1.7.4 openai==1.6.1 tiktoken==0.5.2 langchain_community==0.0.11 langchain==0.1.0 cohere"
   ]
  },
  {
   "cell_type": "code",
   "execution_count": 2,
   "metadata": {
    "executionInfo": {
     "elapsed": 5831,
     "status": "ok",
     "timestamp": 1707391361685,
     "user": {
      "displayName": "Alex Klin",
      "userId": "11249935885368047783"
     },
     "user_tz": -180
    },
    "id": "Gmxvkq6QIbD9",
    "pycharm": {
     "name": "#%%\n"
    }
   },
   "outputs": [],
   "source": [
    "import os\n",
    "from google.colab import userdata\n",
    "from openai import OpenAI\n",
    "\n",
    "key = userdata.get('OPENAI_API_KEY')\n",
    "os.environ[\"OPENAI_API_KEY\"] = key\n",
    "client = OpenAI()"
   ]
  },
  {
   "cell_type": "code",
   "execution_count": 7,
   "metadata": {
    "executionInfo": {
     "elapsed": 218,
     "status": "ok",
     "timestamp": 1707391875595,
     "user": {
      "displayName": "Alex Klin",
      "userId": "11249935885368047783"
     },
     "user_tz": -180
    },
    "id": "VcoZUPuZPfLf",
    "pycharm": {
     "name": "#%%\n"
    }
   },
   "outputs": [],
   "source": [
    "from langchain.embeddings.openai import OpenAIEmbeddings\n",
    "from langchain_community.vectorstores import FAISS\n",
    "from langchain.text_splitter import RecursiveCharacterTextSplitter\n",
    "import gdown\n",
    "import re\n",
    "from langchain.docstore.document import Document"
   ]
  },
  {
   "cell_type": "code",
   "execution_count": null,
   "metadata": {
    "colab": {
     "base_uri": "https://localhost:8080/"
    },
    "executionInfo": {
     "elapsed": 1375,
     "status": "ok",
     "timestamp": 1707392931985,
     "user": {
      "displayName": "Alex Klin",
      "userId": "11249935885368047783"
     },
     "user_tz": -180
    },
    "id": "lYiDI7lFPfOG",
    "outputId": "4eefcef7-2551-412c-ad64-165ce9f4c820",
    "pycharm": {
     "name": "#%%\n",
     "is_executing": true
    }
   },
   "outputs": [],
   "source": [
    "def get_direct_link(sharing_link):\n",
    "    id = re.findall(r'/d/([a-zA-Z0-9_-]{25,})', sharing_link)  # Находим идентификатор файла в ссылке\n",
    "    if id:\n",
    "        return f'https://drive.google.com/uc?export=download&id={id[0]}'  # Формируем прямую ссылку\n",
    "    else:\n",
    "        return None\n",
    "\n",
    "# Ссылка на файл, сохраненный в TXT\n",
    "sharing_link = 'https://drive.google.com/file/d/1MUEAhTC33dVd0d2Dig9q07dJDL9nmYCG/view?usp=sharing' # изменена\n",
    "direct_link = get_direct_link(sharing_link)\n",
    "print(direct_link)\n",
    "gdown.download(direct_link, None, quiet = True)\n",
    "\n",
    "with open('safety.txt', 'r', encoding='utf-8') as f:\n",
    "    doc = f.read()"
   ]
  },
  {
   "cell_type": "code",
   "execution_count": 33,
   "metadata": {
    "colab": {
     "base_uri": "https://localhost:8080/"
    },
    "executionInfo": {
     "elapsed": 5215,
     "status": "ok",
     "timestamp": 1707394084700,
     "user": {
      "displayName": "Alex Klin",
      "userId": "11249935885368047783"
     },
     "user_tz": -180
    },
    "id": "G_QWjYFzPfQf",
    "outputId": "828cd283-f511-41be-bf25-d72ea5797747",
    "pycharm": {
     "name": "#%%\n"
    }
   },
   "outputs": [
    {
     "name": "stdout",
     "output_type": "stream",
     "text": [
      "255\n"
     ]
    }
   ],
   "source": [
    "# RecursiveCharacterTextSplitter\n",
    "chunks=[]\n",
    "splitter = RecursiveCharacterTextSplitter(chunk_size=1000, chunk_overlap=50)\n",
    "for chunk in splitter.split_text(doc):\n",
    "    chunks.append(Document(page_content=chunk, metadata={\"meta\":\"data\"}))\n",
    "print(len(chunks))\n",
    "\n",
    "embeddings = OpenAIEmbeddings()\n",
    "db = FAISS.from_documents(chunks, embeddings)"
   ]
  },
  {
   "cell_type": "code",
   "execution_count": 34,
   "metadata": {
    "colab": {
     "base_uri": "https://localhost:8080/"
    },
    "executionInfo": {
     "elapsed": 564,
     "status": "ok",
     "timestamp": 1707394090019,
     "user": {
      "displayName": "Alex Klin",
      "userId": "11249935885368047783"
     },
     "user_tz": -180
    },
    "id": "XjC1nv5_PfXo",
    "outputId": "e6942338-6368-4183-f09e-86e46c229308",
    "pycharm": {
     "name": "#%%\n"
    }
   },
   "outputs": [
    {
     "name": "stdout",
     "output_type": "stream",
     "text": [
      "**отрезок №1** : грузов, могут проводиться при помощи специальных приспособлений, позволяющих создать испытательную нагрузку без применения груза. Порядок проведения т\n",
      "\n",
      "**отрезок №2** : этими же вылетами при условии удовлетворительных результатов технического освидетельствования разрешается последующая работа крана. 175. Для проведени\n",
      "\n",
      "**отрезок №3** : крана; при этом у крана с консолями каждая консоль испытывается отдельно. При наличии остаточной деформации, явившейся следствием испытания крана груз\n",
      "\n",
      "**отрезок №4** : от первоначальных значений проверяется по оголовку стрелы. Если в течение 10 минут поднятый груз не опустится на землю, а также не будет обнаружено тр\n"
     ]
    }
   ],
   "source": [
    "query = \"Как проводятся статические испытания крана стрелового типа?\"\n",
    "results = db.similarity_search(query, k=4)\n",
    "\n",
    "print(\"**отрезок №1** :\", results[0].page_content[:150])\n",
    "print(\"\\n**отрезок №2** :\", results[1].page_content[:150])\n",
    "print(\"\\n**отрезок №3** :\", results[2].page_content[:150])\n",
    "print(\"\\n**отрезок №4** :\", results[3].page_content[:150])"
   ]
  },
  {
   "cell_type": "code",
   "execution_count": 38,
   "metadata": {
    "executionInfo": {
     "elapsed": 232,
     "status": "ok",
     "timestamp": 1707394405332,
     "user": {
      "displayName": "Alex Klin",
      "userId": "11249935885368047783"
     },
     "user_tz": -180
    },
    "id": "3OvSfI5NPfZ-",
    "pycharm": {
     "name": "#%%\n"
    }
   },
   "outputs": [],
   "source": [
    "def answer_index(system, topic, search_index, verbose=0):\n",
    "    # Поиск релевантных отрезков из базы знаний\n",
    "    docs = search_index.similarity_search(topic, k=4)\n",
    "    if verbose: print('\\n ===========================================: ')\n",
    "    message_content = re.sub(r'\\n{2}', ' ', '\\n '.join([f'\\nОтрывок документа №{i+1}\\n=====================' + \\\n",
    "                                                        doc.page_content + '\\n' for i, doc in enumerate(docs)]))\n",
    "    if verbose: print('message_content :\\n ======================================== \\n', message_content)\n",
    "\n",
    "    client = OpenAI()\n",
    "    messages = [\n",
    "        {\"role\": \"system\", \"content\": system},\n",
    "        {\"role\": \"user\", \"content\": f'The answer to the question in the language in which it was asked. '\n",
    "                                    f\"Don't mention the document with the information for the answer. \"\n",
    "                                    f'Document with information for the response: {message_content}\\n\\n'\n",
    "                                    f'Question: \\n{topic}'}\n",
    "    ]\n",
    "    if verbose: print('\\n ===========================================: ')\n",
    "\n",
    "    completion = client.chat.completions.create(\n",
    "        model=\"gpt-3.5-turbo-1106\",\n",
    "        messages=messages,\n",
    "        temperature=0\n",
    "    )\n",
    "\n",
    "    print(f'\\nВопрос: {completion.usage.prompt_tokens} токенов. '\n",
    "          f'\\nОтвет: {completion.usage.completion_tokens} токенов. '\n",
    "          f'\\nВсего: {completion.usage.total_tokens} токенов.\\n')\n",
    "    return completion.choices[0].message.content\n",
    "\n",
    "\n",
    "system = 'You are a consultant on the safety rules of hazardous production facilities where lifting facilities are used'"
   ]
  },
  {
   "cell_type": "code",
   "execution_count": 39,
   "metadata": {
    "colab": {
     "base_uri": "https://localhost:8080/",
     "height": 147
    },
    "executionInfo": {
     "elapsed": 3116,
     "status": "ok",
     "timestamp": 1707394417539,
     "user": {
      "displayName": "Alex Klin",
      "userId": "11249935885368047783"
     },
     "user_tz": -180
    },
    "id": "m4s7ZsTOPfcg",
    "outputId": "0e4fec14-cb37-42c8-f61d-8ddad67c8fde",
    "pycharm": {
     "name": "#%%\n"
    }
   },
   "outputs": [
    {
     "name": "stdout",
     "output_type": "stream",
     "text": [
      "\n",
      "Вопрос: 1795 токенов. \n",
      "Ответ: 122 токенов. \n",
      "Всего: 1917 токенов.\n",
      "\n"
     ]
    },
    {
     "data": {
      "application/vnd.google.colaboratory.intrinsic+json": {
       "type": "string"
      },
      "text/plain": [
       "'Статические испытания крана стрелового типа проводятся в положении, соответствующем наибольшей грузоподъемности крана, при установленном стреловом оборудовании. Груз поднимается на высоту 50-100 мм, и замеры остаточных деформаций осуществляются в соответствии с установленными требованиями.'"
      ]
     },
     "execution_count": 39,
     "metadata": {},
     "output_type": "execute_result"
    }
   ],
   "source": [
    "topic= \"Как проводятся статические испытания крана стрелового типа?\"\n",
    "answer_index(system, topic, db)"
   ]
  },
  {
   "cell_type": "code",
   "execution_count": 40,
   "metadata": {
    "colab": {
     "base_uri": "https://localhost:8080/",
     "height": 147
    },
    "executionInfo": {
     "elapsed": 3433,
     "status": "ok",
     "timestamp": 1707394432067,
     "user": {
      "displayName": "Alex Klin",
      "userId": "11249935885368047783"
     },
     "user_tz": -180
    },
    "id": "w7ejvIBNPfe-",
    "outputId": "38096c1e-2987-408c-8381-479221c5ae6b",
    "pycharm": {
     "name": "#%%\n"
    }
   },
   "outputs": [
    {
     "name": "stdout",
     "output_type": "stream",
     "text": [
      "\n",
      "Вопрос: 1853 токенов. \n",
      "Ответ: 176 токенов. \n",
      "Всего: 2029 токенов.\n",
      "\n"
     ]
    },
    {
     "data": {
      "application/vnd.google.colaboratory.intrinsic+json": {
       "type": "string"
      },
      "text/plain": [
       "'Динамические испытания подъемных сооружений (ПС) проводятся с грузом, масса которого на 10 процентов превышает его паспортную грузоподъемность, с целью проверки действия его механизмов и тормозов. При динамических испытаниях ПС производятся многократные подъем и опускание груза, а также проверка действия всех других механизмов при совмещении рабочих движений, предусмотренных руководством по эксплуатации ПС.'"
      ]
     },
     "execution_count": 40,
     "metadata": {},
     "output_type": "execute_result"
    }
   ],
   "source": [
    "topic= \"Как осуществляются динамические испытания ПС?\"\n",
    "answer_index(system, topic, db)"
   ]
  },
  {
   "cell_type": "code",
   "execution_count": 41,
   "metadata": {
    "colab": {
     "base_uri": "https://localhost:8080/",
     "height": 165
    },
    "executionInfo": {
     "elapsed": 3368,
     "status": "ok",
     "timestamp": 1707394452551,
     "user": {
      "displayName": "Alex Klin",
      "userId": "11249935885368047783"
     },
     "user_tz": -180
    },
    "id": "jXOQQffhPfhh",
    "outputId": "3927d8b3-e7ba-4506-88d5-a35dbd3f5e15",
    "pycharm": {
     "name": "#%%\n"
    }
   },
   "outputs": [
    {
     "name": "stdout",
     "output_type": "stream",
     "text": [
      "\n",
      "Вопрос: 1868 токенов. \n",
      "Ответ: 178 токенов. \n",
      "Всего: 2046 токенов.\n",
      "\n"
     ]
    },
    {
     "data": {
      "application/vnd.google.colaboratory.intrinsic+json": {
       "type": "string"
      },
      "text/plain": [
       "'Состояние пакетирующих стропов должно проверяться перед каждой операцией подъема запакетированного груза путем подъема пакета в соответствии с утвержденными схемами строповки на высоту 100-200 мм от поверхности, на которой расположен пакет, и выдержки в таком положении не менее 30 секунд. Если форма и целостность пакета груза в течение времени выдержки не изменились, то строп признается годным к дальнейшему использованию.'"
      ]
     },
     "execution_count": 41,
     "metadata": {},
     "output_type": "execute_result"
    }
   ],
   "source": [
    "topic= \"Какие требования к проверке состояния пакетирующих стропов?\"\n",
    "answer_index(system, topic, db)"
   ]
  }
 ],
 "metadata": {
  "colab": {
   "provenance": []
  },
  "kernelspec": {
   "display_name": "Python 3 (ipykernel)",
   "language": "python",
   "name": "python3"
  },
  "language_info": {
   "codemirror_mode": {
    "name": "ipython",
    "version": 3
   },
   "file_extension": ".py",
   "mimetype": "text/x-python",
   "name": "python",
   "nbconvert_exporter": "python",
   "pygments_lexer": "ipython3",
   "version": "3.11.4"
  }
 },
 "nbformat": 4,
 "nbformat_minor": 1
}