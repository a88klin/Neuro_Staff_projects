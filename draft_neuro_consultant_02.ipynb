{
 "cells": [
  {
   "cell_type": "markdown",
   "metadata": {
    "id": "sV4NEhNFvE3W",
    "pycharm": {
     "name": "#%% md\n"
    }
   },
   "source": [
    "Нейроконсультант по ТЕХНИЧЕСКОМУ РЕГЛАМЕНТУ ТАМОЖЕННОГО СОЮЗА \"О БЕЗОПАСНОСТИ ЖЕЛЕЗНОДОРОЖНОГО ПОДВИЖНОГО СОСТАВА\""
   ]
  },
  {
   "cell_type": "code",
   "execution_count": null,
   "metadata": {
    "id": "t26yj2vEQ6dW",
    "pycharm": {
     "name": "#%%\n"
    }
   },
   "outputs": [],
   "source": [
    "!pip install -q langchain_openai==0.0.2 faiss-cpu==1.7.4 openai==1.6.1 tiktoken==0.5.2 langchain_community==0.0.11 langchain==0.1.0 cohere\n",
    "!pip install pydantic pydantic-settings"
   ]
  },
  {
   "cell_type": "markdown",
   "source": [],
   "metadata": {
    "collapsed": false,
    "pycharm": {
     "name": "#%% md\n"
    }
   }
  },
  {
   "cell_type": "code",
   "execution_count": 8,
   "outputs": [],
   "source": [
    "import os\n",
    "from openai import OpenAI\n",
    "from langchain_openai import OpenAIEmbeddings\n",
    "from langchain.vectorstores import FAISS\n",
    "import requests\n",
    "import re\n",
    "from langchain.text_splitter import MarkdownHeaderTextSplitter, RecursiveCharacterTextSplitter\n",
    "import matplotlib.pyplot as plt\n",
    "import tiktoken\n",
    "from langchain.docstore.document import Document\n",
    "\n",
    "from pydantic import SecretStr\n",
    "from pydantic_settings import BaseSettings, SettingsConfigDict\n",
    "\n",
    "class Settings(BaseSettings):\n",
    "    model_config = SettingsConfigDict(env_file='input',\n",
    "                                      env_file_encoding='utf-8')\n",
    "    openai_api_key: SecretStr\n",
    "\n",
    "\n",
    "os.environ['OPENAI_API_KEY'] = Settings().openai_api_key.get_secret_value()\n",
    "client = OpenAI()"
   ],
   "metadata": {
    "pycharm": {
     "name": "#%%\n"
    },
    "id": "Cav7ZNYa2s9w",
    "executionInfo": {
     "status": "ok",
     "timestamp": 1707549700824,
     "user_tz": -180,
     "elapsed": 359,
     "user": {
      "displayName": "Alex Klin",
      "userId": "11249935885368047783"
     }
    }
   }
  },
  {
   "cell_type": "code",
   "execution_count": null,
   "metadata": {
    "colab": {
     "base_uri": "https://localhost:8080/",
     "height": 87
    },
    "executionInfo": {
     "elapsed": 1949,
     "status": "ok",
     "timestamp": 1707549710408,
     "user": {
      "displayName": "Alex Klin",
      "userId": "11249935885368047783"
     },
     "user_tz": -180
    },
    "id": "GlWtKZuSWh_V",
    "outputId": "891a5fbe-b5de-48ba-bcf0-4b1165cc822f",
    "pycharm": {
     "name": "#%%\n",
     "is_executing": true
    }
   },
   "outputs": [],
   "source": [
    "# функция для загрузки документа по ссылке из гугл драйв\n",
    "def load_document_text(url: str) -> str:\n",
    "    # Extract the document ID from the URL\n",
    "    match_ = re.search('/document/d/([a-zA-Z0-9-_]+)', url)\n",
    "    if match_ is None:\n",
    "        raise ValueError('Invalid Google Docs URL')\n",
    "    print(match_)\n",
    "    print(match_.group(1))\n",
    "    doc_id = match_.group(1)\n",
    "    # Download the document as plain text\n",
    "    response = requests.get(f'https://docs.google.com/document/d/{doc_id}/export?format=txt')\n",
    "    response.raise_for_status()\n",
    "    return response.text\n",
    "\n",
    "# База данных\n",
    "data_from_url= load_document_text('https://docs.google.com/document/d/1YhUEX4kZDNTeE3eJ-yXskxZG46Ls47FvXjZ9Ij-t8Rw/edit?usp=sharing') # изменена"
   ]
  },
  {
   "cell_type": "code",
   "execution_count": null,
   "metadata": {
    "colab": {
     "base_uri": "https://localhost:8080/",
     "height": 799
    },
    "executionInfo": {
     "elapsed": 284,
     "status": "ok",
     "timestamp": 1707549719417,
     "user": {
      "displayName": "Alex Klin",
      "userId": "11249935885368047783"
     },
     "user_tz": -180
    },
    "id": "k3u1hM_X0a_a",
    "outputId": "a115b0a4-ab0a-4fbb-b888-fcf0c0b373ed",
    "pycharm": {
     "name": "#%%\n",
     "is_executing": true
    }
   },
   "outputs": [],
   "source": [
    "def text_to_markdown(text):\n",
    "    # Добавляем заголовок 1 уровня на основе римских чисел (без переноса строки)\n",
    "    # и дублируем его строчкой ниже - иначе эта информация перенесется в метаданные, а порой она бывает полезной.\n",
    "    def replace_header1(match):\n",
    "        print(match.group(2))\n",
    "        return f\"# {match.group(2)}\\n{match.group(2)}\"\n",
    "    text = re.sub(r'^(I{1,3}|IV|V|VI{1,3}|IX)\\. (.+)', replace_header1, text, flags=re.M)\n",
    "\n",
    "    # Добавляем текст, выделенный жирным шрифтом (он заключен между *)\n",
    "    # и дублируем его строчкой ниже\n",
    "    def replace_header2(match):\n",
    "        print(match.group(1))\n",
    "        return f\"## {match.group(1)}\\n{match.group(1)}\"\n",
    "    text = re.sub(r'\\*([^\\*]+)\\*', replace_header2, text)\n",
    "    return text\n",
    "\n",
    "markdown = text_to_markdown(data_from_url)"
   ]
  },
  {
   "cell_type": "code",
   "execution_count": 11,
   "metadata": {
    "colab": {
     "base_uri": "https://localhost:8080/",
     "height": 1000
    },
    "executionInfo": {
     "elapsed": 2335,
     "status": "ok",
     "timestamp": 1707549760528,
     "user": {
      "displayName": "Alex Klin",
      "userId": "11249935885368047783"
     },
     "user_tz": -180
    },
    "id": "ZtuKK3WEWiHl",
    "outputId": "4b486f3e-e7c2-4aae-9a55-b6add390ee10",
    "pycharm": {
     "name": "#%%\n"
    }
   },
   "outputs": [
    {
     "output_type": "stream",
     "name": "stdout",
     "text": [
      "\n",
      "Fragment Token Counts: [106, 990, 6934, 489, 231, 20029, 839, 25454, 653, 10082] \n",
      "\n"
     ]
    },
    {
     "output_type": "display_data",
     "data": {
      "text/plain": [
       "<Figure size 640x480 with 1 Axes>"
      ],
      "image/png": "[encoded data removed]"
     },
     "metadata": {}
    },
    {
     "output_type": "stream",
     "name": "stdout",
     "text": [
      "\n",
      "Source Chunk Token Counts: [106, 629, 361, 677, 699, 670, 634, 731, 623, 522, 712, 687, 680, 299, 489, 231, 640, 670, 615, 703, 690, 727, 709, 667, 648, 688, 716, 723, 652, 705, 710, 580, 695, 741, 605, 738, 734, 698, 729, 718, 647, 720, 732, 699, 730, 680, 159, 672, 683, 730, 716, 720, 715, 676, 658, 617, 628, 718, 719, 675, 732, 604, 729, 539, 702, 645, 731, 664, 729, 708, 534, 678, 678, 692, 716, 698, 715, 676, 633, 655, 655, 523, 666, 721, 504, 653, 708, 728, 716, 736, 732, 737, 715, 674, 726, 741, 707, 720, 743, 689] \n",
      "\n"
     ]
    },
    {
     "output_type": "display_data",
     "data": {
      "text/plain": [
       "<Figure size 640x480 with 1 Axes>"
      ],
      "image/png": "[encoded data removed]"
     },
     "metadata": {}
    },
    {
     "output_type": "stream",
     "name": "stdout",
     "text": [
      "fragments:  10\n",
      "source_chunks:  100\n"
     ]
    }
   ],
   "source": [
    "def num_tokens_from_string(string: str, encoding_name: str) -> int:\n",
    "      \"\"\"Возвращает количество токенов в строке\"\"\"\n",
    "      encoding = tiktoken.get_encoding(encoding_name)\n",
    "      num_tokens = len(encoding.encode(string))\n",
    "      return num_tokens\n",
    "\n",
    "def split_text(text, max_count):\n",
    "    headers_to_split_on = [\n",
    "        (\"#\", \"Header 1\"),\n",
    "        (\"##\", \"Header 2\"),\n",
    "    ]\n",
    "    markdown_splitter = MarkdownHeaderTextSplitter(headers_to_split_on=headers_to_split_on)\n",
    "    fragments = markdown_splitter.split_text(text)\n",
    "\n",
    "    # Подсчет токенов для каждого фрагмента и построение графика\n",
    "    fragment_token_counts = [num_tokens_from_string(fragment.page_content, \"cl100k_base\") for fragment in fragments]\n",
    "    print('\\nFragment Token Counts:', fragment_token_counts, '\\n')\n",
    "\n",
    "    plt.hist(fragment_token_counts, bins=10, alpha=0.5, label='Fragments')\n",
    "    plt.title('Distribution of Fragment Token Counts')\n",
    "    plt.xlabel('Token Count')\n",
    "    plt.ylabel('Frequency')\n",
    "    plt.show()\n",
    "\n",
    "    splitter = RecursiveCharacterTextSplitter(\n",
    "        chunk_size=max_count,\n",
    "        chunk_overlap=0,\n",
    "        length_function=lambda x: num_tokens_from_string(x, \"cl100k_base\")\n",
    "    )\n",
    "    source_chunks = [\n",
    "        Document(page_content=chunk, metadata=fragment.metadata)\n",
    "        for fragment in fragments\n",
    "        for chunk in splitter.split_text(fragment.page_content)\n",
    "    ]\n",
    "    # Подсчет токенов для каждого source_chunk и построение графика\n",
    "    source_chunk_token_counts = [num_tokens_from_string(chunk.page_content, \"cl100k_base\") for chunk in source_chunks]\n",
    "    print('\\nSource Chunk Token Counts:', source_chunk_token_counts, '\\n')\n",
    "\n",
    "    plt.hist(source_chunk_token_counts, bins=20, alpha=0.5, label='Source Chunks')\n",
    "    plt.title('Distribution of Source Chunk Token Counts')\n",
    "    plt.xlabel('Token Count')\n",
    "    plt.ylabel('Frequency')\n",
    "    plt.show()\n",
    "    return source_chunks, fragments\n",
    "\n",
    "\n",
    "source_chunks, fragments = split_text(markdown, 750)\n",
    "print(\"fragments: \", len(fragments))\n",
    "print(\"source_chunks: \", len(source_chunks))"
   ]
  },
  {
   "cell_type": "code",
   "execution_count": 12,
   "metadata": {
    "colab": {
     "base_uri": "https://localhost:8080/"
    },
    "executionInfo": {
     "elapsed": 2782,
     "status": "ok",
     "timestamp": 1707549772095,
     "user": {
      "displayName": "Alex Klin",
      "userId": "11249935885368047783"
     },
     "user_tz": -180
    },
    "id": "kj97-8A2-PZr",
    "outputId": "7ab24cf2-3afa-44f3-8094-3e14f579f848",
    "pycharm": {
     "name": "#%%\n"
    }
   },
   "outputs": [
    {
     "output_type": "stream",
     "name": "stdout",
     "text": [
      "№1: Прожектор должен быть установлен по продольной оси симметрии локомотива, головного вагона моторвагонного подвижного состава и специального самоходного  |  0.24472928\n",
      "№2: 71. Локомотивы, моторвагонный подвижной состав, пассажирские вагоны, специальный железнодорожный подвижной состав и изотермические вагоны с автономной  |  0.2498666\n",
      "№3: 53. Железнодорожный подвижной состав должен быть оборудован сцепным или автосцепным устройством. Конструкция такого устройства не должна вызывать само  |  0.25158235\n",
      "№4: 84. Вагоны, предназначенные для перевозки продовольственного сырья и пищевых продуктов, должны обеспечивать температуру, влажность, показатели воздухо  |  0.2539165\n"
     ]
    }
   ],
   "source": [
    "embeddings = OpenAIEmbeddings()\n",
    "db = FAISS.from_documents(source_chunks, embeddings)\n",
    "\n",
    "query = \"Чем должен быть оборудован моторвагонный подвижной состав?\"\n",
    "docs_and_scores = db.similarity_search_with_score(query, k=4)\n",
    "\n",
    "print(\"№1:\", docs_and_scores[0][0].page_content[:150], ' | ', docs_and_scores[0][1])\n",
    "print(\"№2:\", docs_and_scores[1][0].page_content[:150], ' | ', docs_and_scores[1][1])\n",
    "print(\"№3:\", docs_and_scores[2][0].page_content[:150], ' | ', docs_and_scores[2][1])\n",
    "print(\"№4:\", docs_and_scores[3][0].page_content[:150], ' | ', docs_and_scores[3][1])"
   ]
  },
  {
   "cell_type": "code",
   "execution_count": null,
   "metadata": {
    "id": "KgCaq03Atmdb",
    "pycharm": {
     "name": "#%%\n"
    }
   },
   "outputs": [],
   "source": [
    "def answer_gpt(system, topic, db, temp=0, verbose=0):\n",
    "    # Поиск релевантных отрезков из базы знаний\n",
    "    # docs = db.similarity_search(topic, k=4)\n",
    "    # message_content = ', '.join([doc.page_content for doc in docs])\n",
    "    docs_and_scores = db.similarity_search_with_score(topic, k=4)\n",
    "    message_content = ', '.join([doc[0].page_content for doc in docs_and_scores])\n",
    "    scores = [doc[1] for doc in docs_and_scores]\n",
    "\n",
    "    if verbose:\n",
    "        print(' Message_content:\\n', message_content)\n",
    "\n",
    "    messages = [\n",
    "        {\"role\": \"system\", \"content\": system},\n",
    "        {\"role\": \"user\", \"content\": f\"Ответь на вопрос. Документ с информацией для ответа: {message_content}\\n\\nВопрос: \\n{topic}\"}\n",
    "    ]\n",
    "    completion = client.chat.completions.create(\n",
    "        model=\"gpt-3.5-turbo-1106\",\n",
    "        messages=messages,\n",
    "        temperature=temp\n",
    "    )\n",
    "    print('Symbols Message_content:', len(message_content))\n",
    "    print('Scores:', scores)\n",
    "    print(f'Вопрос: {completion.usage.prompt_tokens} токенов. '\n",
    "          f'\\nОтвет: {completion.usage.completion_tokens} токенов. '\n",
    "          f'\\nВсего: {completion.usage.total_tokens} токенов.\\n')\n",
    "    return completion.choices[0].message.content\n",
    "\n",
    "\n",
    "# Инструкция в system\n",
    "system = \"Ты консультант по ТЕХНИЧЕСКОМУ РЕГЛАМЕНТУ ТАМОЖЕННОГО СОЮЗА О БЕЗОПАСНОСТИ ЖЕЛЕЗНОДОРОЖНОГО ПОДВИЖНОГО СОСТАВА. \\\n",
    "Ответь на вопрос на основе Документа с информацией. Не придумывай ничего от себя, отвечай максимально \\\n",
    "по Документу. Не упоминай Документ с информацией при ответе. Никто ничего не должен знать про \\\n",
    "Документ с информацией для ответа. Ты должен отвечать на вопросы только по темам Документа с информацией. \\\n",
    "Ты не должен отвечать на вопросы, которые не связанны с темами, содержащимися в Документе с информацией. \\\n",
    "Если будет вопрос не связанный с темами Документа, ответь, что ты можешь отвечать на вопросы только \\\n",
    "о ТЕХНИЧЕСКОМ РЕГЛАМЕНТЕ ТАМОЖЕННОГО СОЮЗА О БЕЗОПАСНОСТИ ЖЕЛЕЗНОДОРОЖНОГО ПОДВИЖНОГО СОСТАВА\""
   ]
  },
  {
   "cell_type": "code",
   "execution_count": null,
   "metadata": {
    "colab": {
     "base_uri": "https://localhost:8080/",
     "height": 182
    },
    "executionInfo": {
     "elapsed": 3500,
     "status": "ok",
     "timestamp": 1707496763135,
     "user": {
      "displayName": "Alex Klin",
      "userId": "11249935885368047783"
     },
     "user_tz": -180
    },
    "id": "T0s9Feazxyeh",
    "outputId": "cf3e091e-1431-4b61-b4df-721e1a5e6e5b",
    "pycharm": {
     "name": "#%%\n"
    }
   },
   "outputs": [
    {
     "name": "stdout",
     "output_type": "stream",
     "text": [
      "Symbols Message_content: 6487\n",
      "Scores: [0.24472928, 0.2498666, 0.25158238, 0.2539165]\n",
      "Вопрос: 3262 токенов. \n",
      "Ответ: 140 токенов. \n",
      "Всего: 3402 токенов.\n",
      "\n"
     ]
    },
    {
     "data": {
      "text/plain": "'Моторвагонный подвижной состав должен быть оборудован звуковыми сигнальными устройствами большой громкости (тифоны) и малой громкости (свистки), специальными местами для хранения комплекта электрозащитных средств, а также другого специального оборудования, необходимого для технического обслуживания и безопасной эксплуатации.'"
     },
     "execution_count": 34,
     "metadata": {},
     "output_type": "execute_result"
    }
   ],
   "source": [
    "topic = \"Чем должен быть оборудован моторвагонный подвижной состав?\"\n",
    "answer_gpt(system, topic, db)"
   ]
  },
  {
   "cell_type": "code",
   "execution_count": null,
   "metadata": {
    "colab": {
     "base_uri": "https://localhost:8080/",
     "height": 163
    },
    "executionInfo": {
     "elapsed": 3057,
     "status": "ok",
     "timestamp": 1707496969302,
     "user": {
      "displayName": "Alex Klin",
      "userId": "11249935885368047783"
     },
     "user_tz": -180
    },
    "id": "YYMQ6WQxxypg",
    "outputId": "3c2e7ca1-1999-4dc9-9025-54fbd4e6a57e",
    "pycharm": {
     "name": "#%%\n"
    }
   },
   "outputs": [
    {
     "name": "stdout",
     "output_type": "stream",
     "text": [
      "Symbols Message_content: 3629\n",
      "Scores: [0.1323086, 0.20585328, 0.26421252, 0.26473594]\n",
      "Вопрос: 2660 токенов. \n",
      "Ответ: 153 токенов. \n",
      "Всего: 2813 токенов.\n",
      "\n"
     ]
    },
    {
     "data": {
      "text/plain": "'Требования Технического регламента Таможенного союза о безопасности железнодорожного подвижного состава распространяются на железнодорожный подвижной состав, включая локомотивы, моторвагонный подвижной состав и его вагоны, пассажирские вагоны локомотивной тяги, грузовые вагоны, специальный железнодорожный подвижной состав.'"
     },
     "execution_count": 35,
     "metadata": {},
     "output_type": "execute_result"
    }
   ],
   "source": [
    "topic = \"На что распространяются ТРЕБОВАНИЯ ТЕХНИЧЕСКОГО РЕГЛАМЕНТА \\\n",
    "ТАМОЖЕННОГО СОЮЗА О БЕЗОПАСНОСТИ ЖЕЛЕЗНОДОРОЖНОГО ПОДВИЖНОГО СОСТАВА ?\"\n",
    "answer_gpt(system, topic, db)"
   ]
  },
  {
   "cell_type": "code",
   "execution_count": null,
   "metadata": {
    "colab": {
     "base_uri": "https://localhost:8080/",
     "height": 145
    },
    "executionInfo": {
     "elapsed": 1990,
     "status": "ok",
     "timestamp": 1707497028662,
     "user": {
      "displayName": "Alex Klin",
      "userId": "11249935885368047783"
     },
     "user_tz": -180
    },
    "id": "RGgXctHNwFEK",
    "outputId": "e6a3634d-eff1-4042-8a1c-eef8c554fa9b",
    "pycharm": {
     "name": "#%%\n"
    }
   },
   "outputs": [
    {
     "name": "stdout",
     "output_type": "stream",
     "text": [
      "Symbols Message_content: 3806\n",
      "Scores: [0.47398448, 0.5155029, 0.53266966, 0.5347254]\n",
      "Вопрос: 2183 токенов. \n",
      "Ответ: 105 токенов. \n",
      "Всего: 2288 токенов.\n",
      "\n"
     ]
    },
    {
     "data": {
      "text/plain": "'Я могу отвечать только на вопросы о ТЕХНИЧЕСКОМ РЕГЛАМЕНТЕ ТАМОЖЕННОГО СОЮЗА О БЕЗОПАСНОСТИ ЖЕЛЕЗНОДОРОЖНОГО ПОДВИЖНОГО СОСТАВА.'"
     },
     "execution_count": 33,
     "metadata": {},
     "output_type": "execute_result"
    }
   ],
   "source": [
    "topic = \"Ответь пожалуйста, как ты думаешь, есть ли жизнь на Марсе?\"\n",
    "answer_gpt(system, topic, db)"
   ]
  }
 ],
 "metadata": {
  "colab": {
   "provenance": []
  },
  "kernelspec": {
   "display_name": "Python 3 (ipykernel)",
   "language": "python",
   "name": "python3"
  },
  "language_info": {
   "codemirror_mode": {
    "name": "ipython",
    "version": 3
   },
   "file_extension": ".py",
   "mimetype": "text/x-python",
   "name": "python",
   "nbconvert_exporter": "python",
   "pygments_lexer": "ipython3",
   "version": "3.11.4"
  }
 },
 "nbformat": 4,
 "nbformat_minor": 0
}