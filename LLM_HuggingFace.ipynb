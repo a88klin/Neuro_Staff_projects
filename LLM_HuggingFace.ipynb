{
 "cells": [
  {
   "cell_type": "markdown",
   "metadata": {
    "id": "clcBlsYNWLH-",
    "pycharm": {
     "name": "#%% md\n"
    }
   },
   "source": [
    "### Модели LLM с использованием внешних данных"
   ]
  },
  {
   "cell_type": "markdown",
   "source": [
    "## Установка зависимостей для GGML"
   ],
   "metadata": {
    "collapsed": false,
    "pycharm": {
     "name": "#%% md\n"
    }
   }
  },
  {
   "cell_type": "code",
   "execution_count": null,
   "metadata": {
    "id": "3nfyjRYc9r_f",
    "pycharm": {
     "name": "#%%\n"
    }
   },
   "outputs": [],
   "source": [
    "!pip install langchain==0.0.275 pydantic==1.10.13 openai==0.28.1 faiss-cpu==1.7.4 tiktoken==0.5.1 sentence_transformers==2.2.2 nltk==3.8.1\n",
    "!pip install -U deep-translator==1.11.4"
   ]
  },
  {
   "cell_type": "code",
   "execution_count": null,
   "metadata": {
    "id": "XHmYQXITBLGP",
    "pycharm": {
     "name": "#%%\n"
    }
   },
   "outputs": [],
   "source": [
    "import os\n",
    "os.environ[\"LANGCHAIN_TRACING\"] = \"true\" # If you want to trace the execution of the program, set to \"true\"\n",
    "!CMAKE_ARGS=\"-DLLAMA_CUBLAS=on\" FORCE_CMAKE=1 pip install --upgrade --force-reinstall llama-cpp-python==0.1.77 --no-cache-dir"
   ]
  },
  {
   "cell_type": "markdown",
   "metadata": {
    "id": "WRI9MVbfG106",
    "pycharm": {
     "name": "#%% md\n"
    }
   },
   "source": [
    "## Установка зависимостей для GGUF\n",
    "\n",
    "\n"
   ]
  },
  {
   "cell_type": "code",
   "execution_count": null,
   "metadata": {
    "id": "fMHwstLiG-OI",
    "pycharm": {
     "name": "#%%\n"
    }
   },
   "outputs": [],
   "source": [
    "!pip install langchain==0.0.322 pydantic openai==0.28.1 faiss-cpu==1.7.4 tiktoken==0.5.1 sentence_transformers==2.2.2 nltk==3.8.1\n",
    "!pip install -U deep-translator==1.11.4"
   ]
  },
  {
   "cell_type": "code",
   "execution_count": null,
   "metadata": {
    "id": "knIt6IcYHC1b",
    "pycharm": {
     "name": "#%%\n"
    }
   },
   "outputs": [],
   "source": [
    "import os\n",
    "os.environ[\"LANGCHAIN_TRACING\"] = \"true\" # If you want to trace the execution of the program, set to \"true\"\n",
    "!CMAKE_ARGS=\"-DLLAMA_CUBLAS=on\" FORCE_CMAKE=1 pip install --upgrade --force-reinstall llama-cpp-python==0.2.11 --no-cache-dir"
   ]
  },
  {
   "cell_type": "code",
   "execution_count": null,
   "metadata": {
    "id": "py0F49VY8-n1",
    "pycharm": {
     "name": "#%%\n"
    }
   },
   "outputs": [],
   "source": [
    "import os\n",
    "import pandas as pd\n",
    "import pickle\n",
    "import tqdm\n",
    "import re\n",
    "import gdown\n",
    "import tiktoken\n",
    "from deep_translator import GoogleTranslator\n",
    "from langchain.document_loaders import TextLoader\n",
    "from langchain.vectorstores import FAISS\n",
    "from langchain.docstore.document import Document\n",
    "from langchain.embeddings.openai import OpenAIEmbeddings\n",
    "from langchain.text_splitter import RecursiveCharacterTextSplitter, NLTKTextSplitter\n",
    "# import nltk\n",
    "# nltk.download('punkt')\n",
    "\n",
    "from langchain.llms import LlamaCpp\n",
    "from langchain.callbacks.manager import CallbackManager\n",
    "from langchain.callbacks.streaming_stdout import StreamingStdOutCallbackHandler\n",
    "from langchain import PromptTemplate, LLMChain\n",
    "from google.colab import userdata\n",
    "\n",
    "TOTAL_AMOUNT = 0\n",
    "os.environ[\"OPENAI_API_KEY\"] = userdata.get('OPENAI_API_KEY')"
   ]
  },
  {
   "cell_type": "code",
   "execution_count": null,
   "metadata": {
    "id": "sQsCWyy5AoPE",
    "pycharm": {
     "name": "#%%\n"
    }
   },
   "outputs": [],
   "source": [
    "def load_googledoc_by_url(url, path):\n",
    "    id = url.split('/')[-2]\n",
    "    gdown.download(f'https://drive.google.com/uc?export=download&id={id}', path)\n",
    "\n",
    "\n",
    "# Подсчет токенов\n",
    "def num_tokens_from_string(string: str, encoding_name: str) -> int:\n",
    "    encoding = tiktoken.get_encoding(encoding_name)\n",
    "    return len(encoding.encode(string))\n",
    "\n",
    "\n",
    "# количество токенов индексной базы и стоимость. model Ada v2\n",
    "def tokens_count_db_index(source_chunks):\n",
    "    global TOTAL_AMOUNT\n",
    "    count_tokens = 0\n",
    "    count_token = num_tokens_from_string(' '.join([x.page_content for x in source_chunks]), \"cl100k_base\")\n",
    "    count_tokens += count_token\n",
    "    print(f'Количество токенов в документе: {count_token}')\n",
    "    # Embedding model Ada v2 - $0.00010 / 1K tokens - 28/02/2024 - https://openai.com/pricing\n",
    "    price = 0.0001 * count_tokens / 1000\n",
    "    TOTAL_AMOUNT += price\n",
    "    print(f'ЦЕНА создания индексной базы: $ {price}')"
   ]
  },
  {
   "cell_type": "code",
   "execution_count": null,
   "metadata": {
    "colab": {
     "base_uri": "https://localhost:8080/"
    },
    "executionInfo": {
     "elapsed": 1856,
     "status": "ok",
     "timestamp": 1709227185265,
     "user": {
      "displayName": "Alex Klin",
      "userId": "11249935885368047783"
     },
     "user_tz": -180
    },
    "id": "QFdrkw-BbNg9",
    "outputId": "290bbaa7-663e-4459-890e-25dd48682779",
    "pycharm": {
     "name": "#%%\n"
    }
   },
   "outputs": [
    {
     "name": "stderr",
     "output_type": "stream",
     "text": [
      "Downloading...\n",
      "From: https://drive.google.com/uc?export=download&id=1-gRMM-kX0WbCwFWzSr-6mvj-HZx9tGFf\n",
      "To: /content/knowledge_base.txt\n",
      "100%|██████████| 1.24M/1.24M [00:00<00:00, 129MB/s]\n"
     ]
    },
    {
     "name": "stdout",
     "output_type": "stream",
     "text": [
      "Количество токенов в документе: 274618\n",
      "ЦЕНА создания индексной базы: $ 0.0274618\n"
     ]
    },
    {
     "data": {
      "text/plain": [
       "1015"
      ]
     },
     "execution_count": 19,
     "metadata": {},
     "output_type": "execute_result"
    }
   ],
   "source": [
    "# База знаний:\n",
    "url = 'https://drive.google.com/file/d/1-gRMM-kX0WbCwFWzSr-6mvj-HZx9tGFf/view?usp=sharing '\n",
    "load_googledoc_by_url(url, 'knowledge_base.txt')\n",
    "\n",
    "loader = TextLoader(\"/content/knowledge_base.txt\")\n",
    "documents = loader.load()\n",
    "text_splitter = RecursiveCharacterTextSplitter(chunk_size=1024, chunk_overlap=0)\n",
    "docs = text_splitter.split_documents(documents)\n",
    "tokens_count_db_index(docs)\n",
    "\n",
    "# Чанки на русском\n",
    "with open('docs_ru.pkl', \"wb\") as file:\n",
    "    pickle.dump(docs, file)\n",
    "len(docs)"
   ]
  },
  {
   "cell_type": "markdown",
   "metadata": {
    "id": "j8cinFHV6n9d",
    "pycharm": {
     "name": "#%% md\n"
    }
   },
   "source": [
    "### на русском"
   ]
  },
  {
   "cell_type": "code",
   "execution_count": null,
   "metadata": {
    "colab": {
     "base_uri": "https://localhost:8080/"
    },
    "executionInfo": {
     "elapsed": 2943,
     "status": "ok",
     "timestamp": 1709226270125,
     "user": {
      "displayName": "Alex Klin",
      "userId": "11249935885368047783"
     },
     "user_tz": -180
    },
    "id": "ggAevsdvsjYY",
    "outputId": "0d2d2b0d-4e7a-4e47-d55c-d2256e4f7d17",
    "pycharm": {
     "name": "#%%\n"
    }
   },
   "outputs": [
    {
     "data": {
      "text/plain": [
       "1015"
      ]
     },
     "execution_count": 14,
     "metadata": {},
     "output_type": "execute_result"
    }
   ],
   "source": [
    "# Количество токенов в документе: 274618\n",
    "# более 150 тыс. - не пройдет лимит по бесплатному токену OpenAI\n",
    "# Разделим текстовую базу чанков на две и отдельно создадим индексные базы\n",
    "import time\n",
    "\n",
    "db1 = FAISS.from_documents(docs[:450], OpenAIEmbeddings())\n",
    "time.sleep(60)\n",
    "db2 = FAISS.from_documents(docs[450:], OpenAIEmbeddings())\n",
    "time.sleep(60)\n",
    "db_ru = FAISS.from_documents(db1.docstore._dict.values(), OpenAIEmbeddings())\n",
    "db_ru.merge_from(db2)\n",
    "\n",
    "db_ru.save_local(folder_path='', index_name='db_ru')\n",
    "len(db_ru.docstore._dict)"
   ]
  },
  {
   "cell_type": "markdown",
   "metadata": {
    "id": "OwNuFEla6Up_",
    "pycharm": {
     "name": "#%% md\n"
    }
   },
   "source": [
    "### на английском"
   ]
  },
  {
   "cell_type": "code",
   "execution_count": null,
   "metadata": {
    "id": "mj8hwUfy6c_d",
    "pycharm": {
     "name": "#%%\n"
    }
   },
   "outputs": [],
   "source": [
    "with open('docs_ru.pkl', \"rb\") as file:\n",
    "    docs = pickle.load(file) # Текстовые чанки на русском\n",
    "\n",
    "docs_translate = []\n",
    "for doc in tqdm.tqdm(docs):\n",
    "  docs_translate.append(Document(page_content=GoogleTranslator(source='ru', target='en').translate(doc.page_content)))\n",
    "\n",
    "# Текстовые чанки на английском\n",
    "with open('docs_en.pkl', \"wb\") as file:\n",
    "    pickle.dump(docs_translate, file)"
   ]
  },
  {
   "cell_type": "code",
   "execution_count": null,
   "metadata": {
    "colab": {
     "base_uri": "https://localhost:8080/"
    },
    "executionInfo": {
     "elapsed": 1195,
     "status": "ok",
     "timestamp": 1709229421037,
     "user": {
      "displayName": "Alex Klin",
      "userId": "11249935885368047783"
     },
     "user_tz": -180
    },
    "id": "2ZiiuDwDAx_v",
    "outputId": "496abec1-e07e-4cd4-ea99-d62957ccfb00",
    "pycharm": {
     "name": "#%%\n"
    }
   },
   "outputs": [
    {
     "name": "stdout",
     "output_type": "stream",
     "text": [
      "Количество токенов в документе: 134153\n",
      "ЦЕНА создания индексной базы: $ 0.0134153\n"
     ]
    }
   ],
   "source": [
    "tokens_count_db_index(docs_translate)"
   ]
  },
  {
   "cell_type": "code",
   "execution_count": null,
   "metadata": {
    "colab": {
     "base_uri": "https://localhost:8080/"
    },
    "executionInfo": {
     "elapsed": 4405,
     "status": "ok",
     "timestamp": 1709229582548,
     "user": {
      "displayName": "Alex Klin",
      "userId": "11249935885368047783"
     },
     "user_tz": -180
    },
    "id": "BnPh5lqj_WEp",
    "outputId": "c5131139-11f5-478b-b3e6-edd82030fc80",
    "pycharm": {
     "name": "#%%\n"
    }
   },
   "outputs": [
    {
     "data": {
      "text/plain": [
       "1015"
      ]
     },
     "execution_count": 7,
     "metadata": {},
     "output_type": "execute_result"
    }
   ],
   "source": [
    "db_en = FAISS.from_documents(docs_translate, OpenAIEmbeddings())\n",
    "db_en.save_local(folder_path='', index_name='db_en')\n",
    "len(db_en.docstore._dict)"
   ]
  },
  {
   "cell_type": "markdown",
   "metadata": {
    "id": "h9jTbX8AvkfL",
    "pycharm": {
     "name": "#%% md\n"
    }
   },
   "source": [
    "## Загружаем вопросы"
   ]
  },
  {
   "cell_type": "code",
   "execution_count": null,
   "metadata": {
    "colab": {
     "base_uri": "https://localhost:8080/"
    },
    "executionInfo": {
     "elapsed": 778,
     "status": "ok",
     "timestamp": 1709231180046,
     "user": {
      "displayName": "Alex Klin",
      "userId": "11249935885368047783"
     },
     "user_tz": -180
    },
    "id": "uWrA57nZvkuz",
    "outputId": "a2e391d4-9b64-47bc-eefb-0d3bbe309bb7",
    "pycharm": {
     "name": "#%%\n"
    }
   },
   "outputs": [
    {
     "name": "stderr",
     "output_type": "stream",
     "text": [
      "Downloading...\n",
      "From: https://drive.google.com/uc?export=download&id=1DyVljnB5K5cHX_Mod0P9CPxBE6syGH4n\n",
      "To: /content/Вопросы.csv\n",
      "100%|██████████| 1.47k/1.47k [00:00<00:00, 1.49MB/s]\n",
      "<ipython-input-5-5546a5639496>:8: ParserWarning: Falling back to the 'python' engine because the 'c' engine does not support regex separators (separators > 1 char and different from '\\s+' are interpreted as regex); you can avoid this warning by specifying engine='python'.\n",
      "  df_qw = pd.read_csv(\"/content/Вопросы.csv\", delimiter='/n')\n"
     ]
    },
    {
     "data": {
      "text/plain": [
       "array(['Как настраивать chatGPT?',\n",
       "       'Какие варианты рассрочки есть на тариф Основной?',\n",
       "       'Какие курсы по chatGPT есть в УИИ?',\n",
       "       '\"Какие темы включает в себя курс \"\"AI Директор\"\"?\"',\n",
       "       'Какой документ будет по окончанию образования?',\n",
       "       'Курс AI директор сколько стоит?',\n",
       "       '\"Можно ли купить стажировки, если я не являюсь студентом УИИ?\"',\n",
       "       'Можно проходить обучение с телефона?',\n",
       "       'На каком языке проходит обучение?',\n",
       "       'Несовершеннолетний ребенок может проходить обучение?',\n",
       "       'Нужно ли мне покупать видеокарту для занятий?',\n",
       "       'Почему выгодно внедрять chatGPT?', 'Расскажите про курс AutoML',\n",
       "       'С кем сотрудничает УИИ и куда трудоустраивают выпускников после прохождения обучения?',\n",
       "       'Сколько стоит использование ChatGPT?',\n",
       "       'Что включает в себя тариф AI под ключ?',\n",
       "       'Что значит гарантия трудоустройства?',\n",
       "       'Что такое Business AI Club?', 'Что такое промты?',\n",
       "       'Я живу в другом часовом поясе. Смогу ли я учиться?'], dtype=object)"
      ]
     },
     "execution_count": 5,
     "metadata": {},
     "output_type": "execute_result"
    }
   ],
   "source": [
    "question_url = 'https://drive.google.com/file/d/1DyVljnB5K5cHX_Mod0P9CPxBE6syGH4n/view'\n",
    "load_googledoc_by_url(question_url, 'Вопросы.csv')\n",
    "\n",
    "df_qw = pd.read_csv(\"/content/Вопросы.csv\", delimiter='/n')\n",
    "df_qw['Вопрос'].values"
   ]
  },
  {
   "cell_type": "markdown",
   "metadata": {
    "id": "2qpkUuvXgz_C",
    "pycharm": {
     "name": "#%% md\n"
    }
   },
   "source": [
    "## Llama-2-7B-chat GGML 4 - RU"
   ]
  },
  {
   "cell_type": "code",
   "execution_count": null,
   "metadata": {
    "colab": {
     "base_uri": "https://localhost:8080/"
    },
    "executionInfo": {
     "elapsed": 105137,
     "status": "ok",
     "timestamp": 1709228021479,
     "user": {
      "displayName": "Alex Klin",
      "userId": "11249935885368047783"
     },
     "user_tz": -180
    },
    "id": "M7JOkTTcgz_D",
    "outputId": "2fb00b00-3af5-427c-ba49-d5b8830b0ad0",
    "pycharm": {
     "name": "#%%\n"
    }
   },
   "outputs": [
    {
     "name": "stdout",
     "output_type": "stream",
     "text": [
      "--2024-02-29 17:31:56--  https://huggingface.co/TheBloke/Llama-2-7B-chat-GGML/resolve/main/llama-2-7b-chat.ggmlv3.q4_1.bin\n",
      "Resolving huggingface.co (huggingface.co)... 18.172.134.24, 18.172.134.88, 18.172.134.124, ...\n",
      "Connecting to huggingface.co (huggingface.co)|18.172.134.24|:443... connected.\n",
      "HTTP request sent, awaiting response... 307 Temporary Redirect\n",
      "Location: /TheBloke/Llama-2-7B-Chat-GGML/resolve/main/llama-2-7b-chat.ggmlv3.q4_1.bin [following]\n",
      "--2024-02-29 17:31:56--  https://huggingface.co/TheBloke/Llama-2-7B-Chat-GGML/resolve/main/llama-2-7b-chat.ggmlv3.q4_1.bin\n",
      "Reusing existing connection to huggingface.co:443.\n",
      "HTTP request sent, awaiting response... 302 Found\n",
      "Location: https://cdn-lfs.huggingface.co/repos/30/e3/30e3aca7233f7337633262ff6d59dd98559ecd8982e7419b39752c8d0daae1ca/b379a454d32593089f663914c5a4687d95fd37e3bcddf826f9fb107598a8ff50?response-content-disposition=attachment%3B+filename*%3DUTF-8%27%27llama-2-7b-chat.ggmlv3.q4_1.bin%3B+filename%3D%22llama-2-7b-chat.ggmlv3.q4_1.bin%22%3B&response-content-type=application%2Foctet-stream&Expires=1709487116&Policy=eyJTdGF0ZW1lbnQiOlt7IkNvbmRpdGlvbiI6eyJEYXRlTGVzc1RoYW4iOnsiQVdTOkVwb2NoVGltZSI6MTcwOTQ4NzExNn19LCJSZXNvdXJjZSI6Imh0dHBzOi8vY2RuLWxmcy5odWdnaW5nZmFjZS5jby9yZXBvcy8zMC9lMy8zMGUzYWNhNzIzM2Y3MzM3NjMzMjYyZmY2ZDU5ZGQ5ODU1OWVjZDg5ODJlNzQxOWIzOTc1MmM4ZDBkYWFlMWNhL2IzNzlhNDU0ZDMyNTkzMDg5ZjY2MzkxNGM1YTQ2ODdkOTVmZDM3ZTNiY2RkZjgyNmY5ZmIxMDc1OThhOGZmNTA%7EcmVzcG9uc2UtY29udGVudC1kaXNwb3NpdGlvbj0qJnJlc3BvbnNlLWNvbnRlbnQtdHlwZT0qIn1dfQ__&Signature=V3EtdSdwdrbVDbXug4GnmpLpnr27bDZxQr-z87C62gx6s3JgbtZdHYhV%7EYJgSK4Q37PTST0ONCZKFSuTu-8QCB5y0CL%7E1HqLl2RfKBzwOeHjapgPYdzQHoY8q6gGZ4bKyCgoS-al2NnmE9qMLa3GHEmzqbV3vzXZIoY7QajH5cB1NVeD3OwGHTnoieaOscHJ6DqCs2kJU2QbpzqOz2Up2E9VdDPEre-wsecadcEV4iqb79HwS5Mya0pHCVeKLVUldA9L05w1hr0aM9NbAJuPBXuhO6ArKujzQTsvLvb4eEC0J5jIg-03YeBa2vNyMdppKF%7E7tVCYmU9N0M9-kkGBJg__&Key-Pair-Id=KVTP0A1DKRTAX [following]\n",
      "--2024-02-29 17:31:56--  https://cdn-lfs.huggingface.co/repos/30/e3/30e3aca7233f7337633262ff6d59dd98559ecd8982e7419b39752c8d0daae1ca/b379a454d32593089f663914c5a4687d95fd37e3bcddf826f9fb107598a8ff50?response-content-disposition=attachment%3B+filename*%3DUTF-8%27%27llama-2-7b-chat.ggmlv3.q4_1.bin%3B+filename%3D%22llama-2-7b-chat.ggmlv3.q4_1.bin%22%3B&response-content-type=application%2Foctet-stream&Expires=1709487116&Policy=eyJTdGF0ZW1lbnQiOlt7IkNvbmRpdGlvbiI6eyJEYXRlTGVzc1RoYW4iOnsiQVdTOkVwb2NoVGltZSI6MTcwOTQ4NzExNn19LCJSZXNvdXJjZSI6Imh0dHBzOi8vY2RuLWxmcy5odWdnaW5nZmFjZS5jby9yZXBvcy8zMC9lMy8zMGUzYWNhNzIzM2Y3MzM3NjMzMjYyZmY2ZDU5ZGQ5ODU1OWVjZDg5ODJlNzQxOWIzOTc1MmM4ZDBkYWFlMWNhL2IzNzlhNDU0ZDMyNTkzMDg5ZjY2MzkxNGM1YTQ2ODdkOTVmZDM3ZTNiY2RkZjgyNmY5ZmIxMDc1OThhOGZmNTA%7EcmVzcG9uc2UtY29udGVudC1kaXNwb3NpdGlvbj0qJnJlc3BvbnNlLWNvbnRlbnQtdHlwZT0qIn1dfQ__&Signature=V3EtdSdwdrbVDbXug4GnmpLpnr27bDZxQr-z87C62gx6s3JgbtZdHYhV%7EYJgSK4Q37PTST0ONCZKFSuTu-8QCB5y0CL%7E1HqLl2RfKBzwOeHjapgPYdzQHoY8q6gGZ4bKyCgoS-al2NnmE9qMLa3GHEmzqbV3vzXZIoY7QajH5cB1NVeD3OwGHTnoieaOscHJ6DqCs2kJU2QbpzqOz2Up2E9VdDPEre-wsecadcEV4iqb79HwS5Mya0pHCVeKLVUldA9L05w1hr0aM9NbAJuPBXuhO6ArKujzQTsvLvb4eEC0J5jIg-03YeBa2vNyMdppKF%7E7tVCYmU9N0M9-kkGBJg__&Key-Pair-Id=KVTP0A1DKRTAX\n",
      "Resolving cdn-lfs.huggingface.co (cdn-lfs.huggingface.co)... 18.160.225.20, 18.160.225.8, 18.160.225.94, ...\n",
      "Connecting to cdn-lfs.huggingface.co (cdn-lfs.huggingface.co)|18.160.225.20|:443... connected.\n",
      "HTTP request sent, awaiting response... 200 OK\n",
      "Length: 4212859520 (3.9G) [application/octet-stream]\n",
      "Saving to: ‘llama-2-7b-chat.ggmlv3.q4_1.bin’\n",
      "\n",
      "llama-2-7b-chat.ggm 100%[===================>]   3.92G  36.5MB/s    in 1m 44s  \n",
      "\n",
      "2024-02-29 17:33:41 (38.5 MB/s) - ‘llama-2-7b-chat.ggmlv3.q4_1.bin’ saved [4212859520/4212859520]\n",
      "\n"
     ]
    }
   ],
   "source": [
    "!wget https://huggingface.co/TheBloke/Llama-2-7B-chat-GGML/resolve/main/llama-2-7b-chat.ggmlv3.q4_1.bin"
   ]
  },
  {
   "cell_type": "code",
   "execution_count": null,
   "metadata": {
    "colab": {
     "base_uri": "https://localhost:8080/"
    },
    "executionInfo": {
     "elapsed": 4402,
     "status": "ok",
     "timestamp": 1709228047609,
     "user": {
      "displayName": "Alex Klin",
      "userId": "11249935885368047783"
     },
     "user_tz": -180
    },
    "id": "T7MKZvQHgz_D",
    "outputId": "b40f2ff3-eac7-41bb-f704-8651f2afd0aa",
    "pycharm": {
     "name": "#%%\n"
    }
   },
   "outputs": [
    {
     "name": "stderr",
     "output_type": "stream",
     "text": [
      "AVX = 1 | AVX2 = 1 | AVX512 = 0 | AVX512_VBMI = 0 | AVX512_VNNI = 0 | FMA = 1 | NEON = 0 | ARM_FMA = 0 | F16C = 1 | FP16_VA = 0 | WASM_SIMD = 0 | BLAS = 1 | SSE3 = 1 | VSX = 0 | \n"
     ]
    }
   ],
   "source": [
    "n_gpu_layers = 20000  # Metal set to 1 is enough.\n",
    "n_batch = 512  # Should be between 1 and n_ctx, consider the amount of RAM of your Apple Silicon Chip.\n",
    "callback_manager = CallbackManager([StreamingStdOutCallbackHandler()])\n",
    "llama = LlamaCpp(\n",
    "    model_path=\"/content/llama-2-7b-chat.ggmlv3.q4_1.bin\",\n",
    "    n_gpu_layers=n_gpu_layers,\n",
    "    n_batch=n_batch,\n",
    "    n_ctx=4096,  # Context window\n",
    "    max_tokens=1000,  # Max tokens to generate\n",
    "    f16_kv=True,  # MUST set to True, otherwise you will run into problem after a couple of calls\n",
    "    callback_manager=callback_manager,\n",
    "    verbose=True,\n",
    ")"
   ]
  },
  {
   "cell_type": "code",
   "execution_count": null,
   "metadata": {
    "id": "V73dzl7hgz_D",
    "pycharm": {
     "name": "#%%\n"
    }
   },
   "outputs": [],
   "source": [
    "template = \"\"\"<s>[INST] <<SYS>>Ты менеджер поддержки в чате Российской компании Университет Исскуственного интеллекта. Компания продает курсы по AI.\n",
    "У компании есть большой документ со всеми материалами о продуктах компании на русском языке. Тебе задает вопрос клиент в чате, дай ему ответ на языке оригинала,\n",
    "опираясь на отрывки из этого документа, постарайся ответить так, чтобы человек захотел после ответа купить обучение. Отвечай максимально\n",
    "точно по документу, не придумывай ничего от себя. Никогда не ссылайся на название документа или названия его отрывков при ответе, клиент ничего не должен\n",
    "знать о документе, по которому ты отвечаешь. Отвечай от первого лица без ссылок на источники на которые ты опираешься. Если ты не знаешь ответа или его нет в документе, то ответь \"Я не могу отетить на этот вопрос\".\n",
    "<</SYS>>\n",
    "\n",
    "Вопрос клиента:\n",
    "{question}\n",
    "\n",
    "Документ с информацией для ответа клиенту:\n",
    "{docs}\n",
    "\n",
    "[/INST]\n",
    "\"\"\"\n",
    "\n",
    "prompt = PromptTemplate(template=template, input_variables=[\"question\", 'docs'])\n",
    "\n",
    "db = FAISS.load_local(folder_path='',\n",
    "                      embeddings=OpenAIEmbeddings(),\n",
    "                      index_name='db_ru')"
   ]
  },
  {
   "cell_type": "code",
   "execution_count": null,
   "metadata": {
    "colab": {
     "base_uri": "https://localhost:8080/",
     "height": 873
    },
    "executionInfo": {
     "elapsed": 128721,
     "status": "error",
     "timestamp": 1709228309271,
     "user": {
      "displayName": "Alex Klin",
      "userId": "11249935885368047783"
     },
     "user_tz": -180
    },
    "id": "iAbL2N50gz_E",
    "outputId": "3025e840-f04d-4591-a705-fb22f9e0b644",
    "pycharm": {
     "name": "#%%\n"
    }
   },
   "outputs": [
    {
     "name": "stdout",
     "output_type": "stream",
     "text": [
      "Thank you for providing the information! As a customer support manager in the University of Intelligent Machines, I would recommend the \"AI under the Key\" tariff to the client. This tariff offers a comprehensive and inclusive learning experience, with a variety of benefits that can help the client achieve their goals.\n",
      "Firstly, the \"AI under the Key\" tariff includes 32 sessions on neural networks, which is a fundamental aspect of AI. These sessions are designed to provide a deep understanding of the subject matter, and the client will have the opportunity to practice and apply their knowledge throughout the course.\n",
      "Secondly, the tariff offers support from a curator for a period of 3 years and 8 months, providing the client with ongoing guidance and mentorship. This is particularly valuable, as AI can be a complex and rapidly evolving field, and having a knowledgeable guide can make all the difference in mastering the subject.\n",
      "Thirdly, the \"AI under the Key\" tariff includes a guarantee of employment after completing the program. This is a significant advantage, as it means that the client can be confident that their investment will lead to tangible career opportunities.\n",
      "Finally, the tariff offers a range of advanced courses and bonuses, including \"Python for Data Analysis,\" \"AI Director,\" and 25 additional bonus sessions. These courses are designed to provide the client with a comprehensive understanding of AI and its applications, and they will have the opportunity to develop their skills in a practical and focused manner.\n",
      "In conclusion, the \"AI under the Key\" tariff offers an exceptional value proposition for the client. It provides a thorough and well-rounded learning experience, with a range of benefits that can help the client achieve their goals in AI. As a customer support manager, I would highly recommend this tariff to any client looking to invest in their knowledge and career in AI."
     ]
    },
    {
     "name": "stderr",
     "output_type": "stream",
     "text": [
      "Llama.generate: prefix-match hit\n"
     ]
    },
    {
     "name": "stdout",
     "output_type": "stream",
     "text": [
      "Добрый день! Я рад помочь вам в ответе на вопрос客та. Гарантия трудоустройства - это обещание компании Университета Искусственного Интеллекта (УИИ) обеспечить работу своим выпускникам после прохождения обучения на определенных направлениях.\n",
      "В документе указаны следующие меры, которые компания принимает для поддержки молодых специалистов в IT-сфере:\n",
      "1. освобождение от уплаты налога на прибыль в течение 3 лет;\n",
      "2. освобождение от уплаты 13% налога на доходы физических лиц в течение 3 лет;\n",
      "3. предоставление кредитов по льготной ставке 3%.\n",
      "Кроме того, вы можете использовать возможность получения отсрочки от призыва, чтобы сосредоточиться на развитии своей карьеры в IT-индустрии. В целом, компания УИИ предлагает множество возможностей для молодых людей, которые хотят получить знания и навыки в области AI.\n",
      "Я не могу оценить качество документа, так как это запрещено моим инструментами. Однако, я могу сказать, что документ содержит информацию, которая поможет вам лучше понять, какие навыки и знания требуются для успешного трудоустройства в области AI. Важно понимать, что гарантия трудоустройства - это обещание компании УИИ и не гарантия того, что вы будете найден на работу после прохождения обучения.\n",
      "Если у вас есть дополнительные вопросы, пожалуйста, не стесняйтесь задавать их мне. Я всегда готов помочь!"
     ]
    },
    {
     "name": "stderr",
     "output_type": "stream",
     "text": [
      "Llama.generate: prefix-match hit\n"
     ]
    },
    {
     "name": "stdout",
     "output_type": "stream",
     "text": [
      "Добрый день! Спасибо за вопрос. Как менеджер поддержки, я могу обязательно помочь вам с ответом на ваш вопрос.\n",
      "Вот мой ответ:\n",
      "Business AI Club - это проект Университета Интеллектуального Интегрального Образования (УИИ), который был создан для применения Artificial Intelligence в бизнесе. Проект предлагает компаниям возможность использовать AI для решения различных проблем, таких как automatization, predictive analytics, natural language processing и другие.\n",
      "Международный хакатон \"AI for Good\" - это соревнование, в котором команды разрабатывают прототипы IT-продуктов для решения определенных проблем, связанных с использованием AI для добра и благополучия людей. Участие в хакатонах позволяет продвинуть свои проекты, прокачать навыки и завести полезные знакомства, а также получить часть призового фонда.\n",
      "Участники Business AI Club могут принимать участие в хакатонах, чтобы продемонстрировать свои проекты и получить признание на рынке IT. Это может помочь им заключить договоры с крупными компаниями и реализовать свои идеи в производство.\n",
      "Кроме того, Business AI Club организаторский проект, который планирует начало проведения конференций в Москве летом-осеньем 2023 года. Цель конференций - распространение знаний о применении Artificial Intelligence в бизнесе и создание сообщества специалистов, которые могут помочь компаниям использовать AI для достижения商ческих целей.\n",
      "Все данные, которые вы указаны в документе, подтверждают тот факт, что Business AI Club является серьезным проектом, который может помочь компаниям использовать Artificial Intelligence для достижения коммерческих целей. Я не могу ответить на этот вопрос, так как в документе нет информации о том, какие конкретные компании будут принимать участие в проекте. Однако, если вы хотите узнать больше о Business AI Club и его возможях, я готов предоставить вам дополнительную информацию."
     ]
    },
    {
     "name": "stderr",
     "output_type": "stream",
     "text": [
      "Llama.generate: prefix-match hit\n"
     ]
    },
    {
     "name": "stdout",
     "output_type": "stream",
     "text": [
      "Добрый день! Я рад помочь вам в ответе на этот вопрос.\n",
      "Вот как я могу ответить на этот вопрос, основанный на информации из документа:\n",
      "Промты (prompts) - это инструкции на естественном языке, предназначенные для обучения и управления ChatGPT. Они помогают разработчикам и пользователям взаимодействовать с моделью, передавая ей конкретные задачи и вопросы, чтобы она могла ответить на них более точно и эффективно.\n",
      "Промты-инжиринг (prompt engineering) - это процесс разработки промтов для обучения ChatGPT. Это похоже на программирование, но требует более высокого уровня абстракции и не является четким.\n",
      "Существует несколько ролей в работе с ChatGPT: разработчик, копирайтер, промт-инженер, тестировщик и архитектор базы знаний.\n",
      "Курс по обучению ChatGPT включает в себя 2 основных занятия:\n",
      "1. Основы программирования на Python - 3 занятия\n",
      "2. Аккаунт ChatGPT - 1 занятие\n",
      "\n",
      "Стоимость обращений к ChatGPT невысокая, и при текущем курсе доллара средняя стоимость одного запроса составляет 50 копеек.\n",
      "В near future, with the upcoming version of GPT-4, the number of tokens will be increased to 8000 and 32000, allowing to process up to 128 pages of text. This significantly expands the capabilities of the platform for solving various tasks.\n",
      "As a manager of support, I can assure you that our team is always happy to help with any questions or issues you may have related to ChatGPT and its usage. Please feel free to ask us anything!"
     ]
    },
    {
     "name": "stderr",
     "output_type": "stream",
     "text": [
      "Llama.generate: prefix-match hit\n"
     ]
    },
    {
     "name": "stdout",
     "output_type": "stream",
     "text": [
      "Для вас, как клиента, я могу ответить следующим образом:\n",
      "Ваш интерес к обучению в Университете Исскучного Интеллекта (УИИ) не является выдумкой. В документе, который вы предоставили, содержатся реальные истории успешных студентов, которые также начали учиться в УИИ с нуля и достигли значительных успехов.\n",
      "Ваше желание работы удаленно, с нормальной зарплатой и независимо от начальства, также является очень реальным. Многочисленные студенты и преподаватели УИИ работают удаленно и достигают значительных успехов в своей карьере.\n",
      "Существует множество преимуществ, которые вы получаете при обучении в УИИ, включая возможность самостоятельно решать, в какое время работать, а также возможность работы на половинной работной ставке. Кроме того, ученые и эксперты УИИ готовы помочь вам в любое время, не обходясь с вами.\n",
      "Не забудьте, что вы можете обратиться за помощью к поддержке любойtime, не отражаясь на том, чтобы вы получили доступ к обучению и поддержке.\n",
      "В целом, я считаю, что ваш выбор на обучение в Университет Исскучного Интеллекта является очень реальным и обоснованным шагом к достижению ваших профессиональных целей."
     ]
    },
    {
     "ename": "NameError",
     "evalue": "name 'project_path' is not defined",
     "output_type": "error",
     "traceback": [
      "\u001B[0;31m---------------------------------------------------------------------------\u001B[0m",
      "\u001B[0;31mNameError\u001B[0m                                 Traceback (most recent call last)",
      "\u001B[0;32m<ipython-input-10-bfa549d36949>\u001B[0m in \u001B[0;36m<cell line: 10>\u001B[0;34m()\u001B[0m\n\u001B[1;32m      9\u001B[0m \u001B[0;34m\u001B[0m\u001B[0m\n\u001B[1;32m     10\u001B[0m \u001B[0mpd\u001B[0m\u001B[0;34m.\u001B[0m\u001B[0mDataFrame\u001B[0m\u001B[0;34m(\u001B[0m\u001B[0mhistory\u001B[0m\u001B[0;34m,\u001B[0m \u001B[0mcolumns\u001B[0m\u001B[0;34m=\u001B[0m\u001B[0;34m[\u001B[0m\u001B[0;34m'Вопрос'\u001B[0m\u001B[0;34m,\u001B[0m \u001B[0;34m'Ответ'\u001B[0m\u001B[0;34m,\u001B[0m \u001B[0;34m'Контекст'\u001B[0m\u001B[0;34m]\u001B[0m\u001B[0;34m)\u001B[0m\u001B[0;34m.\u001B[0m\u001B[0;31m\\\u001B[0m\u001B[0;34m\u001B[0m\u001B[0;34m\u001B[0m\u001B[0m\n\u001B[0;32m---> 11\u001B[0;31m \u001B[0mto_csv\u001B[0m\u001B[0;34m(\u001B[0m\u001B[0mos\u001B[0m\u001B[0;34m.\u001B[0m\u001B[0mpath\u001B[0m\u001B[0;34m.\u001B[0m\u001B[0mjoin\u001B[0m\u001B[0;34m(\u001B[0m\u001B[0mproject_path\u001B[0m\u001B[0;34m,\u001B[0m \u001B[0;34m'Llama-2-7B-Chat-GGML-4'\u001B[0m \u001B[0;34m+\u001B[0m \u001B[0;34m'.csv'\u001B[0m\u001B[0;34m)\u001B[0m\u001B[0;34m,\u001B[0m \u001B[0mindex\u001B[0m\u001B[0;34m=\u001B[0m\u001B[0;32mFalse\u001B[0m\u001B[0;34m)\u001B[0m\u001B[0;34m\u001B[0m\u001B[0;34m\u001B[0m\u001B[0m\n\u001B[0m",
      "\u001B[0;31mNameError\u001B[0m: name 'project_path' is not defined"
     ]
    }
   ],
   "source": [
    "%%time\n",
    "llm_chain = LLMChain(prompt=prompt, llm=llama)\n",
    "history = []\n",
    "\n",
    "for query in df_qw['Вопрос'].values[15:]: # 6 последних вопросов\n",
    "    sim_docs = db.similarity_search(query)\n",
    "    docs = re.sub(r'\\n{2}', ' ', '\\n '.join([f'======\\n' + doc.page_content + '\\n' for i, doc in enumerate(sim_docs)]))\n",
    "    result = llm_chain.run({'question':query, 'docs': docs})\n",
    "    history.append([str(query), GoogleTranslator(source='auto', target='ru').translate(result), str(docs)])\n",
    "\n",
    "pd.DataFrame(history, columns=['Вопрос', 'Ответ', 'Контекст']).\\\n",
    "to_csv(os.path.join('', 'Llama-2-7B-Chat-GGML-4' + '.csv'), index=False)"
   ]
  },
  {
   "cell_type": "code",
   "execution_count": null,
   "metadata": {
    "id": "BC8SrB5r8y7d",
    "pycharm": {
     "name": "#%%\n"
    }
   },
   "outputs": [],
   "source": [
    "# Поправил ошибку с 'project_path'\n",
    "\n",
    "pd.DataFrame(history, columns=['Вопрос', 'Ответ', 'Контекст']).\\\n",
    "to_csv(os.path.join('', 'Llama-2-7B-Chat-GGML-4' + '.csv'), index=False)"
   ]
  },
  {
   "cell_type": "markdown",
   "metadata": {
    "id": "PfS-MnjhI2E-",
    "pycharm": {
     "name": "#%% md\n"
    }
   },
   "source": [
    "## StableBeluga 2 13B GGUF - RU"
   ]
  },
  {
   "cell_type": "code",
   "execution_count": null,
   "metadata": {
    "colab": {
     "base_uri": "https://localhost:8080/"
    },
    "executionInfo": {
     "elapsed": 180646,
     "status": "ok",
     "timestamp": 1709231378941,
     "user": {
      "displayName": "Alex Klin",
      "userId": "11249935885368047783"
     },
     "user_tz": -180
    },
    "id": "_tzhC_uOtane",
    "outputId": "5af2c0ef-6a7c-4a22-8919-4277b9f66d60",
    "pycharm": {
     "name": "#%%\n"
    }
   },
   "outputs": [
    {
     "name": "stdout",
     "output_type": "stream",
     "text": [
      "--2024-02-29 18:26:38--  https://huggingface.co/TheBloke/StableBeluga-13B-GGUF/resolve/main/stablebeluga-13b.Q4_0.gguf\n",
      "Resolving huggingface.co (huggingface.co)... 18.172.134.88, 18.172.134.124, 18.172.134.24, ...\n",
      "Connecting to huggingface.co (huggingface.co)|18.172.134.88|:443... connected.\n",
      "HTTP request sent, awaiting response... 302 Found\n",
      "Location: https://cdn-lfs.huggingface.co/repos/93/22/9322f2586fc694f5a2c313ee51ce942b1a9d0efbd1c15c42a3575ac0fcaa7c1b/54a8982cfa6e062d2ebf8ec4d79eb782b9c42fe20b0a698d8520b56f1c48bcae?response-content-disposition=attachment%3B+filename*%3DUTF-8%27%27stablebeluga-13b.Q4_0.gguf%3B+filename%3D%22stablebeluga-13b.Q4_0.gguf%22%3B&Expires=1709490398&Policy=eyJTdGF0ZW1lbnQiOlt7IkNvbmRpdGlvbiI6eyJEYXRlTGVzc1RoYW4iOnsiQVdTOkVwb2NoVGltZSI6MTcwOTQ5MDM5OH19LCJSZXNvdXJjZSI6Imh0dHBzOi8vY2RuLWxmcy5odWdnaW5nZmFjZS5jby9yZXBvcy85My8yMi85MzIyZjI1ODZmYzY5NGY1YTJjMzEzZWU1MWNlOTQyYjFhOWQwZWZiZDFjMTVjNDJhMzU3NWFjMGZjYWE3YzFiLzU0YTg5ODJjZmE2ZTA2MmQyZWJmOGVjNGQ3OWViNzgyYjljNDJmZTIwYjBhNjk4ZDg1MjBiNTZmMWM0OGJjYWU%7EcmVzcG9uc2UtY29udGVudC1kaXNwb3NpdGlvbj0qIn1dfQ__&Signature=QxZGZAN2Dc6oWaL2WTfdKetHBnhxnJdDPGppRy8ZhFhQWstiBELupW7FVlsVQA1vhDYrF3iDcp%7EJ0P5FJnZfhG7coIl%7Ez2Upltoz4vnH2ZjLaMRj5ejqYEq7R4vCcYP8HiR2Jcf5r8epo4hxMJdAmyiEIhTvULL0c-%7EiwY9i4pNSaXOOyifqTZUxBGFU9Q2dkAnSmH-QjjEIMA%7EqK9-Rxavm1UC4I2bAsMjUvl2-p6pV2s857c7pTequdKsuNWhFZCe5%7EpwaglGRda9KrwDBrdkyDIlZdof-8dBwhoxGq0rij6UUFM%7EyZiVJaC6egSa6vDBqsPNjr57Auf6FVODJtA__&Key-Pair-Id=KVTP0A1DKRTAX [following]\n",
      "--2024-02-29 18:26:38--  https://cdn-lfs.huggingface.co/repos/93/22/9322f2586fc694f5a2c313ee51ce942b1a9d0efbd1c15c42a3575ac0fcaa7c1b/54a8982cfa6e062d2ebf8ec4d79eb782b9c42fe20b0a698d8520b56f1c48bcae?response-content-disposition=attachment%3B+filename*%3DUTF-8%27%27stablebeluga-13b.Q4_0.gguf%3B+filename%3D%22stablebeluga-13b.Q4_0.gguf%22%3B&Expires=1709490398&Policy=eyJTdGF0ZW1lbnQiOlt7IkNvbmRpdGlvbiI6eyJEYXRlTGVzc1RoYW4iOnsiQVdTOkVwb2NoVGltZSI6MTcwOTQ5MDM5OH19LCJSZXNvdXJjZSI6Imh0dHBzOi8vY2RuLWxmcy5odWdnaW5nZmFjZS5jby9yZXBvcy85My8yMi85MzIyZjI1ODZmYzY5NGY1YTJjMzEzZWU1MWNlOTQyYjFhOWQwZWZiZDFjMTVjNDJhMzU3NWFjMGZjYWE3YzFiLzU0YTg5ODJjZmE2ZTA2MmQyZWJmOGVjNGQ3OWViNzgyYjljNDJmZTIwYjBhNjk4ZDg1MjBiNTZmMWM0OGJjYWU%7EcmVzcG9uc2UtY29udGVudC1kaXNwb3NpdGlvbj0qIn1dfQ__&Signature=QxZGZAN2Dc6oWaL2WTfdKetHBnhxnJdDPGppRy8ZhFhQWstiBELupW7FVlsVQA1vhDYrF3iDcp%7EJ0P5FJnZfhG7coIl%7Ez2Upltoz4vnH2ZjLaMRj5ejqYEq7R4vCcYP8HiR2Jcf5r8epo4hxMJdAmyiEIhTvULL0c-%7EiwY9i4pNSaXOOyifqTZUxBGFU9Q2dkAnSmH-QjjEIMA%7EqK9-Rxavm1UC4I2bAsMjUvl2-p6pV2s857c7pTequdKsuNWhFZCe5%7EpwaglGRda9KrwDBrdkyDIlZdof-8dBwhoxGq0rij6UUFM%7EyZiVJaC6egSa6vDBqsPNjr57Auf6FVODJtA__&Key-Pair-Id=KVTP0A1DKRTAX\n",
      "Resolving cdn-lfs.huggingface.co (cdn-lfs.huggingface.co)... 18.154.185.26, 18.154.185.27, 18.154.185.94, ...\n",
      "Connecting to cdn-lfs.huggingface.co (cdn-lfs.huggingface.co)|18.154.185.26|:443... connected.\n",
      "HTTP request sent, awaiting response... 200 OK\n",
      "Length: 7365834624 (6.9G) [binary/octet-stream]\n",
      "Saving to: ‘stablebeluga-13b.Q4_0.gguf’\n",
      "\n",
      "stablebeluga-13b.Q4 100%[===================>]   6.86G  41.9MB/s    in 2m 59s  \n",
      "\n",
      "2024-02-29 18:29:38 (39.2 MB/s) - ‘stablebeluga-13b.Q4_0.gguf’ saved [7365834624/7365834624]\n",
      "\n"
     ]
    }
   ],
   "source": [
    "!wget https://huggingface.co/TheBloke/StableBeluga-13B-GGUF/resolve/main/stablebeluga-13b.Q4_0.gguf"
   ]
  },
  {
   "cell_type": "code",
   "execution_count": null,
   "metadata": {
    "colab": {
     "base_uri": "https://localhost:8080/"
    },
    "executionInfo": {
     "elapsed": 38769,
     "status": "ok",
     "timestamp": 1709231424571,
     "user": {
      "displayName": "Alex Klin",
      "userId": "11249935885368047783"
     },
     "user_tz": -180
    },
    "id": "exNOjGEcI9du",
    "outputId": "4770152a-63b1-4169-c1db-3704882fa3bd",
    "pycharm": {
     "name": "#%%\n"
    }
   },
   "outputs": [
    {
     "name": "stderr",
     "output_type": "stream",
     "text": [
      "AVX = 1 | AVX2 = 1 | AVX512 = 0 | AVX512_VBMI = 0 | AVX512_VNNI = 0 | FMA = 1 | NEON = 0 | ARM_FMA = 0 | F16C = 1 | FP16_VA = 0 | WASM_SIMD = 0 | BLAS = 1 | SSE3 = 1 | SSSE3 = 1 | VSX = 0 | \n"
     ]
    }
   ],
   "source": [
    "n_gpu_layers = 1000  # Metal set to 1 is enough.\n",
    "n_batch = 256  # Should be between 1 and n_ctx, consider the amount of RAM of your Apple Silicon Chip.\n",
    "callback_manager = CallbackManager([StreamingStdOutCallbackHandler()])\n",
    "llama = LlamaCpp(\n",
    "    model_path=\"/content/stablebeluga-13b.Q4_0.gguf\",\n",
    "    n_gpu_layers=n_gpu_layers,\n",
    "    n_batch=n_batch,\n",
    "    temperature=0,\n",
    "    n_ctx=4096,  # Context window\n",
    "    max_tokens=1000,  # Max tokens to generate\n",
    "    f16_kv=True,  # MUST set to True, otherwise you will run into problem after a couple of calls\n",
    "    callback_manager=callback_manager,\n",
    "    verbose=True,\n",
    ")"
   ]
  },
  {
   "cell_type": "code",
   "execution_count": null,
   "metadata": {
    "id": "KNVUooavI9d2",
    "pycharm": {
     "name": "#%%\n"
    }
   },
   "outputs": [],
   "source": [
    "template = \"\"\"### System: \\nТы менеджер поддержки в чате Российской компании Университет Исскуственного интеллекта. Компания продает курсы по AI.\n",
    "У компании есть большой документ со всеми материалами о продуктах компании на русском языке. Тебе задает вопрос клиент в чате, дай ему ответ на языке оригинала,\n",
    "опираясь на отрывки из этого документа, постарайся ответить так, чтобы человек захотел после ответа купить обучение. Отвечай максимально\n",
    "точно по документу, не придумывай ничего от себя. Никогда не ссылайся на название документа или названия его отрывков при ответе, клиент ничего не должен\n",
    "знать о документе, по которому ты отвечаешь. Отвечай от первого лица без ссылок на источники на которые ты опираешься. Если ты не знаешь ответа или его нет в документе, то ответь \"Я не могу отетить на этот вопрос\".\\n\\n\n",
    "### User: \\nВопрос клиента:\n",
    "{question}\\n\n",
    "Документ с информацией для ответа клиенту:\n",
    "{docs}\\n\\n\n",
    "### Assistant:\\n\n",
    "\"\"\"\n",
    "\n",
    "prompt = PromptTemplate(template=template, input_variables=[\"question\", 'docs'])\n",
    "\n",
    "db = FAISS.load_local(folder_path='',\n",
    "                      embeddings=OpenAIEmbeddings(),\n",
    "                      index_name='db_ru')"
   ]
  },
  {
   "cell_type": "code",
   "execution_count": null,
   "metadata": {
    "colab": {
     "base_uri": "https://localhost:8080/"
    },
    "executionInfo": {
     "elapsed": 108789,
     "status": "ok",
     "timestamp": 1709231555404,
     "user": {
      "displayName": "Alex Klin",
      "userId": "11249935885368047783"
     },
     "user_tz": -180
    },
    "id": "qScxMTYqI9d3",
    "outputId": "24e09042-42e8-42c4-eb20-1a3d03239656",
    "pycharm": {
     "name": "#%%\n"
    }
   },
   "outputs": [
    {
     "name": "stderr",
     "output_type": "stream",
     "text": [
      "WARNING:langchain.callbacks.tracers.langchain_v1:Failed to load default session, using empty session: HTTPConnectionPool(host='localhost', port=8000): Max retries exceeded with url: /sessions?name=default (Caused by NewConnectionError('<urllib3.connection.HTTPConnection object at 0x7fd6e869a920>: Failed to establish a new connection: [Errno 111] Connection refused'))\n"
     ]
    },
    {
     "name": "stdout",
     "output_type": "stream",
     "text": [
      "Тариф AI под ключ включает в себя следующие возможности:\n",
      "\n",
      "1. 32 занятия по нейронным сетям;\n",
      "2. Поддержку куратора на протяжении 3 лет и 8 месяцев;\n",
      "3. Гарантию трудоустройства;\n",
      "4. Реализацию AI проекта;\n",
      "5. 36 продвинутых занятий по нейронным сетям;\n",
      "6. 25 бонусных занятий;\n",
      "7. Курс \"Python для анализа данных\";\n",
      "8. Курс \"AI директор\";\n",
      "9. 60 часов индивидуальных консультаций;\n",
      "10. Курс \"Python разработчик\";\n",
      "11. 12 месяцев стажировок."
     ]
    },
    {
     "name": "stderr",
     "output_type": "stream",
     "text": [
      "WARNING:langchain.callbacks.tracers.langchain_v1:Failed to persist run: HTTPConnectionPool(host='localhost', port=8000): Max retries exceeded with url: /chain-runs (Caused by NewConnectionError('<urllib3.connection.HTTPConnection object at 0x7fd6e8698220>: Failed to establish a new connection: [Errno 111] Connection refused'))\n",
      "WARNING:langchain.callbacks.tracers.langchain_v1:Failed to load default session, using empty session: HTTPConnectionPool(host='localhost', port=8000): Max retries exceeded with url: /sessions?name=default (Caused by NewConnectionError('<urllib3.connection.HTTPConnection object at 0x7fd6e93a4c10>: Failed to establish a new connection: [Errno 111] Connection refused'))\n",
      "Llama.generate: prefix-match hit\n"
     ]
    },
    {
     "name": "stdout",
     "output_type": "stream",
     "text": [
      "Вопрос клиента:\n",
      "Что значит гарантия трудоустройства?\n",
      "\n",
      "Ответ: Гарантия трудоустройства - это официальное обязательство компании Университета Исскуственного интеллекта (УИИ) обеспечить своим выпускникам возможность трудоустроиться в соответствующей сфере. Это означает, что после успешного прохождения обучения и получения сертификата, компания гарантирует вам трудоустройство в соответствующей области.\n",
      "\n",
      "Документ с информацией для ответа клиенту:\n",
      "\n",
      "Университет Исскуственного интеллекта (УИИ) имеет собственное HR-агентство Al hunter и трудоустраивает выпускников в российские и зарубежные компании. Официальная гарантия трудоустройства прописана в договоре. После успешного прохождения студентом от 32 занятий, сдачи экзамена и получения сертификата, УИИ обязуется:\n",
      "\n",
      "1. Обеспечить вам возможность трудоустроиться в соответствующей области;\n",
      "2. Помочь вам найти работу в соответствующей сфере;\n",
      "3. Провести личные собеседования с компаниями, которые могут предложить вам работу.\n",
      "\n",
      "Таким образом, УИИ гарантирует своим выпускникам возможность трудоустроиться в соответствующей области и помогает им найти работу в этой сфере."
     ]
    },
    {
     "name": "stderr",
     "output_type": "stream",
     "text": [
      "WARNING:langchain.callbacks.tracers.langchain_v1:Failed to persist run: HTTPConnectionPool(host='localhost', port=8000): Max retries exceeded with url: /chain-runs (Caused by NewConnectionError('<urllib3.connection.HTTPConnection object at 0x7fd6e86280a0>: Failed to establish a new connection: [Errno 111] Connection refused'))\n",
      "WARNING:langchain.callbacks.tracers.langchain_v1:Failed to load default session, using empty session: HTTPConnectionPool(host='localhost', port=8000): Max retries exceeded with url: /sessions?name=default (Caused by NewConnectionError('<urllib3.connection.HTTPConnection object at 0x7fd6e86289a0>: Failed to establish a new connection: [Errno 111] Connection refused'))\n",
      "Llama.generate: prefix-match hit\n"
     ]
    },
    {
     "name": "stdout",
     "output_type": "stream",
     "text": [
      "Business AI Club - это проект, который будет влиять на всю нишу AI в России. Этот клуб собирает специалистов, занимающих высокие должности в разных компаниях, которые принимают решение о внедрении AI. В клубе уже 1034 регистрации.\n",
      "\n",
      "В рамках проекта проводятся живые встречи участников клуба с трансляцией в Zoom раз в месяц. На этих встречах обсуждаются идеи применения AI, кейсы применения, расходы на проекты и оценки проектов.\n",
      "\n",
      "Цель - применение AI компаниями, получение AI заказов от компаний.\n",
      "\n",
      "В рамках проекта также проводятся хакатоны, в которых студенты УИИ регулярно принимают участие и занимают призовые места."
     ]
    },
    {
     "name": "stderr",
     "output_type": "stream",
     "text": [
      "WARNING:langchain.callbacks.tracers.langchain_v1:Failed to persist run: HTTPConnectionPool(host='localhost', port=8000): Max retries exceeded with url: /chain-runs (Caused by NewConnectionError('<urllib3.connection.HTTPConnection object at 0x7fd7581866b0>: Failed to establish a new connection: [Errno 111] Connection refused'))\n",
      "WARNING:langchain.callbacks.tracers.langchain_v1:Failed to load default session, using empty session: HTTPConnectionPool(host='localhost', port=8000): Max retries exceeded with url: /sessions?name=default (Caused by NewConnectionError('<urllib3.connection.HTTPConnection object at 0x7fd6e93a5840>: Failed to establish a new connection: [Errno 111] Connection refused'))\n",
      "Llama.generate: prefix-match hit\n"
     ]
    },
    {
     "name": "stdout",
     "output_type": "stream",
     "text": [
      "Что такое промты? Промты - это инструкции на естественном языке, предназначенные для ChatGPT. Этот процесс называется промт-инжиринг и похож на программирование, но требует более высокого уровня абстракции и не является четким.\n",
      "\n",
      "Как будет происходить тестирование ChatGPT? Будет создан список из 20-100 вопросов, на которые модель должна дать ответы. Помимо этого, сама модель может задавать вопросы для тестирования. Финальная проверка производится людьми, которые оценивают правильность ответов. Если модель ошибается, то изменяются промты или исходный датасет. Такой подход позволяет постоянно улучшать качество работы ChatGPT.\n",
      "\n",
      "Чем этот курс полезен для студентов? Дообучение ChatGPT открывает широкий спектр возможностей для применения этой технологии в различных областях. Благодаря дообучению ChatGPT, пользователи могут расширить функциональность речевой модели и улучшить качество ответов в соответствии с конкретными потребностями.\n",
      "\n",
      "Где можно применять дообучение ChatGPT? Этот курс поможет студентам использовать ChatGPT для различных задач, таких как написание эссе, создание презентаций и анализ данных. Кроме того, они смогут использовать ChatGPT в научных исследованиях, разработке программного обеспечения и других областях, где требуется высокий уровень автоматизации процессов.\n"
     ]
    },
    {
     "name": "stderr",
     "output_type": "stream",
     "text": [
      "WARNING:langchain.callbacks.tracers.langchain_v1:Failed to persist run: HTTPConnectionPool(host='localhost', port=8000): Max retries exceeded with url: /chain-runs (Caused by NewConnectionError('<urllib3.connection.HTTPConnection object at 0x7fd6e8629570>: Failed to establish a new connection: [Errno 111] Connection refused'))\n",
      "WARNING:langchain.callbacks.tracers.langchain_v1:Failed to load default session, using empty session: HTTPConnectionPool(host='localhost', port=8000): Max retries exceeded with url: /sessions?name=default (Caused by NewConnectionError('<urllib3.connection.HTTPConnection object at 0x7fd6e8629ed0>: Failed to establish a new connection: [Errno 111] Connection refused'))\n",
      "Llama.generate: prefix-match hit\n"
     ]
    },
    {
     "name": "stdout",
     "output_type": "stream",
     "text": [
      "Да, вы можете учиться в Университете Исскуственного интеллекта, даже если вы живете в другом часовом поясе. Курсы предоставляются онлайн и вы можете пройти обучение по своему графику.\n"
     ]
    },
    {
     "name": "stderr",
     "output_type": "stream",
     "text": [
      "WARNING:langchain.callbacks.tracers.langchain_v1:Failed to persist run: HTTPConnectionPool(host='localhost', port=8000): Max retries exceeded with url: /chain-runs (Caused by NewConnectionError('<urllib3.connection.HTTPConnection object at 0x7fd6e869b430>: Failed to establish a new connection: [Errno 111] Connection refused'))\n"
     ]
    },
    {
     "name": "stdout",
     "output_type": "stream",
     "text": [
      "CPU times: user 1min 28s, sys: 15.7 s, total: 1min 43s\n",
      "Wall time: 1min 48s\n"
     ]
    }
   ],
   "source": [
    "%%time\n",
    "llm_chain = LLMChain(prompt=prompt, llm=llama)\n",
    "history = []\n",
    "\n",
    "for query in df_qw['Вопрос'].values[15:]: # 6 последних вопросов\n",
    "  sim_docs = db.similarity_search(query)\n",
    "  docs = re.sub(r'\\n{2}', ' ', '\\n '.join([f'======\\n' + doc.page_content + '\\n' for i, doc in enumerate(sim_docs)]))\n",
    "  result = llm_chain.run({'question':query, 'docs': docs})\n",
    "  history.append([str(query), result, str(docs)])\n",
    "\n",
    "pd.DataFrame(history, columns=['Вопрос', 'Ответ', 'Контекст']).\\\n",
    "to_csv(os.path.join('', 'StableBeluga-2-13B-GGUF-4' + '.csv'), index=False)"
   ]
  },
  {
   "cell_type": "markdown",
   "metadata": {
    "id": "FjFz38gc29qr",
    "pycharm": {
     "name": "#%% md\n"
    }
   },
   "source": [
    "## StableBeluga 2 13B GGML - EN (с переводом)"
   ]
  },
  {
   "cell_type": "code",
   "execution_count": null,
   "metadata": {
    "colab": {
     "base_uri": "https://localhost:8080/"
    },
    "executionInfo": {
     "elapsed": 214764,
     "status": "ok",
     "timestamp": 1709230606527,
     "user": {
      "displayName": "Alex Klin",
      "userId": "11249935885368047783"
     },
     "user_tz": -180
    },
    "id": "QhstqXI129qr",
    "outputId": "868aea4d-15aa-4357-93c3-d8e59810d6cb",
    "pycharm": {
     "name": "#%%\n"
    }
   },
   "outputs": [
    {
     "name": "stdout",
     "output_type": "stream",
     "text": [
      "--2024-02-29 18:13:12--  https://huggingface.co/TheBloke/StableBeluga-13B-GGML/resolve/main/stablebeluga-13b.ggmlv3.q4_1.bin\n",
      "Resolving huggingface.co (huggingface.co)... 18.172.134.4, 18.172.134.124, 18.172.134.24, ...\n",
      "Connecting to huggingface.co (huggingface.co)|18.172.134.4|:443... connected.\n",
      "HTTP request sent, awaiting response... 302 Found\n",
      "Location: https://cdn-lfs.huggingface.co/repos/78/a9/78a9edd70b7383e401f5fad995be8125c0360b874fcc97b30a9baf51366db065/8b42e0e125058bcc0a0a18d707793809aa0cd3a74e691e8f35dae415b09b5298?response-content-disposition=attachment%3B+filename*%3DUTF-8%27%27stablebeluga-13b.ggmlv3.q4_1.bin%3B+filename%3D%22stablebeluga-13b.ggmlv3.q4_1.bin%22%3B&response-content-type=application%2Foctet-stream&Expires=1709489593&Policy=eyJTdGF0ZW1lbnQiOlt7IkNvbmRpdGlvbiI6eyJEYXRlTGVzc1RoYW4iOnsiQVdTOkVwb2NoVGltZSI6MTcwOTQ4OTU5M319LCJSZXNvdXJjZSI6Imh0dHBzOi8vY2RuLWxmcy5odWdnaW5nZmFjZS5jby9yZXBvcy83OC9hOS83OGE5ZWRkNzBiNzM4M2U0MDFmNWZhZDk5NWJlODEyNWMwMzYwYjg3NGZjYzk3YjMwYTliYWY1MTM2NmRiMDY1LzhiNDJlMGUxMjUwNThiY2MwYTBhMThkNzA3NzkzODA5YWEwY2QzYTc0ZTY5MWU4ZjM1ZGFlNDE1YjA5YjUyOTg%7EcmVzcG9uc2UtY29udGVudC1kaXNwb3NpdGlvbj0qJnJlc3BvbnNlLWNvbnRlbnQtdHlwZT0qIn1dfQ__&Signature=o4WZYvoxQzgUHFnwo-rWaO6OiI9d1BJzF8aO7GpG5LOMeqHklDPVoT7o%7EucjaNXvtwXQh3x2vj%7EGFr6-MmUoHC7fXH%7Eg9SpL%7Eo2LCBVOfokTfTi84KW2z8CWZ3lX66ipWZtULlKZBxUsWqRSaRAYu9ikXckLs339seWH-8b4kk3pEbxcrPuBs1rERObKRqFpkDgcE5upG5ShcA06bEX494JsstaoXdqVR%7Eiw75Mg-gJWx3ucUJ9I6Q8Fa1hxbZ36mdOrG%7EJ7yMpDwT2XmfBZaadUmdM8q7SRBADLS-Xk5rINfr0%7EYyYcJeTc0YIsED5jU%7EejnmTGsbF9lW8c0BXKgg__&Key-Pair-Id=KVTP0A1DKRTAX [following]\n",
      "--2024-02-29 18:13:13--  https://cdn-lfs.huggingface.co/repos/78/a9/78a9edd70b7383e401f5fad995be8125c0360b874fcc97b30a9baf51366db065/8b42e0e125058bcc0a0a18d707793809aa0cd3a74e691e8f35dae415b09b5298?response-content-disposition=attachment%3B+filename*%3DUTF-8%27%27stablebeluga-13b.ggmlv3.q4_1.bin%3B+filename%3D%22stablebeluga-13b.ggmlv3.q4_1.bin%22%3B&response-content-type=application%2Foctet-stream&Expires=1709489593&Policy=eyJTdGF0ZW1lbnQiOlt7IkNvbmRpdGlvbiI6eyJEYXRlTGVzc1RoYW4iOnsiQVdTOkVwb2NoVGltZSI6MTcwOTQ4OTU5M319LCJSZXNvdXJjZSI6Imh0dHBzOi8vY2RuLWxmcy5odWdnaW5nZmFjZS5jby9yZXBvcy83OC9hOS83OGE5ZWRkNzBiNzM4M2U0MDFmNWZhZDk5NWJlODEyNWMwMzYwYjg3NGZjYzk3YjMwYTliYWY1MTM2NmRiMDY1LzhiNDJlMGUxMjUwNThiY2MwYTBhMThkNzA3NzkzODA5YWEwY2QzYTc0ZTY5MWU4ZjM1ZGFlNDE1YjA5YjUyOTg%7EcmVzcG9uc2UtY29udGVudC1kaXNwb3NpdGlvbj0qJnJlc3BvbnNlLWNvbnRlbnQtdHlwZT0qIn1dfQ__&Signature=o4WZYvoxQzgUHFnwo-rWaO6OiI9d1BJzF8aO7GpG5LOMeqHklDPVoT7o%7EucjaNXvtwXQh3x2vj%7EGFr6-MmUoHC7fXH%7Eg9SpL%7Eo2LCBVOfokTfTi84KW2z8CWZ3lX66ipWZtULlKZBxUsWqRSaRAYu9ikXckLs339seWH-8b4kk3pEbxcrPuBs1rERObKRqFpkDgcE5upG5ShcA06bEX494JsstaoXdqVR%7Eiw75Mg-gJWx3ucUJ9I6Q8Fa1hxbZ36mdOrG%7EJ7yMpDwT2XmfBZaadUmdM8q7SRBADLS-Xk5rINfr0%7EYyYcJeTc0YIsED5jU%7EejnmTGsbF9lW8c0BXKgg__&Key-Pair-Id=KVTP0A1DKRTAX\n",
      "Resolving cdn-lfs.huggingface.co (cdn-lfs.huggingface.co)... 18.154.185.27, 18.154.185.26, 18.154.185.64, ...\n",
      "Connecting to cdn-lfs.huggingface.co (cdn-lfs.huggingface.co)|18.154.185.27|:443... connected.\n",
      "HTTP request sent, awaiting response... 200 OK\n",
      "Length: 8168770688 (7.6G) [application/octet-stream]\n",
      "Saving to: ‘stablebeluga-13b.ggmlv3.q4_1.bin’\n",
      "\n",
      "stablebeluga-13b.gg 100%[===================>]   7.61G  39.9MB/s    in 3m 32s  \n",
      "\n",
      "2024-02-29 18:16:46 (36.7 MB/s) - ‘stablebeluga-13b.ggmlv3.q4_1.bin’ saved [8168770688/8168770688]\n",
      "\n"
     ]
    }
   ],
   "source": [
    "!wget https://huggingface.co/TheBloke/StableBeluga-13B-GGML/resolve/main/stablebeluga-13b.ggmlv3.q4_1.bin"
   ]
  },
  {
   "cell_type": "code",
   "execution_count": null,
   "metadata": {
    "colab": {
     "base_uri": "https://localhost:8080/"
    },
    "executionInfo": {
     "elapsed": 41198,
     "status": "ok",
     "timestamp": 1709230660563,
     "user": {
      "displayName": "Alex Klin",
      "userId": "11249935885368047783"
     },
     "user_tz": -180
    },
    "id": "C_YPyOuM29qs",
    "outputId": "00ad34d7-80bb-4040-bf9d-b5b400f9a26e",
    "pycharm": {
     "name": "#%%\n"
    }
   },
   "outputs": [
    {
     "name": "stderr",
     "output_type": "stream",
     "text": [
      "AVX = 1 | AVX2 = 1 | AVX512 = 0 | AVX512_VBMI = 0 | AVX512_VNNI = 0 | FMA = 1 | NEON = 0 | ARM_FMA = 0 | F16C = 1 | FP16_VA = 0 | WASM_SIMD = 0 | BLAS = 1 | SSE3 = 1 | VSX = 0 | \n"
     ]
    }
   ],
   "source": [
    "n_gpu_layers = 4000  # Metal set to 1 is enough.\n",
    "n_batch = 256  # Should be between 1 and n_ctx, consider the amount of RAM of your Apple Silicon Chip.\n",
    "callback_manager = CallbackManager([StreamingStdOutCallbackHandler()])\n",
    "llama = LlamaCpp(\n",
    "    model_path=\"/content/stablebeluga-13b.ggmlv3.q4_1.bin\",\n",
    "    n_gpu_layers=n_gpu_layers,\n",
    "    n_batch=n_batch,\n",
    "    temperature=0,\n",
    "    n_ctx=4096,  # Context window\n",
    "    max_tokens=1000,  # Max tokens to generate\n",
    "    f16_kv=True,  # MUST set to True, otherwise you will run into problem after a couple of calls\n",
    "    callback_manager=callback_manager,\n",
    "    verbose=True,\n",
    ")"
   ]
  },
  {
   "cell_type": "code",
   "execution_count": null,
   "metadata": {
    "id": "cCn-3W7B29qs",
    "pycharm": {
     "name": "#%%\n"
    }
   },
   "outputs": [],
   "source": [
    "template = \"\"\"### System: \\nYou are the chat support manager of the Russian company University of Artificial Intelligence. The company sells courses on AI.\n",
    "The company has a large document with all the materials about the company's products in Russian. A client asks you a question in a chat, give him an answer based on excerpts from this document, try to answer in such a way that the person wants to buy training after answering. Answer as much as possible\n",
    "exactly according to the document, do not invent anything on your own. Never refer to the title of a document or the title of its passages when answering; the client does not owe anything\n",
    "know about the document for which you are responding. Answer in the first person without citing the sources you rely on. If you do not know the answer or it is not in the document, then answer “I cannot answer this question.”\\n\\n\n",
    "### User: \\nClient question:\n",
    "{question}\\n\n",
    "Document with information to respond to the client:\n",
    "{docs}\\n\\n\n",
    "### Assistant:\\n\n",
    "\"\"\"\n",
    "\n",
    "prompt = PromptTemplate(template=template, input_variables=[\"question\", 'docs'])\n",
    "\n",
    "db = FAISS.load_local(folder_path='',\n",
    "                      embeddings=OpenAIEmbeddings(),\n",
    "                      index_name='db_en')"
   ]
  },
  {
   "cell_type": "code",
   "execution_count": null,
   "metadata": {
    "colab": {
     "base_uri": "https://localhost:8080/"
    },
    "executionInfo": {
     "elapsed": 99904,
     "status": "ok",
     "timestamp": 1709230783992,
     "user": {
      "displayName": "Alex Klin",
      "userId": "11249935885368047783"
     },
     "user_tz": -180
    },
    "id": "axIb8bCl29qs",
    "outputId": "1b8c7485-9350-4341-ba4e-fe914e07b221",
    "pycharm": {
     "name": "#%%\n"
    }
   },
   "outputs": [
    {
     "name": "stdout",
     "output_type": "stream",
     "text": [
      "The AI ​​turnkey plan includes various aspects related to developing an AI project and gaining experience in the field of artificial intelligence. Some key features include:\n",
      "\n",
      "1. Introductory part: how the AI project works, datasets, video cards.\n",
      "2. Main part: Development of an AI project in 10 days in reality mode (analysis of the experiment log, list of next hypotheses, detailed analysis of topics and technologies used in the project).\n",
      "3. Employment in AI\n",
      "4. Collection of a neural network for classification of satellite images in Terra AI\n",
      "5. Webinar on AI reality\n",
      "6. UII students will receive information on various topics related to AI projects, such as choosing a development path, setting goals, and selecting a project topic.\n",
      "7. Participation conditions for company projects: free project development (neural network and integration), 3-month duration, intellectual rights transferred to the company, base and markup from the company (possibly from UII but without guarantee), and UII's right to mention its participation in the project and showcase the process of creating the project.\n",
      "8. Benefits for companies: free AI project, reduced bureaucracy, ability to quickly test hypotheses and make pilots, and opportunity to hire a developer from an internship on their staff.\n",
      "9. There is also the possibility of providing paid consultations in the field of AI, which can become an additional source of income."
     ]
    },
    {
     "name": "stderr",
     "output_type": "stream",
     "text": [
      "Llama.generate: prefix-match hit\n"
     ]
    },
    {
     "name": "stdout",
     "output_type": "stream",
     "text": [
      "Job security means providing a stable and reliable source of income for individuals in their careers. In the context of University of Artificial Intelligence, job security is achieved through various initiatives such as creating a stable team specializing in answering questions, handling calls, assessing quality, organizing webinars, and mailing. This allows students to find work on outsourced projects and eventually transition into self-employment or employment with partner companies. The IT sector is a source of stability, reliability, and constant demand, providing numerous opportunities for young people aged 18 to 27 years old. Additionally, affordable mortgage programs with an interest rate of only 5% provide financial stability in the future for young IT professionals. AI specialists are respected by society and business because they are engaged in the most progressive type of activity."
     ]
    },
    {
     "name": "stderr",
     "output_type": "stream",
     "text": [
      "Llama.generate: prefix-match hit\n"
     ]
    },
    {
     "name": "stdout",
     "output_type": "stream",
     "text": [
      "Business AI Club is a project that will influence the entire AI niche in Russia. It gathers specialists holding high positions in different companies who decide to implement AI. The goal of the club is to create an AI project and hire developers from among UII graduates. The business side of AI will be covered, including application cases, costs, project evaluations, implementation ideas, developer interviews, and more. Live meetings of club members are held once a month in Moscow with Zoom broadcasts."
     ]
    },
    {
     "name": "stderr",
     "output_type": "stream",
     "text": [
      "Llama.generate: prefix-match hit\n"
     ]
    },
    {
     "name": "stdout",
     "output_type": "stream",
     "text": [
      "Industrial products are goods that are produced in large quantities, often using automated processes, and are designed for use in various industries or sectors such as manufacturing, construction, transportation, and energy. These products can include machinery, equipment, tools, components, and materials used in the production of other goods or services. Industrial products play a crucial role in driving economic growth and productivity by enabling businesses to produce more efficiently and effectively."
     ]
    },
    {
     "name": "stderr",
     "output_type": "stream",
     "text": [
      "Llama.generate: prefix-match hit\n"
     ]
    },
    {
     "name": "stdout",
     "output_type": "stream",
     "text": [
      "I cannot answer this questionCPU times: user 59.7 s, sys: 22.8 s, total: 1min 22s\n",
      "Wall time: 1min 39s\n"
     ]
    }
   ],
   "source": [
    "%%time\n",
    "llm_chain = LLMChain(prompt=prompt, llm=llama)\n",
    "history = []\n",
    "\n",
    "for query in df_qw['Вопрос'].values[15:]: # 6 последних вопросов\n",
    "    sim_docs = db.similarity_search(GoogleTranslator(source='auto', target='en').translate(query))\n",
    "    docs = re.sub(r'\\n{2}', ' ', '\\n '.join([f'\"======\"\\n' + doc.page_content + '\\n' for i, doc in enumerate(sim_docs)]))\n",
    "    result = llm_chain.run({'question':GoogleTranslator(source='auto', target='en').translate(query), 'docs': docs})\n",
    "    history.append([str(query), GoogleTranslator(source='auto', target='ru').translate(result),\n",
    "                    GoogleTranslator(source='auto', target='ru').translate(docs)])\n",
    "\n",
    "pd.DataFrame(history, columns=['Вопрос', 'Ответ', 'Контекст']).\\\n",
    "to_csv(os.path.join('', 'StableBeluga-2-13B-GGML-4-en' + '.csv'), index=False)"
   ]
  },
  {
   "cell_type": "markdown",
   "metadata": {
    "id": "Op5sJBMU3cic",
    "pycharm": {
     "name": "#%% md\n"
    }
   },
   "source": [
    "## Объединение результатов"
   ]
  },
  {
   "cell_type": "code",
   "execution_count": null,
   "metadata": {
    "colab": {
     "base_uri": "https://localhost:8080/"
    },
    "executionInfo": {
     "elapsed": 856,
     "status": "ok",
     "timestamp": 1709232036296,
     "user": {
      "displayName": "Alex Klin",
      "userId": "11249935885368047783"
     },
     "user_tz": -180
    },
    "id": "yXKNOCIu3cik",
    "outputId": "f705fa07-192f-4dc9-d2eb-1e25ade525f1",
    "pycharm": {
     "name": "#%%\n"
    }
   },
   "outputs": [
    {
     "data": {
      "text/plain": [
       "['StableBeluga-2-13B-GGML-4-en.csv',\n",
       " 'Llama-2-7B-Chat-GGML-4.csv',\n",
       " 'StableBeluga-2-13B-GGUF-4.csv']"
      ]
     },
     "execution_count": 6,
     "metadata": {},
     "output_type": "execute_result"
    }
   ],
   "source": [
    "import os\n",
    "import pandas as pd\n",
    "\n",
    "project_path = \"/content/csv/\"\n",
    "files = os.listdir(project_path)\n",
    "files"
   ]
  },
  {
   "cell_type": "code",
   "execution_count": null,
   "metadata": {
    "id": "pl6tu5kn3cil",
    "pycharm": {
     "name": "#%%\n"
    }
   },
   "outputs": [],
   "source": [
    "# Создаем пустой DataFrame с нужной структурой\n",
    "df_all = pd.DataFrame(columns=['Вопрос', 'Модель', 'Ответ', 'Контекст'])\n",
    "\n",
    "for file in files:\n",
    "    df = pd.read_csv(os.path.join(project_path, file))\n",
    "    # Объединяем данные по колонкам \"Вопрос\", \"Ответ\" и \"Контекст\"\n",
    "    df_merged = df[['Вопрос', 'Ответ', 'Контекст']]\n",
    "    # Добавляем имя файла (модели) в отдельную колонку\n",
    "    df_merged['Модель'] = file\n",
    "    # Добавляем данные к общей таблице\n",
    "    df_all = pd.concat([df_all, df_merged], ignore_index=True)\n",
    "\n",
    "# Сохраняем общую таблицу в CSV и XLSX\n",
    "df_all.to_csv(os.path.join(project_path, 'score_result.csv'), index=False)\n",
    "df_all.to_excel(os.path.join(project_path, 'score_result.xlsx'), index=False)"
   ]
  }
 ],
 "metadata": {
  "accelerator": "GPU",
  "colab": {
   "gpuType": "T4",
   "provenance": []
  },
  "kernelspec": {
   "display_name": "Python 3 (ipykernel)",
   "language": "python",
   "name": "python3"
  },
  "language_info": {
   "codemirror_mode": {
    "name": "ipython",
    "version": 3
   },
   "file_extension": ".py",
   "mimetype": "text/x-python",
   "name": "python",
   "nbconvert_exporter": "python",
   "pygments_lexer": "ipython3",
   "version": "3.11.4"
  }
 },
 "nbformat": 4,
 "nbformat_minor": 0
}