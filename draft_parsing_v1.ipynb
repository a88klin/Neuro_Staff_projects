{
 "cells": [
  {
   "cell_type": "code",
   "source": [
    "!pip install -U deep-translator\n",
    "\n",
    "from google.colab import drive\n",
    "import os\n",
    "import json\n",
    "import shutil\n",
    "import re\n",
    "from deep_translator import GoogleTranslator\n",
    "\n",
    "\n",
    "transtator = GoogleTranslator(source='ru', target='en')\n",
    "drive.mount('/content/drive')\n",
    "path = r\"/content/drive/MyDrive/data\" # Папка с файлами\n",
    "shutil.unpack_archive(os.path.join(path, 'vacancies_20240227.zip'), 'vacancies') # Разархивирую в колаб ZIP файл с вакансиями\n",
    "shutil.unpack_archive(os.path.join(path, 'resumes_20240227.zip'), 'resumes') # Разархивирую в колаб ZIP файл с резюме\n"
   ],
   "metadata": {
    "id": "muG3tK0CSnfE",
    "pycharm": {
     "name": "#%%\n"
    }
   },
   "execution_count": null,
   "outputs": []
  },
  {
   "cell_type": "code",
   "source": [
    "#@title Резюме (словарь с одним уровнем вложенности)\n",
    "\n",
    "# Функция, которая будет проходить через все элементы многоуровневого вложенного JSON и формировать\n",
    "# словарь с одним уровнем вложенности, где ключ формируется цепочкой вложенных ключей, разделенных\n",
    "# символами подчеркивания\n",
    "def flatten_json(json_data, parent_key='', flattened_dict={}):\n",
    "    for key, value in json_data.items():\n",
    "        new_key = parent_key + '_' + key if parent_key else key\n",
    "        if isinstance(value, dict):\n",
    "            flatten_json(value, new_key, flattened_dict)\n",
    "        elif isinstance(value, list):\n",
    "            for i, item in enumerate(value):\n",
    "                if isinstance(item, dict):\n",
    "                    flatten_json(item, f\"{new_key}_{i}\", flattened_dict)\n",
    "                else:\n",
    "                    flattened_dict[f\"{new_key}_{i}\"] = item\n",
    "        else:\n",
    "            flattened_dict[new_key] = value\n",
    "    return flattened_dict\n",
    "\n",
    "\n",
    "# Любое резюме, например\n",
    "resume = 'dd57-491f-8c06-b734c4534323.json'\n",
    "with open(os.path.join('resumes', resume), 'r') as f:\n",
    "    resume_json = json.load(f) # JSON с полями: списки, словари, списки словарей, вложенные словари\n",
    "\n",
    "flattened_resume = flatten_json(resume_json)\n",
    "for k, v in flattened_resume.items():\n",
    "    print(f'{k}: {v}')"
   ],
   "metadata": {
    "id": "AgJiko_B644f",
    "pycharm": {
     "name": "#%%\n"
    }
   },
   "execution_count": null,
   "outputs": []
  },
  {
   "cell_type": "code",
   "source": [
    "#@title Вакансия (словарь с одним уровнем вложенности)\n",
    "\n",
    "# Функция, которая будет проходить через все элементы многоуровневого вложенного JSON и формировать\n",
    "# словарь с одним уровнем вложенности, где ключ формируется цепочкой вложенных ключей, разделенных\n",
    "# символами подчеркивания\n",
    "def flatten_json(json_data, parent_key='', flattened_dict={}):\n",
    "    for key, value in json_data.items():\n",
    "        new_key = parent_key + '_' + key if parent_key else key\n",
    "        if isinstance(value, dict):\n",
    "            flatten_json(value, new_key, flattened_dict)\n",
    "        elif isinstance(value, list):\n",
    "            for i, item in enumerate(value):\n",
    "                if isinstance(item, dict):\n",
    "                    flatten_json(item, f\"{new_key}_{i}\", flattened_dict)\n",
    "                else:\n",
    "                    flattened_dict[f\"{new_key}_{i}\"] = item\n",
    "        else:\n",
    "            flattened_dict[new_key] = value\n",
    "    return flattened_dict\n",
    "\n",
    "\n",
    "# Любая вакансия, например\n",
    "vacancy = 'Java_разработчик-6e8ea5e3-47fb-4a15-84fa-6ab618dcbbe0.json'\n",
    "with open(os.path.join('vacancies', vacancy), 'r') as f:\n",
    "    vacancy_json = json.load(f)\n",
    "\n",
    "flattened_vacancy = flatten_json(vacancy_json)\n",
    "for k, v in flattened_vacancy.items():\n",
    "    print(f'{k}: {v}')"
   ],
   "metadata": {
    "id": "cr72KKxf64tQ",
    "pycharm": {
     "name": "#%%\n"
    }
   },
   "execution_count": null,
   "outputs": []
  },
  {
   "cell_type": "code",
   "source": [
    "#@title Формирую строки по нужным полям Резюме для дальнейшей обработки\n",
    "\n",
    "def create_resume_string(flattened_resume,\n",
    "                         is_title = True,\n",
    "                         is_professional_roles = True,\n",
    "                         is_skill_set = True,\n",
    "                         is_skills = True,\n",
    "                         is_experience = True,\n",
    "                         is_lang = True):\n",
    "    title = 'Position: '\n",
    "    professional_roles = ''\n",
    "    skill_set = 'Skills: '\n",
    "    skills = 'Additional skills: '\n",
    "    experience = ''\n",
    "    lang = 'Languages: '\n",
    "\n",
    "    # Формирую строки\n",
    "    for key, value in flattened_resume.items():\n",
    "        if 'title' in key:\n",
    "            title += f'{value}. '\n",
    "        if re.match(r'^professional_roles.*name$', key): # professional_roles / name - начало и конец ключа\n",
    "            professional_roles += f'{value}. '\n",
    "        if 'skill_set' in key:\n",
    "            skill_set += f'{value}, '\n",
    "        if 'skills' in key:\n",
    "            skills += f'{value}. '\n",
    "        if re.match(r'^experience.*position$', key): # experience / position - начало и конец ключа\n",
    "            experience += f'Job experience as a {value}: '\n",
    "        if re.match(r'^experience.*description$', key): # experience / description - начало и конец ключа\n",
    "            experience += f'{value}. '\n",
    "        if re.match(r'language.*?(\\d+_name)', key): # experience / (число)_name - начало и конец ключа\n",
    "            lang += f'{value} - '\n",
    "        if re.match(r'language.*level_name', key): # experience / level_name - начало и конец ключа\n",
    "            lang += f'level: {value}. '\n",
    "        # ... и т.д. по необходимости\n",
    "\n",
    "    title = f\"{title}\" if is_title else ''\n",
    "    professional_roles = f\"{professional_roles}\" if is_professional_roles else ''\n",
    "    skill_set = f\"{skill_set}\" if is_skill_set else ''\n",
    "    skills = f\"{skills}\" if is_skills else ''\n",
    "    experience = f\"{experience}\" if is_experience else ''\n",
    "    lang = f\"{lang}\" if is_lang else ''\n",
    "\n",
    "    text_line = re.sub(r'\\s+', ' ', title + professional_roles + skill_set + skills + experience + lang)\n",
    "    return {'ru': text_line, 'en': transtator.translate(text_line)}\n",
    "\n",
    "\n",
    "# Пример подготовленной строки Резюме для создания чанков или для запроса к ChatGPT\n",
    "create_resume_string(flattened_resume, is_professional_roles=False)['en']"
   ],
   "metadata": {
    "colab": {
     "base_uri": "https://localhost:8080/",
     "height": 330
    },
    "id": "SV5LysMiFtue",
    "executionInfo": {
     "status": "ok",
     "timestamp": 1710086496361,
     "user_tz": -180,
     "elapsed": 1564,
     "user": {
      "displayName": "Alex Klin",
      "userId": "11249935885368047783"
     }
    },
    "outputId": "ed28e71a-dd6b-4d2d-99db-b8c5ed85e35f",
    "pycharm": {
     "name": "#%%\n"
    }
   },
   "execution_count": null,
   "outputs": [
    {
     "output_type": "execute_result",
     "data": {
      "text/plain": [
       "'Position: Java developer. Skills: Java, Spring Framework, Hibernate ORM, ORACLE, PostgreSQL, Git, SQL, Linux, Docker, springboot, kubernetes, Kafka, apache Kafka, RabbitMQ, REST, SOAP, Additional skills: I am always looking for the best approach to solving a given problem.. SQL. Setting the tasks to developers. Remote work. PostgreSQL is. Automating the process. Refactoring the code. Java. The CI/CD. Docker. The CI. Unit Testing. The Gitlab CI. Reengineering of business processes. Business processes are analyzed. Modeling of processes. Project documentation. Docker is. GitLab. Kafka. The Kubernetes. Microservices. Gitlab. Supporting the software. Apache Kafka. Spring. micro-services. Spring Boot. Hibernate. CoreData. JPA. Camunda. The Principle. The kubernetes. Integration testing. Docker-compose. Postgres. Technical task. Process management. Support for users. Optimizing the processes. Optimizing business processes. Modeling of business processes. The development. Business processes are described. data integration. Core data. Spring Cloud. Project work. Docker/Kubernetes, my uncle.. Developing technical tasks. Optimizing the code. Project activities. Formation of technical task for development. Testing. System integration. Business processes management. The first is Kafka PostgreSQL Golang. Microservice architecture. Kuberflow. Integration and implementation of the FIC. Job experience as a Senior Java Developer: • Implementation of interservice communication via Kafka and Rest • Implementation of interaction with the database (PostgreSQL) • Development and support of code and bug fixing. • Code review • Direct participation in discussions on the selection and implementation of functional solutions. • Decomposition of tasks Technology stack on the project: • Implementation of web services based on SpringBoot • Interaction with the database - JDBCTemplate • RestTemplate • Kafka • PostgreSQL • Environment: Maven, Git, jira, Jenkins. Job experience as a Chief expert: Development of remote banking services (remote banking services) • Implementation and support of business logic microservices, implementation and support of infrastructure microservices. • Implementation of microservices business logic, working with layers • Implementation of interservice communication via RabbitMQ and Rest • Implementation of interaction with the database (OracleDB) • Code support and bug fixes. Technology stack for the project: • Implementation of web services based on SpringBoot • Interaction with the database - Hibernate, JDBCTemplate • RestTemplate/FeignClient • RabbitMQ • Oracle • Environment: Maven, Git, jira. Job experience as a Java developer: Developing a SpringBoot-based solution for image classification and processing. • Writing/supporting web services for five subsystems: import, preprocessing, recognition, export and classification of documents. • Writing and training a convolutional neural network for document classification based on the machine learning library tenserFlow. • Setting up and maintaining services (Docker, Docker-compose); • Implementation of microservices business logic, working with application layers. (Working with entities, DTO mapping, filters) • Implementation of inter-service communication via RabbitMQ and RestTemplate • Implementation of interaction with the database (PostgreSQL) (Criteria Api, Spring Data JPA) • Code support and bug fixing. Job experience as a Testing Specialist : Manual testing of functionality, regression testing, assigning tasks to developers in Jira, monitoring assigned tasks. Preparation of technical documentation. Remote user support, administration and support for ABBYY and Oracle UCM. Languages: Russian - level: Native. English - level: B2 - Intermediate-advanced.'"
      ],
      "application/vnd.google.colaboratory.intrinsic+json": {
       "type": "string"
      }
     },
     "metadata": {},
     "execution_count": 57
    }
   ]
  },
  {
   "cell_type": "code",
   "source": [
    "#@title Формирую строки по нужным полям Вакансии для дальнейшей обработки\n",
    "\n",
    "def create_vacancy_string(flattened_vacancy,\n",
    "                          is_position = True,\n",
    "                          is_skills = True,\n",
    "                          is_mandatory_requirements = True,\n",
    "                          is_experience_level = True,\n",
    "                          is_project_tasks = True):\n",
    "    position = 'Position: '\n",
    "    skills = 'Skills: '\n",
    "    mandatory_requirements = 'Mandatory requirements: '\n",
    "    experience_level = 'Experience Levels: '\n",
    "    project_tasks = 'Project tasks: '\n",
    "\n",
    "    # Формирую строки\n",
    "    for key, value in flattened_vacancy.items():\n",
    "        if 'position' in key:\n",
    "            position += f'{value}. '\n",
    "        if 'skills' in key:\n",
    "            skills += f'{value}, '\n",
    "        if 'mandatoryRequirements' in key:\n",
    "            mandatory_requirements += f'{value} '\n",
    "        if 'experienceLevels' in key:\n",
    "            experience_level += f'{value}. '\n",
    "        if 'projectTasks' in key:\n",
    "            project_tasks += f'{value} '\n",
    "        # ... и т.д. по необходимости\n",
    "\n",
    "    position = f\"{position}\" if is_position else ''\n",
    "    skills = f\"{skills}\" if is_skills else ''\n",
    "    mandatory_requirements = f\"{mandatory_requirements}\" if is_mandatory_requirements else ''\n",
    "    experience_level = f\"{experience_level}\" if is_experience_level else ''\n",
    "    project_tasks = f\"{project_tasks}\" if is_project_tasks else ''\n",
    "\n",
    "    text_line = re.sub(r'\\s+', ' ', position + skills + mandatory_requirements + experience_level + project_tasks)\n",
    "    return {'ru': text_line, 'en': transtator.translate(text_line)}\n",
    "\n",
    "\n",
    "# Пример подготовленной строки Вакансии для создания чанков или для запроса к ChatGPT\n",
    "create_vacancy_string(flattened_vacancy)['en']"
   ],
   "metadata": {
    "id": "xZWmzKKgaUp8",
    "colab": {
     "base_uri": "https://localhost:8080/",
     "height": 192
    },
    "executionInfo": {
     "status": "ok",
     "timestamp": 1710086509684,
     "user_tz": -180,
     "elapsed": 443,
     "user": {
      "displayName": "Alex Klin",
      "userId": "11249935885368047783"
     }
    },
    "outputId": "180f1ac7-2762-4a85-f7fb-f5f40969968e",
    "pycharm": {
     "name": "#%%\n"
    }
   },
   "execution_count": null,
   "outputs": [
    {
     "output_type": "execute_result",
     "data": {
      "text/plain": [
       "\"Position: Java developer. Skills: SQL, Setting the tasks to developers, Remote work, PostgreSQL is, Automating the process, Refactoring the code, Java, The CI/CD, Docker, The CI, Unit Testing, The Gitlab CI, Reengineering of business processes, Business processes are analyzed, Modeling of processes, Project documentation, Docker is, GitLab, Kafka, The Kubernetes, Microservices, Gitlab, Supporting the software, Apache Kafka, Spring, micro-services, Spring Boot, Hibernate, CoreData, JPA, Camunda, The Principle , The kubernetes, Integration testing, Docker-compose, Postgres, Technical task, Process management, Support for users, Optimizing the processes, Optimizing business processes, Modeling of business processes, The development, Business processes are described, data integration, Core data, Spring Cloud, Project work, Docker/Kubernetes, my uncle., Developing technical tasks, Optimizing the code, Project activities, Formation of technical tasks for development, Testing, System integration, Business processes management, The first is Kafka PostgreSQL Golang, Microservice architecture , Kuberflow, Integration and implementation of the FIC, Mandatory requirements: Stack: Java 11, Spring (Boot: Web, Cloud, Data, Test), PostgreSQL, Hibernate, Kafka, Camunda BPM, ELK, Gitlab CI, Docker/Kubernetes; Commercial development in Java from 3 years and Spring (boot, core, web, data, test); Microservices (required at the last place of work); Good knowledge and practical experience with Camunda; Good knowledge and practical experience with Kafka; Relational databases (preferably PostgreSQL); Understanding of Docker/Kubernetes operating principles; Understanding what CI/CD is; - JPA (hibernate). ! It is necessary to sign an NDA on the client's form. Experience Levels: Middle. Middle+. Project tasks: Development, debugging, support of microservice applications; Development of Unit tests, incl. for Camunda BPM processes; Implementation of integration interaction within the microservice architecture, as well as with external services; Implementation of business processes based on Camunda BPM; Refactoring, optimization of existing code; Code Review.\""
      ],
      "application/vnd.google.colaboratory.intrinsic+json": {
       "type": "string"
      }
     },
     "metadata": {},
     "execution_count": 58
    }
   ]
  }
 ],
 "metadata": {
  "kernelspec": {
   "display_name": "Python 3 (ipykernel)",
   "language": "python",
   "name": "python3"
  },
  "language_info": {
   "codemirror_mode": {
    "name": "ipython",
    "version": 3
   },
   "file_extension": ".py",
   "mimetype": "text/x-python",
   "name": "python",
   "nbconvert_exporter": "python",
   "pygments_lexer": "ipython3",
   "version": "3.11.4"
  },
  "colab": {
   "provenance": []
  }
 },
 "nbformat": 4,
 "nbformat_minor": 0
}