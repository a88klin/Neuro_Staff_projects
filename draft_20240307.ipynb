{
 "cells": [
  {
   "cell_type": "code",
   "source": [
    "!pip install -U deep-translator\n",
    "!pip install tiktoken openai langchain langchain-community langchain_openai faiss-cpu"
   ],
   "metadata": {
    "id": "JkOIRUcgoPnJ",
    "pycharm": {
     "name": "#%%\n"
    }
   },
   "execution_count": null,
   "outputs": []
  },
  {
   "cell_type": "code",
   "execution_count": null,
   "metadata": {
    "id": "wZz3ddKjOljt",
    "pycharm": {
     "name": "#%%\n"
    }
   },
   "outputs": [],
   "source": [
    "import os\n",
    "import json\n",
    "import tqdm\n",
    "import pickle\n",
    "import shutil\n",
    "from pprint import pprint as pp\n",
    "import re\n",
    "from deep_translator import GoogleTranslator\n",
    "from langchain.docstore.document import Document\n",
    "from langchain_openai import OpenAIEmbeddings\n",
    "from langchain_community.vectorstores import FAISS\n",
    "import openai\n",
    "from google.colab import userdata\n",
    "from google.colab import drive, files\n",
    "\n",
    "\n",
    "transtator = GoogleTranslator(source='ru', target='en')\n",
    "drive.mount('/content/drive')\n",
    "os.environ[\"OPENAI_API_KEY\"] = userdata.get('OPENAI_API_KEY')\n",
    "\n",
    "# Папка с рабочими файлами на ГуглДиск\n",
    "path = r\"/content/drive/MyDrive/data\"\n",
    "# Разархивирую ZIP файл с вакансиями\n",
    "shutil.unpack_archive(os.path.join(path, 'vacancies_20240227.zip'), 'vacancies')\n",
    "# Разархивирую ZIP файл с резюме\n",
    "shutil.unpack_archive(os.path.join(path, 'resumes_20240227.zip'), 'resumes')"
   ]
  },
  {
   "cell_type": "code",
   "source": [
    "#@title Вакансии\n",
    "# Для удобства сохраняю все все вакансии в словарь, где ключи - это имена json файлов\n",
    "dict_vacancies = {}\n",
    "for filename in os.listdir('vacancies'):\n",
    "    if filename.endswith('.json'):\n",
    "        with open(os.path.join('vacancies', filename), 'r') as f:\n",
    "            dict_vacancies[filename[:-5]] = json.load(f)\n",
    "\n",
    "# Сохраню словарь на ГуглДиск\n",
    "with open(os.path.join(path, 'vacancies_dict_base.pkl'), 'wb') as f:\n",
    "    pickle.dump(dict_vacancies, f)\n",
    "\n",
    "print('Количество вакансий:', len(dict_vacancies))"
   ],
   "metadata": {
    "colab": {
     "base_uri": "https://localhost:8080/"
    },
    "id": "97B8l5YfSoJi",
    "executionInfo": {
     "status": "ok",
     "timestamp": 1709829181592,
     "user_tz": -180,
     "elapsed": 273,
     "user": {
      "displayName": "Alex Klin",
      "userId": "11249935885368047783"
     }
    },
    "outputId": "44c67aaf-d036-4730-9eeb-1a1256989441",
    "pycharm": {
     "name": "#%%\n"
    }
   },
   "execution_count": null,
   "outputs": [
    {
     "output_type": "stream",
     "name": "stdout",
     "text": [
      "Количество вакансий: 100\n"
     ]
    }
   ]
  },
  {
   "cell_type": "code",
   "source": [
    "# Для первичной прикидки и поиска сходства вакансии\n",
    "# с резюме, из вакансий беру только ключевые поля:\n",
    "# 'position', 'mandatoryRequirements' и 'skills'.\n",
    "\n",
    "# В вакансиях разные языки, но все Skills в резюме и вакансиях на английском изначально.\n",
    "# Cобираю чанки по каждой вакансии с переводом на английский. Потом дешевле будет с ChatGPT.\n",
    "# Если был английский - текст сохранится без изменений.\n",
    "\n",
    "vacancies_chunks = []\n",
    "\n",
    "for key, value in tqdm.tqdm(dict_vacancies.items()):\n",
    "    # Только три ключевых поля 'position', 'skills', 'mandatoryRequirements'\n",
    "    text_line = re.sub(r'\\s+', ' ', f\"\"\"Position: {value['data']['position']}.\n",
    "                       Skills: {(', ').join(value['skills'])}.\n",
    "                       {(', ').join(value['data']['mandatoryRequirements'])}\"\"\")\n",
    "    text_line = transtator.translate(text_line)\n",
    "    vacancies_chunks.append(Document(page_content=text_line, metadata={'file': key}))\n",
    "\n",
    "# Сохраню чанки по вакансиям на ГуглДиск ('position', 'skills', 'mandatoryRequirements')\n",
    "with open(os.path.join(path, 'vacancies_chunks_base.pkl'), 'wb') as f:\n",
    "    pickle.dump(vacancies_chunks, f)"
   ],
   "metadata": {
    "colab": {
     "base_uri": "https://localhost:8080/"
    },
    "id": "4T10S29eYvBu",
    "executionInfo": {
     "status": "ok",
     "timestamp": 1709814140064,
     "user_tz": -180,
     "elapsed": 94910,
     "user": {
      "displayName": "Alex Klin",
      "userId": "11249935885368047783"
     }
    },
    "outputId": "b36feedb-a203-46a6-96ec-913bc4659150",
    "pycharm": {
     "name": "#%%\n"
    }
   },
   "execution_count": null,
   "outputs": [
    {
     "output_type": "stream",
     "name": "stderr",
     "text": [
      "100%|██████████| 100/100 [01:34<00:00,  1.06it/s]\n"
     ]
    }
   ]
  },
  {
   "cell_type": "code",
   "source": [
    "# Векторизирую и сохраняю базу\n",
    "db_vacancies = FAISS.from_documents(vacancies_chunks, OpenAIEmbeddings())\n",
    "db_vacancies.save_local(folder_path=path, index_name='db_vacancies_base')\n",
    "len(db_vacancies.docstore._dict)"
   ],
   "metadata": {
    "colab": {
     "base_uri": "https://localhost:8080/"
    },
    "id": "BzwwWn4otNbQ",
    "executionInfo": {
     "status": "ok",
     "timestamp": 1709814167919,
     "user_tz": -180,
     "elapsed": 2607,
     "user": {
      "displayName": "Alex Klin",
      "userId": "11249935885368047783"
     }
    },
    "outputId": "d7005a6e-66c6-42dc-ecbe-f94d62f9f110",
    "pycharm": {
     "name": "#%%\n"
    }
   },
   "execution_count": null,
   "outputs": [
    {
     "output_type": "execute_result",
     "data": {
      "text/plain": [
       "100"
      ]
     },
     "metadata": {},
     "execution_count": 100
    }
   ]
  },
  {
   "cell_type": "code",
   "source": [
    "#@title Резюме\n",
    "# Любое резюме, например:\n",
    "# resume = 'Будилов_Кирилл-ac4ecc8b-8da8-4441-b4de-a71c0805bdcd.json'\n",
    "resume = 'f5-47ca-91b9-e24aa99197e8.json'\n",
    "\n",
    "with open(os.path.join('resumes', resume), 'r') as f:\n",
    "     resume = json.load(f)"
   ],
   "metadata": {
    "id": "9CEqLmvuxHNV",
    "pycharm": {
     "name": "#%%\n"
    }
   },
   "execution_count": null,
   "outputs": []
  },
  {
   "cell_type": "code",
   "source": [
    "# Для первичного поиска сходства с вакансиями\n",
    "# Из резюме поля только: 'title', 'skill_set', 'professional_roles ... name'\n",
    "text_line = re.sub(r'\\s+', ' ', f\"\"\"Position: {resume['title']}.\n",
    "                   {resume['professional_roles'][0]['name']}.\n",
    "                   Skills: {(', ').join(resume['skill_set'])}.\"\"\")\n",
    "eng_line = transtator.translate(text_line)\n",
    "\n",
    "eng_line # текст запроса на английском, по которому будем искать похожие вакансии"
   ],
   "metadata": {
    "colab": {
     "base_uri": "https://localhost:8080/",
     "height": 54
    },
    "id": "b6dNGoVEzO_n",
    "executionInfo": {
     "status": "ok",
     "timestamp": 1709825823805,
     "user_tz": -180,
     "elapsed": 771,
     "user": {
      "displayName": "Alex Klin",
      "userId": "11249935885368047783"
     }
    },
    "outputId": "dc91c078-da1a-466a-abd1-800643c3d76c",
    "pycharm": {
     "name": "#%%\n"
    }
   },
   "execution_count": null,
   "outputs": [
    {
     "output_type": "execute_result",
     "data": {
      "text/plain": [
       "'Position: Java developer. Programmer, developer. Skills: Spring Framework, Java, Git, SQL, PostgreSQL, Hibernate ORM, Spring Boot, REST, OOP, Intellij IDEA, JUnit, Maven, Java Core, Docker, Kubernetes, Kafka, Spring, Hibernate, Swagger, GitHub, JDBC, JPA .'"
      ],
      "application/vnd.google.colaboratory.intrinsic+json": {
       "type": "string"
      }
     },
     "metadata": {},
     "execution_count": 6
    }
   ]
  },
  {
   "cell_type": "code",
   "source": [
    "text_line # двуязычный вариант из резюме"
   ],
   "metadata": {
    "colab": {
     "base_uri": "https://localhost:8080/",
     "height": 54
    },
    "id": "XgmkhmzIGxlu",
    "executionInfo": {
     "status": "ok",
     "timestamp": 1709825830247,
     "user_tz": -180,
     "elapsed": 258,
     "user": {
      "displayName": "Alex Klin",
      "userId": "11249935885368047783"
     }
    },
    "outputId": "44c13831-b6d4-4c0b-ac22-89ee7a836abc",
    "pycharm": {
     "name": "#%%\n"
    }
   },
   "execution_count": null,
   "outputs": [
    {
     "output_type": "execute_result",
     "data": {
      "text/plain": [
       "'Position: Java-разработчик. Программист, разработчик. Skills: Spring Framework, Java, Git, SQL, PostgreSQL, Hibernate ORM, Spring Boot, REST, ООП, Intellij IDEA, JUnit, Maven, Java Core, Docker, Kubernetes, Kafka, Spring, Hibernate, Swagger, GitHub, JDBC, JPA.'"
      ],
      "application/vnd.google.colaboratory.intrinsic+json": {
       "type": "string"
      }
     },
     "metadata": {},
     "execution_count": 7
    }
   ]
  },
  {
   "cell_type": "code",
   "source": [
    "# similarity_search_with_score\n",
    "def files_and_scores(query, db):\n",
    "    docs_and_scores = db.similarity_search_with_score(query, k=5)\n",
    "    print('Scores:', [doc[1] for doc in docs_and_scores])\n",
    "    print(', '.join([f\"\\nFile {i+1}: {doc[0].metadata['file']}.json\"\n",
    "                     for i, doc in enumerate(docs_and_scores)]))\n",
    "    return [f\"{doc[0].metadata['file']}.json\" for doc in docs_and_scores]\n",
    "\n",
    "\n",
    "db_vacancies = FAISS.load_local(folder_path=path,\n",
    "                                embeddings=OpenAIEmbeddings(),\n",
    "                                index_name='db_vacancies_base',\n",
    "                                allow_dangerous_deserialization=True)\n",
    "\n",
    "# Первая прикидка подходящих вакансий под резюме c выдачей файлов - подходящих вакансий\n",
    "\n",
    "# База на английском. Запрос тоже на Aнглийском.\n",
    "files = files_and_scores(eng_line, db_vacancies)"
   ],
   "metadata": {
    "colab": {
     "base_uri": "https://localhost:8080/"
    },
    "id": "Prt9XN432D3k",
    "executionInfo": {
     "status": "ok",
     "timestamp": 1709826388940,
     "user_tz": -180,
     "elapsed": 671,
     "user": {
      "displayName": "Alex Klin",
      "userId": "11249935885368047783"
     }
    },
    "outputId": "7739a4af-5208-48d9-cac4-9ef20e58dcd0",
    "pycharm": {
     "name": "#%%\n"
    }
   },
   "execution_count": null,
   "outputs": [
    {
     "output_type": "stream",
     "name": "stdout",
     "text": [
      "Scores: [0.12100253, 0.122104086, 0.13859051, 0.1414056, 0.1854817]\n",
      "\n",
      "File 1: Java_разработчик-2ce1bca2-5a23-4f68-8566-8ff0f7f87e3c.json, \n",
      "File 2: Java_разработчик-6e8ea5e3-47fb-4a15-84fa-6ab618dcbbe0.json, \n",
      "File 3: Java_разработчик-f6b48d5d-882e-4afd-8826-3d46b78342c6.json, \n",
      "File 4: Java_разработчик-654b79d7-6b07-4705-969d-41a9eef10503.json, \n",
      "File 5: Backend_разработчик-8a68226f-ea25-4b81-8eee-a0e8ea99fb2d.json\n"
     ]
    }
   ]
  },
  {
   "cell_type": "code",
   "source": [
    "# База на английском. Запрос с частями текста на Русском, как в резюме.\n",
    "f2 = files_and_scores(text_line, db_vacancies)"
   ],
   "metadata": {
    "colab": {
     "base_uri": "https://localhost:8080/"
    },
    "id": "VaHunV7VEWaX",
    "executionInfo": {
     "status": "ok",
     "timestamp": 1709826384565,
     "user_tz": -180,
     "elapsed": 271,
     "user": {
      "displayName": "Alex Klin",
      "userId": "11249935885368047783"
     }
    },
    "outputId": "a17e35b2-ba67-47e7-ee70-524ecf99070a",
    "pycharm": {
     "name": "#%%\n"
    }
   },
   "execution_count": null,
   "outputs": [
    {
     "output_type": "stream",
     "name": "stdout",
     "text": [
      "Scores: [0.17278373, 0.1740806, 0.17588896, 0.17798966, 0.2235882]\n",
      "\n",
      "File 1: Java_разработчик-2ce1bca2-5a23-4f68-8566-8ff0f7f87e3c.json, \n",
      "File 2: Java_разработчик-f6b48d5d-882e-4afd-8826-3d46b78342c6.json, \n",
      "File 3: Java_разработчик-654b79d7-6b07-4705-969d-41a9eef10503.json, \n",
      "File 4: Java_разработчик-6e8ea5e3-47fb-4a15-84fa-6ab618dcbbe0.json, \n",
      "File 5: Kotlin_разработчик-6bcde28f-d5b1-4586-82f2-9731cd38c756.json\n"
     ]
    }
   ]
  },
  {
   "cell_type": "code",
   "source": [
    "print(f'Желаемая позиция и скилы соискателя (title, skill_set, professional_roles...name): \\n{text_line}')\n",
    "print('\\nПодходящие вакансии (по полям: position, skills, mandatoryRequirements):')\n",
    "\n",
    "# Словарь для полей вакансий, подходящиих под конкретное резюме\n",
    "vacancies_similarity = {}\n",
    "\n",
    "# Для примера, три вакансии из файлов по мин. Score\n",
    "for filename in files[:3]:\n",
    "    with open(os.path.join('vacancies', filename), 'r') as f:\n",
    "            vacancy = json.load(f)\n",
    "            # поля: 'position', 'mandatoryRequirements' и 'skills'\n",
    "            out_line_base = re.sub(r'\\s+', ' ', f\"\"\"Position: {vacancy['data']['position']}.\n",
    "                       Skills: {(', ').join(vacancy['skills'])}.\n",
    "                       {(', ').join(vacancy['data']['mandatoryRequirements'])}\"\"\")\n",
    "            print(f'\\nFile: {filename}')\n",
    "            print(out_line_base)\n",
    "            vacancies_similarity[filename[:-5]] = [out_line_base,]"
   ],
   "metadata": {
    "id": "mo0tYSHM7qWk",
    "pycharm": {
     "name": "#%%\n"
    }
   },
   "execution_count": null,
   "outputs": []
  },
  {
   "cell_type": "markdown",
   "source": [
    "### После выбора подходящих вакансий использую ChatGPT - как консультанта в помощь соискателю или HR по каждой вакансии. Предварительная поверхностная прикидка, т.к. думаю, что этот шаг должен быть в самом конце"
   ],
   "metadata": {
    "id": "rJ6orSUCdMyo",
    "pycharm": {
     "name": "#%% md\n"
    }
   }
  },
  {
   "cell_type": "code",
   "source": [
    "#@title Дополнительные поля из Резюме, которые буду использовать в запросе к ChatGPT\n",
    "# Уже есть подготовленная строка eng_line (title, skill_set, professional_roles...name)\n",
    "# Дополнительно из резюме возьму:\n",
    "# skills, language, schedules, experience(position, description), area, relocation\n",
    "\n",
    "add_resume_info = ''\n",
    "\n",
    "if resume['skills']:\n",
    "    add_resume_info += f\"{resume['skills']}. \"\n",
    "\n",
    "if len(resume['language']):\n",
    "    for lang in resume['language']:\n",
    "        add_resume_info += f\"{lang['name']} язык - уровень: {lang['level']['name']}. \"\n",
    "\n",
    "if resume['schedule']:\n",
    "    add_resume_info += f\"Желаемый график работы: {resume['schedule']['name']}. \"\n",
    "\n",
    "if resume['experience']:\n",
    "    for n, place in enumerate(resume['experience']):\n",
    "        add_resume_info += f\"Опыт работы {n+1}: Позиция - {place['position']}. \\\n",
    "                             Описание работы {n+1}: {place['description']}. \"\n",
    "\n",
    "if resume['area']:\n",
    "    add_resume_info += f\"Локация - {resume['area']['name']}. \"\n",
    "\n",
    "if resume['relocation']:\n",
    "    add_resume_info += f\"Отношение к релокации - {resume['relocation']['type']['name']}.\"\n",
    "\n",
    "add_resume_info = re.sub(r'\\s+', ' ', add_resume_info)\n",
    "# На английский\n",
    "add_resume_info_en = GoogleTranslator(source='ru', target='en').translate(add_resume_info)\n",
    "\n",
    "\n",
    "# Примечание, этот блок нужно еще подработать, так как в некоторых резюме\n",
    "# разная структура полей иногда, например со словаря меняется на список словарей и т.д."
   ],
   "metadata": {
    "id": "u4p9yUsIdMD8",
    "pycharm": {
     "name": "#%%\n"
    }
   },
   "execution_count": null,
   "outputs": []
  },
  {
   "cell_type": "code",
   "source": [
    "#@title Дополнительные поля из выбранных Вакансий, которые буду использовать в запросе к ChatGPT\n",
    "# В словаре vacancies_similarity уже есть: position, skills, mandatoryRequirements\n",
    "# Дополнительно в словарь vacancies_similarity из выбранных вакансий запишу:\n",
    "# experienceLevels, requiredLocation, projectTasks\n",
    "\n",
    "# Для примера, три вакансии из файлов по мин. Score\n",
    "for filename in files[:3]:\n",
    "    with open(os.path.join('vacancies', filename), 'r') as f:\n",
    "            vacancy = json.load(f)\n",
    "            # поля: experienceLevels, requiredLocation, projectTasks\n",
    "            out_line_2 = re.sub(r'\\s+', ' ',\n",
    "                         f\"\"\"Level: {(', ').join(vacancy['data']['experienceLevels'])}.\n",
    "                         Location: {vacancy['data']['requiredLocation']}.\n",
    "                         Tasks: {(', ').join(vacancy['data']['projectTasks'])}\"\"\")\n",
    "            # print(f'\\nFile: {filename}')\n",
    "            # print(out_line_2)\n",
    "            vacancies_similarity[filename[:-5]].append(out_line_2)"
   ],
   "metadata": {
    "id": "brDG-xEdf3sd",
    "pycharm": {
     "name": "#%%\n"
    }
   },
   "execution_count": null,
   "outputs": []
  },
  {
   "cell_type": "code",
   "source": [
    "# Имеем две части резюме\n",
    "print('Резюме:')\n",
    "print(f'Желаемая позиция и скилы:\\n{text_line}') # title, skill_set, professional_roles...name\n",
    "print(f'Опыт и др. информация от соискателя:\\n{add_resume_info}') # skills, language, schedules, experience(position, description), area, relocation\n",
    "\n",
    "\n",
    "vacancies_similarity_en = {}\n",
    "# По выбранным трем вакансиям имеем:\n",
    "print('\\nВыбранные вакансии:')\n",
    "for k, v in vacancies_similarity.items():\n",
    "    print(f'\\nFile: {k}.json')\n",
    "    print(v[0]) # position, skills, mandatoryRequirements\n",
    "    print(v[1]) # experienceLevels, requiredLocation, projectTasks\n",
    "\n",
    "    # Выбранные вакансии на английский\n",
    "    vacancies_similarity_en[k] = [transtator.translate(v[0]),\n",
    "                                  transtator.translate(v[1])]"
   ],
   "metadata": {
    "id": "rBxpZDwJ5LHp",
    "pycharm": {
     "name": "#%%\n"
    }
   },
   "execution_count": null,
   "outputs": []
  },
  {
   "cell_type": "code",
   "source": [
    "#@title Подготовка запросов к ChatGPT\n",
    "\n",
    "\n",
    "# функция добавления переходов на новую строку для удобства чтения\n",
    "def format_newlines(text: str, max_len: int = 150) -> str:\n",
    "    lines = text.splitlines()\n",
    "    new_lines = []\n",
    "    for line in lines:\n",
    "        words = line.split()\n",
    "        current_line = \"\"\n",
    "        for word in words:\n",
    "            if len(current_line + \" \" + word) > max_len:\n",
    "                new_lines.append(current_line)\n",
    "                current_line = \"\"\n",
    "            current_line += f' {word}'\n",
    "        new_lines.append(current_line)\n",
    "    return \"\\n\".join(new_lines)\n",
    "\n",
    "\n",
    "# Стоимость запроса + ответ для \"gpt-3.5-turbo-0125\"\n",
    "def print_tokens_count(completion):\n",
    "    # global TOTAL_AMOUNT\n",
    "    # \"gpt-3.5-turbo-0125\" - Input: $0.50 / 1M tokens - Output: $1.50 / 1M tokens - 07/03/2024 - https://openai.com/pricing\n",
    "    price = 0.5 * completion.usage.prompt_tokens / 1e6 + 1.5 * completion.usage.completion_tokens / 1e6\n",
    "    print(f'Использовано токенов: {completion.usage.prompt_tokens} + '\n",
    "                                f'{completion.usage.completion_tokens} = '\n",
    "                                f'{completion.usage.total_tokens}. '\n",
    "                                f'Цена запроса + ответ: $ {price}\\n')\n",
    "    # TOTAL_AMOUNT += price\n",
    "\n",
    "\n",
    "def answer_gpt(messages, temp=0.5):\n",
    "    completion = openai.chat.completions.create(model=\"gpt-3.5-turbo-0125\",\n",
    "                                                messages=messages,\n",
    "                                                temperature=temp)\n",
    "    print_tokens_count(completion)\n",
    "    return completion.choices[0].message.content"
   ],
   "metadata": {
    "id": "t5354OfZ92JQ",
    "pycharm": {
     "name": "#%%\n"
    }
   },
   "execution_count": null,
   "outputs": []
  },
  {
   "cell_type": "code",
   "source": [
    "# резюме у нас:\n",
    "print(format_newlines(text_line))\n",
    "print(format_newlines(add_resume_info))"
   ],
   "metadata": {
    "colab": {
     "base_uri": "https://localhost:8080/"
    },
    "id": "OGJaHKVdaIlH",
    "executionInfo": {
     "status": "ok",
     "timestamp": 1709840167343,
     "user_tz": -180,
     "elapsed": 249,
     "user": {
      "displayName": "Alex Klin",
      "userId": "11249935885368047783"
     }
    },
    "outputId": "14d98046-be35-405f-d920-a039a7c178ad",
    "pycharm": {
     "name": "#%%\n"
    }
   },
   "execution_count": null,
   "outputs": [
    {
     "output_type": "stream",
     "name": "stdout",
     "text": [
      " Position: Java-разработчик. Программист, разработчик. Skills: Spring Framework, Java, Git, SQL, PostgreSQL, Hibernate ORM, Spring Boot, REST, ООП,\n",
      " Intellij IDEA, JUnit, Maven, Java Core, Docker, Kubernetes, Kafka, Spring, Hibernate, Swagger, GitHub, JDBC, JPA.\n",
      " Моей целью в качестве разработчика на Java является использование своих технических навыков для поддержки ИТ-проектов и решения вопросов на благо\n",
      " компании и ее миссии. Имею исключительные обучающие способности с умением решать задачи. Являюсь командным игроком, способным к адаптации и открытым\n",
      " для изменений. Ищу отличную команду в крупной ИТ компании с интересными задачами по разработке, для развития своих компетенций в микросервисной\n",
      " архитектуре, базы данных, Spring Framework. Люблю спортивный бег, путешествия, художественную литературу, проводить время с семьей.. Русский язык -\n",
      " уровень: Родной. Желаемый график работы: Гибкий график. Опыт работы 1: Позиция - Java-разработчик. Описание работы 1: Разработал приложение сервиса\n",
      " управления жизненным циклом товаров для крупной оптовой компании по металлообработке. - реализовал бизнес-логику, разработал новый функционал\n",
      " выводимых сервисов; - реализовал функционал отгрузки готовой продукции и мониторинга товаров на складе; - оптимизировал работу сервиса; - написал\n",
      " юнит- и интеграционные тесты; - проводил код-ревью; - разработал модели данных новых сервисов для базы данных; - взаимодействовал с другими\n",
      " участниками команды разработки; - имитация запросов клиента и шаблонов REST. СТЕК ТЕХНОЛОГИЙ: Java Spring Boot, Security, Data, MVC Hibernate\n",
      " PostgreSQL Maven JUnit Swagger Jenkins Gitflow ДОСТИЖЕНИЯ: Улучшил производительность системы на 30% путем оптимизации SQL-запросов, внедрил механизм\n",
      " резервирования товаров для предотвращения недостачи, автоматизировал мониторинг складских запасов.. Опыт работы 2: Позиция - Java-разработчик.\n",
      " Описание работы 2: Проект: Веб-приложение для управления задачами (5 месяцев) СТЕК ТЕХНОЛОГИЙ: Java Spring Boot Thymeleaf MySQL Maven ОСНОВНЫЕ\n",
      " ЗАДАЧИ: Участвовал в разработке веб-приложения для управления задачами. Создал страницы для добавления, редактирования и удаления задач, проводил\n",
      " работу с базой данных, валидация ввода данных, обработка ошибок. ДОСТИЖЕНИЯ: Успешно завершил проект с созданием основных функций веб-приложения,\n",
      " улучшил навыки работы с Spring Boot и базами данных.. Локация - Санкт-Петербург. Отношение к релокации - готов к переезду.\n"
     ]
    }
   ]
  },
  {
   "cell_type": "code",
   "source": [
    "#@title Какие то вопросы к ChatGPT, чтобы посмотреть как версия 3.5 вообще справляется )\n",
    "\n",
    "\n",
    "def messages(vacancy):\n",
    "    system = \"\"\"You are a professional HR. You help candidates (applicants) to get a job for the chosen vacancy\"\"\"\n",
    "\n",
    "    message_content = f\"\"\"Based on the candidate's resume, you have found a suitable vacancy.\n",
    "    Candidate's desired position, candidate's skills, additional information about the candidate\n",
    "    from the resume: {eng_line}. {add_resume_info_en}. Requirements for the candidate, according\n",
    "    to the vacancy you have chosen: {vacancy}. Analyze the information from the candidate's\n",
    "    resume and the requirements from the vacancy.\"\"\"\n",
    "\n",
    "    question = \"\"\"Answer the questions:\n",
    "    1. What should the candidate's attention be paid to when interviewing for a vacancy position?\n",
    "    2. What are the strengths of the candidate for the chosen vacancy?\n",
    "    3. What is the probability, as a percentage from 0 to 100, that a candidate will get a job for\n",
    "    the chosen vacancy based on his skills and competencies?\n",
    "\n",
    "    Answer all questions in Russian, with the exception of the words denoting the candidate's skills,\n",
    "    if you write about them. So, answer in Russian, but if you use words denoting the candidate's skills,\n",
    "    write skills in English.\"\"\"\n",
    "\n",
    "    return [{\"role\": \"system\", \"content\": system},\n",
    "            {\"role\": \"user\", \"content\": f\"{message_content}\\n{question}\"}]\n",
    "\n",
    "\n",
    "# Запускаю вопрсы по каждой из трех выбранных вакансий\n",
    "for k, v in vacancies_similarity_en.items():\n",
    "    print('\\n', '-'*50)\n",
    "    print(f'Вакансия: {k}')\n",
    "    response = answer_gpt(messages(vacancy = v[0] + v[1]), temp=0.3)\n",
    "    print(format_newlines(response))"
   ],
   "metadata": {
    "colab": {
     "base_uri": "https://localhost:8080/"
    },
    "id": "jA8cetw392Fd",
    "executionInfo": {
     "status": "ok",
     "timestamp": 1709839780882,
     "user_tz": -180,
     "elapsed": 24869,
     "user": {
      "displayName": "Alex Klin",
      "userId": "11249935885368047783"
     }
    },
    "outputId": "c814773e-4827-406f-b43d-de2c8dfbee87",
    "pycharm": {
     "name": "#%%\n"
    }
   },
   "execution_count": null,
   "outputs": [
    {
     "output_type": "stream",
     "name": "stdout",
     "text": [
      "\n",
      " --------------------------------------------------\n",
      "Вакансия: Java_разработчик-2ce1bca2-5a23-4f68-8566-8ff0f7f87e3c\n",
      "Использовано токенов: 1036 + 552 = 1588. Цена запроса + ответ: $ 0.001346\n",
      "\n",
      " 1. На собеседовании на вакансию кандидату стоит обратить внимание на следующие аспекты:\n",
      " - Опыт работы с MS SQL, PostgreSQL и Oracle Pl/SQL, так как это требуется по вакансии.\n",
      " - Навыки работы с CI/CD процессами на GitLab или аналогах.\n",
      " - Умение анализировать проблемы производительности и трассировать сложные ошибки.\n",
      " - Опыт работы в команде по методикам agile разработки (Scrum, Kanban и т. д.).\n",
      " - Знание Spring, Spring Boot, Spring Cloud, JPA и опыт работы с *nix командной строкой.\n",
      " - Навыки работы с Kubernetes, Docker и базами данных.\n",
      "\n",
      " 2. Сильные стороны кандидата для выбранной вакансии:\n",
      " - Обширный опыт работы с Java, Spring Framework, Hibernate ORM и другими технологиями Java.\n",
      " - Успешное участие в разработке различных веб-приложений и сервисов.\n",
      " - Навыки разработки и оптимизации SQL запросов, что соответствует требованиям вакансии.\n",
      " - Готовность к адаптации к новым проектам и изменениям, что важно для работы в динамичной команде.\n",
      " - Опыт работы с различными инструментами разработки, такими как Git, Maven, JUnit и другие.\n",
      "\n",
      " 3. Вероятность того, что кандидат получит работу на выбранной вакансии, оценивается примерно на 80-85%. У него есть обширный опыт работы с Java и\n",
      " связанными технологиями, что соответствует требованиям вакансии. Кроме того, он проявил гибкость и адаптивность в предыдущих проектах, что является\n",
      " важным качеством для работы в команде разработки по методикам agile.\n",
      "\n",
      " --------------------------------------------------\n",
      "Вакансия: Java_разработчик-6e8ea5e3-47fb-4a15-84fa-6ab618dcbbe0\n",
      "Использовано токенов: 1141 + 635 = 1776. Цена запроса + ответ: $ 0.001523\n",
      "\n",
      " 1. На собеседовании на вакансию Java developer кандидату стоит обратить внимание на следующие аспекты:\n",
      " - Опыт работы с технологиями из стека требований к вакансии, такими как PostgreSQL, Docker, Kubernetes, Spring, Hibernate, Kafka и др.\n",
      " - Навыки постановки задач разработчикам и оптимизации бизнес-процессов.\n",
      " - Опыт работы с CI/CD и юнит-тестированием.\n",
      " - Знание и опыт работы с GitLab CI для автоматизации процессов.\n",
      " - Умение проводить реинжиниринг бизнес-процессов и моделировать их.\n",
      " - Навыки оптимизации кода и процессов, а также поддержки ПО и пользователей.\n",
      " - Опыт работы с микросервисной архитектурой и интеграцией сервисов.\n",
      "\n",
      " 2. Сильные стороны кандидата для выбранной вакансии:\n",
      " - Обширный опыт работы с Java, Spring Framework, PostgreSQL, Hibernate и другими технологиями из стека требований.\n",
      " - Успешное участие в разработке разнообразных проектов, включая создание веб-приложений и сервисов жизненного цикла продуктов.\n",
      " - Навыки оптимизации производительности системы, написания тестов, проведения код-ревью и моделирования данных.\n",
      " - Готовность к адаптации, работе в команде и обучению, что важно для успешной интеграции в проекты компании.\n",
      "\n",
      " 3. Вероятность того, что кандидат получит работу на выбранной вакансии, оценивается примерно на 85-90%. У него есть обширный опыт работы с\n",
      " необходимыми технологиями, хорошие навыки разработки и оптимизации кода, а также готовность к изучению новых задач и технологий. Кандидат\n",
      " соответствует требованиям вакансии и имеет все шансы на успешное прохождение собеседования.\n",
      "\n",
      " --------------------------------------------------\n",
      "Вакансия: Java_разработчик-f6b48d5d-882e-4afd-8826-3d46b78342c6\n",
      "Использовано токенов: 1332 + 495 = 1827. Цена запроса + ответ: $ 0.0014085\n",
      "\n",
      " 1. На собеседовании на вакансию кандидату следует обратить внимание на его опыт работы с базами данных, умение разрабатывать программное обеспечение,\n",
      " навыки управления задачами для разработчиков, коммуникативные навыки, опыт работы с Java и Spring Framework, а также готовность к удаленной работе и\n",
      " работе в команде. Также важно выяснить, насколько кандидат знаком с принципами CI/CD, Scrum, микросервисной архитектурой, а также его опыт работы с\n",
      " Kafka, Kubernetes, MongoDB и Elasticsearch.\n",
      "\n",
      " 2. Сильные стороны кандидата для выбранной вакансии включают в себя его опыт разработки в Java, знание Spring Boot, умение работать с базами данных,\n",
      " а также его готовность к обучению и развитию навыков в области микросервисной архитектуры и Spring Framework. Кандидат также обладает\n",
      " коммуникативными навыками, опытом работы в команде и адаптивностью к изменениям.\n",
      "\n",
      " 3. Вероятность того, что кандидат получит работу на выбранной вакансии, составляет около 70-80%. У него есть хороший опыт работы в Java, Spring Boot\n",
      " и с базами данных, что соответствует требованиям вакансии. Однако ему может потребоваться дополнительное обучение или опыт работы с некоторыми\n",
      " инструментами и технологиями, такими как Kubernetes, Kafka и Elasticsearch, чтобы увеличить свои шансы на успешное трудоустройство.\n"
     ]
    }
   ]
  }
 ],
 "metadata": {
  "kernelspec": {
   "display_name": "Python 3 (ipykernel)",
   "language": "python",
   "name": "python3"
  },
  "language_info": {
   "codemirror_mode": {
    "name": "ipython",
    "version": 3
   },
   "file_extension": ".py",
   "mimetype": "text/x-python",
   "name": "python",
   "nbconvert_exporter": "python",
   "pygments_lexer": "ipython3",
   "version": "3.11.4"
  },
  "colab": {
   "provenance": []
  }
 },
 "nbformat": 4,
 "nbformat_minor": 0
}