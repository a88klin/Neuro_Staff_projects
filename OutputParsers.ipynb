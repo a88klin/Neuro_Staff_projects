{
 "cells": [
  {
   "cell_type": "code",
   "execution_count": 1,
   "outputs": [],
   "source": [
    "from pydantic import SecretStr\n",
    "from pydantic_settings import BaseSettings, SettingsConfigDict\n",
    "import os\n",
    "from langchain_core.output_parsers import JsonOutputParser\n",
    "from langchain.prompts import PromptTemplate\n",
    "from langchain_core.pydantic_v1 import BaseModel, Field\n",
    "from langchain_openai import ChatOpenAI\n",
    "from typing import List\n",
    "\n",
    "\n",
    "class Settings(BaseSettings):\n",
    "    model_config = SettingsConfigDict(env_file='input',\n",
    "                                      env_file_encoding='utf-8')\n",
    "    openai_api_key: SecretStr\n",
    "\n",
    "config = Settings()\n",
    "os.environ[\"OPENAI_API_KEY\"] = config.openai_api_key.get_secret_value()"
   ],
   "metadata": {
    "collapsed": false,
    "pycharm": {
     "name": "#%%\n"
    }
   }
  },
  {
   "cell_type": "markdown",
   "source": [
    "## JsonOutputParser"
   ],
   "metadata": {
    "collapsed": false,
    "pycharm": {
     "name": "#%% md\n"
    }
   }
  },
  {
   "cell_type": "code",
   "execution_count": 2,
   "outputs": [
    {
     "data": {
      "text/plain": "{'name': 'Иван Иванович Пупкин',\n 'dob': '10.10.2000',\n 'education': 'Высшее экономическое образование',\n 'work': ['Менеджер фирмы Альфа в 2020 году',\n  'Менеджер фирмы Бетта в 2021 году',\n  'Менеджер фирмы Тетта в 2023 году']}"
     },
     "execution_count": 2,
     "metadata": {},
     "output_type": "execute_result"
    }
   ],
   "source": [
    "class About(BaseModel):\n",
    "    name: str = Field(description=\"Write the author's full name.\")\n",
    "    dob: str = Field(description=\"Write down the author's date of birth.\")\n",
    "    education: str = Field(description=\"Describes the author's educational experience / background.\")\n",
    "    work: List[str] = Field(description=\"Describes the author's work experience / background.\")\n",
    "\n",
    "\n",
    "parser = JsonOutputParser(pydantic_object=About)\n",
    "prompt = PromptTemplate(\n",
    "    input_variables=[\"query\"],\n",
    "    template=\"Answer the user query.\\n\"\n",
    "             \"{format_instructions}\\n\"\n",
    "             \"{content_}.\\n\"\n",
    "             \"{query}\\n\",\n",
    "    partial_variables={\"format_instructions\": parser.get_format_instructions(),\n",
    "                       \"content_\": \" \"}, ) # доп. контент, если нужно\n",
    "\n",
    "model = ChatOpenAI(temperature=0)\n",
    "chain = prompt | model | parser\n",
    "\n",
    "\n",
    "# Текст с лишней информацией\n",
    "query = \"\"\"\n",
    "Меня зовут Иван Иванович Пупкин.\n",
    "Птицы в небе парят, парят и поют,\n",
    "Их голоса звучат над зеленым лугом.\n",
    "Природа величественна и нежна,\n",
    "В ней сокрыты тайны и красоты много.\n",
    "Дата рождения - 10.10.2000.\n",
    "В лесу тишина, покой и свежесть,\n",
    "Где ветер шепчет свои нежные слова.\n",
    "Зеленые деревья, ветви, листья,\n",
    "Встречают утро своими объятьями.\n",
    "Я имею высшее экономическое образование.\n",
    "Мой опыт работы: менеджер фирмы Альфа в 2020 году,\n",
    "Ручей мелодично поет песню свою,\n",
    "Соприкасаясь с камнями и землей.\n",
    "Цветы яркие расцветают в полях,\n",
    "Радуя глаза своей красотой своей.\n",
    "менеджер фирмы Бетта в 2021 году,\n",
    "менеджер фирмы Тетта в 2023 году.\"\"\"\n",
    "\n",
    "\n",
    "# Из всего текста выбираем только то, что нужно из класса About\n",
    "chain.invoke({\"query\": query})"
   ],
   "metadata": {
    "collapsed": false,
    "pycharm": {
     "name": "#%%\n"
    }
   }
  },
  {
   "cell_type": "markdown",
   "source": [
    " ---------------------------------------------------------------------------\n",
    "## Парсер с использованием индексной базы данных (для больших объемов текста)\n",
    "## Langchain output_parsers + llama_index"
   ],
   "metadata": {
    "collapsed": false,
    "pycharm": {
     "name": "#%% md\n"
    }
   }
  },
  {
   "cell_type": "code",
   "execution_count": 10,
   "outputs": [],
   "source": [
    "from llama_index.core import VectorStoreIndex, SimpleDirectoryReader\n",
    "from llama_index.core.output_parsers import LangchainOutputParser\n",
    "from llama_index.llms.openai import OpenAI\n",
    "from langchain.output_parsers import StructuredOutputParser, ResponseSchema\n",
    "import requests\n",
    "\n",
    "\n",
    "def download_from_url(url, save_path):\n",
    "    with open(save_path, 'wb') as f:\n",
    "        f.write(requests.get(url).content)\n",
    "\n",
    "url = 'https://raw.githubusercontent.com/run-llama/llama_index/main/docs/docs/examples/data/paul_graham/paul_graham_essay.txt'\n",
    "download_from_url(url, 'data/paul_graham_essay.txt')"
   ],
   "metadata": {
    "collapsed": false,
    "pycharm": {
     "name": "#%%\n"
    }
   }
  },
  {
   "cell_type": "code",
   "execution_count": 4,
   "outputs": [
    {
     "data": {
      "text/plain": "22"
     },
     "execution_count": 4,
     "metadata": {},
     "output_type": "execute_result"
    }
   ],
   "source": [
    "documents = SimpleDirectoryReader(\"data/\").load_data()\n",
    "index_db = VectorStoreIndex.from_documents(documents, chunk_size=1024) # индексная база\n",
    "len(index_db.docstore.docs) # к-во чанков"
   ],
   "metadata": {
    "collapsed": false,
    "pycharm": {
     "name": "#%%\n"
    }
   }
  },
  {
   "cell_type": "code",
   "execution_count": 5,
   "outputs": [],
   "source": [
    "schemas = [\n",
    "    ResponseSchema(\n",
    "        name=\"Education\",\n",
    "        description=\"Describes the author's educational experience / background.\"),\n",
    "    ResponseSchema(\n",
    "        name=\"Work\",\n",
    "        description=\"Describes the author's work experience / background.\"),\n",
    "]\n",
    "\n",
    "output_parser = StructuredOutputParser.from_response_schemas(schemas)\n",
    "parser = LangchainOutputParser(output_parser)"
   ],
   "metadata": {
    "collapsed": false,
    "pycharm": {
     "name": "#%%\n"
    }
   }
  },
  {
   "cell_type": "code",
   "execution_count": 6,
   "outputs": [
    {
     "name": "stdout",
     "output_type": "stream",
     "text": [
      "Context information is below.\n",
      "---------------------\n",
      "{context_str}\n",
      "---------------------\n",
      "Given the context information and not prior knowledge, answer the query.\n",
      "Query: {query_str}\n",
      "Answer: \n",
      "\n",
      "The output should be a markdown code snippet formatted in the following schema, including the leading and trailing \"```json\" and \"```\":\n",
      "\n",
      "```json\n",
      "{{\n",
      "\t\"Education\": string  // Describes the author's educational experience / background.\n",
      "\t\"Work\": string  // Describes the author's work experience / background.\n",
      "}}\n",
      "```\n"
     ]
    }
   ],
   "source": [
    "from llama_index.core.prompts.default_prompts import (DEFAULT_TEXT_QA_PROMPT_TMPL)\n",
    "print(parser.format(DEFAULT_TEXT_QA_PROMPT_TMPL))"
   ],
   "metadata": {
    "collapsed": false,
    "pycharm": {
     "name": "#%%\n"
    }
   }
  },
  {
   "cell_type": "code",
   "execution_count": 7,
   "outputs": [
    {
     "name": "stdout",
     "output_type": "stream",
     "text": [
      "\n",
      " {'Education': 'Studied philosophy in college before switching to AI', 'Work': 'Worked on writing short stories and programming, including writing simple games, a rocket prediction program, and a word processor'}\n"
     ]
    }
   ],
   "source": [
    "llm = OpenAI(output_parser=parser)\n",
    "query_engine = index_db.as_query_engine(llm=llm)\n",
    "\n",
    "question = \"What are a things the author did growing up?\"\n",
    "response = query_engine.query(question)\n",
    "print('\\n', response)"
   ],
   "metadata": {
    "collapsed": false,
    "pycharm": {
     "name": "#%%\n"
    }
   }
  },
  {
   "cell_type": "markdown",
   "source": [
    " -----------------------------------------------------------------------------\n",
    "## Еще один вариант с индексной базой\n",
    "## Langchain output_parsers + llama_index"
   ],
   "metadata": {
    "collapsed": false,
    "pycharm": {
     "name": "#%% md\n"
    }
   }
  },
  {
   "cell_type": "code",
   "execution_count": 11,
   "outputs": [],
   "source": [
    "import re\n",
    "\n",
    "def download_from_url(url, save_path):\n",
    "    match_ = re.search('/document/d/([a-zA-Z0-9-_]+)', url)\n",
    "    if match_ is None:\n",
    "        raise ValueError('Invalid Google Docs URL')\n",
    "    doc_id = match_.group(1)\n",
    "    response = requests.get(f'https://docs.google.com/document/d/{doc_id}/export?format=txt')\n",
    "    response.raise_for_status()\n",
    "    with open(save_path, 'w', encoding='utf-8') as f:\n",
    "        f.write(response.text)\n",
    "\n",
    "url = 'https://docs.google.com/document/d/1PGw2Y4PSJ2S7vfPlge9j6G_x0zX6jX4UEIitfwlP-c0/edit?usp=sharing'\n",
    "download_from_url(url, 'data2/rules.txt')"
   ],
   "metadata": {
    "collapsed": false,
    "pycharm": {
     "name": "#%%\n"
    }
   }
  },
  {
   "cell_type": "code",
   "execution_count": 13,
   "outputs": [
    {
     "data": {
      "text/plain": "82"
     },
     "execution_count": 13,
     "metadata": {},
     "output_type": "execute_result"
    }
   ],
   "source": [
    "documents = SimpleDirectoryReader('data2/').load_data()\n",
    "index_db = VectorStoreIndex.from_documents(documents, chunk_size=512) # индексная база\n",
    "len(index_db.docstore.docs) # к-во чанков"
   ],
   "metadata": {
    "collapsed": false,
    "pycharm": {
     "name": "#%%\n"
    }
   }
  },
  {
   "cell_type": "code",
   "execution_count": 14,
   "outputs": [
    {
     "name": "stdout",
     "output_type": "stream",
     "text": [
      "\n",
      " {'Q1': 'Независимость Юрисдикционных органов означает, что они могут принимать решения без внешнего влияния и вмешательства, обеспечивая объективность и справедливость в своей деятельности.', 'Q2': 'Право на участие в заседании Юрисдикционного органа предоставляет заинтересованным лицам возможность присутствовать на заседаниях, высказывать свою позицию, представлять свидетельские показания или доказательства в свою защиту.', 'Q3': 'Общие начала применения спортивных санкций включают в себя принципы справедливости, пропорциональности, недискриминации и соблюдения процедурных правил при наложении наказаний за нарушения.'}\n"
     ]
    }
   ],
   "source": [
    "schemas = [\n",
    "    ResponseSchema(name=\"Q1\",\n",
    "        description=\"Опиши Независимость Юрисдикционных органов\"),\n",
    "    ResponseSchema(name=\"Q2\",\n",
    "        description=\"Опиши Право на участие в заседании Юрисдикционного органа\"),\n",
    "    ResponseSchema(name=\"Q3\",\n",
    "        description=\"Опиши Общие начала применения спортивных санкций\"),\n",
    "]\n",
    "output_parser = StructuredOutputParser.from_response_schemas(schemas)\n",
    "parser = LangchainOutputParser(output_parser)\n",
    "\n",
    "llm = OpenAI(output_parser=parser)\n",
    "query_engine = index_db.as_query_engine(llm=llm)\n",
    "\n",
    "question = \"Опиши указанные понятия\"\n",
    "response = query_engine.query(question)\n",
    "print('\\n', response)"
   ],
   "metadata": {
    "collapsed": false,
    "pycharm": {
     "name": "#%%\n"
    }
   }
  }
 ],
 "metadata": {
  "kernelspec": {
   "display_name": "llama-index-4a-wkI5X-py3.11",
   "language": "python",
   "name": "python3"
  },
  "language_info": {
   "codemirror_mode": {
    "name": "ipython",
    "version": 3
   },
   "file_extension": ".py",
   "mimetype": "text/x-python",
   "name": "python",
   "nbconvert_exporter": "python",
   "pygments_lexer": "ipython3"
  }
 },
 "nbformat": 4,
 "nbformat_minor": 5
}