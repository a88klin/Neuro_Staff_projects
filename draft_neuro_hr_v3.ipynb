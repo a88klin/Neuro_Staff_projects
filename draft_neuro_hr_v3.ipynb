{
 "cells": [
  {
   "cell_type": "code",
   "execution_count": 2,
   "outputs": [],
   "source": [
    "import time\n",
    "import pymongo\n",
    "import json\n",
    "import os\n",
    "import tqdm\n",
    "import re\n",
    "import openai\n",
    "import tiktoken\n",
    "from langchain.docstore.document import Document\n",
    "from langchain_openai import OpenAIEmbeddings\n",
    "from langchain_community.vectorstores import FAISS\n",
    "from dotenv import load_dotenv\n",
    "from deep_translator import GoogleTranslator # До 5000 символов за раз\n",
    "\n",
    "load_dotenv()\n",
    "os.environ[\"OPENAI_API_KEY\"] = os.getenv('OPENAI_API_KEY')\n",
    "transtator = GoogleTranslator(source='ru', target='en')"
   ],
   "metadata": {
    "collapsed": false,
    "pycharm": {
     "name": "#%%\n"
    }
   }
  },
  {
   "cell_type": "code",
   "execution_count": 4,
   "outputs": [],
   "source": [
    "client_mongo = pymongo.MongoClient('mongodb://localhost:27017/')\n",
    "db_hr = client_mongo.hr\n",
    "vacancies_collection = db_hr.vacancies\n",
    "resumes_collection = db_hr.resumes"
   ],
   "metadata": {
    "collapsed": false,
    "pycharm": {
     "name": "#%%\n"
    }
   }
  },
  {
   "cell_type": "code",
   "execution_count": 2,
   "metadata": {
    "scrolled": false,
    "pycharm": {
     "name": "#%%\n"
    }
   },
   "outputs": [
    {
     "name": "stdout",
     "output_type": "stream",
     "text": [
      "К-во вакансий в базе данных: 100. \n",
      "К-во резюме в базе данных: 100.\n"
     ]
    }
   ],
   "source": [
    "# Записываю в коллекцию vacancies базы hr все вакансии из файлов json\n",
    "for filename in os.listdir('../Vacancies'): # Локальная папка с вакансиями\n",
    "    if filename.endswith('.json'):\n",
    "        with open(os.path.join('../Vacancies', filename), 'r', encoding='utf-8') as v:\n",
    "            vacancy_dict = json.load(v)\n",
    "            vacancy_dict['_id'] = filename # Добавляю поле \"_id\" с именем файла для каждой вакансии\n",
    "            try:\n",
    "                vacancies_collection.insert_one(vacancy_dict)\n",
    "            except Exception as ex:\n",
    "                pass\n",
    "\n",
    "# Записываю в коллекцию resumes базы hr все резюме из файлов json\n",
    "for filename in os.listdir('../Resumes'): # Локальная папка с резюме\n",
    "    if filename.endswith('.json'):\n",
    "        with open(os.path.join('../Resumes', filename), 'r', encoding='utf-8') as r:\n",
    "            resume_dict = json.load(r)\n",
    "            resume_dict['_id'] = filename # Добавляю поле \"_id\" с именем файла для каждого резюме\n",
    "            try:\n",
    "                resumes_collection.insert_one(resume_dict)\n",
    "            except Exception as ex:\n",
    "                pass\n",
    "\n",
    "print(f'К-во вакансий в базе данных: {vacancies_collection.count_documents({})}. '\n",
    "      f'\\nК-во резюме в базе данных: {resumes_collection.count_documents({})}.')"
   ]
  },
  {
   "cell_type": "markdown",
   "source": [
    "# Вакансии\n",
    "### Ключевые поля (основные требования) определям из вакансий\n",
    "### Ключевые поля:\n",
    "- Позиция \"position\"\n",
    "- Уровень \"experienceLevels\"\n",
    "- Формат работы \"workFormat\"\n",
    "- Локация \"requiredLocation\"\n",
    "- Зарплата \"partnerRates\" в час (168 часов в месяце)\n",
    "- Проектные задачи \"projectTasks\"\n",
    "#### Три поля по скилам:\n",
    "- Скилы \"skills\"\n",
    "- Требования \"mandatoryRequirements\"\n",
    "- Доп. требования \"additionalRequirements\""
   ],
   "metadata": {
    "collapsed": false,
    "pycharm": {
     "name": "#%% md\n"
    }
   }
  },
  {
   "cell_type": "code",
   "execution_count": 16,
   "metadata": {
    "scrolled": true,
    "pycharm": {
     "name": "#%%\n"
    }
   },
   "outputs": [
    {
     "name": "stderr",
     "output_type": "stream",
     "text": [
      "100it [15:16,  9.16s/it]"
     ]
    },
    {
     "name": "stdout",
     "output_type": "stream",
     "text": [
      "Position: Kotlin developer. Skills: Accounting, Management accounting, The development of the software, Setting the tasks to developers, Remote work, Optimizing the query, PostgreSQL is, The system, The CI/CD, The SOLID, The Kotlin, Docker, The Nexus, The CI , Unit Testing, The Kotlin Coroutines, MVC, ETL, The system analysis, ETL of the process, Big data, Video processing, solid, Agile Project Management, The financial analysis, Project documentation, Business analytics, Docker is, Kafka, The Kubernetes , Design Patterns, Managing the servers, Apache Kafka, The SCALA, ETL/ELT, The data, Project management, Management, Highload, Design of the system, Product development, JPA, Creating a system of linkages, Management of requirements, Time management , Design system, The kubernetes, Docker-compose, Analysis of the requirements, The swagger, Postgres, Technical service, MQ, Technical task, Process management, Optimizing the processes, Kotlin, Developing electrical systems, Analysis of financial indicators, Business indicators analyzed , The development, Business processes are described, The system approach, Management reporting, Database management systems, Spring data, Knowledge of foreign languages, Working with advertising networks, Project work, system design, Developing technical tasks, Brand management, Project activities, Formation of technical task for development, Testing, Gradle, Flow, Business processes management, RabbitMQ, The ASP.NET MVC, Advertising, Database management, Developing the data store, Apache Spark, The Kotlin Multiplatform, Swagger, Kuberflow, Technical systems and safety tools , RPC, Planning of advertising campaigns, Developing new and supporting existing projects of different levels of complexity, The development management, System administration, Install and configure the software. Requirements: 4 years of experience in Java/Kotlin development; Knowledge of PostgreSQL (complex queries, optimization); Experience using Docker, docker-compose; Knowledge of Spring 5.x (MVC, DATA, Security, WebFlux, JPA), Gradle; Ability to understand other people’s code and conduct high-quality code reviews; Experience supporting and writing Unit tests; Knowledge of design patterns, DI, SOLID; Experience in REST API/Swagger development and design; Experience in profiling and finding bottlenecks; Experience using and setting up CI/CD. Add.Requirements: Experience with Scala (there are projects that I would like to rewrite in Kotlin); Experience using gRPC; Experience with Nexus and SonarQube; Experience with kubernetes; Experience using RabbitMQ, Kafka; Experience writing ETL on Apache Spark. \n",
      "\n",
      "Experience Levels: Senior. Work Format: Remote. Required Location: Any. Salary: 537,600 rubles per month. \n",
      "\n",
      "Tasks: Participation in creating solutions in the field of data storage and processing; Creation of services that work with big data and heavy load; Development of systems for collecting metrics and monitoring technical and business indicators; Development of a system for managing and processing financial data. \n",
      "\n"
     ]
    },
    {
     "name": "stderr",
     "output_type": "stream",
     "text": [
      "\n"
     ]
    }
   ],
   "source": [
    "# Формирую строки из ключевых полей\n",
    "for value in tqdm.tqdm(vacancies_collection.find()): # по всем вакансиям из коллекции vacancies\n",
    "\n",
    "    try: # Если указана зарплата (за час)\n",
    "        salary = int(re.findall(r'\\d+', f\"{value['data']['partnerRates']}\")[0]) * 168 # Зарплата за 168 часов в месяц\n",
    "        salary = f\"Salary: {salary} рублей в месяц.\"\n",
    "    except:\n",
    "        salary = ''\n",
    "\n",
    "    try: # Если указаны Add.Requirements\n",
    "        add_requirements = f\"Add.Requirements: {(' ').join(value['data']['additionalRequirements'])}\"\n",
    "    except:\n",
    "        add_requirements = ''\n",
    "\n",
    "    # Position, Skills, M.Requirements, Add.Requirements *******************************\n",
    "    vacancy_line_1 = re.sub(r'\\s+', ' ', f\"\"\"\n",
    "                   Position: {value['data']['position']}.\n",
    "                   Skills: {(', ').join(value['skills'])}.\n",
    "                   Requirements: {(' ').join(value['data']['mandatoryRequirements'])}\n",
    "                   {add_requirements}\"\"\")\n",
    "    vacancy_line_1_en = transtator.translate(vacancy_line_1)\n",
    "    time.sleep(1)\n",
    "\n",
    "    # Levels, WorkFormat, Location, Salary **********************************************\n",
    "    vacancy_line_2 = re.sub(r'\\s+', ' ', f\"\"\"\n",
    "                   Experience Levels: {(', ').join(value['data']['experienceLevels'])}.\n",
    "                   Work Format: {value['data']['workFormat']}.\n",
    "                   Required Location: {value['data']['requiredLocation']}.\n",
    "                   {salary}\"\"\")\n",
    "    vacancy_line_2_en = transtator.translate(vacancy_line_2)\n",
    "    time.sleep(1)\n",
    "\n",
    "    try: # Project Tasks ****************************************************************\n",
    "        vacancy_line_3 = re.sub(r'\\s+', ' ', f\"Tasks: {(' ').join(value['data']['projectTasks'])}\")\n",
    "        vacancy_line_3_en = transtator.translate(vacancy_line_3)\n",
    "        time.sleep(1)\n",
    "    except:\n",
    "        vacancy_line_3 = ''\n",
    "        vacancy_line_3_en = ''\n",
    "\n",
    "    try: # сохраняю сформированные строки из полей вакансий в коллекцию vacancies\n",
    "        vacancies_collection.find_one_and_update({'_id': value['_id']}, # нахожу вакансию по _id\n",
    "                                                 {'$set': {'line_1': vacancy_line_1,\n",
    "                                                           'line_1_en': vacancy_line_1_en,\n",
    "                                                           'line_2': vacancy_line_2,\n",
    "                                                           'line_2_en': vacancy_line_2_en,\n",
    "                                                           'line_3': vacancy_line_3,\n",
    "                                                           'line_3_en': vacancy_line_3_en}})\n",
    "    except Exception as ex:\n",
    "        print(ex)\n",
    "\n",
    "# Пример строки с выбранными ключевыми полями\n",
    "ex_vacancy = vacancies_collection.find_one({'_id': 'Kotlin_разработчик-6bcde28f-d5b1-4586-82f2-9731cd38c756.json'})\n",
    "print(ex_vacancy['line_1_en'], '\\n')\n",
    "print(ex_vacancy['line_2_en'], '\\n')\n",
    "print(ex_vacancy['line_3_en'], '\\n')"
   ]
  },
  {
   "cell_type": "code",
   "execution_count": 29,
   "outputs": [],
   "source": [
    "#@title Формирую чанки (Langchain Document)\n",
    "\n",
    "vacancies_chunks_1 = []\n",
    "vacancies_chunks_2 = []\n",
    "vacancies_chunks_3 = []\n",
    "vacancies_chunks_all = []\n",
    "\n",
    "for value in vacancies_collection.find(): # по всем вакансиям из базы, коллекции vacancies\n",
    "    # 1. Position, Skills, M.Requirements, Add.Requirements\n",
    "    vacancies_chunks_1.append(Document(page_content=value['line_1_en'], metadata={'file': value['_id']}))\n",
    "    # 2. Levels, WorkFormat, Location, Salary\n",
    "    vacancies_chunks_2.append(Document(page_content=value['line_2_en'], metadata={'file': value['_id']}))\n",
    "    # 1 + 3. (3.Project Tasks)\n",
    "    vacancies_chunks_3.append(Document(page_content=value['line_1_en'] + value['line_3_en'],\n",
    "                                       metadata={'file': value['_id']}))\n",
    "    # 1 + 2 + 3\n",
    "    vacancies_chunks_all.append(Document(page_content=value['line_1_en'] + value['line_2_en'] + value['line_3_en'],\n",
    "                                         metadata={'file': value['_id']}))"
   ],
   "metadata": {
    "collapsed": false,
    "pycharm": {
     "name": "#%%\n"
    }
   }
  },
  {
   "cell_type": "code",
   "execution_count": null,
   "outputs": [],
   "source": [
    "#@title Индексная (векторная) база по выбранным полям Вкансий\n",
    "# Подсчет токенов\n",
    "def num_tokens_from_string(string, encoding_name):\n",
    "    encoding = tiktoken.get_encoding(encoding_name)\n",
    "    return len(encoding.encode(string))\n",
    "\n",
    "# количество токенов индексной базы и стоимость. model Ada v2\n",
    "def tokens_count_db_index(source_chunks):\n",
    "    count_tokens = 0\n",
    "    count_token = num_tokens_from_string(' '.join([x.page_content for x in source_chunks]), \"cl100k_base\")\n",
    "    count_tokens += count_token\n",
    "    # Embedding model Ada v2 - $0.10 / 1M tokens - 13/03/2024 - https://openai.com/pricing\n",
    "    price = 0.1 * count_tokens / 1e6\n",
    "    print(f'К-во токенов в документе: {count_token}. '\n",
    "          f'Цена создания индексной базы: $ {price}')\n",
    "\n",
    "# Если не в колабе, ВКЛЮЧИТЬ VPN\n",
    "for n, chunks in enumerate([vacancies_chunks_1,      #v1. 1. Position, Skills, M.Requirements, Add.Requirements\n",
    "                            vacancies_chunks_2,      #v2. 2. Levels, WorkFormat, Location, Salary\n",
    "                            vacancies_chunks_3,      #v3. 1 + 3. (3.Project Tasks)\n",
    "                            vacancies_chunks_all]):  #v4. 1 + 2 + 3\n",
    "    db = FAISS.from_documents(chunks, OpenAIEmbeddings())\n",
    "    db.save_local(folder_path='../data', index_name=f'db_vacancies_{n+1}_index')"
   ],
   "metadata": {
    "collapsed": false,
    "pycharm": {
     "name": "#%%\n",
     "is_executing": true
    }
   }
  },
  {
   "cell_type": "code",
   "execution_count": 30,
   "outputs": [],
   "source": [
    "# db = FAISS.from_documents(vacancies_chunks_3, OpenAIEmbeddings())\n",
    "# db.save_local(folder_path='../data', index_name=f'db_vacancies_3_index')"
   ],
   "metadata": {
    "collapsed": false,
    "pycharm": {
     "name": "#%%\n"
    }
   }
  },
  {
   "cell_type": "markdown",
   "source": [
    "# Резюме\n",
    "### Ключевые поля резюме для поиска вакансий\n",
    "- Позиция \"title\" + \"professional_roles.name\"\n",
    "- Скилы \"skill_set\"\n",
    "- Доп. информация от кандидата \"skills\"\n",
    "- Зарплата \"salary\"\n",
    "- График работы \"schedule\"\n",
    "- Локация \"area.name\"\n",
    "- Отношение к релокации \"relocation\"\n",
    "- Опыт работы \"experience.position\" и \"experience.description\"\n",
    "- Трудовой стаж (месяцев) \"total_experience\"\n",
    "- Языки \"language\""
   ],
   "metadata": {
    "collapsed": false,
    "pycharm": {
     "name": "#%% md\n"
    }
   }
  },
  {
   "cell_type": "code",
   "execution_count": 20,
   "outputs": [],
   "source": [
    "# Формирую строки из ключевых полей резюме\n",
    "for value in resumes_collection.find(): # по все резюме из коллекции\n",
    "    schedules = '' # График работы\n",
    "    for schedule in value[\"schedules\"]:\n",
    "        schedules += f\"{schedule['name']}, \"\n",
    "\n",
    "    experience = '' # Опыт\n",
    "    for n, place in enumerate(value['experience']):\n",
    "        experience += f\"Job experience {n+1}: Position - {place['position']}. \\\n",
    "                        Job description {n+1}: {place['description']} \"\n",
    "\n",
    "    languages = '' # Языки\n",
    "    for lang in value['language']:\n",
    "        languages += f\"{lang['name']} - {lang['level']['name']}. \"\n",
    "\n",
    "    try: # Если указана зарплата\n",
    "        currency = value['salary']['currency']\n",
    "        salary = f\"Desired salary: {value['salary']['amount']} {currency if currency!='RUR' else 'рублей в месяц'}. \"\n",
    "    except Exception as ex:\n",
    "        salary = ''\n",
    "\n",
    "    if value['skills'] != None: # Add.skills\n",
    "        add_skills = f\"Add.skills: {value['skills']}.\"\n",
    "    else:\n",
    "        add_skills = ''\n",
    "\n",
    "\n",
    "    #r1. Position, Skills, Add.Skills\n",
    "    resume_line_1 = re.sub(r'\\s+', ' ', f\"\"\"\n",
    "                         Position: {value['title']}. {value['professional_roles'][0]['name']}.\n",
    "                         Skills: {(', ').join(value['skill_set'])}.\n",
    "                         {add_skills}\"\"\")\n",
    "    #r2. Salary, Languages, Job schedule, Location, Relocation, Total experience\n",
    "    resume_line_2 = re.sub(r'\\s+', ' ', f\"\"\"\n",
    "                         {salary}\n",
    "                         Languages: {languages}.\n",
    "                         Job schedule: {schedules}.\n",
    "                         Location: {value['area']['name']}.\n",
    "                         Attitude to relocation: {value['relocation']['type']['name']}.\n",
    "                         Total experience: {value['total_experience']['months']} months. \"\"\")\n",
    "    #r3. Experience (position + description)\n",
    "    resume_line_3 = re.sub(r'\\s+', ' ', f'{experience}')\n",
    "\n",
    "    try: # сохраняю сформированные строки из полей резюме в коллекцию resumes\n",
    "        resumes_collection.find_one_and_update({'_id': value['_id']}, # нахожу резюме по _id\n",
    "                                               {'$set': {'line_first_1': resume_line_1,    # Position, Skills, Add.skills\n",
    "                                                         'line_first_2': resume_line_2,    # Salary, Lang, Schedule, Location...\n",
    "                                                         'line_first_3': resume_line_3}})  # Experience (position, description)\n",
    "    except Exception as ex:\n",
    "        print(ex)"
   ],
   "metadata": {
    "collapsed": false,
    "pycharm": {
     "name": "#%%\n"
    }
   }
  },
  {
   "cell_type": "code",
   "execution_count": 21,
   "outputs": [
    {
     "name": "stdout",
     "output_type": "stream",
     "text": [
      " Position: Java программист. Программист, разработчик. Skills: ORACLE, Docker, База данных: Oracle, MySQL, REST, XML, СУБД, Atlassian Jira, Gradle, JDBC, Spring, MongoDB, Unix, GitHub, Hibernate, JSON, REST API, HTTP, Unit Testing, Backend, Maven, JPA, JMS, SOAP, Microservices, Java Script, Java EE, Java SE, MS SQL, Linux.  \n",
      "\n",
      " Desired salary: 200000 рублей в месяц. Languages: Русский - Родной. Английский - B1 — Средний. . Job schedule: Полный день, Сменный график, Гибкий график, Удаленная работа, . Location: Оренбург. Attitude to relocation: не готов к переезду. Total experience: 364 months.  \n",
      "\n",
      "Job experience 1: Position - Java developer (удаленно). Job description 1: Разработка приложений с применением Java 8/11/17, Spring (Data, Boot, Security, Web, Cloud Config, AOP), Git / Gitflow / Bitbucket, Jenkins, микросервисы, docker / docker-compose, Maven / Gradle, Oracle / MySQL / PostgreSQL / MS SQL, Hibernate, JBoss / Glassfish / WildFly / Tomcat / Azure, Unix (FreeBSD, RedHat, CentOS), JUnit / TestNG, NoSQL (Redis / MongoDB), JMS/Kafka, JavaFX, REST, Javascript, Liquibase. Разработка приложений для сбора и обработки информации в call центре, программы для формирования различных отчетов на базе этих данных, инсталляция UNIX серверов (RedHat), установка и обслуживание Oracle / MySQL (настройка, кластеры, резервное копирование). Взаимодействие с другими организациями в целях взаимного обмена информацией с применением стороннего API. Разработка системы сопровождения агентов call центра от регистрации в системе до выставления счетов на оплату их работы с применением данных активности в сети. Разработка форм-опросников для оценки качества работы агентов. Формирование автоматизированных отчетов. Разработка проекта по сбору информации по Rest api из различных источников. Парсинг данных в различных форматах (text, csv, excel, pdf). Web hook endpoint api (Spring Boot / Swagger 3). Job experience 2: Position - Java/J2EE Developer / solution designer. Job description 2: Разработка и сопровождение биллинговой системы интернет провайдера: Modified Tacacs (C language under FreeBSD) and developed Java/PHP/Apache/MySQL based online Billing System. Developed a complex online Report Generation System using J2EE/Struts/MySQL. Installed FreeBSD server and Apache/MySQL/Tomcat services. Job experience 3: Position - Инженер-программист. Job description 3: Работал в интернет отделе. Основное направление работы - поддержка системы и клиентов, разработка системы учета и тарификации. Работа в среде Windows / FreeBSD, C, PHP, PostgreSQL, HTML / CSS Job experience 4: Position - Программист-разработчик. Job description 4: Разработка и сопровождение программ для сбора статистической информации с применением Clipper, Dbase, FoxPro. Поддержка централизованного программного обеспечения, работа с пользователями, настройка компьютеров, локальной сети. \n"
     ]
    }
   ],
   "source": [
    "# Пример строки с выбранными ключевыми полями\n",
    "ex_resume = resumes_collection.find_one({'_id': 'a293-405b-8e46-f47328bea37a.json'})\n",
    "print(ex_resume['line_first_1'], '\\n')\n",
    "print(ex_resume['line_first_2'], '\\n')\n",
    "print(ex_resume['line_first_3'])"
   ],
   "metadata": {
    "collapsed": false,
    "pycharm": {
     "name": "#%%\n"
    }
   }
  },
  {
   "cell_type": "markdown",
   "source": [
    "# Подбор вакансий (similarity_search_with_score) под резюме"
   ],
   "metadata": {
    "collapsed": false,
    "pycharm": {
     "name": "#%% md\n"
    }
   }
  },
  {
   "cell_type": "code",
   "execution_count": 11,
   "outputs": [],
   "source": [
    "#@title similarity_search_with_score\n",
    "def ids_and_scores(query, db, k=5):\n",
    "    docs_and_scores = db.similarity_search_with_score(query, k=k)\n",
    "    print('\\nScores:', [doc[1] for doc in docs_and_scores])\n",
    "    return [f\"{doc[0].metadata['file']}\" for doc in docs_and_scores]\n",
    "\n",
    "# Загружаю ранее сохраненные индексные базы с вакансиями\n",
    "embed = OpenAIEmbeddings()\n",
    "#v1. 1.Position, Skills, M.Requirements, Add.Requirements\n",
    "db_v1 = FAISS.load_local(folder_path='../data', embeddings=embed,\n",
    "                                  index_name='db_vacancies_1_index')\n",
    "#v2. 2.Levels, WorkFormat, Location, Salary\n",
    "db_v2 = FAISS.load_local(folder_path='../data', embeddings=embed,\n",
    "                                  index_name='db_vacancies_2_index')\n",
    "#v3. 1 + 3. (3.Project Tasks)\n",
    "db_v3 = FAISS.load_local(folder_path='../data', embeddings=embed,\n",
    "                                  index_name='db_vacancies_3_index')\n",
    "#v4. 1 + 2 + 3\n",
    "db_v4 = FAISS.load_local(folder_path='../data', embeddings=embed,\n",
    "                                  index_name='db_vacancies_4_index')"
   ],
   "metadata": {
    "collapsed": false,
    "pycharm": {
     "name": "#%%\n"
    }
   }
  },
  {
   "cell_type": "code",
   "execution_count": 22,
   "outputs": [],
   "source": [
    "# Любое резюме\n",
    "ex_resume = resumes_collection.find_one({'_id': 'a293-405b-8e46-f47328bea37a.json'})\n",
    "#r1. Position, Skills, Add.Skills\n",
    "r1 = transtator.translate(ex_resume['line_first_1'])\n",
    "#r2. Salary, Languages, Job schedule, Location, Relocation, Total experience\n",
    "r2 = transtator.translate(ex_resume['line_first_2'])\n",
    "#r3. Experience (position + description)\n",
    "r3 = transtator.translate(ex_resume['line_first_3'][:4999])"
   ],
   "metadata": {
    "collapsed": false,
    "pycharm": {
     "name": "#%%\n"
    }
   }
  },
  {
   "cell_type": "code",
   "execution_count": 9,
   "outputs": [
    {
     "name": "stdout",
     "output_type": "stream",
     "text": [
      "\n",
      "r1. v1.\n",
      "\n",
      "Scores: [0.17173511, 0.20397216, 0.2069412, 0.21194778, 0.2474529]\n",
      "['Java_разработчик-2ce1bca2-5a23-4f68-8566-8ff0f7f87e3c.json', 'Java_разработчик-f6b48d5d-882e-4afd-8826-3d46b78342c6.json', 'Java_разработчик-654b79d7-6b07-4705-969d-41a9eef10503.json', 'Java_разработчик-6e8ea5e3-47fb-4a15-84fa-6ab618dcbbe0.json', 'Backend_разработчик-8a68226f-ea25-4b81-8eee-a0e8ea99fb2d.json']\n",
      "\n",
      "r1. v3.\n",
      "\n",
      "Scores: [0.17759915, 0.21428558, 0.21683648, 0.21904373, 0.25692102]\n",
      "['Java_разработчик-2ce1bca2-5a23-4f68-8566-8ff0f7f87e3c.json', 'Java_разработчик-6e8ea5e3-47fb-4a15-84fa-6ab618dcbbe0.json', 'Java_разработчик-f6b48d5d-882e-4afd-8826-3d46b78342c6.json', 'Java_разработчик-654b79d7-6b07-4705-969d-41a9eef10503.json', 'Системный_аналитик-5abf0d44-301a-44cd-b520-bd99dc58e154.json']\n",
      "\n",
      "r1. v4.\n",
      "\n",
      "Scores: [0.18486986, 0.22332788, 0.22575468, 0.231029, 0.27319628]\n",
      "['Java_разработчик-2ce1bca2-5a23-4f68-8566-8ff0f7f87e3c.json', 'Java_разработчик-654b79d7-6b07-4705-969d-41a9eef10503.json', 'Java_разработчик-f6b48d5d-882e-4afd-8826-3d46b78342c6.json', 'Java_разработчик-6e8ea5e3-47fb-4a15-84fa-6ab618dcbbe0.json', 'Backend_разработчик-bb3c56dc-e54f-4dba-bfa1-6f45e42ff1ab.json']\n",
      "\n",
      "r1+r3. v1.\n",
      "\n",
      "Scores: [0.14441535, 0.16636944, 0.1765917, 0.1792319, 0.20996827]\n",
      "['Java_разработчик-2ce1bca2-5a23-4f68-8566-8ff0f7f87e3c.json', 'Java_разработчик-6e8ea5e3-47fb-4a15-84fa-6ab618dcbbe0.json', 'Java_разработчик-f6b48d5d-882e-4afd-8826-3d46b78342c6.json', 'Java_разработчик-654b79d7-6b07-4705-969d-41a9eef10503.json', 'Backend_разработчик-8a68226f-ea25-4b81-8eee-a0e8ea99fb2d.json']\n",
      "\n",
      "r1+r3. v3.\n",
      "\n",
      "Scores: [0.14696717, 0.16222467, 0.18171781, 0.18187495, 0.21099737]\n",
      "['Java_разработчик-2ce1bca2-5a23-4f68-8566-8ff0f7f87e3c.json', 'Java_разработчик-6e8ea5e3-47fb-4a15-84fa-6ab618dcbbe0.json', 'Java_разработчик-654b79d7-6b07-4705-969d-41a9eef10503.json', 'Java_разработчик-f6b48d5d-882e-4afd-8826-3d46b78342c6.json', 'Backend_разработчик-8a68226f-ea25-4b81-8eee-a0e8ea99fb2d.json']\n",
      "\n",
      "r1+r3. v4.\n",
      "\n",
      "Scores: [0.14973971, 0.17293674, 0.1837422, 0.18754153, 0.23047686]\n",
      "['Java_разработчик-2ce1bca2-5a23-4f68-8566-8ff0f7f87e3c.json', 'Java_разработчик-6e8ea5e3-47fb-4a15-84fa-6ab618dcbbe0.json', 'Java_разработчик-654b79d7-6b07-4705-969d-41a9eef10503.json', 'Java_разработчик-f6b48d5d-882e-4afd-8826-3d46b78342c6.json', 'Backend_разработчик-8a68226f-ea25-4b81-8eee-a0e8ea99fb2d.json']\n",
      "\n",
      "r1+r2+r3. v1.\n",
      "\n",
      "Scores: [0.1806455, 0.18253677, 0.18420742, 0.20046914, 0.22107148]\n",
      "['Java_разработчик-f6b48d5d-882e-4afd-8826-3d46b78342c6.json', 'Java_разработчик-2ce1bca2-5a23-4f68-8566-8ff0f7f87e3c.json', 'Java_разработчик-654b79d7-6b07-4705-969d-41a9eef10503.json', 'Java_разработчик-6e8ea5e3-47fb-4a15-84fa-6ab618dcbbe0.json', 'Backend_разработчик-bb3c56dc-e54f-4dba-bfa1-6f45e42ff1ab.json']\n",
      "\n",
      "r1+r2+r3. v3.\n",
      "\n",
      "Scores: [0.18482818, 0.18953344, 0.19288802, 0.20074901, 0.22284167]\n",
      "['Java_разработчик-2ce1bca2-5a23-4f68-8566-8ff0f7f87e3c.json', 'Java_разработчик-654b79d7-6b07-4705-969d-41a9eef10503.json', 'Java_разработчик-f6b48d5d-882e-4afd-8826-3d46b78342c6.json', 'Java_разработчик-6e8ea5e3-47fb-4a15-84fa-6ab618dcbbe0.json', 'Backend_разработчик-bb3c56dc-e54f-4dba-bfa1-6f45e42ff1ab.json']\n",
      "\n",
      "r1+r2+r3. v4.\n",
      "\n",
      "Scores: [0.14639908, 0.15628713, 0.15652376, 0.16035888, 0.19916338]\n",
      "['Java_разработчик-2ce1bca2-5a23-4f68-8566-8ff0f7f87e3c.json', 'Java_разработчик-f6b48d5d-882e-4afd-8826-3d46b78342c6.json', 'Java_разработчик-654b79d7-6b07-4705-969d-41a9eef10503.json', 'Java_разработчик-6e8ea5e3-47fb-4a15-84fa-6ab618dcbbe0.json', 'Backend_разработчик-8a68226f-ea25-4b81-8eee-a0e8ea99fb2d.json']\n"
     ]
    }
   ],
   "source": [
    "#@title Поиск похожестей по разным вариантам полей\n",
    "# На докальном компе Включить VPN\n",
    "\n",
    "queries = [r1, r1+r3, r1+r2+r3]\n",
    "#r1. Position, Skills, Add.Skills\n",
    "#r2. Salary, Languages, Job schedule, Location, Relocation, Total experience\n",
    "#r3. Experience (position + description)\n",
    "queries_names = ['r1', 'r1+r3', 'r1+r2+r3']\n",
    "\n",
    "dbs = [db_v1, db_v3, db_v4]\n",
    "#v1. 1.Position, Skills, M.Requirements, Add.Requirements\n",
    "#v2. 2.Levels, WorkFormat, Location, Salary\n",
    "#v3. 1 + 3. (3.Project Tasks)\n",
    "#v4. 1 + 2 + 3\n",
    "dbs_names = ['v1', 'v3', 'v4']\n",
    "\n",
    "for nq, query in enumerate(queries):\n",
    "    for nd, db in enumerate(dbs):\n",
    "        print(f'\\n{queries_names[nq]}. {dbs_names[nd]}.')\n",
    "        print(ids_and_scores(query, db))\n",
    "        time.sleep(10)"
   ],
   "metadata": {
    "collapsed": false,
    "pycharm": {
     "name": "#%%\n"
    }
   }
  },
  {
   "cell_type": "code",
   "execution_count": 13,
   "outputs": [
    {
     "name": "stdout",
     "output_type": "stream",
     "text": [
      "\n",
      "Scores: [0.14696717, 0.16222467, 0.18171781, 0.18187495, 0.21099737]\n"
     ]
    },
    {
     "data": {
      "text/plain": "['Java_разработчик-2ce1bca2-5a23-4f68-8566-8ff0f7f87e3c.json',\n 'Java_разработчик-6e8ea5e3-47fb-4a15-84fa-6ab618dcbbe0.json',\n 'Java_разработчик-654b79d7-6b07-4705-969d-41a9eef10503.json',\n 'Java_разработчик-f6b48d5d-882e-4afd-8826-3d46b78342c6.json',\n 'Backend_разработчик-8a68226f-ea25-4b81-8eee-a0e8ea99fb2d.json']"
     },
     "execution_count": 13,
     "metadata": {},
     "output_type": "execute_result"
    }
   ],
   "source": [
    "# Поля Резюме r1+r3:\n",
    "# r1. Position, Skills, Add.Skills\n",
    "# r3. Experience (position + description)\n",
    "# Поля вакансии v3:\n",
    "# Position, Skills, M.Requirements, Add.Requirements + Project Tasks\n",
    "\n",
    "ids = ids_and_scores(r1+r3, db_v3, k=5)\n",
    "ids"
   ],
   "metadata": {
    "collapsed": false,
    "pycharm": {
     "name": "#%%\n"
    }
   }
  },
  {
   "cell_type": "code",
   "execution_count": 14,
   "outputs": [
    {
     "name": "stdout",
     "output_type": "stream",
     "text": [
      "\n",
      "Scores: [0.14639908, 0.15628713, 0.15652376, 0.16035888, 0.19916338]\n"
     ]
    },
    {
     "data": {
      "text/plain": "['Java_разработчик-2ce1bca2-5a23-4f68-8566-8ff0f7f87e3c.json',\n 'Java_разработчик-f6b48d5d-882e-4afd-8826-3d46b78342c6.json',\n 'Java_разработчик-654b79d7-6b07-4705-969d-41a9eef10503.json',\n 'Java_разработчик-6e8ea5e3-47fb-4a15-84fa-6ab618dcbbe0.json',\n 'Backend_разработчик-8a68226f-ea25-4b81-8eee-a0e8ea99fb2d.json']"
     },
     "execution_count": 14,
     "metadata": {},
     "output_type": "execute_result"
    }
   ],
   "source": [
    "# Все выбранные поля: r1+r2+r3. v4.\n",
    "\n",
    "ids = ids_and_scores(r1+r2+r3, db_v4, k=5)\n",
    "ids"
   ],
   "metadata": {
    "collapsed": false,
    "pycharm": {
     "name": "#%%\n"
    }
   }
  },
  {
   "cell_type": "markdown",
   "source": [
    "# OpenAI"
   ],
   "metadata": {
    "collapsed": false,
    "pycharm": {
     "name": "#%% md\n"
    }
   }
  },
  {
   "cell_type": "code",
   "execution_count": 18,
   "outputs": [],
   "source": [
    "# функция добавления переходов на новую строку для удобства чтения\n",
    "def format_newlines(text, max_len=100):\n",
    "    lines = text.splitlines()\n",
    "    new_lines = []\n",
    "    for line in lines:\n",
    "        words = line.split()\n",
    "        current_line = \"\"\n",
    "        for word in words:\n",
    "            if len(current_line + \" \" + word) > max_len:\n",
    "                new_lines.append(current_line)\n",
    "                current_line = \"\"\n",
    "            current_line += f' {word}'\n",
    "        new_lines.append(current_line)\n",
    "    return \"\\n\".join(new_lines)\n",
    "\n",
    "# Стоимость запроса + ответ для \"gpt-3.5-turbo-0125\"\n",
    "def print_tokens_count(completion):\n",
    "    # \"gpt-3.5-turbo-0125\" - Input: $0.50 / 1M tokens - Output: $1.50 / 1M tokens - 07/03/2024 - https://openai.com/pricing\n",
    "    price = 0.5 * completion.usage.prompt_tokens / 1e6 + 1.5 * completion.usage.completion_tokens / 1e6\n",
    "    print(f'Использовано токенов: {completion.usage.prompt_tokens} + '\n",
    "                                f'{completion.usage.completion_tokens} = '\n",
    "                                f'{completion.usage.total_tokens}. '\n",
    "                                f'Цена запроса + ответ: $ {price}\\n')\n",
    "\n",
    "def answer_gpt(messages, temp=0.5):\n",
    "    completion = openai.chat.completions.create(model=\"gpt-3.5-turbo-0125\",\n",
    "                                                messages=messages,\n",
    "                                                temperature=temp)\n",
    "    print_tokens_count(completion)\n",
    "    return completion.choices[0].message.content"
   ],
   "metadata": {
    "collapsed": false,
    "pycharm": {
     "name": "#%%\n"
    }
   }
  },
  {
   "cell_type": "code",
   "execution_count": 24,
   "outputs": [
    {
     "name": "stdout",
     "output_type": "stream",
     "text": [
      "Использовано токенов: 1317 + 370 = 1687. Цена запроса + ответ: $ 0.0012135000000000002\n",
      "\n",
      " 1. Процент совпадения навыков в резюме кандидата с необходимыми навыками в вакансии составляет\n",
      " около 70-75%.\n",
      "\n",
      " 2. Кандидату не хватает следующих навыков и компетенций по сравнению с требованиями вакансии:\n",
      " Kotlin, Spring Cloud, *nix command line, log aggregation systems (ELK), Kubernetes, ability to\n",
      " analyze performance problems, experience in designing and implementing CI/CD processes on Gitlab,\n",
      " experience in tracing complex errors and building cross-service integration, experience working in\n",
      " a team using agile development methods specific to FinTech projects.\n",
      "\n",
      " 3. Сравнение и вывод о соответствии и различиях в части резюме: Желаемая зарплата кандидата\n",
      " составляет 200 000 рублей в месяц, в то время как вакансия предлагает 551 040 рублей в месяц. Опыт\n",
      " работы кандидата составляет 364 месяца, что соответствует уровню Middle+, Senior в вакансии.\n",
      " Кандидат предпочитает работу удаленно, что соответствует требованиям вакансии по формату работы.\n",
      " Однако, кандидат не готов к переезду, в то время как вакансия требует нахождения в России.\n"
     ]
    }
   ],
   "source": [
    "# Резюме: 'a293-405b-8e46-f47328bea37a.json'\n",
    "test_resume = r1 + r2 + r3\n",
    "# Выбранная вакасия: 'Java_разработчик-2ce1bca2-5a23-4f68-8566-8ff0f7f87e3c.json'\n",
    "vacancy = vacancies_collection.find_one(\n",
    "          {'_id': 'Java_разработчик-2ce1bca2-5a23-4f68-8566-8ff0f7f87e3c.json'})\n",
    "test_vacancy = vacancy['line_1_en'] + vacancy['line_2_en'] + vacancy['line_3_en']\n",
    "\n",
    "system = re.sub(r'\\s+', ' ', \"\"\"You are a professional HR.\n",
    "    You help candidates (applicants) to get a job for the chosen vacancy\"\"\")\n",
    "\n",
    "message_content = re.sub(r'\\s+', ' ', f\"\"\"Based on the candidate's resume, you have found a suitable vacancy.\n",
    "    Candidate's desired position, candidate's skills, additional information about the candidate\n",
    "    from the resume: {test_resume}. Requirements for the candidate, according\n",
    "    to the vacancy you have chosen: {test_vacancy}. Analyze the information from the candidate's\n",
    "    resume and the requirements from the vacancy.\"\"\")\n",
    "\n",
    "question = re.sub(r'\\s+', ' ', f\"\"\"Answer the questions:\n",
    "    1. What is the percentage from 0 to 100 of matching skills in the candidate's resume compared\n",
    "       to the necessary skills in the vacancy?\n",
    "    2. What skills and competencies does the candidate lack in the resume compared to the necessary\n",
    "       skills and competencies in the vacancy?\n",
    "    3. Compare and give a conclusion about the compliance and differences in the resume part: {r2}\n",
    "       and the vacancy part: {vacancy['line_2_en']}. Compare only what is logical to compare.\n",
    "\n",
    "    Answer all questions in Russian, with the exception of the words denoting the candidate's skills,\n",
    "    if you write about them. So, answer in Russian, but if you use words denoting the candidate's skills,\n",
    "    write skills in English.\"\"\")\n",
    "\n",
    "message = [{\"role\": \"system\", \"content\": system},\n",
    "           {\"role\": \"user\", \"content\": f\"{message_content}\\n{question}\"}]\n",
    "\n",
    "response = answer_gpt(message, temp=0.3)\n",
    "print(format_newlines(response))"
   ],
   "metadata": {
    "collapsed": false,
    "pycharm": {
     "name": "#%%\n"
    }
   }
  }
 ],
 "metadata": {
  "kernelspec": {
   "display_name": "Python 3",
   "language": "python",
   "name": "python3"
  },
  "language_info": {
   "codemirror_mode": {
    "name": "ipython",
    "version": 3
   },
   "file_extension": ".py",
   "mimetype": "text/x-python",
   "name": "python",
   "nbconvert_exporter": "python",
   "pygments_lexer": "ipython3",
   "version": "3.8.5"
  }
 },
 "nbformat": 4,
 "nbformat_minor": 2
}