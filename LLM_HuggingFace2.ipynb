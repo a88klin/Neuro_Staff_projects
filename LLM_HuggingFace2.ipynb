{
 "cells": [
  {
   "cell_type": "markdown",
   "metadata": {
    "id": "0gfqyR2daAsu",
    "pycharm": {
     "name": "#%% md\n"
    }
   },
   "source": [
    "Анализ качества поиска релевантных фрагментов базы знаний, соответствующих вопросу"
   ]
  },
  {
   "cell_type": "code",
   "execution_count": null,
   "metadata": {
    "id": "-iQENZOoPVDi",
    "pycharm": {
     "name": "#%%\n"
    }
   },
   "outputs": [],
   "source": [
    "!pip install openai langchain==0.0.262 faiss-cpu tiktoken nltk==3.8.1 InstructorEmbedding==1.0.1\n",
    "!pip install -U deep-translator==1.11.4\n",
    "!pip install --force --no-deps git+https://github.com/UKPLab/sentence-transformers.git\n",
    "!CMAKE_ARGS=\"-DLLAMA_CUBLAS=on\" FORCE_CMAKE=1 pip install llama-cpp-python==0.1.77 --force-reinstall --upgrade --no-cache-dir"
   ]
  },
  {
   "cell_type": "code",
   "execution_count": null,
   "metadata": {
    "id": "ONJ95KMDZ_tb",
    "pycharm": {
     "name": "#%%\n"
    }
   },
   "outputs": [],
   "source": [
    "import gdown\n",
    "import tiktoken\n",
    "import pickle\n",
    "import tqdm\n",
    "import pandas as pd\n",
    "from deep_translator import GoogleTranslator\n",
    "from langchain.document_loaders import TextLoader\n",
    "from langchain.docstore.document import Document\n",
    "from langchain.text_splitter import RecursiveCharacterTextSplitter\n",
    "\n",
    "TOTAL_AMOUNT = 0"
   ]
  },
  {
   "cell_type": "code",
   "execution_count": null,
   "metadata": {
    "id": "mxe5YZ2xOnvo",
    "pycharm": {
     "name": "#%%\n"
    }
   },
   "outputs": [],
   "source": [
    "def load_googledoc(url, path):\n",
    "    id = url.split('/')[-2]\n",
    "    gdown.download(f'https://drive.google.com/uc?export=download&id={id}', path)\n",
    "\n",
    "\n",
    "# Подсчет токенов\n",
    "def num_tokens_from_string(string: str, encoding_name: str) -> int:\n",
    "    encoding = tiktoken.get_encoding(encoding_name)\n",
    "    return len(encoding.encode(string))\n",
    "\n",
    "\n",
    "# количество токенов индексной базы и стоимость. model Ada v2\n",
    "def tokens_count_db(source_chunks):\n",
    "    global TOTAL_AMOUNT\n",
    "    count_tokens = 0\n",
    "    count_token = num_tokens_from_string(' '.join([x.page_content for x in source_chunks]), \"cl100k_base\")\n",
    "    count_tokens += count_token\n",
    "    print(f'Количество токенов в документе: {count_token}')\n",
    "    # Embedding model Ada v2 - $0.00010 / 1K tokens - 28/02/2024 - https://openai.com/pricing\n",
    "    price = 0.0001 * count_tokens / 1000\n",
    "    TOTAL_AMOUNT += price\n",
    "    print(f'ЦЕНА создания индексной базы: $ {price}')"
   ]
  },
  {
   "cell_type": "code",
   "execution_count": null,
   "metadata": {
    "colab": {
     "base_uri": "https://localhost:8080/"
    },
    "id": "C3PJyIo7O6yF",
    "outputId": "ed5e9ac4-27af-470b-d21e-00a7c4dd277a",
    "pycharm": {
     "name": "#%%\n"
    }
   },
   "outputs": [
    {
     "name": "stderr",
     "output_type": "stream",
     "text": [
      "Downloading...\n",
      "From: https://drive.google.com/uc?export=download&id=1-gRMM-kX0WbCwFWzSr-6mvj-HZx9tGFf\n",
      "To: /content/knowledge_base.txt\n",
      "100%|██████████| 1.24M/1.24M [00:00<00:00, 139MB/s]\n"
     ]
    },
    {
     "name": "stdout",
     "output_type": "stream",
     "text": [
      "Количество токенов в документе: 273794\n",
      "ЦЕНА создания индексной базы: $ 0.0273794\n"
     ]
    },
    {
     "data": {
      "text/plain": [
       "2157"
      ]
     },
     "execution_count": 4,
     "metadata": {},
     "output_type": "execute_result"
    }
   ],
   "source": [
    "#@title Чанки на русском\n",
    "\n",
    "# База знаний УИИ:\n",
    "url = 'https://drive.google.com/file/d/1-gRMM-kX0WbCwFWzSr-6mvj-HZx9tGFf/view?usp=sharing '\n",
    "load_googledoc(url, 'knowledge_base.txt')\n",
    "\n",
    "loader = TextLoader(\"/content/knowledge_base.txt\")\n",
    "documents = loader.load()\n",
    "text_splitter = RecursiveCharacterTextSplitter(chunk_size=500, chunk_overlap=0)\n",
    "docs = text_splitter.split_documents(documents)\n",
    "tokens_count_db(docs) # Количество токенов и цена, если OpenAIEmbeddings\n",
    "\n",
    "# Текстовые чанки на русском\n",
    "with open('docs_ru.pkl', \"wb\") as file:\n",
    "    pickle.dump(docs, file)\n",
    "len(docs)"
   ]
  },
  {
   "cell_type": "code",
   "execution_count": null,
   "metadata": {
    "colab": {
     "base_uri": "https://localhost:8080/"
    },
    "id": "wY6aajgnSYPc",
    "outputId": "f4650279-2c7d-4d54-c60b-b2b768242f12",
    "pycharm": {
     "name": "#%%\n"
    }
   },
   "outputs": [
    {
     "name": "stderr",
     "output_type": "stream",
     "text": [
      "100%|██████████| 2157/2157 [30:47<00:00,  1.17it/s]\n"
     ]
    },
    {
     "name": "stdout",
     "output_type": "stream",
     "text": [
      "Количество токенов в документе: 133424\n",
      "ЦЕНА создания индексной базы: $ 0.0133424\n"
     ]
    }
   ],
   "source": [
    "#@title Чанки на английском\n",
    "\n",
    "with open('docs_ru.pkl', \"rb\") as file:\n",
    "    docs = pickle.load(file)\n",
    "\n",
    "docs_translate = []\n",
    "for doc in tqdm.tqdm(docs): # Из русскоязычных чанков\n",
    "    docs_translate.append(Document(page_content=GoogleTranslator(source='ru', target='en').\\\n",
    "                                   translate(doc.page_content)))\n",
    "tokens_count_db(docs_translate) # Количество токенов и цена, если OpenAIEmbeddings\n",
    "\n",
    "# Текстовые чанки на английском\n",
    "with open('docs_en.pkl', \"wb\") as file:\n",
    "    pickle.dump(docs_translate, file)"
   ]
  },
  {
   "cell_type": "code",
   "execution_count": null,
   "metadata": {
    "colab": {
     "base_uri": "https://localhost:8080/",
     "height": 356
    },
    "executionInfo": {
     "elapsed": 283,
     "status": "ok",
     "timestamp": 1709296152885,
     "user": {
      "displayName": "Alex Klin",
      "userId": "11249935885368047783"
     },
     "user_tz": -180
    },
    "id": "53JpZO8m_Pjn",
    "outputId": "a7a6643e-13d5-4483-ba0c-9732ad28d0cc",
    "pycharm": {
     "name": "#%%\n"
    }
   },
   "outputs": [
    {
     "name": "stderr",
     "output_type": "stream",
     "text": [
      "<ipython-input-7-7442c2dc60a1>:1: ParserWarning: Falling back to the 'python' engine because the 'c' engine does not support regex separators (separators > 1 char and different from '\\s+' are interpreted as regex); you can avoid this warning by specifying engine='python'.\n",
      "  pd.read_csv(\"/content/Вопросы.csv\", delimiter='/n')\n"
     ]
    },
    {
     "data": {
      "application/vnd.google.colaboratory.intrinsic+json": {
       "summary": "{\n  \"name\": \"pd\",\n  \"rows\": 8,\n  \"fields\": [\n    {\n      \"column\": \"\\u0412\\u043e\\u043f\\u0440\\u043e\\u0441\",\n      \"properties\": {\n        \"dtype\": \"string\",\n        \"num_unique_values\": 8,\n        \"samples\": [\n          \"\\u041a\\u0430\\u043a\\u0438\\u0435 \\u043a\\u0443\\u0440\\u0441\\u044b \\u043f\\u043e chatGPT \\u0435\\u0441\\u0442\\u044c \\u0432 \\u0423\\u0418\\u0418?\",\n          \"\\u041d\\u0443\\u0436\\u043d\\u043e \\u043b\\u0438 \\u043c\\u043d\\u0435 \\u043f\\u043e\\u043a\\u0443\\u043f\\u0430\\u0442\\u044c \\u0432\\u0438\\u0434\\u0435\\u043e\\u043a\\u0430\\u0440\\u0442\\u0443 \\u0434\\u043b\\u044f \\u0437\\u0430\\u043d\\u044f\\u0442\\u0438\\u0439?\",\n          \"\\u041a\\u0430\\u043a\\u0438\\u0435 \\u0432\\u0430\\u0440\\u0438\\u0430\\u043d\\u0442\\u044b \\u0440\\u0430\\u0441\\u0441\\u0440\\u043e\\u0447\\u043a\\u0438 \\u0435\\u0441\\u0442\\u044c \\u043d\\u0430 \\u0442\\u0430\\u0440\\u0438\\u0444 \\u041e\\u0441\\u043d\\u043e\\u0432\\u043d\\u043e\\u0439?\"\n        ],\n        \"semantic_type\": \"\",\n        \"description\": \"\"\n      }\n    }\n  ]\n}",
       "type": "dataframe"
      },
      "text/html": [
       "\n",
       "  <div id=\"df-3c10d4d1-9e62-4081-acaa-62f708597149\" class=\"colab-df-container\">\n",
       "    <div>\n",
       "<style scoped>\n",
       "    .dataframe tbody tr th:only-of-type {\n",
       "        vertical-align: middle;\n",
       "    }\n",
       "\n",
       "    .dataframe tbody tr th {\n",
       "        vertical-align: top;\n",
       "    }\n",
       "\n",
       "    .dataframe thead th {\n",
       "        text-align: right;\n",
       "    }\n",
       "</style>\n",
       "<table border=\"1\" class=\"dataframe\">\n",
       "  <thead>\n",
       "    <tr style=\"text-align: right;\">\n",
       "      <th></th>\n",
       "      <th>Вопрос</th>\n",
       "    </tr>\n",
       "  </thead>\n",
       "  <tbody>\n",
       "    <tr>\n",
       "      <th>0</th>\n",
       "      <td>Какие варианты рассрочки есть на тариф Основной?</td>\n",
       "    </tr>\n",
       "    <tr>\n",
       "      <th>1</th>\n",
       "      <td>Какие курсы по chatGPT есть в УИИ?</td>\n",
       "    </tr>\n",
       "    <tr>\n",
       "      <th>2</th>\n",
       "      <td>Какой документ будет по окончанию образования?</td>\n",
       "    </tr>\n",
       "    <tr>\n",
       "      <th>3</th>\n",
       "      <td>\"Можно ли купить стажировки, если я не являюсь...</td>\n",
       "    </tr>\n",
       "    <tr>\n",
       "      <th>4</th>\n",
       "      <td>Несовершеннолетний ребенок может проходить обу...</td>\n",
       "    </tr>\n",
       "    <tr>\n",
       "      <th>5</th>\n",
       "      <td>Нужно ли мне покупать видеокарту для занятий?</td>\n",
       "    </tr>\n",
       "    <tr>\n",
       "      <th>6</th>\n",
       "      <td>Расскажите про курс AutoML</td>\n",
       "    </tr>\n",
       "    <tr>\n",
       "      <th>7</th>\n",
       "      <td>Что значит гарантия трудоустройства?</td>\n",
       "    </tr>\n",
       "  </tbody>\n",
       "</table>\n",
       "</div>\n",
       "    <div class=\"colab-df-buttons\">\n",
       "\n",
       "  <div class=\"colab-df-container\">\n",
       "    <button class=\"colab-df-convert\" onclick=\"convertToInteractive('df-3c10d4d1-9e62-4081-acaa-62f708597149')\"\n",
       "            title=\"Convert this dataframe to an interactive table.\"\n",
       "            style=\"display:none;\">\n",
       "\n",
       "  <svg xmlns=\"http://www.w3.org/2000/svg\" height=\"24px\" viewBox=\"0 -960 960 960\">\n",
       "    <path d=\"M120-120v-720h720v720H120Zm60-500h600v-160H180v160Zm220 220h160v-160H400v160Zm0 220h160v-160H400v160ZM180-400h160v-160H180v160Zm440 0h160v-160H620v160ZM180-180h160v-160H180v160Zm440 0h160v-160H620v160Z\"/>\n",
       "  </svg>\n",
       "    </button>\n",
       "\n",
       "  <style>\n",
       "    .colab-df-container {\n",
       "      display:flex;\n",
       "      gap: 12px;\n",
       "    }\n",
       "\n",
       "    .colab-df-convert {\n",
       "      background-color: #E8F0FE;\n",
       "      border: none;\n",
       "      border-radius: 50%;\n",
       "      cursor: pointer;\n",
       "      display: none;\n",
       "      fill: #1967D2;\n",
       "      height: 32px;\n",
       "      padding: 0 0 0 0;\n",
       "      width: 32px;\n",
       "    }\n",
       "\n",
       "    .colab-df-convert:hover {\n",
       "      background-color: #E2EBFA;\n",
       "      box-shadow: 0px 1px 2px rgba(60, 64, 67, 0.3), 0px 1px 3px 1px rgba(60, 64, 67, 0.15);\n",
       "      fill: #174EA6;\n",
       "    }\n",
       "\n",
       "    .colab-df-buttons div {\n",
       "      margin-bottom: 4px;\n",
       "    }\n",
       "\n",
       "    [theme=dark] .colab-df-convert {\n",
       "      background-color: #3B4455;\n",
       "      fill: #D2E3FC;\n",
       "    }\n",
       "\n",
       "    [theme=dark] .colab-df-convert:hover {\n",
       "      background-color: #434B5C;\n",
       "      box-shadow: 0px 1px 3px 1px rgba(0, 0, 0, 0.15);\n",
       "      filter: drop-shadow(0px 1px 2px rgba(0, 0, 0, 0.3));\n",
       "      fill: #FFFFFF;\n",
       "    }\n",
       "  </style>\n",
       "\n",
       "    <script>\n",
       "      const buttonEl =\n",
       "        document.querySelector('#df-3c10d4d1-9e62-4081-acaa-62f708597149 button.colab-df-convert');\n",
       "      buttonEl.style.display =\n",
       "        google.colab.kernel.accessAllowed ? 'block' : 'none';\n",
       "\n",
       "      async function convertToInteractive(key) {\n",
       "        const element = document.querySelector('#df-3c10d4d1-9e62-4081-acaa-62f708597149');\n",
       "        const dataTable =\n",
       "          await google.colab.kernel.invokeFunction('convertToInteractive',\n",
       "                                                    [key], {});\n",
       "        if (!dataTable) return;\n",
       "\n",
       "        const docLinkHtml = 'Like what you see? Visit the ' +\n",
       "          '<a target=\"_blank\" href=https://colab.research.google.com/notebooks/data_table.ipynb>data table notebook</a>'\n",
       "          + ' to learn more about interactive tables.';\n",
       "        element.innerHTML = '';\n",
       "        dataTable['output_type'] = 'display_data';\n",
       "        await google.colab.output.renderOutput(dataTable, element);\n",
       "        const docLink = document.createElement('div');\n",
       "        docLink.innerHTML = docLinkHtml;\n",
       "        element.appendChild(docLink);\n",
       "      }\n",
       "    </script>\n",
       "  </div>\n",
       "\n",
       "\n",
       "<div id=\"df-8c4823e9-3fd1-4063-8ea4-b5fb1c71b0ae\">\n",
       "  <button class=\"colab-df-quickchart\" onclick=\"quickchart('df-8c4823e9-3fd1-4063-8ea4-b5fb1c71b0ae')\"\n",
       "            title=\"Suggest charts\"\n",
       "            style=\"display:none;\">\n",
       "\n",
       "<svg xmlns=\"http://www.w3.org/2000/svg\" height=\"24px\"viewBox=\"0 0 24 24\"\n",
       "     width=\"24px\">\n",
       "    <g>\n",
       "        <path d=\"M19 3H5c-1.1 0-2 .9-2 2v14c0 1.1.9 2 2 2h14c1.1 0 2-.9 2-2V5c0-1.1-.9-2-2-2zM9 17H7v-7h2v7zm4 0h-2V7h2v10zm4 0h-2v-4h2v4z\"/>\n",
       "    </g>\n",
       "</svg>\n",
       "  </button>\n",
       "\n",
       "<style>\n",
       "  .colab-df-quickchart {\n",
       "      --bg-color: #E8F0FE;\n",
       "      --fill-color: #1967D2;\n",
       "      --hover-bg-color: #E2EBFA;\n",
       "      --hover-fill-color: #174EA6;\n",
       "      --disabled-fill-color: #AAA;\n",
       "      --disabled-bg-color: #DDD;\n",
       "  }\n",
       "\n",
       "  [theme=dark] .colab-df-quickchart {\n",
       "      --bg-color: #3B4455;\n",
       "      --fill-color: #D2E3FC;\n",
       "      --hover-bg-color: #434B5C;\n",
       "      --hover-fill-color: #FFFFFF;\n",
       "      --disabled-bg-color: #3B4455;\n",
       "      --disabled-fill-color: #666;\n",
       "  }\n",
       "\n",
       "  .colab-df-quickchart {\n",
       "    background-color: var(--bg-color);\n",
       "    border: none;\n",
       "    border-radius: 50%;\n",
       "    cursor: pointer;\n",
       "    display: none;\n",
       "    fill: var(--fill-color);\n",
       "    height: 32px;\n",
       "    padding: 0;\n",
       "    width: 32px;\n",
       "  }\n",
       "\n",
       "  .colab-df-quickchart:hover {\n",
       "    background-color: var(--hover-bg-color);\n",
       "    box-shadow: 0 1px 2px rgba(60, 64, 67, 0.3), 0 1px 3px 1px rgba(60, 64, 67, 0.15);\n",
       "    fill: var(--button-hover-fill-color);\n",
       "  }\n",
       "\n",
       "  .colab-df-quickchart-complete:disabled,\n",
       "  .colab-df-quickchart-complete:disabled:hover {\n",
       "    background-color: var(--disabled-bg-color);\n",
       "    fill: var(--disabled-fill-color);\n",
       "    box-shadow: none;\n",
       "  }\n",
       "\n",
       "  .colab-df-spinner {\n",
       "    border: 2px solid var(--fill-color);\n",
       "    border-color: transparent;\n",
       "    border-bottom-color: var(--fill-color);\n",
       "    animation:\n",
       "      spin 1s steps(1) infinite;\n",
       "  }\n",
       "\n",
       "  @keyframes spin {\n",
       "    0% {\n",
       "      border-color: transparent;\n",
       "      border-bottom-color: var(--fill-color);\n",
       "      border-left-color: var(--fill-color);\n",
       "    }\n",
       "    20% {\n",
       "      border-color: transparent;\n",
       "      border-left-color: var(--fill-color);\n",
       "      border-top-color: var(--fill-color);\n",
       "    }\n",
       "    30% {\n",
       "      border-color: transparent;\n",
       "      border-left-color: var(--fill-color);\n",
       "      border-top-color: var(--fill-color);\n",
       "      border-right-color: var(--fill-color);\n",
       "    }\n",
       "    40% {\n",
       "      border-color: transparent;\n",
       "      border-right-color: var(--fill-color);\n",
       "      border-top-color: var(--fill-color);\n",
       "    }\n",
       "    60% {\n",
       "      border-color: transparent;\n",
       "      border-right-color: var(--fill-color);\n",
       "    }\n",
       "    80% {\n",
       "      border-color: transparent;\n",
       "      border-right-color: var(--fill-color);\n",
       "      border-bottom-color: var(--fill-color);\n",
       "    }\n",
       "    90% {\n",
       "      border-color: transparent;\n",
       "      border-bottom-color: var(--fill-color);\n",
       "    }\n",
       "  }\n",
       "</style>\n",
       "\n",
       "  <script>\n",
       "    async function quickchart(key) {\n",
       "      const quickchartButtonEl =\n",
       "        document.querySelector('#' + key + ' button');\n",
       "      quickchartButtonEl.disabled = true;  // To prevent multiple clicks.\n",
       "      quickchartButtonEl.classList.add('colab-df-spinner');\n",
       "      try {\n",
       "        const charts = await google.colab.kernel.invokeFunction(\n",
       "            'suggestCharts', [key], {});\n",
       "      } catch (error) {\n",
       "        console.error('Error during call to suggestCharts:', error);\n",
       "      }\n",
       "      quickchartButtonEl.classList.remove('colab-df-spinner');\n",
       "      quickchartButtonEl.classList.add('colab-df-quickchart-complete');\n",
       "    }\n",
       "    (() => {\n",
       "      let quickchartButtonEl =\n",
       "        document.querySelector('#df-8c4823e9-3fd1-4063-8ea4-b5fb1c71b0ae button');\n",
       "      quickchartButtonEl.style.display =\n",
       "        google.colab.kernel.accessAllowed ? 'block' : 'none';\n",
       "    })();\n",
       "  </script>\n",
       "</div>\n",
       "    </div>\n",
       "  </div>\n"
      ],
      "text/plain": [
       "                                              Вопрос\n",
       "0   Какие варианты рассрочки есть на тариф Основной?\n",
       "1                 Какие курсы по chatGPT есть в УИИ?\n",
       "2     Какой документ будет по окончанию образования?\n",
       "3  \"Можно ли купить стажировки, если я не являюсь...\n",
       "4  Несовершеннолетний ребенок может проходить обу...\n",
       "5      Нужно ли мне покупать видеокарту для занятий?\n",
       "6                         Расскажите про курс AutoML\n",
       "7               Что значит гарантия трудоустройства?"
      ]
     },
     "execution_count": 7,
     "metadata": {},
     "output_type": "execute_result"
    }
   ],
   "source": [
    "#@title Вопросы\n",
    "pd.read_csv(\"/content/Вопросы.csv\", delimiter='/n')"
   ]
  },
  {
   "cell_type": "code",
   "execution_count": null,
   "metadata": {
    "colab": {
     "base_uri": "https://localhost:8080/"
    },
    "id": "TdkMl3IcbApe",
    "outputId": "7983fbff-ea0a-4e42-8069-63113ecbcde1",
    "pycharm": {
     "name": "#%%\n"
    }
   },
   "outputs": [
    {
     "name": "stdout",
     "output_type": "stream",
     "text": [
      "Git LFS initialized.\n",
      "Cloning into 'multilingual-e5-large'...\n",
      "remote: Enumerating objects: 50, done.\u001B[K\n",
      "remote: Counting objects: 100% (9/9), done.\u001B[K\n",
      "remote: Compressing objects: 100% (9/9), done.\u001B[K\n",
      "remote: Total 50 (delta 4), reused 0 (delta 0), pack-reused 41\u001B[K\n",
      "Unpacking objects: 100% (50/50), 53.52 KiB | 1.49 MiB/s, done.\n",
      "Filtering content: 100% (8/8), 6.29 GiB | 49.67 MiB/s, done.\n"
     ]
    }
   ],
   "source": [
    "#@title Русский на \"multilingual-e5-large\"\n",
    "\n",
    "!git lfs install\n",
    "!git clone https://huggingface.co/intfloat/multilingual-e5-large"
   ]
  },
  {
   "cell_type": "code",
   "execution_count": null,
   "metadata": {
    "id": "m7pKQsEBc_RX",
    "pycharm": {
     "name": "#%%\n"
    }
   },
   "outputs": [],
   "source": [
    "import pickle\n",
    "import pandas as pd\n",
    "from langchain.embeddings.sentence_transformer import SentenceTransformerEmbeddings\n",
    "from langchain.vectorstores import FAISS\n",
    "import os\n",
    "import re\n",
    "\n",
    "\n",
    "df_qw = pd.read_csv(\"/content/Вопросы.csv\", delimiter='/n') # Вопросы\n",
    "\n",
    "with open('docs_ru.pkl', \"rb\") as file:\n",
    "    docs = pickle.load(file) # Русскоязычные чанки\n",
    "\n",
    "project_path = \"\"\n",
    "models = [\"multilingual-e5-large\"]\n",
    "\n",
    "for model in models:\n",
    "    history = []\n",
    "    embeddings = SentenceTransformerEmbeddings(model_name=model)\n",
    "    db = FAISS.from_documents(docs, embeddings)\n",
    "    db.save_local(folder_path='', index_name='db_ru_multilingual-e5-large')\n",
    "\n",
    "    for query in df_qw['Вопрос'].values:\n",
    "        sim_docs = db.similarity_search_with_score(query)\n",
    "        doc = re.sub(r'\\n{2}', ' ', '\\n '.join([f'Отрывок №{i+1}:\\n' + \\\n",
    "                     doc[0].page_content + '\\n' for i, doc in enumerate(sim_docs)]))\n",
    "        history.append([str(query), str(doc)])\n",
    "\n",
    "    pd.DataFrame(history, columns=['Вопрос', 'Отрывки']).\\\n",
    "    to_csv(os.path.join(project_path, os.path.split(model)[1]+'.csv'), index=False)"
   ]
  },
  {
   "cell_type": "code",
   "execution_count": null,
   "metadata": {
    "colab": {
     "base_uri": "https://localhost:8080/"
    },
    "executionInfo": {
     "elapsed": 131316,
     "status": "ok",
     "timestamp": 1709295162734,
     "user": {
      "displayName": "Alex Klin",
      "userId": "11249935885368047783"
     },
     "user_tz": -180
    },
    "id": "JDtnShJzqui9",
    "outputId": "58282290-673f-4c05-b62f-9826fc782656",
    "pycharm": {
     "name": "#%%\n"
    }
   },
   "outputs": [
    {
     "name": "stdout",
     "output_type": "stream",
     "text": [
      "Git LFS initialized.\n",
      "Cloning into 'gte-large'...\n",
      "remote: Enumerating objects: 65, done.\u001B[K\n",
      "remote: Counting objects: 100% (3/3), done.\u001B[K\n",
      "remote: Compressing objects: 100% (3/3), done.\u001B[K\n",
      "remote: Total 65 (delta 0), reused 0 (delta 0), pack-reused 62\u001B[K\n",
      "Unpacking objects: 100% (65/65), 345.12 KiB | 4.73 MiB/s, done.\n",
      "Filtering content: 100% (3/3), 2.49 GiB | 50.23 MiB/s, done.\n",
      "Cloning into 'bge-large-en-v1.5'...\n",
      "remote: Enumerating objects: 55, done.\u001B[K\n",
      "remote: Counting objects: 100% (12/12), done.\u001B[K\n",
      "remote: Compressing objects: 100% (11/11), done.\u001B[K\n",
      "remote: Total 55 (delta 4), reused 0 (delta 0), pack-reused 43\u001B[K\n",
      "Unpacking objects: 100% (55/55), 368.22 KiB | 3.76 MiB/s, done.\n",
      "Filtering content: 100% (3/3), 3.74 GiB | 49.00 MiB/s, done.\n"
     ]
    }
   ],
   "source": [
    "#@title Английский \"gte-large\" и \"bge-large-en-v1.5\"\n",
    "\n",
    "!git lfs install\n",
    "!git clone https://huggingface.co/thenlper/gte-large\n",
    "!git clone https://huggingface.co/BAAI/bge-large-en-v1.5"
   ]
  },
  {
   "cell_type": "code",
   "execution_count": null,
   "metadata": {
    "id": "EMNkkzRHquWq",
    "pycharm": {
     "name": "#%%\n"
    }
   },
   "outputs": [],
   "source": [
    "import pickle\n",
    "import pandas as pd\n",
    "from langchain.embeddings.sentence_transformer import SentenceTransformerEmbeddings\n",
    "from langchain.vectorstores import FAISS\n",
    "from deep_translator import GoogleTranslator\n",
    "import os\n",
    "import re\n",
    "\n",
    "\n",
    "df_qw = pd.read_csv(\"/content/Вопросы.csv\", delimiter='/n') # Вопросы\n",
    "with open('docs_en.pkl', \"rb\") as file:\n",
    "    docs_translate = pickle.load(file) # Англоязычные чанки\n",
    "\n",
    "project_path = \"\"\n",
    "models = [\"gte-large\",\n",
    "          \"bge-large-en-v1.5\"]\n",
    "\n",
    "for model in models:\n",
    "    history = []\n",
    "    embeddings = SentenceTransformerEmbeddings(model_name=model)\n",
    "    db = FAISS.from_documents(docs_translate, embeddings)\n",
    "    db.save_local(folder_path='', index_name=f'db_en_{model}')\n",
    "\n",
    "    for query in df_qw['Вопрос'].values:\n",
    "        sim_docs = db.similarity_search_with_score(GoogleTranslator(source='ru', target='en').translate(query))\n",
    "        doc = re.sub(r'\\n{2}', ' ', '\\n '.join([f'Fragment №{i+1} document:\\n' + \\\n",
    "                     doc[0].page_content + '\\n' for i, doc in enumerate(sim_docs)]))\n",
    "        history.append([GoogleTranslator(source='ru', target='en').translate(query), str(doc)])\n",
    "\n",
    "    pd.DataFrame(history, columns=['Вопрос', 'Отрывки']).\\\n",
    "    to_csv(os.path.join(project_path, os.path.split(model)[1]+'.csv'), index=False)"
   ]
  },
  {
   "cell_type": "code",
   "execution_count": null,
   "metadata": {
    "colab": {
     "base_uri": "https://localhost:8080/"
    },
    "executionInfo": {
     "elapsed": 263,
     "status": "ok",
     "timestamp": 1709298287052,
     "user": {
      "displayName": "Alex Klin",
      "userId": "11249935885368047783"
     },
     "user_tz": -180
    },
    "id": "6zBLzmVa_lk2",
    "outputId": "3631514b-96f1-4a99-919c-c141c50b2c76",
    "pycharm": {
     "name": "#%%\n"
    }
   },
   "outputs": [
    {
     "name": "stdout",
     "output_type": "stream",
     "text": [
      "bge-large-en-v1.5.csv  gte-large.csv  multilingual-e5-large.csv\n"
     ]
    }
   ],
   "source": [
    "!ls csv"
   ]
  },
  {
   "cell_type": "code",
   "execution_count": null,
   "metadata": {
    "id": "KULQ6ymk6wG1",
    "pycharm": {
     "name": "#%%\n"
    }
   },
   "outputs": [],
   "source": [
    "#@title Субъективный анализ результатов на GPT 3.5 (Без подачи базы знаний. Только вопрос-ответ)\n",
    "\n",
    "\n",
    "import openai\n",
    "from google.colab import userdata\n",
    "import os\n",
    "import pandas as pd\n",
    "import time\n",
    "\n",
    "os.environ[\"OPENAI_API_KEY\"] = userdata.get('OPENAI_API_KEY')\n",
    "TOTAL_AMOUNT = 0\n",
    "\n",
    "\n",
    "# Стоимость запроса + ответ для \"gpt-3.5-turbo-0125\"\n",
    "def print_tokens_count(completion):\n",
    "    global TOTAL_AMOUNT\n",
    "    # \"gpt-3.5-turbo-0125\" - Input: $0.0005 /1K tokens - Output: $0.0015 /1K tokens - 28/02/2024 - https://openai.com/pricing\n",
    "    price = 0.0005 * completion.usage.prompt_tokens / 1000 + 0.0015 * completion.usage.completion_tokens / 1000\n",
    "    TOTAL_AMOUNT += price\n",
    "    print(f'Использовано токенов: {completion.usage.prompt_tokens} + '\n",
    "                                f'{completion.usage.completion_tokens} = '\n",
    "                                f'{completion.usage.total_tokens}.'\n",
    "                                f' Цена запроса + ответ: $ {price}')\n",
    "\n",
    "\n",
    "def get_answer(system, instruction, topic, message_content, temp=0.5):\n",
    "    messages = [\n",
    "        {\"role\": \"system\", \"content\": system},\n",
    "        {\"role\": \"user\", \"content\": f\"{instruction}.\\n\\nQuestion:\\n{topic}\\n\\nDocument fragments\\n\"\n",
    "                                        f\"{message_content}.\"}]\n",
    "    completion = openai.chat.completions.create(\n",
    "        model=\"gpt-3.5-turbo-0125\", messages=messages, temperature=temp)\n",
    "    print_tokens_count(completion)\n",
    "    return completion.choices[0].message.content\n",
    "\n",
    "\n",
    "system = \"\"\"\n",
    "Your task is to assess the similarity (proximity) of the question asked and the fragments of documents found from the knowledge base for completeness of information sufficient to answer.\n",
    "\"\"\"\n",
    "instruction = \"\"\"\n",
    "Evaluate the quality of the search engine on a 10-point scale where 10 is the maximum similarity sufficient to answer the question and 0 if there is no similarity. The answer form is a number from 0 to 10.\n",
    "THE ANSWER is - ONLY ONE NUMBER FROM 0 TO 10!!!\n",
    "\"\"\""
   ]
  },
  {
   "cell_type": "code",
   "execution_count": null,
   "metadata": {
    "colab": {
     "base_uri": "https://localhost:8080/"
    },
    "executionInfo": {
     "elapsed": 435814,
     "status": "ok",
     "timestamp": 1709301663283,
     "user": {
      "displayName": "Alex Klin",
      "userId": "11249935885368047783"
     },
     "user_tz": -180
    },
    "id": "EXj8UDAq9ysa",
    "outputId": "8f9b07ee-7b91-4ae7-87db-0f4925923007",
    "pycharm": {
     "name": "#%%\n"
    }
   },
   "outputs": [
    {
     "name": "stdout",
     "output_type": "stream",
     "text": [
      "Использовано токенов: 863 + 1 = 864. Цена запроса + ответ: $ 0.00043299999999999995\n",
      "Использовано токенов: 586 + 1 = 587. Цена запроса + ответ: $ 0.00029449999999999995\n",
      "Использовано токенов: 409 + 1 = 410. Цена запроса + ответ: $ 0.00020600000000000002\n",
      "Использовано токенов: 633 + 1 = 634. Цена запроса + ответ: $ 0.000318\n",
      "Использовано токенов: 464 + 1 = 465. Цена запроса + ответ: $ 0.0002335\n",
      "Использовано токенов: 422 + 1 = 423. Цена запроса + ответ: $ 0.00021250000000000002\n",
      "Использовано токенов: 531 + 1 = 532. Цена запроса + ответ: $ 0.000267\n",
      "Использовано токенов: 865 + 1 = 866. Цена запроса + ответ: $ 0.000434\n",
      "Использовано токенов: 461 + 1 = 462. Цена запроса + ответ: $ 0.00023200000000000003\n",
      "Использовано токенов: 448 + 1 = 449. Цена запроса + ответ: $ 0.0002255\n",
      "Использовано токенов: 293 + 1 = 294. Цена запроса + ответ: $ 0.000148\n",
      "Использовано токенов: 461 + 1 = 462. Цена запроса + ответ: $ 0.00023200000000000003\n",
      "Использовано токенов: 359 + 1 = 360. Цена запроса + ответ: $ 0.000181\n",
      "Использовано токенов: 408 + 1 = 409. Цена запроса + ответ: $ 0.00020550000000000003\n",
      "Использовано токенов: 431 + 1 = 432. Цена запроса + ответ: $ 0.00021700000000000002\n",
      "Использовано токенов: 342 + 1 = 343. Цена запроса + ответ: $ 0.00017250000000000002\n",
      "Использовано токенов: 461 + 1 = 462. Цена запроса + ответ: $ 0.00023200000000000003\n",
      "Использовано токенов: 448 + 1 = 449. Цена запроса + ответ: $ 0.0002255\n",
      "Использовано токенов: 293 + 1 = 294. Цена запроса + ответ: $ 0.000148\n",
      "Использовано токенов: 406 + 1 = 407. Цена запроса + ответ: $ 0.0002045\n",
      "Использовано токенов: 427 + 1 = 428. Цена запроса + ответ: $ 0.000215\n",
      "Использовано токенов: 408 + 1 = 409. Цена запроса + ответ: $ 0.00020550000000000003\n",
      "Использовано токенов: 416 + 1 = 417. Цена запроса + ответ: $ 0.00020950000000000002\n",
      "Использовано токенов: 361 + 1 = 362. Цена запроса + ответ: $ 0.000182\n",
      "  bge-large-en-v1.5 gte-large multilingual-e5-large\n",
      "0                 8         8                     8\n",
      "1                 8         8                     8\n",
      "2                 2         4                     3\n",
      "3                 8         8                     7\n",
      "4                 3         2                     5\n",
      "5                 8         8                     9\n",
      "6                 8         8                     8\n",
      "7                 8         4                     5\n",
      "\n",
      "Сумма $: 0.005633999999999999\n"
     ]
    }
   ],
   "source": [
    "project_path = \"csv/\"\n",
    "files = os.listdir(project_path)\n",
    "\n",
    "score = [[] for i in range(8)]\n",
    "for count, file in enumerate(files):\n",
    "    if file not in ['.ipynb_checkpoints']:\n",
    "        df = pd.read_csv(os.path.join(project_path, file))\n",
    "\n",
    "        for i, (topic, message_content) in enumerate(df.values):\n",
    "            if count == 0:\n",
    "                score[i].append(topic)\n",
    "            answer = get_answer(system, instruction, topic, message_content, temp=0.5)\n",
    "            score[i].append(answer)\n",
    "            time.sleep(10)\n",
    "\n",
    "df_score = pd.DataFrame(score, columns=['Вопрос', 'bge-large-en-v1.5', 'gte-large', 'multilingual-e5-large'])\n",
    "df_score.to_csv(os.path.join(project_path, 'score_result'+'.csv'), index=False)\n",
    "\n",
    "\n",
    "print(df_score.iloc[:, 1:])\n",
    "print('\\nСумма $:', TOTAL_AMOUNT)"
   ]
  },
  {
   "cell_type": "markdown",
   "metadata": {
    "id": "lWAkB2PyBPG7",
    "pycharm": {
     "name": "#%% md\n"
    }
   },
   "source": [
    "![score_result.jpg](data:image/jpeg;base64,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)"
   ]
  }
 ],
 "metadata": {
  "colab": {
   "provenance": []
  },
  "kernelspec": {
   "display_name": "Python 3 (ipykernel)",
   "language": "python",
   "name": "python3"
  },
  "language_info": {
   "codemirror_mode": {
    "name": "ipython",
    "version": 3
   },
   "file_extension": ".py",
   "mimetype": "text/x-python",
   "name": "python",
   "nbconvert_exporter": "python",
   "pygments_lexer": "ipython3",
   "version": "3.11.4"
  }
 },
 "nbformat": 4,
 "nbformat_minor": 1
}