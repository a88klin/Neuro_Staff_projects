{
 "cells": [
  {
   "cell_type": "markdown",
   "metadata": {
    "id": "Aejf4Rhfxh8J",
    "pycharm": {
     "name": "#%% md\n"
    }
   },
   "source": [
    "Нейроконсультатнт с поддержкой диалога (контекста)"
   ]
  },
  {
   "cell_type": "code",
   "execution_count": null,
   "metadata": {
    "id": "0LMlhFB4xh8P",
    "pycharm": {
     "name": "#%%\n"
    }
   },
   "outputs": [],
   "source": [
    "!pip install -q langchain_openai==0.0.2 faiss-cpu==1.7.4 openai==1.6.1 tiktoken==0.5.2 langchain_community==0.0.11 langchain==0.1.0 cohere\n",
    "!pip install pydantic pydantic-settings"
   ]
  },
  {
   "cell_type": "code",
   "execution_count": null,
   "metadata": {
    "id": "ZtYN8QiJxh8R",
    "pycharm": {
     "name": "#%%\n"
    }
   },
   "outputs": [],
   "source": [
    "from langchain_openai import OpenAIEmbeddings\n",
    "from langchain.text_splitter import MarkdownHeaderTextSplitter, RecursiveCharacterTextSplitter\n",
    "from langchain.vectorstores import FAISS\n",
    "import os\n",
    "import re\n",
    "import datetime\n",
    "from langchain.docstore.document import Document\n",
    "import requests\n",
    "from openai import OpenAI\n",
    "import tiktoken\n",
    "import matplotlib.pyplot as plt\n",
    "\n",
    "# --------------------------------------------------------------\n",
    "from pydantic import SecretStr\n",
    "from pydantic_settings import BaseSettings, SettingsConfigDict\n",
    "\n",
    "class Settings(BaseSettings):\n",
    "    model_config = SettingsConfigDict(env_file='input',\n",
    "                                      env_file_encoding='utf-8')\n",
    "    openai_api_key: SecretStr\n",
    "\n",
    "os.environ['OPENAI_API_KEY'] = Settings().openai_api_key.get_secret_value()\n",
    "client = OpenAI()"
   ]
  },
  {
   "cell_type": "code",
   "execution_count": null,
   "metadata": {
    "id": "a-rWq581xh8R",
    "pycharm": {
     "name": "#%%\n"
    }
   },
   "outputs": [],
   "source": [
    "# функция для загрузки документа по ссылке из гугл драйв\n",
    "def load_document_text(url: str) -> str:\n",
    "    # Extract the document ID from the URL\n",
    "    match_ = re.search('/document/d/([a-zA-Z0-9-_]+)', url)\n",
    "    if match_ is None:\n",
    "        raise ValueError('Invalid Google Docs URL')\n",
    "    doc_id = match_.group(1)\n",
    "    # Download the document as plain text\n",
    "    response = requests.get(f'https://docs.google.com/document/d/{doc_id}/export?format=txt')\n",
    "    response.raise_for_status()\n",
    "    text = response.text\n",
    "    return text\n",
    "\n",
    "\n",
    "def text_to_markdown(text):\n",
    "    # Добавляем заголовок 1 уровня на основе римских чисел (без переноса строки)\n",
    "    # и дублируем его строчкой ниже - иначе эта информация перенесется в метаданные, а порой она бывает полезной.\n",
    "    def replace_header1(match):\n",
    "        return f\"# {match.group(2)}\\n{match.group(2)}\"\n",
    "    text = re.sub(r'^(I{1,3}|IV|V|VI{1,3}|IX)\\. (.+)', replace_header1, text, flags=re.M)\n",
    "    # Добавляем текст, выделенный жирным шрифтом (он заключен между *)\n",
    "    # и дублируем его строчкой ниже\n",
    "    def replace_header2(match):\n",
    "        return f\"## {match.group(1)}\\n{match.group(1)}\"\n",
    "    text = re.sub(r'\\*([^\\*]+)\\*', replace_header2, text)\n",
    "    return text\n",
    "\n",
    "# База данных (Ссылка изменена)\n",
    "database = load_document_text('https://docs.google.com/document/d/1YhFGR9fZDNTeE3eJ-yXskxZB85LsTRYvXjZ9Ij-t3Gw/edit?usp=sharing')\n",
    "markdown = text_to_markdown(database)"
   ]
  },
  {
   "cell_type": "code",
   "execution_count": null,
   "metadata": {
    "id": "h4YPecZSxh8S",
    "outputId": "97bade3c-1cdf-4b3e-b07a-657079b1b99f",
    "pycharm": {
     "name": "#%%\n"
    }
   },
   "outputs": [
    {
     "name": "stdout",
     "output_type": "stream",
     "text": [
      "\n",
      "Fragment Token Counts: [106, 990, 6934, 489, 231, 20029, 839, 25454, 653, 10082]\n",
      "\n",
      "Source Chunk Token Counts: [106, 629, 361, 677, 699, 670, 634, 731, 623, 522, 712, 687, 680, 299, 489, 231, 640, 670, 615, 703, 690, 727, 709, 667, 648, 688, 716, 723, 652, 705, 710, 580, 695, 741, 605, 738, 734, 698, 729, 718, 647, 720, 732, 699, 730, 680, 159, 672, 683, 730, 716, 720, 715, 676, 658, 617, 628, 718, 719, 675, 732, 604, 729, 539, 702, 645, 731, 664, 729, 708, 534, 678, 678, 692, 716, 698, 715, 676, 633, 655, 655, 523, 666, 721, 504, 653, 708, 728, 716, 736, 732, 737, 715, 674, 726, 741, 707, 720, 743, 689] \n",
      "\n"
     ]
    },
    {
     "data": {
      "image/png": "[encoded data removed]",
      "text/plain": [
       "<Figure size 1500x300 with 2 Axes>"
      ]
     },
     "metadata": {},
     "output_type": "display_data"
    },
    {
     "name": "stdout",
     "output_type": "stream",
     "text": [
      "\n",
      "fragments:  10\n",
      "source_chunks:  100\n"
     ]
    }
   ],
   "source": [
    "def num_tokens_from_string(string, encoding_name):\n",
    "      \"\"\"Возвращает количество токенов в строке\"\"\"\n",
    "      encoding = tiktoken.get_encoding(encoding_name)\n",
    "      num_tokens = len(encoding.encode(string))\n",
    "      return num_tokens\n",
    "\n",
    "\n",
    "def hist_plot(fragments, source_chunks):\n",
    "    # Подсчет токенов для каждого fragment\n",
    "    fragment_token_counts = [num_tokens_from_string(fragment.page_content, \"cl100k_base\") for fragment in fragments]\n",
    "    print('\\nFragment Token Counts:', fragment_token_counts)\n",
    "    # Подсчет токенов для каждого source_chunk\n",
    "    source_chunk_token_counts = [num_tokens_from_string(chunk.page_content, \"cl100k_base\") for chunk in source_chunks]\n",
    "    print('\\nSource Chunk Token Counts:', source_chunk_token_counts, '\\n')\n",
    "\n",
    "    fig, (ax1, ax2) = plt.subplots(nrows=1, ncols=2, figsize=(15, 3))\n",
    "    ax1.hist(fragment_token_counts, bins=10, alpha=0.5, label='Fragments')\n",
    "    ax1.set_title('Fragment Token Counts')\n",
    "    ax1.set_xlabel('Token Count')\n",
    "    ax1.set_ylabel('Frequency')\n",
    "    plt.hist(source_chunk_token_counts, bins=20, alpha=0.5, label='Source Chunks')\n",
    "    ax2.set_title('Source Chunk Token Counts')\n",
    "    ax2.set_xlabel('Token Count')\n",
    "    ax2.set_ylabel('Frequency')\n",
    "    plt.show()\n",
    "\n",
    "\n",
    "def split_text(text, max_count):\n",
    "    headers_to_split_on = [\n",
    "        (\"#\", \"Header 1\"),\n",
    "        (\"##\", \"Header 2\"),\n",
    "    ]\n",
    "    markdown_splitter = MarkdownHeaderTextSplitter(headers_to_split_on=headers_to_split_on)\n",
    "    fragments = markdown_splitter.split_text(text)\n",
    "\n",
    "    splitter = RecursiveCharacterTextSplitter(\n",
    "        chunk_size=max_count,\n",
    "        chunk_overlap=0,\n",
    "        length_function=lambda x: num_tokens_from_string(x, \"cl100k_base\")\n",
    "    )\n",
    "    source_chunks = [\n",
    "        Document(page_content=chunk, metadata=fragment.metadata)\n",
    "        for fragment in fragments\n",
    "        for chunk in splitter.split_text(fragment.page_content)\n",
    "    ]\n",
    "    hist_plot(fragments, source_chunks)\n",
    "    return fragments, source_chunks\n",
    "\n",
    "\n",
    "fragments, source_chunks = split_text(markdown, 750)\n",
    "print(\"\\nfragments: \", len(fragments))\n",
    "print(\"source_chunks: \", len(source_chunks))"
   ]
  },
  {
   "cell_type": "code",
   "execution_count": null,
   "metadata": {
    "id": "R2N_1-aGxh8U",
    "pycharm": {
     "name": "#%%\n"
    }
   },
   "outputs": [],
   "source": [
    "embeddings = OpenAIEmbeddings()\n",
    "db = FAISS.from_documents(source_chunks, embeddings)\n",
    "\n",
    "def chunks_and_scores(query):\n",
    "    docs_and_scores = db.similarity_search_with_score(query, k=4)\n",
    "    print(\"№1:\", docs_and_scores[0][0].page_content[:100], ' | ', docs_and_scores[0][1])\n",
    "    print(\"№2:\", docs_and_scores[1][0].page_content[:100], ' | ', docs_and_scores[1][1])\n",
    "    print(\"№3:\", docs_and_scores[2][0].page_content[:100], ' | ', docs_and_scores[2][1])\n",
    "    print(\"№4:\", docs_and_scores[3][0].page_content[:100], ' | ', docs_and_scores[3][1])"
   ]
  },
  {
   "cell_type": "code",
   "execution_count": null,
   "metadata": {
    "id": "ZMa6VzECxh8U",
    "outputId": "31031986-bb4e-4ee4-81cc-69cdcd618c93",
    "pycharm": {
     "name": "#%%\n"
    }
   },
   "outputs": [
    {
     "name": "stdout",
     "output_type": "stream",
     "text": [
      "№1: Прожектор должен быть установлен по продольной оси симметрии локомотива, головного вагона моторвагон  |  0.24472928\n",
      "№2: 71. Локомотивы, моторвагонный подвижной состав, пассажирские вагоны, специальный железнодорожный под  |  0.2498666\n",
      "№3: 53. Железнодорожный подвижной состав должен быть оборудован сцепным или автосцепным устройством. Кон  |  0.25161403\n",
      "№4: 84. Вагоны, предназначенные для перевозки продовольственного сырья и пищевых продуктов, должны обесп  |  0.25380278\n"
     ]
    }
   ],
   "source": [
    "query = \"Чем должен быть оборудован моторвагонный подвижной состав?\"\n",
    "chunks_and_scores(query)"
   ]
  },
  {
   "cell_type": "code",
   "execution_count": null,
   "metadata": {
    "id": "5gbH7x90xh8V",
    "outputId": "0e2d5e0b-7aa9-479f-f415-647846f603d8",
    "pycharm": {
     "name": "#%%\n"
    }
   },
   "outputs": [
    {
     "name": "stdout",
     "output_type": "stream",
     "text": [
      "№1: б) автоматизированная система управления, обеспечивающая контроль скорости движения и получения (пер  |  0.32361948\n",
      "№2: 38. Конструкция кабины машиниста локомотива, моторвагонного подвижного состава и специального самохо  |  0.32828036\n",
      "№3: Лестницы для подъема на крышу локомотивов и моторных вагонов электропоездов должны быть заблокирован  |  0.3341835\n",
      "№4: 71. Локомотивы, моторвагонный подвижной состав, пассажирские вагоны, специальный железнодорожный под  |  0.3342558\n"
     ]
    }
   ],
   "source": [
    "query = \"Чего там про локомотивы?\"\n",
    "chunks_and_scores(query)\n",
    "# Нечеткий вопрос. Уровень Score > 0.32 буду отсекать"
   ]
  },
  {
   "cell_type": "code",
   "execution_count": null,
   "metadata": {
    "id": "-ZNW0q71xh8W",
    "pycharm": {
     "name": "#%%\n"
    }
   },
   "outputs": [],
   "source": [
    "def gpt_35_turbo_0125(messages, temp=0):\n",
    "    return client.chat.completions.create(\n",
    "            model=\"gpt-3.5-turbo-0125\",\n",
    "            messages=messages,\n",
    "            temperature=temp)\n",
    "\n",
    "\n",
    "def answer_gpt(system, topic, db, temp=0, verbose=0, score=0.32):\n",
    "    docs_and_scores = db.similarity_search_with_score(topic, k=4)\n",
    "    # Только Score < 0.32\n",
    "    message_content = ', '.join([doc[0].page_content for doc in docs_and_scores if doc[1] < score])\n",
    "\n",
    "    if verbose:\n",
    "        print(' Message_content:\\n', message_content)\n",
    "\n",
    "    if message_content: # Если есть чанки Score < 0.32 ************************\n",
    "        scores = [doc[1] for doc in docs_and_scores if doc[1] < score]\n",
    "        messages = [\n",
    "            {\"role\": \"system\", \"content\": system},\n",
    "            {\"role\": \"user\", \"content\": f\"Ответь на вопрос. Документ с информацией для ответа: {message_content}\\n\\nВопрос: \\n{topic}\"}\n",
    "        ]\n",
    "        completion = gpt_35_turbo_0125(messages, temp)  # model=\"gpt-3.5-turbo-0125\"\n",
    "\n",
    "        print('Symbols Message_content:', len(message_content))\n",
    "        print('Scores:', scores)\n",
    "        print(f'Вопрос: {completion.usage.prompt_tokens} токенов. '\n",
    "              f'\\nОтвет: {completion.usage.completion_tokens} токенов. '\n",
    "              f'\\nВсего: {completion.usage.total_tokens} токенов.')\n",
    "        print(datetime.datetime.now(), '\\n')\n",
    "        return completion.choices[0].message.content\n",
    "        # ------------------------------------------------------------------------\n",
    "    else: # Если нет чанков Score < 0.32\n",
    "        scores = [doc[1] for doc in docs_and_scores if doc[1] >= score]\n",
    "        print('\\nЗадайте более более корректный и точный вопрос...')\n",
    "        print('Scores:', scores)\n",
    "\n",
    "\n",
    "def summarize_questions(dialog):\n",
    "    \"\"\"Функция возвращает саммаризированный текст диалога.\"\"\"\n",
    "    messages = [\n",
    "        {\"role\": \"system\", \"content\": \"Ты - нейро-саммаризатор. Твоя задача - саммаризировать диалог, который тебе пришел. Если пользователь назвал свое имя, обязательно отрази его в саммаризированном диалоге\"},\n",
    "        {\"role\": \"user\", \"content\": \"Саммаризируй следующий диалог консультанта и пользователя: \" + \" \".join(dialog)}\n",
    "    ]\n",
    "    completion = gpt_35_turbo_0125(messages)  # model=\"gpt-3.5-turbo-0125\"\n",
    "\n",
    "    print(f'Вопрос summarize: {completion.usage.prompt_tokens} токенов. '\n",
    "          f'\\nОтвет summarize: {completion.usage.completion_tokens} токенов. '\n",
    "          f'\\nВсего summarize: {completion.usage.total_tokens} токенов.')\n",
    "    print(datetime.datetime.now(), '\\n')\n",
    "    return completion.choices[0].message.content\n",
    "\n",
    "\n",
    "def answer_user_question_dialog(system, db, user_question, question_history):\n",
    "    \"\"\"Функция возвращает ответ на вопрос пользователя.\"\"\"\n",
    "    summarized_history = ''\n",
    "    if len(question_history) > 0:\n",
    "        summarized_history = \"Вот краткий обзор предыдущего диалога: \" \\\n",
    "                             + summarize_questions(\n",
    "                              [q + ' ' + (a if a else '') for q, a in question_history])\n",
    "    # Добавляем явное разделение между историей диалога и текущим вопросом\n",
    "    topic = summarized_history + \"\\n\" + user_question\n",
    "    # Извлекаем наиболее похожие отрезки текста из базы знаний и получение ответа модели\n",
    "    answer_text = answer_gpt(system, topic, db)\n",
    "    # Добавляем вопрос пользователя и ответ системы в историю\n",
    "    question_history.append((user_question, answer_text if answer_text else ''))\n",
    "    # Выводим саммаризированный текст, который видит модель\n",
    "    if summarized_history:\n",
    "        print('****************************')\n",
    "        print(summarized_history)\n",
    "        print('****************************')\n",
    "    return answer_text\n",
    "\n",
    "\n",
    "def run_dialog(system, db):\n",
    "    \"\"\"Функция запускает диалог между пользователем и нейро-консультантом.\"\"\"\n",
    "    # список кортежей, где каждый кортеж содержит пару вопрос-ответ,\n",
    "    # для отслеживания истории вопросов и ответов во время сессии диалога.\n",
    "    question_history = []\n",
    "    while True:\n",
    "        user_question = input('Пользователь: ')\n",
    "        print('\\n****************************')\n",
    "        print('Вопрос:', user_question)\n",
    "        if user_question.lower() == 'stop':\n",
    "            break\n",
    "        answer = answer_user_question_dialog(system, db, user_question, question_history)\n",
    "        print('\\nКонсультант:', answer)\n",
    "    return\n",
    "\n",
    "\n",
    "# Инструкция в system\n",
    "system = \"Ты консультант по ТЕХНИЧЕСКОМУ РЕГЛАМЕНТУ ТАМОЖЕННОГО СОЮЗА О БЕЗОПАСНОСТИ ЖЕЛЕЗНОДОРОЖНОГО ПОДВИЖНОГО СОСТАВА. \\\n",
    "Ответь на вопрос на основе Документа с информацией. Не придумывай ничего от себя, отвечай максимально \\\n",
    "по Документу. Не упоминай Документ с информацией при ответе. Никто ничего не должен знать про \\\n",
    "Документ с информацией для ответа. Ты должен отвечать на вопросы только по темам Документа с информацией. \\\n",
    "Ты не должен отвечать на вопросы, которые не связанны с темами, содержащимися в Документе с информацией. \\\n",
    "Если будет вопрос не связанный с темами Документа, ответь, что ты можешь отвечать на вопросы только \\\n",
    "о ТЕХНИЧЕСКОМ РЕГЛАМЕНТЕ ТАМОЖЕННОГО СОЮЗА О БЕЗОПАСНОСТИ ЖЕЛЕЗНОДОРОЖНОГО ПОДВИЖНОГО СОСТАВА. Ты должен \\\n",
    "ответить об истории вашей переписки или о предыдущих вопросах, если тебя спросят\""
   ]
  },
  {
   "cell_type": "code",
   "execution_count": null,
   "metadata": {
    "id": "gb0KeiZCxh8X",
    "outputId": "9727e3d5-e622-47d7-dde6-3e1d308a6509",
    "pycharm": {
     "name": "#%%\n"
    }
   },
   "outputs": [
    {
     "name": "stdout",
     "output_type": "stream",
     "text": [
      "\n",
      "****************************\n",
      "Вопрос: Чего там про локомотивы?\n",
      "\n",
      "Задайте более более корректный и точный вопрос...\n",
      "Scores: [0.3619204, 0.36304405, 0.36335954, 0.36571726]\n",
      "\n",
      "Консультант: None\n",
      "\n",
      "****************************\n",
      "Вопрос: stop\n"
     ]
    }
   ],
   "source": [
    "run_dialog(system, db)\n",
    "# Отсечка по Score > 0.32. Вопрос в chatGPT не уходит..."
   ]
  },
  {
   "cell_type": "code",
   "execution_count": null,
   "metadata": {
    "id": "M_uIs7N2xh8Y",
    "outputId": "92605c49-e66f-4d20-c1d2-84b80606f1ac",
    "pycharm": {
     "name": "#%%\n"
    }
   },
   "outputs": [
    {
     "name": "stdout",
     "output_type": "stream",
     "text": [
      "\n",
      "****************************\n",
      "Вопрос: Чем должен быть оборудован моторвагонный подвижной состав?\n",
      "Symbols Message_content: 6487\n",
      "Scores: [0.23155327, 0.24368799, 0.24744587, 0.25000504]\n",
      "Вопрос: 3302 токенов. \n",
      "Ответ: 194 токенов. \n",
      "Всего: 3496 токенов.\n",
      "2024-02-10 19:02:58.977784 \n",
      "\n",
      "\n",
      "Консультант: Моторвагонный подвижной состав должен быть оборудован звуковыми сигнальными устройствами большой громкости (тифоны) и малой громкости (свистки), специальными местами для хранения комплекта электрозащитных средств и другого специального оборудования, необходимого для технического обслуживания и безопасной эксплуатации, а также вагон (вагоны), оборудованный (оборудованные) местами, предназначенными для проезда инвалидов и пассажиров с детьми.\n",
      "\n",
      "****************************\n",
      "Вопрос: О чем я спрашивал ранее?\n",
      "Вопрос summarize: 325 токенов. \n",
      "Ответ summarize: 131 токенов. \n",
      "Всего summarize: 456 токенов.\n",
      "2024-02-10 19:03:16.337875 \n",
      "\n",
      "Symbols Message_content: 6516\n",
      "Scores: [0.18712509, 0.19778514, 0.20265433, 0.20398241]\n",
      "Вопрос: 3454 токенов. \n",
      "Ответ: 144 токенов. \n",
      "Всего: 3598 токенов.\n",
      "2024-02-10 19:03:22.461960 \n",
      "\n",
      "****************************\n",
      "Вот краткий обзор предыдущего диалога: Моторвагонный подвижной состав должен быть оборудован звуковыми сигнальными устройствами разной громкости, специальными местами для хранения электрозащитных средств и другого оборудования, необходимого для обслуживания и безопасной эксплуатации. Также должны быть вагоны с местами для инвалидов и пассажиров с детьми.\n",
      "****************************\n",
      "\n",
      "Консультант: Вы спрашивали о том, какие требования предъявляются к моторвагонному подвижному составу, включая оборудование звуковыми сигнальными устройствами разной громкости, специальными местами для хранения электрозащитных средств и другим необходимым оборудованием, а также о наличии вагонов с местами для инвалидов и пассажиров с детьми.\n",
      "\n",
      "****************************\n",
      "Вопрос: stop\n"
     ]
    }
   ],
   "source": [
    "run_dialog(system, db)"
   ]
  }
 ],
 "metadata": {
  "colab": {
   "provenance": []
  },
  "kernelspec": {
   "display_name": "Python 3 (ipykernel)",
   "language": "python",
   "name": "python3"
  },
  "language_info": {
   "codemirror_mode": {
    "name": "ipython",
    "version": 3
   },
   "file_extension": ".py",
   "mimetype": "text/x-python",
   "name": "python",
   "nbconvert_exporter": "python",
   "pygments_lexer": "ipython3",
   "version": "3.11.4"
  }
 },
 "nbformat": 4,
 "nbformat_minor": 1
}