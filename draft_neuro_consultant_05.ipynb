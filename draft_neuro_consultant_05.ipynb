{
 "cells": [
  {
   "cell_type": "markdown",
   "metadata": {
    "id": "SdjzC8ajnot9",
    "pycharm": {
     "name": "#%% md\n"
    }
   },
   "source": [
    "Нейроконсультант по ДИСЦИПЛИНАРНОМУ РЕГЛАМЕНТУ Российского футбольного союза (РФС)"
   ]
  },
  {
   "cell_type": "code",
   "source": [
    "!pip install langchain_openai langchain openai tiktoken requests matplotlib pydantic pydantic_settings faiss-cpu"
   ],
   "metadata": {
    "id": "_FQFbuaTbOxT",
    "pycharm": {
     "name": "#%%\n"
    }
   },
   "execution_count": null,
   "outputs": []
  },
  {
   "cell_type": "code",
   "execution_count": null,
   "metadata": {
    "id": "e_dG3i_aphld",
    "pycharm": {
     "name": "#%%\n"
    }
   },
   "outputs": [],
   "source": [
    "from langchain_openai import OpenAIEmbeddings, ChatOpenAI\n",
    "from langchain.schema import AIMessage, HumanMessage, SystemMessage\n",
    "from langchain.docstore.document import Document\n",
    "from langchain.text_splitter import MarkdownHeaderTextSplitter, RecursiveCharacterTextSplitter\n",
    "from langchain.vectorstores import FAISS\n",
    "from openai import OpenAI\n",
    "import tiktoken\n",
    "import os\n",
    "import re\n",
    "import datetime\n",
    "import requests\n",
    "import matplotlib.pyplot as plt\n",
    "\n",
    "# --------------------------------------------------------------\n",
    "from pydantic import SecretStr\n",
    "from pydantic_settings import BaseSettings, SettingsConfigDict\n",
    "\n",
    "class Settings(BaseSettings):\n",
    "    model_config = SettingsConfigDict(env_file='input',\n",
    "                                      env_file_encoding='utf-8')\n",
    "    openai_api_key: SecretStr\n",
    "\n",
    "os.environ['OPENAI_API_KEY'] = Settings().openai_api_key.get_secret_value()\n",
    "client = OpenAI()"
   ]
  },
  {
   "cell_type": "code",
   "execution_count": null,
   "metadata": {
    "id": "m7H1ARZRphrQ",
    "outputId": "ba8b7712-431c-484d-8c1c-c34c048b7926",
    "pycharm": {
     "name": "#%%\n"
    },
    "colab": {
     "base_uri": "https://localhost:8080/"
    },
    "executionInfo": {
     "status": "ok",
     "timestamp": 1707760132668,
     "user_tz": -180,
     "elapsed": 5133,
     "user": {
      "displayName": "Alex Klin",
      "userId": "11249935885368047783"
     }
    }
   },
   "outputs": [
    {
     "name": "stdout",
     "output_type": "stream",
     "text": [
      "К-во символов text: 143932\n"
     ]
    }
   ],
   "source": [
    "def load_document_text(url: str) -> str:\n",
    "    match_ = re.search('/document/d/([a-zA-Z0-9-_]+)', url)\n",
    "    if match_ is None:\n",
    "        raise ValueError('Invalid Google Docs URL')\n",
    "    doc_id = match_.group(1)\n",
    "    response = requests.get(f'https://docs.google.com/document/d/{doc_id}/export?format=txt')\n",
    "    response.raise_for_status()\n",
    "    text = response.text\n",
    "    return text\n",
    "\n",
    "\n",
    "def load_and_duplicate_markdown(url):\n",
    "    # Находим строки с разметкой MarkDown и дублируем их без разметки\n",
    "    lines = load_document_text(url).split('\\n')\n",
    "    new_lines = []\n",
    "    for line in lines:\n",
    "        if '# ' in line:\n",
    "            new_lines.append(line + '\\n' + line.replace('#', ''))\n",
    "        elif '## ' in line:\n",
    "            new_lines.append(line + '\\n' + line.replace('##', ''))\n",
    "        elif '### ' in line:\n",
    "            new_lines.append(line + '\\n' + line.replace('###', ''))\n",
    "        else:\n",
    "            new_lines.append(line)\n",
    "    return '\\n'.join(new_lines)\n",
    "\n",
    "\n",
    "# **************************************************************\n",
    "text = load_and_duplicate_markdown('https://docs.google.com/document/d/1PGw5G8PSJ2S7vfPlge9j6G_x0zXFG67PMIitfwlP-c0/edit?usp=sharing')\n",
    "print('К-во символов text:', len(text))"
   ]
  },
  {
   "cell_type": "code",
   "execution_count": null,
   "metadata": {
    "id": "EP8Km7nGp-TL",
    "outputId": "fb6819d6-e6ad-43f9-c147-328301a0d9ce",
    "pycharm": {
     "name": "#%%\n"
    },
    "colab": {
     "base_uri": "https://localhost:8080/",
     "height": 1000
    },
    "executionInfo": {
     "status": "ok",
     "timestamp": 1707760147143,
     "user_tz": -180,
     "elapsed": 6695,
     "user": {
      "displayName": "Alex Klin",
      "userId": "11249935885368047783"
     }
    }
   },
   "outputs": [
    {
     "data": {
      "text/plain": "<Figure size 1500x300 with 2 Axes>",
      "image/png": "[encoded data removed]"
     },
     "metadata": {},
     "output_type": "display_data"
    },
    {
     "name": "stdout",
     "output_type": "stream",
     "text": [
      "fragments:  153\n",
      "source_chunks:  185\n"
     ]
    }
   ],
   "source": [
    "def count_tokens(system_text, question, answer_text):\n",
    "    messages = [SystemMessage(content=system_text),\n",
    "                HumanMessage(content=question),\n",
    "                AIMessage(content=answer_text)]\n",
    "    return ChatOpenAI().get_num_tokens_from_messages(messages)\n",
    "\n",
    "\n",
    "def num_tokens_from_string(string, encoding_name):\n",
    "      \"\"\"Возвращает количество токенов в строке\"\"\"\n",
    "      encoding = tiktoken.get_encoding(encoding_name)\n",
    "      num_tokens = len(encoding.encode(string))\n",
    "      return num_tokens\n",
    "\n",
    "\n",
    "def hist_plot(fragments, source_chunks):\n",
    "    fragment_token_counts = [num_tokens_from_string(fragment.page_content, \"cl100k_base\") for fragment in fragments]\n",
    "    source_chunk_token_counts = [num_tokens_from_string(chunk.page_content, \"cl100k_base\") for chunk in source_chunks]\n",
    "\n",
    "    fig, (ax1, ax2) = plt.subplots(nrows=1, ncols=2, figsize=(15, 3))\n",
    "    ax1.hist(fragment_token_counts, bins=10, alpha=0.5, label='Fragments')\n",
    "    ax1.set_title('Fragment Token Counts')\n",
    "    ax1.set_xlabel('Token Count')\n",
    "    ax1.set_ylabel('Frequency')\n",
    "    plt.hist(source_chunk_token_counts, bins=20, alpha=0.5, label='Source Chunks')\n",
    "    ax2.set_title('Source Chunk Token Counts')\n",
    "    ax2.set_xlabel('Token Count')\n",
    "    ax2.set_ylabel('Frequency')\n",
    "    plt.show()\n",
    "\n",
    "\n",
    "def split_text(text, max_count):\n",
    "    headers_to_split_on = [\n",
    "        (\"#\", \"Header 1\"),\n",
    "        (\"##\", \"Header 2\"),\n",
    "        (\"###\", \"Header 3\"),\n",
    "    ]\n",
    "    markdown_splitter = MarkdownHeaderTextSplitter(headers_to_split_on=headers_to_split_on)\n",
    "    fragments = markdown_splitter.split_text(text)\n",
    "\n",
    "    splitter = RecursiveCharacterTextSplitter(\n",
    "        chunk_size=max_count,\n",
    "        chunk_overlap=50,\n",
    "        length_function=lambda x: num_tokens_from_string(x, \"cl100k_base\")\n",
    "    )\n",
    "    source_chunks = [\n",
    "        Document(page_content=chunk, metadata=fragment.metadata)\n",
    "        for fragment in fragments\n",
    "        for chunk in splitter.split_text(fragment.page_content)\n",
    "    ]\n",
    "    hist_plot(fragments, source_chunks)\n",
    "    return fragments, source_chunks\n",
    "\n",
    "# *****************************************************************************\n",
    "fragments, source_chunks = split_text(text, 750)\n",
    "print(\"fragments: \", len(fragments))\n",
    "print(\"source_chunks: \", len(source_chunks))"
   ]
  },
  {
   "cell_type": "code",
   "execution_count": null,
   "metadata": {
    "id": "frp1dOjvp-Y2",
    "pycharm": {
     "name": "#%%\n"
    }
   },
   "outputs": [],
   "source": [
    "embeddings = OpenAIEmbeddings()\n",
    "db = FAISS.from_documents(source_chunks, embeddings)\n",
    "\n",
    "def chunks_and_scores(query, db):\n",
    "    docs_and_scores = db.similarity_search_with_score(query, k=4)\n",
    "    print('Scores:', [doc[1] for doc in docs_and_scores])"
   ]
  },
  {
   "cell_type": "code",
   "execution_count": null,
   "outputs": [
    {
     "name": "stdout",
     "output_type": "stream",
     "text": [
      "Scores: [0.156737, 0.20942622, 0.23486353, 0.23581699]\n"
     ]
    }
   ],
   "source": [
    "query = 'Право на участие в заседании Юрисдикционного органа'\n",
    "chunks_and_scores(query, db)"
   ],
   "metadata": {
    "pycharm": {
     "name": "#%%\n"
    },
    "id": "ffC3RWqlT8Df",
    "outputId": "dce38d72-d310-464e-fac0-f6fc7b9dcfc3",
    "colab": {
     "base_uri": "https://localhost:8080/"
    },
    "executionInfo": {
     "status": "ok",
     "timestamp": 1707760255694,
     "user_tz": -180,
     "elapsed": 260,
     "user": {
      "displayName": "Alex Klin",
      "userId": "11249935885368047783"
     }
    }
   }
  },
  {
   "cell_type": "code",
   "execution_count": null,
   "outputs": [
    {
     "name": "stdout",
     "output_type": "stream",
     "text": [
      "Scores: [0.48263717, 0.48574024, 0.4890818, 0.48929158]\n"
     ]
    }
   ],
   "source": [
    "query = 'Есть ли жизнь на Марсе?'\n",
    "chunks_and_scores(query, db)"
   ],
   "metadata": {
    "pycharm": {
     "name": "#%%\n"
    },
    "id": "JIv3BUr7wVZn",
    "outputId": "2e679ac3-db61-4e13-a3e7-cdfacc92bc6b"
   }
  },
  {
   "cell_type": "code",
   "execution_count": null,
   "metadata": {
    "id": "Gpjvpa58rU5K",
    "pycharm": {
     "name": "#%%\n"
    }
   },
   "outputs": [],
   "source": [
    "def message_content_and_scores(topic, db, k):\n",
    "    docs_and_scores = db.similarity_search_with_score(topic, k=k)\n",
    "    message_content = ', '.join([f'\\nChunk {i+1}: {doc[0].page_content}'\n",
    "                                 for i, doc in enumerate(docs_and_scores)])\n",
    "    scores = [doc[1] for doc in docs_and_scores]\n",
    "    return message_content, scores\n",
    "\n",
    "\n",
    "def gpt_35_turbo(messages, temp=0):\n",
    "    return client.chat.completions.create(\n",
    "        model=\"gpt-3.5-turbo-0125\",\n",
    "        messages=messages,\n",
    "        temperature=temp)\n",
    "\n",
    "\n",
    "def print_tokens_count(completion, info=''):\n",
    "    print(info)\n",
    "    print(f'Вопрос: {completion.usage.prompt_tokens} токенов. '\n",
    "          f'\\nОтвет: {completion.usage.completion_tokens} токенов. '\n",
    "          f'\\nВсего: {completion.usage.total_tokens} токенов.')\n",
    "    print(datetime.datetime.now(), '\\n')\n",
    "\n",
    "\n",
    "def answer_gpt(system, topic, db, k=4, temp=0, verbose=0, info=''):\n",
    "    message_content, scores = message_content_and_scores(topic, db, k)\n",
    "\n",
    "    if verbose:\n",
    "        print(' Message_content:\\n', message_content)\n",
    "\n",
    "    messages = [\n",
    "        {\"role\": \"system\", \"content\": system},\n",
    "        {\"role\": \"user\",\n",
    "         \"content\":\n",
    "        f\"Ответь на вопрос. Документ с информацией для ответа: {message_content}\\n\\nВопрос: \\n{topic}\"}\n",
    "    ]\n",
    "    completion = gpt_35_turbo(messages, temp)\n",
    "\n",
    "    print('Symbols Message_content:', len(message_content))\n",
    "    print('Scores:', scores)\n",
    "    print_tokens_count(completion, info=info)\n",
    "    return completion.choices[0].message.content\n",
    "\n",
    "\n",
    "system = \"Ты консультант по ДИСЦИПЛИНАРНОМУ РЕГЛАМЕНТУ Российского футбольного союза (РФС). \\\n",
    "Ответь на вопрос на основе Документа с информацией. Не придумывай ничего от себя, отвечай максимально \\\n",
    "по Документу. Не упоминай Документ с информацией при ответе. Никто ничего не должен знать про \\\n",
    "Документ с информацией для ответа. Ты должен отвечать на вопросы только по темам Документа с информацией. \\\n",
    "Ты не должен отвечать на вопросы, которые не связанны с темами, содержащимися в Документе с информацией. \\\n",
    "Если будет вопрос не связанный с темами Документа, ответь, что ты можешь отвечать на вопросы только \\\n",
    "о ДИСЦИПЛИНАРНОМОМ РЕГЛАМЕНТЕ Российского футбольного союза (РФС).\""
   ]
  },
  {
   "cell_type": "code",
   "execution_count": null,
   "outputs": [
    {
     "name": "stdout",
     "output_type": "stream",
     "text": [
      "Symbols Message_content: 3310\n",
      "Scores: [0.17942652, 0.2266725, 0.24486713, 0.24971655]\n",
      "\n",
      "Вопрос: 1867 токенов. \n",
      "Ответ: 313 токенов. \n",
      "Всего: 2180 токенов.\n",
      "2024-02-12 22:05:13.232010 \n",
      "\n"
     ]
    },
    {
     "data": {
      "text/plain": "'Любое лицо, в отношении которого ведется производство по делу, имеет право присутствовать на заседании Юрисдикционного органа и пользоваться всеми процессуальными правами, такими как знакомство с материалами дела, дача объяснений, представление своей аргументации и доказательств, требование предъявления доказательств, задавание вопросов и заявление отводов. Юрисдикционный орган обязан уведомить такое лицо о дате, месте и времени проведения заседания и не имеет права отказать ему в участии. Важно отметить, что отсутствие на заседании лица, в отношении которого ведется производство по делу, не влияет на законность решения только при условии, что такое лицо было своевременно уведомлено о заседании, и его процессуальные права были обеспечены.'"
     },
     "execution_count": 32,
     "metadata": {},
     "output_type": "execute_result"
    }
   ],
   "source": [
    "topic = 'Расскажи о Праве на участие в заседании Юрисдикционного органа'\n",
    "answer_gpt(system, topic, db)"
   ],
   "metadata": {
    "pycharm": {
     "name": "#%%\n"
    },
    "id": "edydgztRT8Di",
    "outputId": "d97de14e-e603-490c-8d46-8a64d23293c5"
   }
  },
  {
   "cell_type": "code",
   "execution_count": null,
   "outputs": [
    {
     "name": "stdout",
     "output_type": "stream",
     "text": [
      "Symbols Message_content: 160\n",
      "Scores: [0.48263717, 0.48574024, 0.4890818, 0.48929158]\n",
      "\n",
      "Вопрос: 470 токенов. \n",
      "Ответ: 59 токенов. \n",
      "Всего: 529 токенов.\n",
      "2024-02-12 22:05:26.634173 \n",
      "\n"
     ]
    },
    {
     "data": {
      "text/plain": "'Я могу отвечать только на вопросы о ДИСЦИПЛИНАРНОМ РЕГЛАМЕНТЕ Российского футбольного союза (РФС).'"
     },
     "execution_count": 33,
     "metadata": {},
     "output_type": "execute_result"
    }
   ],
   "source": [
    "topic = 'Есть ли жизнь на Марсе?'\n",
    "answer_gpt(system, topic, db)"
   ],
   "metadata": {
    "pycharm": {
     "name": "#%%\n"
    },
    "id": "wHyBL8o5T8Di",
    "outputId": "48e0a5d3-51b6-4526-e63a-801978ae1341"
   }
  }
 ],
 "metadata": {
  "colab": {
   "provenance": []
  },
  "kernelspec": {
   "display_name": "Python 3 (ipykernel)",
   "language": "python",
   "name": "python3"
  },
  "language_info": {
   "codemirror_mode": {
    "name": "ipython",
    "version": 3
   },
   "file_extension": ".py",
   "mimetype": "text/x-python",
   "name": "python",
   "nbconvert_exporter": "python",
   "pygments_lexer": "ipython3",
   "version": "3.11.4"
  }
 },
 "nbformat": 4,
 "nbformat_minor": 0
}