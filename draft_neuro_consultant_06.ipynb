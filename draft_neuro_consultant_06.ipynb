{
 "cells": [
  {
   "cell_type": "markdown",
   "metadata": {
    "id": "j3yrhymCHeSv",
    "pycharm": {
     "name": "#%% md\n"
    }
   },
   "source": [
    "Нейроконсультант по англоязычному сайту с ответами на вопросы по содержимому сайта на **русском** языке."
   ]
  },
  {
   "cell_type": "code",
   "execution_count": null,
   "metadata": {
    "id": "_clH_t0eHa0a",
    "pycharm": {
     "name": "#%%\n"
    }
   },
   "outputs": [],
   "source": [
    "!pip install nest_asyncio openai langchain langchain_openai cohere tiktoken faiss-cpu lxml bs4 html5lib xmltodict\n",
    "!pip install newspaper3k"
   ]
  },
  {
   "cell_type": "code",
   "execution_count": null,
   "metadata": {
    "id": "7ZQYlNKIJbug",
    "pycharm": {
     "name": "#%%\n"
    }
   },
   "outputs": [],
   "source": [
    "import nest_asyncio\n",
    "nest_asyncio.apply()\n",
    "import requests\n",
    "from langchain_openai import OpenAIEmbeddings\n",
    "from langchain.text_splitter import RecursiveCharacterTextSplitter\n",
    "import tiktoken\n",
    "import matplotlib.pyplot as plt\n",
    "import os\n",
    "from langchain.vectorstores import FAISS\n",
    "from bs4 import BeautifulSoup\n",
    "import pickle\n",
    "from langchain.schema import Document\n",
    "\n",
    "from google.colab import userdata\n",
    "os.environ[\"OPENAI_API_KEY\"] = userdata.get('OPENAI_API_KEY')"
   ]
  },
  {
   "cell_type": "markdown",
   "metadata": {
    "id": "f2R6A_2jhrrP",
    "pycharm": {
     "name": "#%% md\n"
    }
   },
   "source": [
    "### Сайт https://www.immigrationspain.es/en/ - Immigration lawyers"
   ]
  },
  {
   "cell_type": "code",
   "execution_count": null,
   "metadata": {
    "id": "KCjbzELya0Lq",
    "pycharm": {
     "name": "#%%\n"
    }
   },
   "outputs": [],
   "source": [
    "# !pip install newspaper3k\n",
    "from newspaper import Article\n",
    "\n",
    "\n",
    "# Спарсим из XML все ссылки на статьи и разделы и соберем\n",
    "# отдельно название статей + отдельно содержание с помощью newspaper3k\n",
    "def docs_from_xml_link(url):\n",
    "    response = requests.get(url)\n",
    "    soup = BeautifulSoup(response.text, \"xml\")\n",
    "    loc_list = soup.find_all('loc')\n",
    "    text_list = []\n",
    "    for loc in loc_list:\n",
    "        if '/en/' in loc.text: # Англоязычные страницы\n",
    "            article = Article(loc.text)\n",
    "            article.download()\n",
    "            article.parse()\n",
    "            title = f'{article.title}.'\n",
    "            content = f'{article.text}'\n",
    "            text_list.append([title, content])\n",
    "    return text_list\n",
    "\n",
    "\n",
    "urls = ['https://www.immigrationspain.es/post-sitemap.xml',\n",
    "        'https://www.immigrationspain.es/page-sitemap.xml']\n",
    "\n",
    "data_list = []\n",
    "for url in urls:\n",
    "    data_list.extend(docs_from_xml_link(url))"
   ]
  },
  {
   "cell_type": "code",
   "execution_count": null,
   "metadata": {
    "colab": {
     "base_uri": "https://localhost:8080/"
    },
    "executionInfo": {
     "elapsed": 371,
     "status": "ok",
     "timestamp": 1707902871025,
     "user": {
      "displayName": "Alex Klin",
      "userId": "11249935885368047783"
     },
     "user_tz": -180
    },
    "id": "rG2FmdDZ8GgY",
    "outputId": "6709d9a8-409d-4c46-b348-d4de43d4002c",
    "pycharm": {
     "name": "#%%\n"
    }
   },
   "outputs": [
    {
     "name": "stdout",
     "output_type": "stream",
     "text": [
      "201\n"
     ]
    },
    {
     "data": {
      "text/plain": [
       "['Unmarried Partners of EU Citizens Entering Spain to Join Them.',\n",
       " 'What is this new measure about? Very simple.\\n\\nIt facilitates (and makes possible) entry into Spain for foreign couples of EU nationals who are yet unmarried and unregistered.\\n\\nAs we have already mentioned in other articles, through the family member of a European Union citizen immigration procedure, a foreigner from outside the EU can enter Spain and obtain residency, provided that he or she is married or in a civil union relationship with a community citizen.\\n\\nAnd this could be done by entering Spain as a tourist and legally formalizing the relationship afterwards. And without the need to leave the country.\\n\\nHowever, during the coronavirus health crisis, this is something that could not be done (temporarily).\\n\\nThat is, with the existing restrictions on entry into the country to contain the virus, the only foreigners who could enter Spain were legal residents with a residence permit. But in the case of not being a resident yet and wanting to enter with your tourist visa, things were totally different. You simply could not do it.\\n\\nBut now the situation has changed.\\n\\nThis new initiative has been created to make entry to the country more flexible for all these foreign couples. The idea is to allow couples who had been separated by the Covid-19 situation to finally reunite.\\n\\nThus, now non-European couples of EU citizens with whom they are not yet married will be able to enter Spain in order to start living together or to simply reunite.\\n\\nDo you have any doubts? Get in touch with our immigration lawyers and receive personalized legal advice and all your doubts solved:']"
      ]
     },
     "execution_count": 11,
     "metadata": {},
     "output_type": "execute_result"
    }
   ],
   "source": [
    "print(len(data_list))\n",
    "data_list[150]"
   ]
  },
  {
   "cell_type": "code",
   "execution_count": null,
   "metadata": {
    "id": "kFPpmxTlOT_r",
    "pycharm": {
     "name": "#%%\n"
    }
   },
   "outputs": [],
   "source": [
    "# Сохранение в Колаб\n",
    "with open(\"text_list.pickle\", \"wb\") as f:\n",
    "    pickle.dump(data_list, f)\n",
    "\n",
    "with open(\"text_list.pickle\", \"rb\") as f:\n",
    "    text_list = pickle.load(f)"
   ]
  },
  {
   "cell_type": "code",
   "execution_count": null,
   "metadata": {
    "colab": {
     "base_uri": "https://localhost:8080/"
    },
    "executionInfo": {
     "elapsed": 414,
     "status": "ok",
     "timestamp": 1707903401368,
     "user": {
      "displayName": "Alex Klin",
      "userId": "11249935885368047783"
     },
     "user_tz": -180
    },
    "id": "psHolXY0-NMR",
    "outputId": "daf8c8ad-37d1-413d-e4b8-504f8a7a40c0",
    "pycharm": {
     "name": "#%%\n"
    }
   },
   "outputs": [
    {
     "name": "stdout",
     "output_type": "stream",
     "text": [
      "201\n"
     ]
    },
    {
     "data": {
      "text/plain": [
       "Document(page_content='Unmarried Partners of EU Citizens Entering Spain to Join Them.\\nWhat is this new measure about? Very simple.\\n\\nIt facilitates (and makes possible) entry into Spain for foreign couples of EU nationals who are yet unmarried and unregistered.\\n\\nAs we have already mentioned in other articles, through the family member of a European Union citizen immigration procedure, a foreigner from outside the EU can enter Spain and obtain residency, provided that he or she is married or in a civil union relationship with a community citizen.\\n\\nAnd this could be done by entering Spain as a tourist and legally formalizing the relationship afterwards. And without the need to leave the country.\\n\\nHowever, during the coronavirus health crisis, this is something that could not be done (temporarily).\\n\\nThat is, with the existing restrictions on entry into the country to contain the virus, the only foreigners who could enter Spain were legal residents with a residence permit. But in the case of not being a resident yet and wanting to enter with your tourist visa, things were totally different. You simply could not do it.\\n\\nBut now the situation has changed.\\n\\nThis new initiative has been created to make entry to the country more flexible for all these foreign couples. The idea is to allow couples who had been separated by the Covid-19 situation to finally reunite.\\n\\nThus, now non-European couples of EU citizens with whom they are not yet married will be able to enter Spain in order to start living together or to simply reunite.\\n\\nDo you have any doubts? Get in touch with our immigration lawyers and receive personalized legal advice and all your doubts solved:', metadata={'title': 'Unmarried Partners of EU Citizens Entering Spain to Join Them.'})"
      ]
     },
     "execution_count": 18,
     "metadata": {},
     "output_type": "execute_result"
    }
   ],
   "source": [
    "def num_tokens_from_string(string: str, encoding_name: str) -> int:\n",
    "      \"\"\"Возвращает количество токенов в строке\"\"\"\n",
    "      encoding = tiktoken.get_encoding(encoding_name)\n",
    "      num_tokens = len(encoding.encode(string))\n",
    "      return num_tokens\n",
    "\n",
    "\n",
    "docs_final = []\n",
    "# Пороговое значение для количества токенов\n",
    "threshold = 1000\n",
    "\n",
    "# Перебираем каждую статью\n",
    "for fragment in text_list:\n",
    "    num_tokens = num_tokens_from_string(fragment[1], \"cl100k_base\")\n",
    "    title = fragment[0]\n",
    "\n",
    "    # Если статья превышает пороговое значение, разбиваем ее\n",
    "    if num_tokens > threshold:\n",
    "        text_splitter = RecursiveCharacterTextSplitter(chunk_size=threshold,\n",
    "                                                       chunk_overlap=50)\n",
    "        text_parts = text_splitter.split_text(fragment[1])\n",
    "\n",
    "        for text_part in text_parts:\n",
    "            # Добавляем название статьи ко всем частям\n",
    "            docs_final.append(Document(\n",
    "                    page_content = title + '\\n' + text_part,\n",
    "                    metadata={'title': title}))\n",
    "    else:\n",
    "        # Если фрагмент не превышает порог\n",
    "        docs_final.append(Document(\n",
    "                    page_content = title + '\\n' + fragment[1],\n",
    "                    metadata={'title': title}))\n",
    "\n",
    "\n",
    "print(len(docs_final))\n",
    "docs_final[150]"
   ]
  },
  {
   "cell_type": "code",
   "execution_count": null,
   "metadata": {
    "id": "-88DVMrT6ntR",
    "pycharm": {
     "name": "#%%\n"
    }
   },
   "outputs": [],
   "source": [
    "# Сохранение docs_final в Колаб\n",
    "with open(\"docs_final.pickle\", \"wb\") as f:\n",
    "    pickle.dump(docs_final, f)\n",
    "\n",
    "with open(\"docs_final.pickle\", \"rb\") as f:\n",
    "    docs_final = pickle.load(f)"
   ]
  },
  {
   "cell_type": "code",
   "execution_count": null,
   "metadata": {
    "colab": {
     "base_uri": "https://localhost:8080/",
     "height": 472
    },
    "executionInfo": {
     "elapsed": 953,
     "status": "ok",
     "timestamp": 1707903702741,
     "user": {
      "displayName": "Alex Klin",
      "userId": "11249935885368047783"
     },
     "user_tz": -180
    },
    "id": "CEkjfUMw_j9o",
    "outputId": "8749c16a-1003-4513-d7d1-eacfa52a71a3",
    "pycharm": {
     "name": "#%%\n"
    }
   },
   "outputs": [
    {
     "data": {
      "image/png": "[encoded data removed]",
      "text/plain": [
       "<Figure size 640x480 with 1 Axes>"
      ]
     },
     "metadata": {},
     "output_type": "display_data"
    }
   ],
   "source": [
    "# Подсчет токенов для каждого документа и построение графика\n",
    "fragment_token_counts = [num_tokens_from_string(fragment.page_content, \"cl100k_base\") for fragment in docs_final]\n",
    "plt.hist(fragment_token_counts, bins=20, alpha=0.5, label='Docs')\n",
    "plt.title('Распределение длин чанков в токенах')\n",
    "plt.xlabel('Token Count')\n",
    "plt.ylabel('Frequency')\n",
    "plt.show()"
   ]
  },
  {
   "cell_type": "code",
   "execution_count": null,
   "metadata": {
    "id": "2zmSh4rPUWPA",
    "pycharm": {
     "name": "#%%\n"
    }
   },
   "outputs": [],
   "source": [
    "# Инициализирум модель эмбеддингов\n",
    "embeddings = OpenAIEmbeddings()\n",
    "# Создадим индексную базу из разделенных фрагментов текста\n",
    "db = FAISS.from_documents(docs_final, embeddings)"
   ]
  },
  {
   "cell_type": "code",
   "execution_count": null,
   "metadata": {
    "colab": {
     "base_uri": "https://localhost:8080/"
    },
    "executionInfo": {
     "elapsed": 380,
     "status": "ok",
     "timestamp": 1707903572970,
     "user": {
      "displayName": "Alex Klin",
      "userId": "11249935885368047783"
     },
     "user_tz": -180
    },
    "id": "DGQep2VZauOx",
    "outputId": "c3c0afc8-c08c-4f56-884a-94f431385d37",
    "pycharm": {
     "name": "#%%\n"
    }
   },
   "outputs": [
    {
     "data": {
      "text/plain": [
       "201"
      ]
     },
     "execution_count": 21,
     "metadata": {},
     "output_type": "execute_result"
    }
   ],
   "source": [
    "# Сохранение базы в Колаб\n",
    "index_name = \"db_migrat\"\n",
    "db.save_local(folder_path='',\n",
    "              index_name=index_name)\n",
    "\n",
    "db = FAISS.load_local(folder_path='',\n",
    "                      embeddings=embeddings,\n",
    "                      index_name=index_name)\n",
    "len(db.docstore._dict)"
   ]
  },
  {
   "cell_type": "code",
   "execution_count": null,
   "metadata": {
    "colab": {
     "base_uri": "https://localhost:8080/",
     "height": 37
    },
    "executionInfo": {
     "elapsed": 2438,
     "status": "ok",
     "timestamp": 1707905576980,
     "user": {
      "displayName": "Alex Klin",
      "userId": "11249935885368047783"
     },
     "user_tz": -180
    },
    "id": "wOyurbig_dMe",
    "outputId": "8fb9e415-daa9-4475-8f85-5033dde4396f",
    "pycharm": {
     "name": "#%%\n"
    }
   },
   "outputs": [
    {
     "data": {
      "application/vnd.google.colaboratory.intrinsic+json": {
       "type": "string"
      },
      "text/plain": [
       "'One of the Forms of obtaining a residence permit in Spain is carried out through the GOLDEN VISA PROGRAM'"
      ]
     },
     "execution_count": 39,
     "metadata": {},
     "output_type": "execute_result"
    }
   ],
   "source": [
    "# Функция для перевода вопроса пользователя на Английский\n",
    "# для эффективного поиска близких чанков в индексной базе\n",
    "\n",
    "# !pip install translate\n",
    "from translate import Translator\n",
    "\n",
    "translator = Translator(from_lang=\"ru\", to_lang=\"en\")\n",
    "def my_translate(text):\n",
    "    return translator.translate(text)\n",
    "\n",
    "txt = 'Одна из Форм получения вида на жительство в Испании осуществляется через программу ЗОЛОТАЯ ВИЗА'\n",
    "my_translate(txt)"
   ]
  },
  {
   "cell_type": "code",
   "execution_count": null,
   "metadata": {
    "colab": {
     "base_uri": "https://localhost:8080/"
    },
    "executionInfo": {
     "elapsed": 2576,
     "status": "ok",
     "timestamp": 1707905997712,
     "user": {
      "displayName": "Alex Klin",
      "userId": "11249935885368047783"
     },
     "user_tz": -180
    },
    "id": "3Br3_8g0FK1z",
    "outputId": "d547c1c6-6fe4-4b24-8ab1-1245acfdb603",
    "pycharm": {
     "name": "#%%\n"
    }
   },
   "outputs": [
    {
     "name": "stdout",
     "output_type": "stream",
     "text": [
      "Unmarried partners of EU citizens entering Spain\n",
      "Scores: [0.17998268, 0.23055384, 0.26118708, 0.26159304]\n"
     ]
    }
   ],
   "source": [
    "def scores(query, db):\n",
    "    docs_and_scores = db.similarity_search_with_score(query, k=4)\n",
    "    print('Scores:', [doc[1] for doc in docs_and_scores])\n",
    "\n",
    "# Вопрос с переводом на Английский\n",
    "en_text = my_translate('Неженатые партнеры граждан ЕС, въезжающих в Испанию')\n",
    "print(en_text)\n",
    "scores(en_text, db)"
   ]
  },
  {
   "cell_type": "code",
   "execution_count": null,
   "metadata": {
    "colab": {
     "base_uri": "https://localhost:8080/"
    },
    "executionInfo": {
     "elapsed": 805,
     "status": "ok",
     "timestamp": 1707906002825,
     "user": {
      "displayName": "Alex Klin",
      "userId": "11249935885368047783"
     },
     "user_tz": -180
    },
    "id": "rIk-TO_EdKmx",
    "outputId": "3f0477fc-c3ba-4c43-beb6-d2680e59acf9",
    "pycharm": {
     "name": "#%%\n"
    }
   },
   "outputs": [
    {
     "name": "stdout",
     "output_type": "stream",
     "text": [
      "Scores: [0.3717001, 0.38703662, 0.42296493, 0.42569298]\n"
     ]
    }
   ],
   "source": [
    "# Без перевода на Английский\n",
    "scores('Неженатые партнеры граждан ЕС, въезжающих в Испанию', db)"
   ]
  },
  {
   "cell_type": "code",
   "execution_count": null,
   "metadata": {
    "id": "RqYGbPTHNccJ",
    "pycharm": {
     "name": "#%%\n"
    }
   },
   "outputs": [],
   "source": [
    "from langchain.chains import RetrievalQA\n",
    "from langchain_openai import OpenAI\n",
    "from langchain.prompts import PromptTemplate"
   ]
  },
  {
   "cell_type": "code",
   "execution_count": null,
   "metadata": {
    "id": "3SsloB5EZnVp",
    "pycharm": {
     "name": "#%%\n"
    }
   },
   "outputs": [],
   "source": [
    "prompt_template = \"\"\"Use the following sections of text to answer the question.\n",
    "If there is no answer in the segments, just answer that you don't know, don't come up\n",
    "with an answer from yourself. You can only take information from sections of text.\n",
    "{context}\n",
    "Question: {question}\n",
    "Answer in Russian. You must answer only in Russian!:\"\"\"\n",
    "\n",
    "PROMPT = PromptTemplate(\n",
    "         template=prompt_template, input_variables=[\"context\", \"question\"])\n",
    "\n",
    "qa = RetrievalQA.from_chain_type(# llm=ChatOpenAI(model_name=\"gpt-3.5-turbo-0125\", temperature=0.5, max_tokens=750)\n",
    "                                 llm=OpenAI(temperature=0.3,\n",
    "                                            max_tokens=2000),\n",
    "                                 retriever=db.as_retriever(# search_type=\"similarity\",\n",
    "                                                           search_type=\"mmr\",\n",
    "                                                           # search_type=\"similarity_score_threshold\",\n",
    "                                                           search_kwargs={# 'score_threshold': 0.7,\n",
    "                                                                          'k': 5,\n",
    "                                                                          'lambda_mult': 0.25}), # 0 - max. разнообразие\n",
    "                                 chain_type_kwargs={\"prompt\": PROMPT})"
   ]
  },
  {
   "cell_type": "code",
   "execution_count": null,
   "metadata": {
    "colab": {
     "base_uri": "https://localhost:8080/"
    },
    "executionInfo": {
     "elapsed": 6714,
     "status": "ok",
     "timestamp": 1707906504512,
     "user": {
      "displayName": "Alex Klin",
      "userId": "11249935885368047783"
     },
     "user_tz": -180
    },
    "id": "8U8SB_nhZnKx",
    "outputId": "0084fb3b-6454-4f90-b281-ab1a42359e01",
    "pycharm": {
     "name": "#%%\n"
    }
   },
   "outputs": [
    {
     "data": {
      "text/plain": [
       "{'query': 'Tell us about the GOLDEN VISA program for obtaining a residence permit',\n",
       " 'result': '\\n\\nПрограмма GOLDEN VISA предназначена для получения разрешения на проживание в Испании для инвесторов. Первоначальная карта инвестора действительна в течение 2 лет, после чего необходимо ее продлить. Однако, после первого продления, карта будет действительна еще на 5 лет, что позволяет избежать частых продлений и бюрократических процедур. Для получения этой визы необходимо начать процесс продления в определенный период времени - за 60 дней до и 90 дней после истечения срока действия карты. Также существует альтернативный вариант получения разрешения на проживание - через брак или гражданское партнерство с гражданином Евросоюза. В этом случае, процесс получения визы будет проще и быстрее.'}"
      ]
     },
     "execution_count": 54,
     "metadata": {},
     "output_type": "execute_result"
    }
   ],
   "source": [
    "en_text = my_translate('Расскажи о программе ЗОЛОТАЯ ВИЗА для получения вида на жительство')\n",
    "qa.invoke(en_text)"
   ]
  },
  {
   "cell_type": "code",
   "execution_count": null,
   "metadata": {
    "colab": {
     "base_uri": "https://localhost:8080/"
    },
    "executionInfo": {
     "elapsed": 6980,
     "status": "ok",
     "timestamp": 1707906727074,
     "user": {
      "displayName": "Alex Klin",
      "userId": "11249935885368047783"
     },
     "user_tz": -180
    },
    "id": "v_SmH24aNcZW",
    "outputId": "7cc8accf-c4d8-460b-b77d-9524e101ed36",
    "pycharm": {
     "name": "#%%\n"
    }
   },
   "outputs": [
    {
     "data": {
      "text/plain": [
       "{'query': 'Tell us about the residence permit for Unmarried Partners of EU citizens entering Spain',\n",
       " 'result': '\\n\\nРазрешение на проживание в Испании для неженатых стабильных пар граждан ЕС является одним из основных способов получения резиденции в Испании для иностранцев. Это разрешение известно как \"член семьи гражданина ЕС\" и предоставляет право на проживание и работу на 5 лет для любого гражданина не из ЕС, который является родственником гражданина ЕС. Однако есть ограничения - например, дяди и внуки не подпадают под этот тип разрешения. Но пары, состоящие в браке или зарегистрировавшие гражданский брак с гражданином ЕС, могут получить разрешение на проживание по этому пути. Главное требование - это правильная регистрация брака или брака в Испании. Если это не так, то существует третий вариант - получение разрешения на проживание по особым обстоятельствам для стабильных незарегистрированных пар. Для этого необходимо обратиться к иммиграционным юристам и получить персонализированную юридическую консультацию.'}"
      ]
     },
     "execution_count": 56,
     "metadata": {},
     "output_type": "execute_result"
    }
   ],
   "source": [
    "en_text = my_translate('Расскажи о разрешении на проживание для Неженатых партнеров граждан ЕС, въезжающих в Испанию')\n",
    "qa.invoke(en_text)"
   ]
  }
 ],
 "metadata": {
  "colab": {
   "provenance": []
  },
  "kernelspec": {
   "display_name": "Python 3 (ipykernel)",
   "language": "python",
   "name": "python3"
  },
  "language_info": {
   "codemirror_mode": {
    "name": "ipython",
    "version": 3
   },
   "file_extension": ".py",
   "mimetype": "text/x-python",
   "name": "python",
   "nbconvert_exporter": "python",
   "pygments_lexer": "ipython3",
   "version": "3.11.4"
  }
 },
 "nbformat": 4,
 "nbformat_minor": 1
}