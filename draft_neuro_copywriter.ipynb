{
 "cells": [
  {
   "cell_type": "markdown",
   "metadata": {
    "id": "CT0jE0Wip3OS",
    "pycharm": {
     "name": "#%% md\n"
    }
   },
   "source": [
    "Нейрокопирайтер: видео с ютуб, аудио-файл и текстовый документ. Транскрибация видео и аудио, объединение текстов"
   ]
  },
  {
   "cell_type": "code",
   "execution_count": null,
   "metadata": {
    "id": "IpuJ1EFMsXrA",
    "pycharm": {
     "name": "#%%\n"
    }
   },
   "outputs": [],
   "source": [
    "!pip install git+https://github.com/ytdl-org/youtube-dl.git\n",
    "!pip install git+https://github.com/openai/whisper.git\n",
    "!pip install tiktoken openai langchain langchain-community langchain_openai faiss-cpu translate gdown"
   ]
  },
  {
   "cell_type": "code",
   "execution_count": 25,
   "metadata": {
    "executionInfo": {
     "elapsed": 1840,
     "status": "ok",
     "timestamp": 1708613134479,
     "user": {
      "displayName": "Alex Klin",
      "userId": "11249935885368047783"
     },
     "user_tz": -180
    },
    "id": "YhSNcXPGXaVC",
    "pycharm": {
     "name": "#%%\n"
    }
   },
   "outputs": [],
   "source": [
    "import os\n",
    "import time\n",
    "from IPython.display import HTML, clear_output, display\n",
    "import youtube_dl\n",
    "import gdown\n",
    "import datetime\n",
    "import tiktoken\n",
    "import whisper\n",
    "from langchain.text_splitter import MarkdownHeaderTextSplitter, Document, RecursiveCharacterTextSplitter\n",
    "from langchain_openai import OpenAIEmbeddings\n",
    "from langchain_community.vectorstores import FAISS\n",
    "from openai import OpenAI\n",
    "from google.colab import userdata\n",
    "\n",
    "\n",
    "clear_output()\n",
    "os.environ[\"OPENAI_API_KEY\"] = userdata.get('OPENAI_API_KEY')\n",
    "client = OpenAI()\n",
    "embeddings = OpenAIEmbeddings()"
   ]
  },
  {
   "cell_type": "code",
   "execution_count": null,
   "outputs": [],
   "source": [],
   "metadata": {
    "collapsed": false,
    "pycharm": {
     "name": "#%%\n"
    }
   }
  },
  {
   "cell_type": "code",
   "execution_count": null,
   "metadata": {
    "id": "uETV-F_fr7Gm",
    "pycharm": {
     "name": "#%%\n"
    }
   },
   "outputs": [],
   "source": [
    "system = \"\"\"You are a text, copywriting, writing genius and a Python expert. Your job is to recognize\n",
    "sections in a text and break it down into those parts, keeping the text 100% intact.\"\"\"\n",
    "user = \"\"\"Please let's think step by step: Think about what sections in the text you can recognize and\n",
    "what name you can give to each section in terms of meaning. Next, write your answer across the previous\n",
    "answer in the form and order of: ## Title of section, followed by all text related to that section.\n",
    "All in Russian. Text:\"\"\"\n",
    "temperature = 0.3\n",
    "chunk_size = 1000\n",
    "\n",
    "# Функция настройки стиля для переноса текста в выводе ячеек\n",
    "# для изменения стиля отображения текста, так чтобы предотвратить\n",
    "# переполнение текста за границы ячейки вывода и обеспечить его перенос.\n",
    "def set_text_wrap_css():\n",
    "    css = '''\n",
    "    <style>\n",
    "    pre {\n",
    "        white-space: pre-wrap;\n",
    "    }\n",
    "    </style>\n",
    "    '''\n",
    "    display(HTML(css))\n",
    "\n",
    "get_ipython().events.register('pre_run_cell', set_text_wrap_css)\n",
    "\n",
    "# Функция подсчета количества токенов\n",
    "def num_tokens_from_messages(messages, model='gpt-3.5-turbo-0125'):\n",
    "    try:\n",
    "        encoding = tiktoken.encoding_for_model(model)\n",
    "    except KeyError:\n",
    "        encoding = tiktoken.get_encoding('cl100k_base')\n",
    "    if model in ['gpt-3.5-turbo-0125']:\n",
    "        num_tokens = 0\n",
    "        for message in messages:\n",
    "            num_tokens += 4\n",
    "            for key, value in message.items():\n",
    "                num_tokens += len(encoding.encode(value))\n",
    "                if key == 'name':\n",
    "                    num_tokens -= 1\n",
    "        num_tokens += 2\n",
    "        return num_tokens\n",
    "    else:\n",
    "        raise NotImplementedError(f'''num_tokens_from_messages() is not presently implemented for model {model}.''')\n",
    "\n",
    "\n",
    "# Функция дробления текста на чанки\n",
    "def split_text(txt_file, chunk_size=chunk_size):\n",
    "    source_chunks = []\n",
    "    splitter = RecursiveCharacterTextSplitter(separators=['\\n', '\\n\\n', '. '],\n",
    "                                              chunk_size=chunk_size,\n",
    "                                              chunk_overlap=0)\n",
    "    for chunk in splitter.split_text(txt_file):\n",
    "        source_chunks.append(Document(page_content=chunk, metadata={}))\n",
    "    print(f'\\n\\nТекст разбит на {len(source_chunks)} чанков.')\n",
    "    return source_chunks\n",
    "\n",
    "\n",
    "# Функция получения ответа от модели\n",
    "def answer_index(system, user, chunk, temp=temperature, model='gpt-3.5-turbo-0125'):\n",
    "    messages = [\n",
    "        {'role': 'system', 'content': system},\n",
    "        {'role': 'user', 'content': user + f'{chunk}'}\n",
    "    ]\n",
    "    completion = client.chat.completions.create(\n",
    "        model=model,\n",
    "        messages=messages,\n",
    "        temperature=temp)\n",
    "    print(f'{num_tokens_from_messages(messages)} токенов на чанк')\n",
    "    return completion.choices[0].message.content\n",
    "\n",
    "\n",
    "def process_one_file(file_path, system, user):\n",
    "    with open(file_path, 'r') as txt_file:\n",
    "        text = txt_file.read()\n",
    "    source_chunks = split_text(text)\n",
    "    processed_text = ''\n",
    "    unprocessed_text = ''\n",
    "    for chunk in source_chunks:\n",
    "        attempt = 0\n",
    "        while attempt < 3:\n",
    "            try:\n",
    "                answer = answer_index(system, user, chunk.page_content)\n",
    "                break  # Успешно получили ответ, выходим из цикла попыток\n",
    "            except Exception as e:\n",
    "                attempt += 1  # Увеличиваем счетчик попыток\n",
    "                print(f'\\n\\nПопытка {attempt} не удалась из-за ошибки: {str(e)}')\n",
    "                time.sleep(10)  # Ожидаем перед следующей попыткой\n",
    "                if attempt == 3:\n",
    "                    answer = ''\n",
    "                    print(f'\\n\\nОбработка элемента {chunk} не удалась после 3 попыток')\n",
    "                    unprocessed_text += f'{chunk}\\n\\n'\n",
    "        processed_text += f'{answer}\\n\\n'  # Добавляем ответ в результат\n",
    "        # print(f'{answer}')  # Выводим ответ\n",
    "    return processed_text, unprocessed_text\n",
    "\n",
    "\n",
    "# Находим строки с разметкой и дублируем их без разметки\n",
    "def duplicate_markdown(text):\n",
    "    new_lines = []\n",
    "    for line in text.split('\\n'):\n",
    "        if line.startswith('# '):\n",
    "            new_lines.append(f'{line}.' + '\\n' + f'{line[2:]}.')\n",
    "        elif line.startswith('## '):\n",
    "            new_lines.append(f'{line}.' + '\\n' + f'{line[3:]}.')\n",
    "        else:\n",
    "            new_lines.append(line)\n",
    "    return '\\n'.join(new_lines)\n",
    "\n",
    "\n",
    "# Создаем объект для разбиения текста на секции по заголовкам\n",
    "markdown_splitter = MarkdownHeaderTextSplitter(headers_to_split_on=[(\"##\", \"Header 2\")])"
   ]
  },
  {
   "cell_type": "markdown",
   "metadata": {
    "id": "cnqHpqp6U1MB",
    "pycharm": {
     "name": "#%% md\n"
    }
   },
   "source": [
    "# Обработка Видео"
   ]
  },
  {
   "cell_type": "code",
   "execution_count": null,
   "metadata": {
    "id": "WzKd-6qesXwH",
    "pycharm": {
     "name": "#%%\n"
    }
   },
   "outputs": [],
   "source": [
    "YouTube_video_title = \"Python в вопросах и ответах\" # Изучаем Python | 1 глава\n",
    "video_url = 'https://youtu.be/LRuszWRN4uI' # Только 1 глава\n",
    "\n",
    "\n",
    "ydl_opts = {\n",
    "    'format': 'bestaudio/best',\n",
    "    'postprocessors': [{\n",
    "        'key': 'FFmpegExtractAudio',\n",
    "        'preferredcodec': 'm4a',\n",
    "        'preferredquality': '192'}],\n",
    "    'outtmpl': 'python_part_1.m4a'\n",
    "}\n",
    "# Получаем аудио файл 'python_part_1.m4a' из видео\n",
    "with youtube_dl.YoutubeDL(ydl_opts) as ydl:\n",
    "    ydl.download([video_url])"
   ]
  },
  {
   "cell_type": "code",
   "execution_count": null,
   "metadata": {
    "colab": {
     "base_uri": "https://localhost:8080/"
    },
    "executionInfo": {
     "elapsed": 619907,
     "status": "ok",
     "timestamp": 1708590178934,
     "user": {
      "displayName": "Alex Klin",
      "userId": "11249935885368047783"
     },
     "user_tz": -180
    },
    "id": "ZsrEr-q4xKlE",
    "outputId": "18f18e92-675c-4b64-c1e1-7f5e31e24c76",
    "pycharm": {
     "name": "#%%\n"
    }
   },
   "outputs": [
    {
     "name": "stderr",
     "output_type": "stream",
     "text": [
      "100%|█████████████████████████████████████| 2.88G/2.88G [00:39<00:00, 77.2MiB/s]\n"
     ]
    }
   ],
   "source": [
    "# transcribe\n",
    "model = whisper.load_model('large')\n",
    "text_from_video = model.transcribe('python_part_1.m4a')['text']\n",
    "\n",
    "# save text_from_video\n",
    "with open(\"text_from_video.txt\", \"w\") as file:\n",
    "    file.write(text_from_video)"
   ]
  },
  {
   "cell_type": "code",
   "execution_count": null,
   "metadata": {
    "id": "cidFqb6sMLaz",
    "pycharm": {
     "name": "#%%\n"
    }
   },
   "outputs": [],
   "source": [
    "processed_text, unprocessed_text = process_one_file(\"text_from_video.txt\", system, user)\n",
    "# Текст разбит на 28 чанков\n",
    "\n",
    "with open(\"processed_text_video.txt\", \"w\") as file:\n",
    "    file.write(processed_text)"
   ]
  },
  {
   "cell_type": "code",
   "execution_count": null,
   "metadata": {
    "colab": {
     "base_uri": "https://localhost:8080/"
    },
    "executionInfo": {
     "elapsed": 2507,
     "status": "ok",
     "timestamp": 1708602378642,
     "user": {
      "displayName": "Alex Klin",
      "userId": "11249935885368047783"
     },
     "user_tz": -180
    },
    "id": "rsC22BxPR_o_",
    "outputId": "7b5823bb-329e-4b52-ab39-007e633db2f5",
    "pycharm": {
     "name": "#%%\n"
    }
   },
   "outputs": [
    {
     "name": "stdout",
     "output_type": "stream",
     "text": [
      "93\n"
     ]
    },
    {
     "data": {
      "text/plain": [
       "93"
      ]
     },
     "execution_count": 14,
     "metadata": {},
     "output_type": "execute_result"
    }
   ],
   "source": [
    "with open('processed_text_video.txt', 'r') as txt_file:\n",
    "        processed_text_video = txt_file.read()\n",
    "\n",
    "# Находим строки с разметкой и дублируем их без разметки\n",
    "processed_text_video = duplicate_markdown(processed_text_video)\n",
    "\n",
    "# Получаем список документов, разбитых по заголовкам\n",
    "md_header_splits = markdown_splitter.split_text(processed_text_video)\n",
    "print(len(md_header_splits))\n",
    "\n",
    "# Формируем индексную базу\n",
    "db_text_video = FAISS.from_documents(md_header_splits, embeddings)\n",
    "\n",
    "# Сохранение базы в Колаб\n",
    "index_name = \"db_text_video\"\n",
    "db_text_video.save_local(folder_path='',\n",
    "              index_name=index_name)\n",
    "len(db_text_video.docstore._dict)"
   ]
  },
  {
   "cell_type": "code",
   "execution_count": 13,
   "metadata": {
    "colab": {
     "base_uri": "https://localhost:8080/"
    },
    "executionInfo": {
     "elapsed": 6,
     "status": "ok",
     "timestamp": 1708612073091,
     "user": {
      "displayName": "Alex Klin",
      "userId": "11249935885368047783"
     },
     "user_tz": -180
    },
    "id": "KyHNj3euUJm8",
    "outputId": "7b1b0fb1-511c-4595-b142-8bc7023a9474",
    "pycharm": {
     "name": "#%%\n"
    }
   },
   "outputs": [
    {
     "name": "stdout",
     "output_type": "stream",
     "text": [
      "{'Header 2': 'План работы.'}\n",
      "План работы.\n",
      "Мы будем читать это дело по главам, на каждую главу у нас будет, скорее всего, отдельный оратор, и он будет давать презентацию, а по ходу вот этой презентации я буду задавать вопросы, каверзные и не очень, ну или подкидывать тему для обсуждения.\n"
     ]
    }
   ],
   "source": [
    "chunk = db_text_video.docstore._dict['d3f3ebb8-a051-4c6d-a921-e317d4afac79']\n",
    "print(f'{chunk.metadata}\\n{chunk.page_content}')"
   ]
  },
  {
   "cell_type": "markdown",
   "metadata": {
    "id": "g4zxYB1mVDvg",
    "pycharm": {
     "name": "#%% md\n"
    }
   },
   "source": [
    "# Обработка Аудио"
   ]
  },
  {
   "cell_type": "code",
   "execution_count": null,
   "metadata": {
    "id": "MmQjarijVCM9",
    "pycharm": {
     "name": "#%%\n"
    }
   },
   "outputs": [],
   "source": [
    "audio_url = 'https://drive.google.com/file/d/1TLsB3VVMhFTdP6Iwacw5H3nce5GpO7ND/view?usp=sharing'\n",
    "id = audio_url.split('/')[-2]\n",
    "url = f'https://drive.google.com/uc?export=download&id={id}'\n",
    "gdown.download(url, 'python_audio.m4a', quiet=True)\n",
    "\n",
    "# transcribe\n",
    "model = whisper.load_model('large')\n",
    "text_from_audio = model.transcribe('python_audio.m4a')['text']\n",
    "\n",
    "# save text_from_audio\n",
    "with open(\"text_from_audio.txt\", \"w\", encoding=\"utf-8\") as file:\n",
    "    file.write(text_from_audio)"
   ]
  },
  {
   "cell_type": "code",
   "execution_count": null,
   "metadata": {
    "id": "JXHljZp3Z7dw",
    "pycharm": {
     "name": "#%%\n"
    }
   },
   "outputs": [],
   "source": [
    "processed_text_audio, unprocessed_text = process_one_file(\"text_from_audio.txt\", system, user)\n",
    "# Текст разбит на 11 чанков.\n",
    "\n",
    "with open(\"processed_text_audio.txt\", \"w\", encoding=\"utf-8\") as file:\n",
    "    file.write(processed_text_audio)"
   ]
  },
  {
   "cell_type": "code",
   "execution_count": null,
   "metadata": {
    "colab": {
     "base_uri": "https://localhost:8080/"
    },
    "executionInfo": {
     "elapsed": 593,
     "status": "ok",
     "timestamp": 1708602548739,
     "user": {
      "displayName": "Alex Klin",
      "userId": "11249935885368047783"
     },
     "user_tz": -180
    },
    "id": "5FFbZzLvZ7VI",
    "outputId": "f74180ef-bb98-4a73-9545-de1e621a82bc",
    "pycharm": {
     "name": "#%%\n"
    }
   },
   "outputs": [
    {
     "name": "stdout",
     "output_type": "stream",
     "text": [
      "31\n"
     ]
    },
    {
     "data": {
      "text/plain": [
       "31"
      ]
     },
     "execution_count": 20,
     "metadata": {},
     "output_type": "execute_result"
    }
   ],
   "source": [
    "with open('processed_text_audio.txt', 'r') as txt_file:\n",
    "        processed_text_audio = txt_file.read()\n",
    "\n",
    "# Находим строки с разметкой и дублируем их без разметки\n",
    "processed_text_audio = duplicate_markdown(processed_text_audio)\n",
    "\n",
    "# Получаем список документов, разбитых по заголовкам\n",
    "md_header_splits = markdown_splitter.split_text(processed_text_audio)\n",
    "print(len(md_header_splits))\n",
    "\n",
    "# Формируем индексную базу\n",
    "db_text_audio = FAISS.from_documents(md_header_splits, embeddings)\n",
    "\n",
    "# Сохранение базы в Колаб\n",
    "index_name = \"db_text_audio\"\n",
    "db_text_audio.save_local(folder_path='',\n",
    "              index_name=index_name)\n",
    "len(db_text_audio.docstore._dict)"
   ]
  },
  {
   "cell_type": "code",
   "execution_count": 12,
   "metadata": {
    "colab": {
     "base_uri": "https://localhost:8080/"
    },
    "executionInfo": {
     "elapsed": 7,
     "status": "ok",
     "timestamp": 1708612032539,
     "user": {
      "displayName": "Alex Klin",
      "userId": "11249935885368047783"
     },
     "user_tz": -180
    },
    "id": "Hx9iXUYseOdP",
    "outputId": "688143a9-059a-4e13-c421-e1e6c455b77e",
    "pycharm": {
     "name": "#%%\n"
    }
   },
   "outputs": [
    {
     "name": "stdout",
     "output_type": "stream",
     "text": [
      "{'Header 2': 'Проблема с управлением кодом.'}\n",
      "Проблема с управлением кодом.\n",
      "Но программисты очень быстро столкнулись с тем, что программы стали большими. И вот когда в такой условной программе где-то 10 тысяч строк кода, то читать такой код становится уже невозможно. И даже если сильно постараться все хорошо закомментировать и попробовать разбить этот код на файлы, все равно останется масса проблем.\n"
     ]
    }
   ],
   "source": [
    "chunk = db_text_audio.docstore._dict['9f201b84-87fd-419c-a591-c8b0692775c3']\n",
    "print(f'{chunk.metadata}\\n{chunk.page_content}')"
   ]
  },
  {
   "cell_type": "markdown",
   "metadata": {
    "id": "2PqxSyt2tBem",
    "pycharm": {
     "name": "#%% md\n"
    }
   },
   "source": [
    "# Обработка Текста"
   ]
  },
  {
   "cell_type": "code",
   "execution_count": null,
   "metadata": {
    "id": "Facn97YDtAr2",
    "pycharm": {
     "name": "#%%\n"
    }
   },
   "outputs": [],
   "source": [
    "text_url = 'https://docs.google.com/document/d/1GwrAY4NoqPImiSMola-53ftRh5K-3hDmivWzvuKfMfA/edit?usp=sharing'\n",
    "id = text_url.split('/')[-2]\n",
    "url = f'https://docs.google.com/document/d/{id}/export?format=txt'\n",
    "gdown.download(url, 'python_text.txt', quiet=True)\n",
    "\n",
    "processed_python_text, unprocessed_text = process_one_file('python_text.txt', system, user)\n",
    "# Текст разбит на 10 чанков.\n",
    "\n",
    "with open(\"processed_python_text.txt\", \"w\", encoding=\"utf-8\") as file:\n",
    "    file.write(processed_python_text)"
   ]
  },
  {
   "cell_type": "code",
   "execution_count": null,
   "metadata": {
    "colab": {
     "base_uri": "https://localhost:8080/",
     "height": 52
    },
    "executionInfo": {
     "elapsed": 1044,
     "status": "ok",
     "timestamp": 1708605890034,
     "user": {
      "displayName": "Alex Klin",
      "userId": "11249935885368047783"
     },
     "user_tz": -180
    },
    "id": "H1abSNa0u45N",
    "outputId": "656e3be5-eb66-45f7-e696-cfe9daba0958",
    "pycharm": {
     "name": "#%%\n"
    }
   },
   "outputs": [
    {
     "data": {
      "text/html": [
       "\n",
       "    <style>\n",
       "    pre {\n",
       "        white-space: pre-wrap;\n",
       "    }\n",
       "    </style>\n",
       "    "
      ],
      "text/plain": [
       "<IPython.core.display.HTML object>"
      ]
     },
     "metadata": {},
     "output_type": "display_data"
    },
    {
     "name": "stdout",
     "output_type": "stream",
     "text": [
      "40\n"
     ]
    },
    {
     "data": {
      "text/plain": [
       "40"
      ]
     },
     "execution_count": 32,
     "metadata": {},
     "output_type": "execute_result"
    }
   ],
   "source": [
    "with open('processed_python_text.txt', 'r', encoding=\"utf-8\") as txt_file:\n",
    "        processed_python_text = txt_file.read()\n",
    "\n",
    "# Находим строки с разметкой и дублируем их без разметки\n",
    "processed_python_text = duplicate_markdown(processed_python_text)\n",
    "\n",
    "# Получаем список документов, разбитых по заголовкам\n",
    "md_header_splits = markdown_splitter.split_text(processed_python_text)\n",
    "print(len(md_header_splits))\n",
    "\n",
    "# Формируем индексную базу\n",
    "db_python_text = FAISS.from_documents(md_header_splits, embeddings)\n",
    "\n",
    "# Сохранение базы в Колаб\n",
    "index_name = \"db_python_text\"\n",
    "db_python_text.save_local(folder_path='',\n",
    "              index_name=index_name)\n",
    "len(db_python_text.docstore._dict)"
   ]
  },
  {
   "cell_type": "code",
   "execution_count": 11,
   "metadata": {
    "colab": {
     "base_uri": "https://localhost:8080/"
    },
    "executionInfo": {
     "elapsed": 9,
     "status": "ok",
     "timestamp": 1708611976497,
     "user": {
      "displayName": "Alex Klin",
      "userId": "11249935885368047783"
     },
     "user_tz": -180
    },
    "id": "gfjbe6Jf2SyR",
    "outputId": "ca8b206c-4bb6-4b81-e4c9-e8258a80b97f",
    "pycharm": {
     "name": "#%%\n"
    }
   },
   "outputs": [
    {
     "name": "stdout",
     "output_type": "stream",
     "text": [
      "{'Header 2': 'Название секции: Пузырьковая сортировка.'}\n",
      "Название секции: Пузырьковая сортировка.\n",
      "Этот простой алгоритм выполняет итерации по списку, сравнивая элементы попарно и меняя их местами, пока более крупные элементы не «всплывут» в начало списка, а более мелкие не останутся на «дне».\n"
     ]
    }
   ],
   "source": [
    "chunk = db_python_text.docstore._dict['511113a7-8f70-48bd-a6f4-30b29ba9b5c2']\n",
    "print(f'{chunk.metadata}\\n{chunk.page_content}')"
   ]
  },
  {
   "cell_type": "markdown",
   "metadata": {
    "id": "Sz_AE_CNu5Rd",
    "pycharm": {
     "name": "#%% md\n"
    }
   },
   "source": [
    "# Объединяю индексные базы"
   ]
  },
  {
   "cell_type": "code",
   "execution_count": 3,
   "metadata": {
    "executionInfo": {
     "elapsed": 431,
     "status": "ok",
     "timestamp": 1708611660121,
     "user": {
      "displayName": "Alex Klin",
      "userId": "11249935885368047783"
     },
     "user_tz": -180
    },
    "id": "eggSkY5Tu-l5",
    "pycharm": {
     "name": "#%%\n"
    }
   },
   "outputs": [],
   "source": [
    "db_text_video = FAISS.load_local(folder_path='',\n",
    "                                 embeddings=embeddings,\n",
    "                                 index_name='db_text_video')\n",
    "\n",
    "db_text_audio = FAISS.load_local(folder_path='',\n",
    "                                 embeddings=embeddings,\n",
    "                                 index_name='db_text_audio')\n",
    "\n",
    "db_python_text = FAISS.load_local(folder_path='',\n",
    "                                  embeddings=embeddings,\n",
    "                                  index_name='db_python_text')"
   ]
  },
  {
   "cell_type": "code",
   "execution_count": null,
   "metadata": {
    "colab": {
     "base_uri": "https://localhost:8080/",
     "height": 34
    },
    "executionInfo": {
     "elapsed": 1455,
     "status": "ok",
     "timestamp": 1708606595784,
     "user": {
      "displayName": "Alex Klin",
      "userId": "11249935885368047783"
     },
     "user_tz": -180
    },
    "id": "x8ICIm7p3-PA",
    "outputId": "7e362955-17d7-43b6-97cb-4e9047607392",
    "pycharm": {
     "name": "#%%\n"
    }
   },
   "outputs": [
    {
     "data": {
      "text/html": [
       "\n",
       "    <style>\n",
       "    pre {\n",
       "        white-space: pre-wrap;\n",
       "    }\n",
       "    </style>\n",
       "    "
      ],
      "text/plain": [
       "<IPython.core.display.HTML object>"
      ]
     },
     "metadata": {},
     "output_type": "display_data"
    },
    {
     "name": "stdout",
     "output_type": "stream",
     "text": [
      "164\n"
     ]
    }
   ],
   "source": [
    "db = FAISS.from_documents(db_text_video.docstore._dict.values(), embeddings)\n",
    "db.merge_from(db_text_audio)\n",
    "db.merge_from(db_python_text)\n",
    "\n",
    "db.save_local(folder_path='', index_name='db')\n",
    "print(len(db.docstore._dict))"
   ]
  },
  {
   "cell_type": "code",
   "execution_count": 15,
   "metadata": {
    "colab": {
     "base_uri": "https://localhost:8080/"
    },
    "executionInfo": {
     "elapsed": 6,
     "status": "ok",
     "timestamp": 1708612204672,
     "user": {
      "displayName": "Alex Klin",
      "userId": "11249935885368047783"
     },
     "user_tz": -180
    },
    "id": "zrYf2X16N7m-",
    "outputId": "a7fdaeb2-735c-42e6-ad7c-c363ab4fb4ed",
    "pycharm": {
     "name": "#%%\n"
    }
   },
   "outputs": [
    {
     "name": "stdout",
     "output_type": "stream",
     "text": [
      "164\n"
     ]
    }
   ],
   "source": [
    "db = FAISS.load_local(folder_path='',\n",
    "                      embeddings=embeddings,\n",
    "                      index_name='db')\n",
    "print(len(db.docstore._dict))"
   ]
  },
  {
   "cell_type": "code",
   "execution_count": 22,
   "metadata": {
    "colab": {
     "base_uri": "https://localhost:8080/"
    },
    "executionInfo": {
     "elapsed": 366,
     "status": "ok",
     "timestamp": 1708612853001,
     "user": {
      "displayName": "Alex Klin",
      "userId": "11249935885368047783"
     },
     "user_tz": -180
    },
    "id": "uJ0i_JWiPDu_",
    "outputId": "e356fd6f-2b21-448a-c153-645c039db0a1",
    "pycharm": {
     "name": "#%%\n"
    }
   },
   "outputs": [
    {
     "name": "stdout",
     "output_type": "stream",
     "text": [
      "Docs: [Document(page_content='Объектно-ориентированное программирование.\\nПотом пришло объектно-ориентированное программирование, где стали рассматриваться конкретные объекты и подходы работы с ними, такие как инкапсуляция, наследование, полиморфизм.', metadata={'Header 2': 'Объектно-ориентированное программирование.'}), Document(page_content='Отличия между парадигмами программирования.\\nЯ смотрю, у тебя есть процедурное, объектно-ориентированное и функциональное программирование. Ты выделил. А в чем между ними разница вообще? Ну, соответственно, это три парадигмы программирования.', metadata={'Header 2': 'Отличия между парадигмами программирования.'}), Document(page_content='Парадигмы программирования.\\nТо есть… То есть, в общем-то, три парадигмы и разница между ними – это интересно, это познавательно, это очень классно. То есть, как бы, вопрос возникает номер раз по точности формулировки, и вопрос номер два – по времени возникновения. То есть, возникло ли функциональное программирование до или после ООП? Предлагаю пока на этот вопрос не отвечать.', metadata={'Header 2': 'Парадигмы программирования.'})]\n",
      "Scores: [0.13455315, 0.2527988, 0.26463938]\n"
     ]
    }
   ],
   "source": [
    "def chunks_and_scores(query, db, doc_print=True):\n",
    "    docs_and_scores = db.similarity_search_with_score(query, k=3)\n",
    "    print('Docs:', [doc[0] for doc in docs_and_scores]) if doc_print else None\n",
    "    print('Scores:', [doc[1] for doc in docs_and_scores])\n",
    "\n",
    "query = 'Объектно-ориентированное программирование'\n",
    "chunks_and_scores(query, db)"
   ]
  },
  {
   "cell_type": "code",
   "execution_count": 24,
   "metadata": {
    "colab": {
     "base_uri": "https://localhost:8080/"
    },
    "executionInfo": {
     "elapsed": 367,
     "status": "ok",
     "timestamp": 1708612881896,
     "user": {
      "displayName": "Alex Klin",
      "userId": "11249935885368047783"
     },
     "user_tz": -180
    },
    "id": "GaWVUsHqQaIq",
    "outputId": "31771c76-50f8-4bdc-9112-625066d14ddd",
    "pycharm": {
     "name": "#%%\n"
    }
   },
   "outputs": [
    {
     "name": "stdout",
     "output_type": "stream",
     "text": [
      "Scores: [0.40278316, 0.42338064, 0.42583922]\n"
     ]
    }
   ],
   "source": [
    "query = 'Есть ли жизнь на Марсе?'\n",
    "chunks_and_scores(query, db, doc_print=False)"
   ]
  },
  {
   "cell_type": "markdown",
   "metadata": {
    "id": "XJPZjL_dOMuT",
    "pycharm": {
     "name": "#%% md\n"
    }
   },
   "source": [
    "# Нейро-консультатн (вариант 1)"
   ]
  },
  {
   "cell_type": "code",
   "execution_count": 37,
   "metadata": {
    "executionInfo": {
     "elapsed": 374,
     "status": "ok",
     "timestamp": 1708614055510,
     "user": {
      "displayName": "Alex Klin",
      "userId": "11249935885368047783"
     },
     "user_tz": -180
    },
    "id": "0vCu76bARBO_",
    "pycharm": {
     "name": "#%%\n"
    }
   },
   "outputs": [],
   "source": [
    "def message_content_and_scores(topic, db, k):\n",
    "    docs_and_scores = db.similarity_search_with_score(topic, k=k)\n",
    "    message_content = ', '.join([f'\\nChunk {i+1}: {doc[0].page_content}'\n",
    "                                 for i, doc in enumerate(docs_and_scores)])\n",
    "    scores = [doc[1] for doc in docs_and_scores]\n",
    "    return message_content, scores\n",
    "\n",
    "\n",
    "def gpt_35_turbo(messages, temp=0.5):\n",
    "    return client.chat.completions.create(\n",
    "        model=\"gpt-3.5-turbo-0125\",\n",
    "        messages=messages,\n",
    "        temperature=temp)\n",
    "\n",
    "\n",
    "def print_tokens_count(completion):\n",
    "    print(f'Вопрос: {completion.usage.prompt_tokens} токенов. '\n",
    "          f'\\nОтвет: {completion.usage.completion_tokens} токенов. '\n",
    "          f'\\nВсего: {completion.usage.total_tokens} токенов.')\n",
    "    print(datetime.datetime.now(), '\\n')\n",
    "\n",
    "\n",
    "def answer_gpt(system, topic, db, k=3, temp=0):\n",
    "    message_content, scores = message_content_and_scores(topic, db, k)\n",
    "    messages = [\n",
    "        {\"role\": \"system\", \"content\": system},\n",
    "        {\"role\": \"user\",\n",
    "         \"content\":\n",
    "        f\"Ответь на вопрос 500 слов. Документ с информацией для ответа: {message_content}\\n\\nВопрос: \\n{topic}\"}\n",
    "    ]\n",
    "    completion = gpt_35_turbo(messages, temp)\n",
    "\n",
    "    print('Symbols Message_content:', len(message_content))\n",
    "    print('Scores:', scores)\n",
    "    print_tokens_count(completion)\n",
    "    return completion.choices[0].message.content\n",
    "\n",
    "\n",
    "system = \"\"\"Ты консультант по языку PYTHON и книге Марка Лутца Изучаем Python. Ответь на вопрос на\n",
    "основе Документа с информацией. Не упоминай Документ с информацией при ответе. Ты не должен отвечать\n",
    "на вопросы, которые не связанны с темами, содержащимися в Документе. Если будет вопрос не связанный\n",
    "с темами Документа, ответь, что отвечаешь на вопросы только о языке PYTHON и книге Марка Лутца 'Изучаем Python'\"\"\""
   ]
  },
  {
   "cell_type": "code",
   "execution_count": 30,
   "metadata": {
    "colab": {
     "base_uri": "https://localhost:8080/",
     "height": 255
    },
    "executionInfo": {
     "elapsed": 7803,
     "status": "ok",
     "timestamp": 1708613727424,
     "user": {
      "displayName": "Alex Klin",
      "userId": "11249935885368047783"
     },
     "user_tz": -180
    },
    "id": "t6KW0TVnTsm0",
    "outputId": "b58452d2-ea69-4c76-e9a4-5b49ad296361",
    "pycharm": {
     "name": "#%%\n"
    }
   },
   "outputs": [
    {
     "name": "stdout",
     "output_type": "stream",
     "text": [
      "Symbols Message_content: 872\n",
      "Scores: [0.15657392, 0.25235257, 0.2534676]\n",
      "Вопрос: 540 токенов. \n",
      "Ответ: 366 токенов. \n",
      "Всего: 906 токенов.\n",
      "2024-02-22 14:55:28.152604 \n",
      "\n"
     ]
    },
    {
     "data": {
      "application/vnd.google.colaboratory.intrinsic+json": {
       "type": "string"
      },
      "text/plain": [
       "'Объектно-ориентированное программирование (ООП) – это парадигма программирования, в которой основными концепциями являются объекты и классы. В рамках ООП программа рассматривается как набор взаимодействующих объектов, каждый из которых обладает определенными свойствами и методами. Основные принципы ООП включают в себя инкапсуляцию, наследование и полиморфизм.\\n\\nИнкапсуляция позволяет объединить данные и методы, работающие с этими данными, внутри одного объекта, скрывая детали реализации от внешнего мира. Наследование позволяет создавать новые классы на основе существующих, повторно используя их свойства и методы. Полиморфизм позволяет объектам разных классов обладать одинаковым интерфейсом для взаимодействия, при этом реализуя этот интерфейс по-разному.\\n\\nТаким образом, в ООП основное внимание уделяется объектам, их взаимодействию и организации программы в виде иерархии классов.'"
      ]
     },
     "execution_count": 30,
     "metadata": {},
     "output_type": "execute_result"
    }
   ],
   "source": [
    "topic = 'Что такое Объектно-ориентированное программирование?'\n",
    "answer_gpt(system, topic, db)"
   ]
  },
  {
   "cell_type": "code",
   "execution_count": 38,
   "metadata": {
    "colab": {
     "base_uri": "https://localhost:8080/",
     "height": 237
    },
    "executionInfo": {
     "elapsed": 7795,
     "status": "ok",
     "timestamp": 1708614066875,
     "user": {
      "displayName": "Alex Klin",
      "userId": "11249935885368047783"
     },
     "user_tz": -180
    },
    "id": "9HhuxKL4Ua3O",
    "outputId": "2c0a1add-63ca-4af1-babb-30c3ef864d83",
    "pycharm": {
     "name": "#%%\n"
    }
   },
   "outputs": [
    {
     "name": "stdout",
     "output_type": "stream",
     "text": [
      "Symbols Message_content: 684\n",
      "Scores: [0.15492645, 0.23631567, 0.2519761]\n",
      "Вопрос: 541 токенов. \n",
      "Ответ: 296 токенов. \n",
      "Всего: 837 токенов.\n",
      "2024-02-22 15:01:07.621254 \n",
      "\n"
     ]
    },
    {
     "data": {
      "application/vnd.google.colaboratory.intrinsic+json": {
       "type": "string"
      },
      "text/plain": [
       "'Книга Марка Лутца \"Изучаем Python\" является огромным двухтомником, который содержит обширную информацию о Python. В ней можно найти как достоинства, так и недостатки этого языка программирования, а также технические превосходства по сравнению с другими языками. Рекомендации по чтению указывают на то, что книга довольно подробная, но в то же время может быть немного нудной из-за своего объема и стиля изложения. Некоторые отзывы отмечают, что перевод книги может быть не самым лучшим, а некоторые моменты могут быть изложены довольно сложно. Однако, несмотря на это, книга считается одним из лучших учебников по Python, содержащим обширную информацию по базовым аспектам этого языка программирования.'"
      ]
     },
     "execution_count": 38,
     "metadata": {},
     "output_type": "execute_result"
    }
   ],
   "source": [
    "topic = 'Что скажешь о Книге Марка Лутца \"Изучаем Python\"'\n",
    "answer_gpt(system, topic, db)"
   ]
  },
  {
   "cell_type": "markdown",
   "metadata": {
    "id": "Du0p9rdnVorR",
    "pycharm": {
     "name": "#%% md\n"
    }
   },
   "source": [
    "# Нейро-консультатн (вариант 2)"
   ]
  },
  {
   "cell_type": "code",
   "execution_count": 48,
   "metadata": {
    "executionInfo": {
     "elapsed": 395,
     "status": "ok",
     "timestamp": 1708615460575,
     "user": {
      "displayName": "Alex Klin",
      "userId": "11249935885368047783"
     },
     "user_tz": -180
    },
    "id": "mEUgdRwRVoWl",
    "pycharm": {
     "name": "#%%\n"
    }
   },
   "outputs": [],
   "source": [
    "from langchain.chains import RetrievalQA\n",
    "from langchain_openai import ChatOpenAI\n",
    "from langchain.prompts import PromptTemplate"
   ]
  },
  {
   "cell_type": "code",
   "execution_count": 53,
   "metadata": {
    "executionInfo": {
     "elapsed": 392,
     "status": "ok",
     "timestamp": 1708615590431,
     "user": {
      "displayName": "Alex Klin",
      "userId": "11249935885368047783"
     },
     "user_tz": -180
    },
    "id": "DgGh1uQLWv-M",
    "pycharm": {
     "name": "#%%\n"
    }
   },
   "outputs": [],
   "source": [
    "# сохраняем в переменную текст промпта\n",
    "prompt_template = \"\"\"Ты консультант по языку PYTHON и книге Марка Лутца Изучаем Python. Ответь на вопрос на\n",
    "основе Документа с информацией. Не упоминай Документ с информацией при ответе. Ты не должен отвечать\n",
    "на вопросы, которые не связанны с темами, содержащимися в Документе. Если будет вопрос не связанный\n",
    "с темами Документа, ответь, что отвечаешь на вопросы только о языке PYTHON и книге Марка Лутца 'Изучаем Python'.\n",
    "Дай ответ на 500 слов.\n",
    "{context}\n",
    "Question: {question}\"\"\"\n",
    "\n",
    "PROMPT = PromptTemplate(\n",
    "         template=prompt_template,\n",
    "         input_variables=[\"context\", \"question\"])\n",
    "\n",
    "qa = RetrievalQA.from_chain_type(llm=ChatOpenAI(model_name=\"gpt-3.5-turbo-0125\", temperature=0.3, max_tokens=2000),\n",
    "                                 # llm=OpenAI(temperature=0.5, max_tokens=2000),\n",
    "                                 retriever=db.as_retriever(# search_type=\"similarity\",\n",
    "                                                           search_type=\"mmr\",\n",
    "                                                           # search_type=\"similarity_score_threshold\",\n",
    "                                                           search_kwargs={# 'score_threshold': 0.7,\n",
    "                                                                          'k': 5,\n",
    "                                                                          'lambda_mult': 0.7}), # 0 - max. разнообразие\n",
    "                                 chain_type_kwargs={\"prompt\": PROMPT})"
   ]
  },
  {
   "cell_type": "code",
   "execution_count": 55,
   "metadata": {
    "colab": {
     "base_uri": "https://localhost:8080/"
    },
    "executionInfo": {
     "elapsed": 8191,
     "status": "ok",
     "timestamp": 1708615620661,
     "user": {
      "displayName": "Alex Klin",
      "userId": "11249935885368047783"
     },
     "user_tz": -180
    },
    "id": "koi67nZuXwFG",
    "outputId": "13fae499-da11-4464-a569-6e9963762c62",
    "pycharm": {
     "name": "#%%\n"
    }
   },
   "outputs": [
    {
     "data": {
      "text/plain": [
       "{'query': 'Что такое Объектно-ориентированное программирование?',\n",
       " 'result': 'Объектно-ориентированное программирование - это подход к разработке программного обеспечения, в котором основной упор делается на объекты, их свойства и методы. В рамках этого подхода каждый объект представляет собой экземпляр определенного класса, который определяет его структуру и поведение. Основные принципы объектно-ориентированного программирования включают в себя инкапсуляцию, наследование и полиморфизм. Инкапсуляция позволяет скрыть детали реализации объекта и предоставить к нему доступ только через определенные методы. Наследование позволяет создавать новые классы на основе уже существующих, расширяя или изменяя их функциональность. Полиморфизм позволяет использовать объекты разных классов с одинаковым интерфейсом без необходимости знать их конкретный тип. Объектно-ориентированное программирование позволяет создавать более гибкие, модульные и масштабируемые программы, облегчает повторное использование кода и упрощает сопровождение и модификацию программного обеспечения.'}"
      ]
     },
     "execution_count": 55,
     "metadata": {},
     "output_type": "execute_result"
    }
   ],
   "source": [
    "text = 'Что такое Объектно-ориентированное программирование?'\n",
    "qa.invoke(text)"
   ]
  },
  {
   "cell_type": "code",
   "execution_count": 54,
   "metadata": {
    "colab": {
     "base_uri": "https://localhost:8080/"
    },
    "executionInfo": {
     "elapsed": 4963,
     "status": "ok",
     "timestamp": 1708615598449,
     "user": {
      "displayName": "Alex Klin",
      "userId": "11249935885368047783"
     },
     "user_tz": -180
    },
    "id": "13v93zXKa8D4",
    "outputId": "2b08af01-1f54-4f33-f048-c721c674e0e8",
    "pycharm": {
     "name": "#%%\n"
    }
   },
   "outputs": [
    {
     "data": {
      "text/plain": [
       "{'query': 'Что скажешь о Книге Марка Лутца \"Изучаем Python\"',\n",
       " 'result': 'Книга Марка Лутца \"Изучаем Python\" является огромным двухтомником, который содержит очень подробную информацию о Python. Некоторые разработчики могут считать ее нудной и косноязычной из-за плохого перевода. Однако, несмотря на это, книга считается одним из лучших ресурсов для изучения Python. Она может быть сложной для новичков, но предоставляет обширные знания о языке программирования. Кроме того, изучение Python является важным и рекомендуемым для всех, так как является современным и развивающимся языком программирования.'}"
      ]
     },
     "execution_count": 54,
     "metadata": {},
     "output_type": "execute_result"
    }
   ],
   "source": [
    "text = 'Что скажешь о Книге Марка Лутца \"Изучаем Python\"'\n",
    "qa.invoke(text)"
   ]
  }
 ],
 "metadata": {
  "colab": {
   "provenance": [],
   "toc_visible": true
  },
  "kernelspec": {
   "display_name": "Python 3 (ipykernel)",
   "language": "python",
   "name": "python3"
  },
  "language_info": {
   "codemirror_mode": {
    "name": "ipython",
    "version": 3
   },
   "file_extension": ".py",
   "mimetype": "text/x-python",
   "name": "python",
   "nbconvert_exporter": "python",
   "pygments_lexer": "ipython3",
   "version": "3.11.4"
  }
 },
 "nbformat": 4,
 "nbformat_minor": 1
}