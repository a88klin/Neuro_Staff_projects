{
 "cells": [
  {
   "cell_type": "markdown",
   "metadata": {
    "id": "S9oxbDQ7CGpT",
    "pycharm": {
     "name": "#%% md\n"
    }
   },
   "source": [
    "Нейро-консультант по нормативам и ценам из PDF документов"
   ]
  },
  {
   "cell_type": "code",
   "execution_count": null,
   "metadata": {
    "id": "7eAcgw4aCDrw",
    "pycharm": {
     "is_executing": true,
     "name": "#%%\n"
    }
   },
   "outputs": [],
   "source": [
    "# !pip install -q cohere tiktoken openai langchain fastapi kaleido uvicorn pikepdf \\\n",
    "#              unstructured unstructured-inference pdf2image pdfminer.six faiss-cpu \\\n",
    "#              pydantic pydantic-settings\n",
    "# !pip install pillow-heif\n",
    "# !pip install pypdf"
   ]
  },
  {
   "cell_type": "code",
   "execution_count": null,
   "metadata": {
    "id": "6PF6T1TGGSzn",
    "pycharm": {
     "name": "#%%\n"
    }
   },
   "outputs": [],
   "source": [
    "from langchain.chains.router import MultiRetrievalQAChain\n",
    "from langchain_openai import OpenAIEmbeddings, ChatOpenAI\n",
    "from langchain.vectorstores import FAISS\n",
    "from langchain.document_loaders import UnstructuredPDFLoader\n",
    "from langchain.text_splitter import RecursiveCharacterTextSplitter\n",
    "import requests\n",
    "import os\n",
    "\n",
    "# --------------------------------------------------------------\n",
    "from pydantic import SecretStr\n",
    "from pydantic_settings import BaseSettings, SettingsConfigDict\n",
    "\n",
    "class Settings(BaseSettings):\n",
    "    model_config = SettingsConfigDict(env_file='input',\n",
    "                                      env_file_encoding='utf-8')\n",
    "    openai_api_key: SecretStr\n",
    "\n",
    "os.environ['OPENAI_API_KEY'] = Settings().openai_api_key.get_secret_value()"
   ]
  },
  {
   "cell_type": "code",
   "execution_count": null,
   "metadata": {
    "id": "eL4sL6JAGS2J",
    "pycharm": {
     "is_executing": true,
     "name": "#%%\n"
    }
   },
   "outputs": [],
   "source": [
    "# функция принимает URL PDF-файла и путь, по которому файл будет сохранен в файловой системе Colab.\n",
    "# Она скачивает файл и сохраняет его, если HTTP-запрос успешен\n",
    "def download_pdf_from_url(url, save_path):\n",
    "    response = requests.get(url)\n",
    "    if response.status_code == 200:\n",
    "        with open(save_path, 'wb') as f:\n",
    "            f.write(response.content)\n",
    "        print(f\"PDF downloaded and saved as {save_path}\")\n",
    "    else:\n",
    "        print(f\"Failed to download PDF. HTTP Status Code: {response.status_code}\")\n",
    "\n",
    "\n",
    "url = \"https://files.stroyinf.ru/Data2/1/4295550/4293590590.pdf\" # Изменена\n",
    "save_path = \"content/norm1.pdf\"\n",
    "download_pdf_from_url(url, save_path)\n",
    "url = \"https://files.stroyinf.ru/Data2/1/4225946/4294936957.pdf\" # Изменена\n",
    "save_path = \"content/norm2.pdf\"\n",
    "download_pdf_from_url(url, save_path)\n",
    "url = \"https://xn---33-5cvbekc8dd5g.xn--p1ai/ckfinder/userfiles/files/price%20ot%202020-03-01.pdf\" # Изменена\n",
    "save_path = \"content/price.pdf\"\n",
    "download_pdf_from_url(url, save_path)"
   ]
  },
  {
   "cell_type": "code",
   "execution_count": null,
   "metadata": {
    "id": "YyDrALoIGS7T",
    "pycharm": {
     "name": "#%%\n"
    }
   },
   "outputs": [],
   "source": [
    "# функция, которая принимает список названий PDF-файлов и возвращает базу знаний FAISS\n",
    "def create_faiss_vectorstore(pdf_names, pdf_folder_path='content/'):\n",
    "    # Фильтрация файлов: загрузка только файлов с определенными именами и расширением .pdf\n",
    "    all_files = os.listdir(pdf_folder_path)\n",
    "    pdf_files = [fn for fn in all_files if fn in pdf_names and fn.endswith('.pdf')]\n",
    "\n",
    "    # Создание объектов UnstructuredPDFLoader для каждого PDF-файла\n",
    "    loaders = [UnstructuredPDFLoader(os.path.join(pdf_folder_path, fn)) for fn in pdf_files]\n",
    "\n",
    "    all_documents = []\n",
    "    text_splitter = RecursiveCharacterTextSplitter(chunk_size=800,\n",
    "                                                   chunk_overlap=100,\n",
    "                                                   length_function=len)\n",
    "    for loader in loaders:\n",
    "        # Загрузка и разделение текста\n",
    "        raw_documents = loader.load()\n",
    "        documents = text_splitter.split_documents(raw_documents)\n",
    "        all_documents.extend(documents)\n",
    "\n",
    "    # Создание FAISS vectorstore\n",
    "    embeddings = OpenAIEmbeddings()\n",
    "    vectorstore = FAISS.from_documents(all_documents, embeddings).as_retriever()\n",
    "    return vectorstore\n",
    "\n",
    "\n",
    "# Создаем БЗ по каждой спецификации (pdf)\n",
    "db_norm = create_faiss_vectorstore(['norm1.pdf', 'norm2.pdf'])\n",
    "db_price = create_faiss_vectorstore(['price.pdf'])"
   ]
  },
  {
   "cell_type": "code",
   "execution_count": null,
   "metadata": {
    "id": "DGG5SQvVH_0V",
    "outputId": "c01470c1-0273-41e2-fcd5-71789af5b828",
    "pycharm": {
     "name": "#%%\n"
    }
   },
   "outputs": [
    {
     "data": {
      "text/plain": [
       "[Document(page_content='и нормативы качества питьевой воды\\n\\n3.1.\\n\\nПитьевая вода должна быть безопасна в эпидемическом и\\n\\nрадиационном отношении, безвредна по химическому составу и иметь благоприятные органолептические свойства.\\n\\n9\\n\\nСанПиН 2.1.4.1074—01\\n\\n3.2. Качество питьевой воды должно соответствовать гигиени\\xad ческим нормативам перед ее поступлением в распределительную сеть, а также в точках водоразбора наружной и внутренней водо\\xad проводной сети.\\n\\n3.3. Безопасность питьевой воды в эпидемическом отношении определяется ее соответствием нормативам по микробиологическим и паразитологическим показателям, представленным в табл. 1.\\n\\nТаблица 1\\n\\nПоказатели Термотолерантные колиформ- ные бактерии Общие колиформные бактерии 2> Число бактерий в 100 мл о Отсутствие Общее микробное число 2> Не более 50\\n\\nЕдиницы измерения', metadata={'source': 'content/norm2.pdf'}),\n",
       " Document(page_content='процессе обработки воды, в таблице 5;\\n\\nорганолептических свойств питьевой воды в таблице 6; - радиационной безопасности питьевой воды в таблице 7.\\n\\nТ а б л и ц а 1 — Методы определения микробиологических и паразитологических показателей\\n\\nНаименование показателя\\n\\nМетод определения, обозначение НД\\n\\nМикробиологические и паразитологические показатели для централизованных систем питьевого водоснабжения\\n\\n[2]*, [3]*\\n\\nМикробиологические показатели для нецентрализованных систем питьевого водоснабжения\\n\\nГОСТ 18963\\n\\nДействует до утверждения соответствующего государственного стандарта.\\n\\nТ а б л и ц а 2 — Методы определения обобщенных показателей качества питьевой воды\\n\\nНаименование показателя\\n\\nМетод определения, обозначение НД\\n\\nВодородный показатель', metadata={'source': 'content/norm1.pdf'}),\n",
       " Document(page_content='3.3.5. Исследования воды на наличие патогенных микроорганиз\\xad мов могут проводиться только в лабораториях, имеющих санитарно- эпидемиологическое заключение о соответствии условий выполнения работ санитарным правилам и лицензию на деятельность, связанную с использованием возбудителей инфекционных заболеваний.\\n\\n3.4. Безвредность питьевой воды по химическому составу опре\\xad\\n\\nделяется ее соответствием нормативам по:\\n\\n3.4.1. Обобщенным показателям и содержанию вредных химиче\\xad ских веществ, наиболее часто встречающихся в природных водах на территории Российской Федерации, а также веществ антропогенного происхождения, получивших глобальное распространение (табл. 2).', metadata={'source': 'content/norm2.pdf'}),\n",
       " Document(page_content='4.3. Количество и периодичность проб воды в местах водозабо\\xad ра, отбираемых для лабораторных исследований, устанавливаются с учетом требований, указанных в табл. 6.\\n\\nТаблица 6\\n\\nВиды показателей\\n\\nКоличество проб в течение одного года, не менее Для подземных источников Для поверхностных\\n\\nМикробиологические Паразитологические Органолептические Обобщенные показа\\xad тели Неорганические и органические вещества Радиологические\\n\\n4 (по сезонам года) не проводятся 4 (по сезонам года) и\\n\\n1\\n\\n1\\n\\nисточников 12 (ежемесячно) и\\n\\n12 (ежемесячно) и\\n\\n4 (по сезонам года)\\n\\n1\\n\\n15\\n\\nСанПиН 2.1.4.1074—01\\n\\n4.4.\\n\\nВиды определяемых показателей и количество исследуемых\\n\\nпроб питьевой воды перед ее поступлением в распределительную сеть устанавливаются с учетом требований, указанных в табл. 7.\\n\\nТаблица 7', metadata={'source': 'content/norm2.pdf'})]"
      ]
     },
     "execution_count": 13,
     "metadata": {},
     "output_type": "execute_result"
    }
   ],
   "source": [
    "db_norm.get_relevant_documents(\"Расскажи о показателях безопасности \\\n",
    "питьевой воды по микробиологическим и паразитологическим показателям\")"
   ]
  },
  {
   "cell_type": "code",
   "execution_count": null,
   "metadata": {
    "id": "SBpGQihBH_0Y",
    "outputId": "3c2ebbf2-f9af-4251-e748-2c9a8f8acfb7",
    "pycharm": {
     "name": "#%%\n"
    }
   },
   "outputs": [
    {
     "data": {
      "text/plain": [
       "[Document(page_content='Вода \"Аква-Вита\" газ\\n\\n1,5л\\n\\n6\\n\\n12,50\\n\\n75,00\\n\\n9\\n\\nВода \"Аква-Вита\" негаз\\n\\n1,5л\\n\\n6\\n\\n12,50\\n\\n75,00\\n\\n10\\n\\nВода \"Моя вода\" газ\\n\\n1,5л\\n\\n6\\n\\n12,00\\n\\n72,00\\n\\n11\\n\\nВода \"Моя вода\" негаз\\n\\n1,5л\\n\\n6\\n\\n12,00\\n\\n72,00\\n\\n12\\n\\nВода дистилированная\\n\\n1,5л\\n\\n6\\n\\n22,00\\n\\n132,00\\n\\n13\\n\\nВода \"Аква-Вита\" негаз\\n\\n5л\\n\\n2\\n\\n32,00\\n\\n64,00\\n\\n14\\n\\nВода \"Дистилированная\"\\n\\n5л\\n\\n2\\n\\n48,00\\n\\n96,00\\n\\n15\\n\\nВода \"Моя вода\" негаз\\n\\n5л\\n\\n2\\n\\n28,00\\n\\n56,00\\n\\n16\\n\\nВода минеральная природная питьевая столовая « Аква Вита» (торговый знак \"Моя Вода\" 1 состав (синие крышки) Тара ПЭТ\\n\\n18,9\\n\\n1\\n\\n85,00\\n\\n17\\n\\nВода минеральная природная питьевая столовая « Аква Вита» (торговый знак \"Моя Вода\" 2 состав (белые крышки) Тара ПЭТ\\n\\n18,9\\n\\n1\\n\\n95,00\\n\\n18\\n\\nВода минеральная природная питьевая столовая « Аква Вита» (торговый знак \"Моя Вода\" 3 состав(желтые крышки) Тара ПЭТ\\n\\n18,9\\n\\n1', metadata={'source': 'content/price.pdf'}),\n",
       " Document(page_content='Прайс лист\\n\\nна\\n\\n01 января\\n\\n2019год\\n\\nООО \"Аква-Вита\" Доставка продукции БЕСПЛАТНО ( от 2 бутылей воды (18,9л)или от 10 упаковок ) По вопросам заключения договоров поставки обращаться : (3532) 37-11-21 67-63-67 20-77-16 akva-vita.08@mail.ru\\n\\n№\\n\\nНоменклатура\\n\\nемкость\\n\\nКол-во в упак (шт)\\n\\nЦена (руб) без НДС\\n\\nштука\\n\\nупаковка\\n\\n1\\n\\nВода \"Аква-Вита\" газ\\n\\n0,5л\\n\\n12\\n\\n11,00\\n\\n132,00\\n\\n2\\n\\nВода \"Аква-Вита\" негаз\\n\\n0,5л\\n\\n12\\n\\n11,00\\n\\n132,00\\n\\n3\\n\\n4\\n\\nВода \"Аква-Вита\"(крышка Спорт) негаз Вода \"Моя вода\" газ\\n\\n0,5л\\n\\n0,5л\\n\\n12\\n\\n12\\n\\n12,00\\n\\n11,50\\n\\n144,00\\n\\n138,00\\n\\n5\\n\\nВода \"Моя вода\" негаз\\n\\n0,5л\\n\\n12\\n\\n11,50\\n\\n138,00\\n\\n6\\n\\nВода \"Прима Аква\" газ\\n\\n0,5л\\n\\n12\\n\\n11,80\\n\\n141,60\\n\\n7\\n\\nВода \"Прима Аква\" негаз\\n\\n0,5л\\n\\n12\\n\\n11,80\\n\\n141,60\\n\\n8\\n\\nВода \"Аква-Вита\" газ\\n\\n1,5л\\n\\n6\\n\\n12,50\\n\\n75,00\\n\\n9\\n\\nВода \"Аква-Вита\" негаз\\n\\n1,5л\\n\\n6\\n\\n12,50\\n\\n75,00\\n\\n10', metadata={'source': 'content/price.pdf'}),\n",
       " Document(page_content='18,9\\n\\n1\\n\\n100,00\\n\\n19\\n\\nВода минеральная природная питьевая столовая «Прима Аква » 4 состав Тара Поликарбонат\\n\\n18,9\\n\\n1\\n\\n110,00\\n\\n20\\n\\nВода минеральная природная питьевая столовая « Аква Вита» (Вода Гуси-Лебеди) 5 состав, Тара Поликарбонат\\n\\n18,9\\n\\n1\\n\\n95,00\\n\\n21\\n\\nТара ПЭТ с крышкой\\n\\n0,5л\\n\\n40\\n\\n6,30\\n\\n252,00\\n\\n22\\n\\nТара ПЭТ с крышкой\\n\\n1,5л\\n\\n40\\n\\n8,00\\n\\n320,00\\n\\n23\\n\\nТара ПЭТ с крышкой и ручкой\\n\\n5л\\n\\n12\\n\\n21,00\\n\\n252,00\\n\\n24\\n\\nТара ПЭТ\\n\\n18,9\\n\\n1\\n\\n200,00\\n\\n25\\n\\nТара (Поликарбонат)\\n\\n18,9\\n\\n1\\n\\n320,00\\n\\n26\\n\\nКрышка для тары ПЭТ 18,9л\\n\\n1\\n\\n6,00\\n\\n27\\n\\nКрышка для тары 0,5л и 1,5л\\n\\n1\\n\\n1,00\\n\\n28\\n\\nРучной насос\\n\\n1\\n\\n400,00\\n\\n29\\n\\nСтаканодержатель\\n\\n1\\n\\n750,00\\n\\n30\\n\\nДиспенсор\\n\\nуточнять у диспетчера при наличии', metadata={'source': 'content/price.pdf'})]"
      ]
     },
     "execution_count": 15,
     "metadata": {},
     "output_type": "execute_result"
    }
   ],
   "source": [
    "db_price.get_relevant_documents('Какая цена (руб) у воды: \"Моя вода\" негаз 1,5л за штуку?')"
   ]
  },
  {
   "cell_type": "code",
   "execution_count": null,
   "metadata": {
    "id": "H8oh_H0NHWEl",
    "pycharm": {
     "name": "#%%\n"
    }
   },
   "outputs": [],
   "source": [
    "# Добавляем информацию и описание для наших векторных хранилищ (баз знаний)\n",
    "retriever_info = [\n",
    "    {\n",
    "        \"name\": \"Нормативы качества питьевой воды\",\n",
    "        \"description\": \"Применяется для ответов на вопросы по нормативам качества и безопасности питьевой воды\",\n",
    "        \"retriever\": db_norm\n",
    "    },\n",
    "    {\n",
    "        \"name\": \"Прайс лист (цены) на воду и др. номенклатуру\",\n",
    "        \"description\": 'Применяется для ответов на вопросы по ценам на воду и др. номенклатуру ООО Аква-Вита',\n",
    "        \"retriever\": db_price\n",
    "    }\n",
    "]\n",
    "\n",
    "chain = MultiRetrievalQAChain.from_retrievers(ChatOpenAI(temperature=0),\n",
    "                                              retriever_info,\n",
    "                                              verbose=True)"
   ]
  },
  {
   "cell_type": "code",
   "execution_count": null,
   "metadata": {
    "id": "X9kZ6tE0H_0a",
    "outputId": "8433578f-0494-4212-967f-85f13c506b87",
    "pycharm": {
     "name": "#%%\n"
    }
   },
   "outputs": [
    {
     "name": "stdout",
     "output_type": "stream",
     "text": [
      "\n",
      "\n",
      "\u001B[1m> Entering new MultiRetrievalQAChain chain...\u001B[0m\n"
     ]
    },
    {
     "name": "stderr",
     "output_type": "stream",
     "text": [
      "C:\\Users\\alexk\\AppData\\Roaming\\Python\\Python311\\site-packages\\langchain\\chains\\llm.py:316: UserWarning: The predict_and_parse method is deprecated, instead pass an output parser directly to LLMChain.\n",
      "  warnings.warn(\n"
     ]
    },
    {
     "name": "stdout",
     "output_type": "stream",
     "text": [
      "Нормативы качества питьевой воды: {'query': 'Расскажи о показателях безопасности питьевой воды по микробиологическим и паразитологическим показателям'}\n",
      "\u001B[1m> Finished chain.\u001B[0m\n"
     ]
    },
    {
     "data": {
      "text/plain": [
       "'По микробиологическим и паразитологическим показателям безопасности питьевой воды, она должна соответствовать определенным нормативам. В таблице 1 приведены показатели, которые определяют безопасность питьевой воды в эпидемическом отношении. Эти показатели включают термотолерантные колиформные бактерии, общие колиформные бактерии, число бактерий в 100 мл, общее микробное число. Все эти показатели должны быть в пределах определенных норм.\\n\\nОпределение микробиологических и паразитологических показателей проводится с использованием методов, указанных в таблице 1. Для централизованных систем питьевого водоснабжения используются методы, указанные в [2]* и [3]*. Для нецентрализованных систем питьевого водоснабжения применяются методы, установленные в ГОСТ 18963.\\n\\nИсследования воды на наличие патогенных микроорганизмов должны проводиться только в лабораториях, имеющих соответствующие санитарно-эпидемиологическое заключение и лицензию на деятельность, связанную с использованием возбудителей инфекционных заболеваний.\\n\\nТаким образом, безопасность питьевой воды по микробиологическим и паразитологическим показателям определяется соответствием ее нормативам, а исследования проводятся в специализированных лабораториях.'"
      ]
     },
     "execution_count": 18,
     "metadata": {},
     "output_type": "execute_result"
    }
   ],
   "source": [
    "chain.invoke(\"Расскажи о показателях безопасности питьевой \\\n",
    "воды по микробиологическим и паразитологическим показателям\")['result']"
   ]
  },
  {
   "cell_type": "code",
   "execution_count": null,
   "metadata": {
    "id": "VlmQjzkUH_0c",
    "outputId": "7c42823f-4441-4ee7-b642-44cf88d7e4cd",
    "pycharm": {
     "name": "#%%\n"
    }
   },
   "outputs": [
    {
     "name": "stdout",
     "output_type": "stream",
     "text": [
      "\n",
      "\n",
      "\u001B[1m> Entering new MultiRetrievalQAChain chain...\u001B[0m\n"
     ]
    },
    {
     "name": "stderr",
     "output_type": "stream",
     "text": [
      "C:\\Users\\alexk\\AppData\\Roaming\\Python\\Python311\\site-packages\\langchain\\chains\\llm.py:316: UserWarning: The predict_and_parse method is deprecated, instead pass an output parser directly to LLMChain.\n",
      "  warnings.warn(\n"
     ]
    },
    {
     "name": "stdout",
     "output_type": "stream",
     "text": [
      "Нормативы качества питьевой воды: {'query': 'Безопасность питьевой воды по микробиологическим и паразитологическим показателям. Нужны данные, в том числе Единицы измерения и Нормативы по показателям: Бактерии, Общее микробное число, Колифаги, Споры сульфитредуцирующих клостридий, Цисты лямблий'}\n",
      "\u001B[1m> Finished chain.\u001B[0m\n"
     ]
    },
    {
     "data": {
      "text/plain": [
       "'По микробиологическим и паразитологическим показателям безопасности питьевой воды, следующие данные и нормативы применяются:\\n\\n1. Бактерии:\\n- Термотолерантные колиформные бактерии: Отсутствие\\n- Общие колиформные бактерии: Не более 50 бактерий в 100 мл\\n\\n2. Общее микробное число: Не более 50 бляшкообразующих единиц (БОЕ) в 100 мл\\n\\n3. Колифаги: Отсутствие\\n\\n4. Споры сульфитредуцирующих клостридий: Отсутствие\\n\\n5. Цисты лямблий: Отсутствие\\n\\nЕдиницы измерения:\\n- Бактерии: Число бактерий в 100 мл\\n- Общее микробное число: Число образующих колонии бактерий в 1 мл\\n- Колифаги: Число бляшкообразующих единиц (БОЕ) в 100 мл\\n- Споры сульфитредуцирующих клостридий: Число спор в 20 мл\\n- Цисты лямблий: Число цист в 50 л\\n\\nПримечания:\\n- При определении проводится трехкратное исследование по 100 мл отобранной пробы воды.\\n- Превышение норматива не допускается в 95% проб, отбираемых в точках водоразбора наружной и внутренней водопроводной сети в течение 12 месяцев, при количестве исследуемых проб не менее 100 за год.\\n- Определение спор сульфитредуцирующих клостридий проводится при оценке эффективности технологии.'"
      ]
     },
     "execution_count": 23,
     "metadata": {},
     "output_type": "execute_result"
    }
   ],
   "source": [
    "chain.invoke(\"Безопасность питьевой воды по микробиологическим и паразитологическим показателям. \\\n",
    "Нужны данные, в том числе Единицы измерения и Нормативы по показателям: \\\n",
    "Бактерии, Общее микробное число, Колифаги, Споры сульфитредуцирующих клостридий, Цисты лямблий\")['result']"
   ]
  },
  {
   "cell_type": "code",
   "execution_count": null,
   "metadata": {
    "id": "npfLFFL-HWL2",
    "outputId": "c94eee81-6839-4d16-e818-978b05cde985",
    "pycharm": {
     "name": "#%%\n"
    }
   },
   "outputs": [
    {
     "name": "stdout",
     "output_type": "stream",
     "text": [
      "\n",
      "\n",
      "\u001B[1m> Entering new MultiRetrievalQAChain chain...\u001B[0m\n"
     ]
    },
    {
     "name": "stderr",
     "output_type": "stream",
     "text": [
      "C:\\Users\\alexk\\AppData\\Roaming\\Python\\Python311\\site-packages\\langchain\\chains\\llm.py:316: UserWarning: The predict_and_parse method is deprecated, instead pass an output parser directly to LLMChain.\n",
      "  warnings.warn(\n"
     ]
    },
    {
     "name": "stdout",
     "output_type": "stream",
     "text": [
      "Прайс лист (цены) на воду и др. номенклатуру: {'query': \"Какова цена (в рублях) на воду 'Моя вода' негазированную 1,5л за штуку?\"}\n",
      "\u001B[1m> Finished chain.\u001B[0m\n"
     ]
    },
    {
     "data": {
      "text/plain": [
       "'Цена на воду \"Моя вода\" негазированную 1,5л за штуку составляет 12,50 рублей.'"
      ]
     },
     "execution_count": 25,
     "metadata": {},
     "output_type": "execute_result"
    }
   ],
   "source": [
    "chain.invoke('Какая цена (руб) у воды: \"Моя вода\" негаз 1,5л за штуку?')['result']"
   ]
  },
  {
   "cell_type": "code",
   "execution_count": null,
   "metadata": {
    "id": "HNPGqx2bH_0e",
    "outputId": "bbd5125e-c7b1-419e-daba-8d714ee1cfa4",
    "pycharm": {
     "name": "#%%\n"
    }
   },
   "outputs": [
    {
     "name": "stdout",
     "output_type": "stream",
     "text": [
      "\n",
      "\n",
      "\u001B[1m> Entering new MultiRetrievalQAChain chain...\u001B[0m\n"
     ]
    },
    {
     "name": "stderr",
     "output_type": "stream",
     "text": [
      "C:\\Users\\alexk\\AppData\\Roaming\\Python\\Python311\\site-packages\\langchain\\chains\\llm.py:316: UserWarning: The predict_and_parse method is deprecated, instead pass an output parser directly to LLMChain.\n",
      "  warnings.warn(\n"
     ]
    },
    {
     "name": "stdout",
     "output_type": "stream",
     "text": [
      "Прайс лист (цены) на воду и др. номенклатуру: {'query': 'Какие цены у воды в зависимости от емкости: \"Моя вода\" негазированная за штуку?'}\n",
      "\u001B[1m> Finished chain.\u001B[0m\n"
     ]
    },
    {
     "data": {
      "text/plain": [
       "'Цены на воду \"Моя вода\" негазированную в зависимости от емкости:\\n\\n- 0,5л - 11,50 руб за штуку\\n- 1,5л - 12,50 руб за штуку\\n- 5л - 28,00 руб за штуку\\n\\nПожалуйста, обратите внимание, что это цены указаны за одну штуку продукта.'"
      ]
     },
     "execution_count": 26,
     "metadata": {},
     "output_type": "execute_result"
    }
   ],
   "source": [
    "chain.invoke('Какие цены у воды в зависимости от емкости: \"Моя вода\" негазированная за штуку?')['result']"
   ]
  }
 ],
 "metadata": {
  "colab": {
   "provenance": []
  },
  "kernelspec": {
   "display_name": "Python 3 (ipykernel)",
   "language": "python",
   "name": "python3"
  },
  "language_info": {
   "codemirror_mode": {
    "name": "ipython",
    "version": 3
   },
   "file_extension": ".py",
   "mimetype": "text/x-python",
   "name": "python",
   "nbconvert_exporter": "python",
   "pygments_lexer": "ipython3",
   "version": "3.11.4"
  }
 },
 "nbformat": 4,
 "nbformat_minor": 1
}